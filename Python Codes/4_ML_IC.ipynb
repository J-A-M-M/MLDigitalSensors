{
  "cells": [
    {
      "cell_type": "markdown",
      "metadata": {
        "id": "SbZLM63OlM7T"
      },
      "source": [
        "# Machine Learning - IC"
      ]
    },
    {
      "cell_type": "markdown",
      "metadata": {
        "id": "NOeJLJ0Ov8AA"
      },
      "source": [
        "## Importando os Dados:"
      ]
    },
    {
      "cell_type": "code",
      "execution_count": null,
      "metadata": {
        "id": "Q9r3UTZMlLA-"
      },
      "outputs": [],
      "source": [
        "from pathlib import Path\n",
        "import pandas as pd\n",
        "import numpy as np\n",
        "from matplotlib import pyplot as plt\n",
        "from matplotlib import mlab\n",
        "from scipy import signal\n",
        "from scipy.fft import fftshift\n",
        "from tqdm import tqdm\n",
        "from scipy.signal import butter, lfilter\n",
        "import seaborn as sns\n",
        "import os\n",
        "import math as m\n",
        "import shutil\n",
        "import random\n",
        "import statistics as stc\n",
        "from statistics import variance\n",
        "import scipy.stats as stats\n",
        "from scipy.stats import kurtosis\n",
        "import plotly.express as px"
      ]
    },
    {
      "cell_type": "code",
      "execution_count": null,
      "metadata": {
        "id": "xMV2vCejq8nW"
      },
      "outputs": [],
      "source": [
        "#Imports Sklearn\n",
        "\n",
        "from sklearn import tree\n",
        "\n",
        "#Preprocessamento\n",
        "\n",
        "from sklearn.impute import SimpleImputer\n",
        "from sklearn.compose import ColumnTransformer\n",
        "from sklearn.preprocessing import OneHotEncoder\n",
        "from sklearn.preprocessing import LabelEncoder\n",
        "from sklearn.model_selection import train_test_split\n",
        "from sklearn.preprocessing import StandardScaler\n",
        "from sklearn.preprocessing import LabelEncoder\n",
        "\n",
        "\n",
        "#Regressão\n",
        "\n",
        "from sklearn.linear_model import LinearRegression\n",
        "from sklearn.tree import DecisionTreeRegressor\n",
        "from sklearn.ensemble import RandomForestRegressor\n",
        "from sklearn.svm import SVR\n",
        "from sklearn.neighbors import KNeighborsRegressor\n",
        "\n",
        "#Classificação\n",
        "\n",
        "from sklearn.tree import DecisionTreeClassifier\n",
        "from sklearn.ensemble import RandomForestClassifier\n",
        "from sklearn.neighbors import KNeighborsClassifier\n",
        "from sklearn.svm import SVC\n",
        "\n",
        "#Avaliação e otimização\n",
        "\n",
        "from sklearn.metrics import r2_score\n",
        "from sklearn.metrics import mean_absolute_error\n",
        "from sklearn.metrics import accuracy_score\n",
        "from sklearn.metrics import confusion_matrix\n",
        "from sklearn.metrics import ConfusionMatrixDisplay\n",
        "\n",
        "from sklearn.model_selection import cross_val_score\n",
        "from sklearn.model_selection import GridSearchCV\n",
        "\n",
        "#Clustering\n",
        "\n",
        "from sklearn.cluster import KMeans\n",
        "from sklearn.cluster import AgglomerativeClustering\n",
        "\n",
        "#Dimensionality Reduction\n",
        "\n",
        "from sklearn.decomposition import PCA"
      ]
    },
    {
      "cell_type": "code",
      "execution_count": null,
      "metadata": {
        "id": "_fQBlxutrikn"
      },
      "outputs": [],
      "source": [
        "from google.colab import drive\n",
        "drive.mount('/content/drive')"
      ]
    },
    {
      "cell_type": "code",
      "execution_count": null,
      "metadata": {
        "id": "SelFiankrl7R"
      },
      "outputs": [],
      "source": [
        "path = '/content/drive/My Drive/IC/ColabNotebooks/Vibracoes/DataFrames/DadosML/'"
      ]
    },
    {
      "cell_type": "code",
      "execution_count": null,
      "metadata": {
        "id": "7MR8f9YWrnzG"
      },
      "outputs": [],
      "source": [
        "df_ML = pd.read_csv(path+ 'DataframeML.csv',index_col=0)"
      ]
    },
    {
      "cell_type": "code",
      "execution_count": null,
      "metadata": {
        "id": "u1aGRrLAsgZK"
      },
      "outputs": [],
      "source": [
        "#Mostrando o Heading\n",
        "df_ML.head()"
      ]
    },
    {
      "cell_type": "code",
      "execution_count": null,
      "metadata": {
        "id": "AC_K4ey3tADO"
      },
      "outputs": [],
      "source": [
        "# Imprimir Tabela\n",
        "df_ML"
      ]
    },
    {
      "cell_type": "code",
      "execution_count": null,
      "metadata": {
        "id": "x25gXFGttBvu"
      },
      "outputs": [],
      "source": [
        "#Conferindo Type de cada coluna:\n",
        "df_ML.info()"
      ]
    },
    {
      "cell_type": "code",
      "execution_count": null,
      "metadata": {
        "id": "V5yAV2LrtGyr"
      },
      "outputs": [],
      "source": [
        "#Primeiras Informações:\n",
        "df_ML.describe()"
      ]
    },
    {
      "cell_type": "code",
      "execution_count": null,
      "metadata": {
        "id": "_m2r4EJtuM9t"
      },
      "outputs": [],
      "source": [
        "#Conferindo NANs:\n",
        "df_ML.isnull().sum()"
      ]
    },
    {
      "cell_type": "code",
      "execution_count": null,
      "metadata": {
        "id": "cWi9xbkZuVqm"
      },
      "outputs": [],
      "source": [
        "#Conferindo NANs:\n",
        "for x in df_ML.isnull().sum():\n",
        "  if x != 0:\n",
        "    print('TEM ALGUM NAN')\n",
        "print(\"Pode Seguir !!! Sem NANs\")"
      ]
    },
    {
      "cell_type": "code",
      "execution_count": null,
      "metadata": {
        "id": "neG3LPZ_vKQx"
      },
      "outputs": [],
      "source": [
        "# Nome das Colunas:\n",
        "#Lista com Nome de cada Coluna:\n",
        "coln=list(df_ML.columns)\n",
        "#print(coln, \"\\n\")\n",
        "\n",
        "#Separando Variaveis Temporais:\n",
        "\n",
        "c_T = coln[1:74]\n",
        "\n",
        "#Separando os nomes das Colunas com FFT's: 'X.iloc[:,(1250*2)+73:(73+(1250*(2+1)))]'\n",
        "\n",
        "c_F_a1_x=coln[74:1324]\n",
        "c_F_a1_y=coln[1324:2574]\n",
        "c_F_a1_z=coln[2574:3824]\n",
        "\n",
        "c_F_a2_x=coln[3824:5074]\n",
        "c_F_a2_y=coln[5074:6324]\n",
        "c_F_a2_z=coln[6324:7574]\n",
        "\n",
        "c_F_a3_x=coln[7574:8824]\n",
        "c_F_a3_y=coln[8824:10074]\n",
        "c_F_a3_z=coln[10074:11324]\n",
        "\n",
        "c_F_g1_x=coln[11324:12574]\n",
        "c_F_g1_y=coln[12574:13824]\n",
        "c_F_g1_z=coln[13824:15074]\n",
        "\n",
        "c_F_g2_x=coln[15074:16324]\n",
        "c_F_g2_y=coln[16324:17574]\n",
        "c_F_g2_z=coln[17574:18824]\n",
        "\n",
        "c_F_g3_x=coln[18824:20074]\n",
        "c_F_g3_y=coln[20074:21324]\n",
        "c_F_g3_z=coln[21324:22574]\n",
        "\n",
        "\n",
        "\n",
        "print(c_T)\n",
        "print(c_F_a1_x)\n",
        "print(c_F_a1_y)\n",
        "print(c_F_a1_z)\n",
        "print(c_F_a2_x)\n",
        "print(c_F_a2_y)\n",
        "print(c_F_a2_z)\n",
        "print(c_F_a3_x)\n",
        "print(c_F_a3_y)\n",
        "print(c_F_a3_z)\n",
        "print(c_F_g1_x)\n",
        "print(c_F_g1_y)\n",
        "print(c_F_g1_z)\n",
        "print(c_F_g2_x)\n",
        "print(c_F_g2_y)\n",
        "print(c_F_g2_z)\n",
        "print(c_F_g3_x)\n",
        "print(c_F_g3_y)\n",
        "print(c_F_g3_z)"
      ]
    },
    {
      "cell_type": "code",
      "execution_count": null,
      "metadata": {
        "id": "IBUUkJ9vvfuN"
      },
      "outputs": [],
      "source": [
        "#Definindo as Features (X's):\n",
        "features=coln[1:]\n",
        "X=df_ML[features]\n",
        "\n",
        "#Definindo os Targets (Y's):\n",
        "\n",
        "targets=coln[0] #Definindo lista de targets\n",
        "Y=df_ML[targets]"
      ]
    },
    {
      "cell_type": "code",
      "execution_count": null,
      "metadata": {
        "id": "VgHjuJeovpO2"
      },
      "outputs": [],
      "source": [
        "Y"
      ]
    },
    {
      "cell_type": "code",
      "execution_count": null,
      "metadata": {
        "id": "3uu8ukiPjZey"
      },
      "outputs": [],
      "source": [
        "falhas=['Normal','Desbalanceamento Estático', 'Desbalanceamento Dinâmico']"
      ]
    },
    {
      "cell_type": "code",
      "execution_count": null,
      "metadata": {
        "id": "QcIQc11pyBMC"
      },
      "outputs": [],
      "source": [
        "#Dividindo Dados No Tempo:\n",
        "\n",
        "X_tempo = X[c_T]\n",
        "\n",
        "#Dividindo as FFT's por Segmentos / Sensores / Eixos (SUBDATASETS):\n",
        "X_fft_a1_x=X[c_F_a1_x]\n",
        "X_fft_a1_y=X[c_F_a1_y]\n",
        "X_fft_a1_z=X[c_F_a1_z]\n",
        "\n",
        "X_fft_a2_x=X[c_F_a2_x]\n",
        "X_fft_a2_y=X[c_F_a2_y]\n",
        "X_fft_a2_z=X[c_F_a2_z]\n",
        "\n",
        "X_fft_a3_x=X[c_F_a3_x]\n",
        "X_fft_a3_y=X[c_F_a3_y]\n",
        "X_fft_a3_z=X[c_F_a3_z]\n",
        "\n",
        "X_fft_g1_x=X[c_F_g1_x]\n",
        "X_fft_g1_y=X[c_F_g1_y]\n",
        "X_fft_g1_z=X[c_F_g1_z]\n",
        "\n",
        "X_fft_g2_x=X[c_F_g2_x]\n",
        "X_fft_g2_y=X[c_F_g2_y]\n",
        "X_fft_g2_z=X[c_F_g2_z]\n",
        "\n",
        "X_fft_g3_x=X[c_F_g3_x]\n",
        "X_fft_g3_y=X[c_F_g3_y]\n",
        "X_fft_g3_z=X[c_F_g3_z]"
      ]
    },
    {
      "cell_type": "code",
      "execution_count": null,
      "metadata": {
        "id": "_n6ZqPqeDkwC"
      },
      "outputs": [],
      "source": [
        "#Teste para ver se criou o Sub-dataset\n",
        "X_fft_g1_z"
      ]
    },
    {
      "cell_type": "markdown",
      "metadata": {
        "id": "h_uGDuYSy9GU"
      },
      "source": [
        "# Analisando Dados Sem PCA"
      ]
    },
    {
      "cell_type": "markdown",
      "metadata": {
        "id": "1eR6Xd0o6Fb8"
      },
      "source": [
        "* Nosso grande problema é a quantidade de dados a serem analisados para prever o tipo de defeito no equipamento!\n",
        "* Portanto na EDA, vamos realizar uma Feature Selection partindo do principio de Backward Elimination Method e Forward Selection Method.\n",
        "* OBS: Para escolher as melhores features, pode-se usar vários modelos para comparar (KNN, RF, ...). Vamos usar Random Forest."
      ]
    },
    {
      "cell_type": "markdown",
      "metadata": {
        "id": "AFDTsb0jA3gI"
      },
      "source": [
        "## Dados só Temporais"
      ]
    },
    {
      "cell_type": "markdown",
      "source": [
        "### RapidMiner: Tabela Completa de Tempo"
      ],
      "metadata": {
        "id": "oxmpgY8X1wzO"
      }
    },
    {
      "cell_type": "code",
      "source": [
        "#Dataframe Completo com Tempo:\n",
        "df_Y=pd.DataFrame(Y, columns = ['Classificação'])\n",
        "df_X_tempo=pd.DataFrame(X_tempo, columns = c_T)"
      ],
      "metadata": {
        "id": "mwGVcNC_0wU2"
      },
      "execution_count": null,
      "outputs": []
    },
    {
      "cell_type": "code",
      "source": [
        "df_Y"
      ],
      "metadata": {
        "id": "O_wJzw6e1V0s"
      },
      "execution_count": null,
      "outputs": []
    },
    {
      "cell_type": "code",
      "source": [
        "df_X_tempo"
      ],
      "metadata": {
        "id": "AXxhlFJY1RTs"
      },
      "execution_count": null,
      "outputs": []
    },
    {
      "cell_type": "code",
      "source": [
        "frames=[df_Y,df_X_tempo]\n",
        "df_Completo_tempo=pd.concat(frames,axis=1)"
      ],
      "metadata": {
        "id": "kJcq4GZV1aLk"
      },
      "execution_count": null,
      "outputs": []
    },
    {
      "cell_type": "code",
      "source": [
        "df_Completo_tempo"
      ],
      "metadata": {
        "id": "JgABG33E1ihU"
      },
      "execution_count": null,
      "outputs": []
    },
    {
      "cell_type": "code",
      "source": [
        "df_Completo_tempo.to_csv('DataframeML_Completo_Tempo.csv')"
      ],
      "metadata": {
        "id": "mfFPcKMq18JD"
      },
      "execution_count": null,
      "outputs": []
    },
    {
      "cell_type": "markdown",
      "metadata": {
        "id": "iGqlJ03oB6yr"
      },
      "source": [
        "### RF"
      ]
    },
    {
      "cell_type": "code",
      "execution_count": null,
      "metadata": {
        "id": "lT9HiCa4A7kg"
      },
      "outputs": [],
      "source": [
        "X_tempo"
      ]
    },
    {
      "cell_type": "code",
      "source": [
        "Y"
      ],
      "metadata": {
        "id": "zrYVn38d2gYz"
      },
      "execution_count": null,
      "outputs": []
    },
    {
      "cell_type": "code",
      "execution_count": null,
      "metadata": {
        "id": "eLnAZfjIBCo_"
      },
      "outputs": [],
      "source": [
        "#Vamos fazer uma Random Forest para Toda o Dataframe, sem PCA e Scaler:\n",
        "Y = LabelEncoder().fit_transform(Y)\n",
        "\n",
        "sc = StandardScaler()\n",
        "X_tsc=sc.fit_transform(X_tempo)\n",
        "\n",
        "\n",
        "X_train, X_test, y_train, y_test = train_test_split(X_tsc, Y, test_size = 0.3, random_state = 0)\n",
        "\n",
        "RFC= RandomForestClassifier(max_depth= 100, n_estimators = 200, random_state = 0)\n",
        "RFC.fit(X_train, y_train)"
      ]
    },
    {
      "cell_type": "code",
      "execution_count": null,
      "metadata": {
        "id": "wvA1r8ZkBN91"
      },
      "outputs": [],
      "source": [
        "y_pred = RFC.predict(X_test)"
      ]
    },
    {
      "cell_type": "code",
      "execution_count": null,
      "metadata": {
        "id": "2F3dqjDZBN93"
      },
      "outputs": [],
      "source": [
        "train_score_rf=RFC.score(X_train,y_train)\n",
        "print(train_score_rf)"
      ]
    },
    {
      "cell_type": "code",
      "execution_count": null,
      "metadata": {
        "id": "I7P-vd6ABN94"
      },
      "outputs": [],
      "source": [
        "test_score_rf=RFC.score(X_test,y_test)\n",
        "print(test_score_rf)"
      ]
    },
    {
      "cell_type": "code",
      "execution_count": null,
      "metadata": {
        "id": "-9O1xQgxBN95"
      },
      "outputs": [],
      "source": [
        "accuracy_score(y_test, y_pred)\n",
        "print('accuracy_score %:',accuracy_score(y_test, y_pred)*100)"
      ]
    },
    {
      "cell_type": "code",
      "execution_count": null,
      "metadata": {
        "id": "Qo7tPbmqBN96"
      },
      "outputs": [],
      "source": [
        "RFC.feature_importances_"
      ]
    },
    {
      "cell_type": "code",
      "execution_count": null,
      "metadata": {
        "id": "Je0Y_rcGBN97"
      },
      "outputs": [],
      "source": [
        "np.max(RFC.feature_importances_)"
      ]
    },
    {
      "cell_type": "code",
      "execution_count": null,
      "metadata": {
        "id": "N59zMHq4BN98"
      },
      "outputs": [],
      "source": [
        "imp_df = pd.DataFrame({\n",
        "    \"Varname\": X_tempo.columns,\n",
        "    \"Imp\": RFC.feature_importances_\n",
        "})"
      ]
    },
    {
      "cell_type": "code",
      "execution_count": null,
      "metadata": {
        "id": "WUeaEfUIBN99"
      },
      "outputs": [],
      "source": [
        "#Vendo a Importância das Features para RF:\n",
        "imp_df.sort_values(by=\"Imp\", ascending=False)[0:50]"
      ]
    },
    {
      "cell_type": "code",
      "execution_count": null,
      "metadata": {
        "id": "CujPkJH7BN9-"
      },
      "outputs": [],
      "source": [
        "confmatrix_train = confusion_matrix(y_train,RFC.predict(X_train))\n",
        "confmatrix_test=confusion_matrix(y_test,RFC.predict(X_test))\n",
        "\n",
        "fig, ax = plt.subplots(figsize=(6,5))\n",
        "sns.heatmap(confmatrix_train, annot=True, fmt='g', ax=ax)\n",
        "ax.xaxis.set_ticklabels(falhas,rotation=90)\n",
        "ax.yaxis.set_ticklabels(falhas,rotation=0)\n",
        "ax.set_title('Train set Confusion Matrix',y=1)\n",
        "plt.show()\n",
        "\n",
        "fig, ax = plt.subplots(figsize=(6,5))\n",
        "sns.heatmap(confmatrix_test, annot=True, fmt='g', ax=ax)\n",
        "ax.xaxis.set_ticklabels(falhas,rotation=90)\n",
        "ax.yaxis.set_ticklabels(falhas,rotation=0)\n",
        "ax.set_title('Test set Confusion Matrix',y=1)\n",
        "plt.show()"
      ]
    },
    {
      "cell_type": "markdown",
      "metadata": {
        "id": "7jARlIiyB98N"
      },
      "source": [
        "### SVC"
      ]
    },
    {
      "cell_type": "code",
      "execution_count": null,
      "metadata": {
        "id": "ajpQXnH_CKSA"
      },
      "outputs": [],
      "source": [
        "Y = LabelEncoder().fit_transform(Y)\n",
        "\n",
        "Y"
      ]
    },
    {
      "cell_type": "code",
      "source": [
        "X_tempo"
      ],
      "metadata": {
        "id": "579Um0je2oAc"
      },
      "execution_count": null,
      "outputs": []
    },
    {
      "cell_type": "code",
      "execution_count": null,
      "metadata": {
        "id": "LhsTIZaNCKSS"
      },
      "outputs": [],
      "source": [
        "sc = StandardScaler()\n",
        "X_tsc=sc.fit_transform(X_tempo)\n",
        "\n",
        "\n",
        "X_train, X_test, y_train, y_test = train_test_split(X_tsc, Y, test_size = 0.3, random_state = 0)"
      ]
    },
    {
      "cell_type": "code",
      "execution_count": null,
      "metadata": {
        "id": "_IaN5ntwCKST"
      },
      "outputs": [],
      "source": [
        "SVC = SVC(kernel = 'linear', random_state = 0)\n",
        "SVC.fit(X_train, y_train)"
      ]
    },
    {
      "cell_type": "code",
      "execution_count": null,
      "metadata": {
        "id": "JrQDsa7hCKSU"
      },
      "outputs": [],
      "source": [
        "y_pred = SVC.predict(X_test)"
      ]
    },
    {
      "cell_type": "code",
      "execution_count": null,
      "metadata": {
        "id": "KxOz2vH1CKSU"
      },
      "outputs": [],
      "source": [
        "train_score_svc=SVC.score(X_train,y_train)\n",
        "print(train_score_svc)"
      ]
    },
    {
      "cell_type": "code",
      "execution_count": null,
      "metadata": {
        "id": "UJVO9_CcCKSV"
      },
      "outputs": [],
      "source": [
        "test_score_svc=SVC.score(X_test,y_test)\n",
        "print(test_score_svc)"
      ]
    },
    {
      "cell_type": "code",
      "execution_count": null,
      "metadata": {
        "id": "rbJpwoVLCKSV"
      },
      "outputs": [],
      "source": [
        "accuracy_score(y_test, y_pred)\n",
        "print('accuracy_score %:',accuracy_score(y_test, y_pred)*100)"
      ]
    },
    {
      "cell_type": "code",
      "execution_count": null,
      "metadata": {
        "id": "mabOen7yCKSW"
      },
      "outputs": [],
      "source": [
        "confmatrix_train = confusion_matrix(y_train,SVC.predict(X_train))\n",
        "confmatrix_test=confusion_matrix(y_test,SVC.predict(X_test))\n",
        "\n",
        "fig, ax = plt.subplots(figsize=(6,5))\n",
        "sns.heatmap(confmatrix_train, annot=True, fmt='g', ax=ax)\n",
        "ax.xaxis.set_ticklabels(falhas,rotation=90)\n",
        "ax.yaxis.set_ticklabels(falhas,rotation=0)\n",
        "ax.set_title('Train set Confusion Matrix',y=1)\n",
        "plt.show()\n",
        "\n",
        "fig, ax = plt.subplots(figsize=(6,5))\n",
        "sns.heatmap(confmatrix_test, annot=True, fmt='g', ax=ax)\n",
        "ax.xaxis.set_ticklabels(falhas,rotation=90)\n",
        "ax.yaxis.set_ticklabels(falhas,rotation=0)\n",
        "ax.set_title('Test set Confusion Matrix',y=1)\n",
        "plt.show()"
      ]
    },
    {
      "cell_type": "markdown",
      "metadata": {
        "id": "udYbO1RqwHB5"
      },
      "source": [
        "## Dados Com TEMPO (Completo)"
      ]
    },
    {
      "cell_type": "markdown",
      "metadata": {
        "id": "WajLicsuChPu"
      },
      "source": [
        "### RF"
      ]
    },
    {
      "cell_type": "code",
      "execution_count": null,
      "metadata": {
        "id": "CrkMvnY8y-80"
      },
      "outputs": [],
      "source": [
        "#Vamos fazer uma Random Forest para Toda o Dataframe, sem PCA e Scaler:\n",
        "Y = LabelEncoder().fit_transform(Y)\n",
        "\n",
        "sc = StandardScaler()\n",
        "X_sc=sc.fit_transform(X)\n",
        "\n",
        "\n",
        "X_train, X_test, y_train, y_test = train_test_split(X_sc, Y, test_size = 0.3, random_state = 0)\n",
        "\n",
        "RFC= RandomForestClassifier(max_depth= 1000, n_estimators = 2000, random_state = 0)\n",
        "RFC.fit(X_train, y_train)"
      ]
    },
    {
      "cell_type": "code",
      "execution_count": null,
      "metadata": {
        "id": "Hjf-GuGE-P6f"
      },
      "outputs": [],
      "source": [
        "y_pred = RFC.predict(X_test)"
      ]
    },
    {
      "cell_type": "code",
      "execution_count": null,
      "metadata": {
        "id": "XoaX9NGZ-P6g"
      },
      "outputs": [],
      "source": [
        "train_score_rf=RFC.score(X_train,y_train)\n",
        "print(train_score_rf)"
      ]
    },
    {
      "cell_type": "code",
      "execution_count": null,
      "metadata": {
        "id": "RLW-bv2M-P6g"
      },
      "outputs": [],
      "source": [
        "test_score_rf=RFC.score(X_test,y_test)\n",
        "print(test_score_rf)"
      ]
    },
    {
      "cell_type": "code",
      "execution_count": null,
      "metadata": {
        "id": "4p08Zn0m-P6h"
      },
      "outputs": [],
      "source": [
        "accuracy_score(y_test, y_pred)\n",
        "print('accuracy_score %:',accuracy_score(y_test, y_pred)*100)"
      ]
    },
    {
      "cell_type": "code",
      "execution_count": null,
      "metadata": {
        "id": "4ut2pjTA-P6h"
      },
      "outputs": [],
      "source": [
        "RFC.feature_importances_"
      ]
    },
    {
      "cell_type": "code",
      "execution_count": null,
      "metadata": {
        "id": "O69tt15I-P6h"
      },
      "outputs": [],
      "source": [
        "np.max(RFC.feature_importances_)"
      ]
    },
    {
      "cell_type": "code",
      "execution_count": null,
      "metadata": {
        "id": "6dmzTpcO-P6i"
      },
      "outputs": [],
      "source": [
        "imp_df = pd.DataFrame({\n",
        "    \"Varname\": X.columns,\n",
        "    \"Imp\": RFC.feature_importances_\n",
        "})"
      ]
    },
    {
      "cell_type": "code",
      "execution_count": null,
      "metadata": {
        "id": "OGmdjef8-P6i"
      },
      "outputs": [],
      "source": [
        "#Vendo a Importância das Features para RF:\n",
        "imp_df.sort_values(by=\"Imp\", ascending=False)[0:50]"
      ]
    },
    {
      "cell_type": "code",
      "execution_count": null,
      "metadata": {
        "id": "tI3iNlVe-P6i"
      },
      "outputs": [],
      "source": [
        "confmatrix_train = confusion_matrix(y_train,RFC.predict(X_train))\n",
        "confmatrix_test=confusion_matrix(y_test,RFC.predict(X_test))\n",
        "\n",
        "fig, ax = plt.subplots(figsize=(6,5))\n",
        "sns.heatmap(confmatrix_train, annot=True, fmt='g', ax=ax)\n",
        "ax.xaxis.set_ticklabels(falhas,rotation=90)\n",
        "ax.yaxis.set_ticklabels(falhas,rotation=0)\n",
        "ax.set_title('Train set Confusion Matrix',y=1)\n",
        "plt.show()\n",
        "\n",
        "fig, ax = plt.subplots(figsize=(6,5))\n",
        "sns.heatmap(confmatrix_test, annot=True, fmt='g', ax=ax)\n",
        "ax.xaxis.set_ticklabels(falhas,rotation=90)\n",
        "ax.yaxis.set_ticklabels(falhas,rotation=0)\n",
        "ax.set_title('Test set Confusion Matrix',y=1)\n",
        "plt.show()"
      ]
    },
    {
      "cell_type": "markdown",
      "metadata": {
        "id": "Q7dIW1uHCpPf"
      },
      "source": [
        "### SVC"
      ]
    },
    {
      "cell_type": "code",
      "execution_count": null,
      "metadata": {
        "id": "U9ULWK3UCsxH"
      },
      "outputs": [],
      "source": [
        "Y = LabelEncoder().fit_transform(Y)\n",
        "\n",
        "Y"
      ]
    },
    {
      "cell_type": "code",
      "execution_count": null,
      "metadata": {
        "id": "BkIMs2ydCsgJ"
      },
      "outputs": [],
      "source": [
        "sc = StandardScaler()\n",
        "X_sc=sc.fit_transform(X)\n",
        "\n",
        "\n",
        "X_train, X_test, y_train, y_test = train_test_split(X_sc, Y, test_size = 0.3, random_state = 0)"
      ]
    },
    {
      "cell_type": "code",
      "execution_count": null,
      "metadata": {
        "id": "WJ2Hx5S0DGc2"
      },
      "outputs": [],
      "source": [
        "from sklearn.svm import SVC\n",
        "SVC = SVC(kernel = 'linear', random_state = 0)\n",
        "SVC.fit(X_train, y_train)"
      ]
    },
    {
      "cell_type": "code",
      "execution_count": null,
      "metadata": {
        "id": "XEC7KdrGDGc3"
      },
      "outputs": [],
      "source": [
        "y_pred = SVC.predict(X_test)"
      ]
    },
    {
      "cell_type": "code",
      "execution_count": null,
      "metadata": {
        "id": "EOdH8hkoDGc4"
      },
      "outputs": [],
      "source": [
        "train_score_svc=SVC.score(X_train,y_train)\n",
        "print(train_score_svc)"
      ]
    },
    {
      "cell_type": "code",
      "execution_count": null,
      "metadata": {
        "id": "ReseWENvDGc5"
      },
      "outputs": [],
      "source": [
        "test_score_svc=SVC.score(X_test,y_test)\n",
        "print(test_score_svc)"
      ]
    },
    {
      "cell_type": "code",
      "execution_count": null,
      "metadata": {
        "id": "dllqySqODGc6"
      },
      "outputs": [],
      "source": [
        "accuracy_score(y_test, y_pred)\n",
        "print('accuracy_score %:',accuracy_score(y_test, y_pred)*100)"
      ]
    },
    {
      "cell_type": "code",
      "execution_count": null,
      "metadata": {
        "id": "Fa4t-Vb1DGc7"
      },
      "outputs": [],
      "source": [
        "confmatrix_train = confusion_matrix(y_train,SVC.predict(X_train))\n",
        "confmatrix_test=confusion_matrix(y_test,SVC.predict(X_test))\n",
        "\n",
        "fig, ax = plt.subplots(figsize=(6,5))\n",
        "sns.heatmap(confmatrix_train, annot=True, fmt='g', ax=ax)\n",
        "ax.xaxis.set_ticklabels(falhas,rotation=90)\n",
        "ax.yaxis.set_ticklabels(falhas,rotation=0)\n",
        "ax.set_title('Train set Confusion Matrix',y=1)\n",
        "plt.show()\n",
        "\n",
        "fig, ax = plt.subplots(figsize=(6,5))\n",
        "sns.heatmap(confmatrix_test, annot=True, fmt='g', ax=ax)\n",
        "ax.xaxis.set_ticklabels(falhas,rotation=90)\n",
        "ax.yaxis.set_ticklabels(falhas,rotation=0)\n",
        "ax.set_title('Test set Confusion Matrix',y=1)\n",
        "plt.show()"
      ]
    },
    {
      "cell_type": "markdown",
      "metadata": {
        "id": "J5SGHShmBU3X"
      },
      "source": [
        "### Tentando Usando Backward Feature Selection"
      ]
    },
    {
      "cell_type": "code",
      "execution_count": null,
      "metadata": {
        "id": "ibjaZ3xh9lAi"
      },
      "outputs": [],
      "source": [
        "#https://rasbt.github.io/mlxtend/user_guide/feature_selection/SequentialFeatureSelector/\n",
        "#https://www.youtube.com/watch?v=nh2IGC_kLWw\n",
        "#https://scikit-learn.org/stable/modules/generated/sklearn.feature_selection.SequentialFeatureSelector.html\n",
        "#https://www.yourdatateacher.com/2023/02/15/a-practical-introduction-to-sequential-feature-selection/\n",
        "\n",
        "#from sklearn.feature_selection import SequentialFeatureSelector as SFS\n",
        "\n",
        "#backward_feature_selection = SFS(RFC,n_features_to_select=100,direction='backward',scoring='accuracy',cv=5).fit_transform(X_train,y_train)\n",
        "#forward_feature_selection = SFS(RFC,n_features_to_select=8,direction='forward',scoring='accuracy',cv=5).fit_transform(X_train,y_train)"
      ]
    },
    {
      "cell_type": "markdown",
      "metadata": {
        "id": "F2lAFKhJTATQ"
      },
      "source": [
        "## Dados sem Tempo"
      ]
    },
    {
      "cell_type": "markdown",
      "metadata": {
        "id": "u1DXPmdVTKX3"
      },
      "source": [
        "### Tabela Geral sem Tempo"
      ]
    },
    {
      "cell_type": "code",
      "execution_count": null,
      "metadata": {
        "id": "1oE_rYLATDMc"
      },
      "outputs": [],
      "source": [
        "df_tr=df_ML"
      ]
    },
    {
      "cell_type": "code",
      "execution_count": null,
      "metadata": {
        "id": "bHPFRqY7TTHm"
      },
      "outputs": [],
      "source": [
        "df_tr"
      ]
    },
    {
      "cell_type": "code",
      "execution_count": null,
      "metadata": {
        "id": "k4QIaBDxTWkd"
      },
      "outputs": [],
      "source": [
        "df_tr.drop(c_T[1:],axis=1,inplace=True)"
      ]
    },
    {
      "cell_type": "code",
      "execution_count": null,
      "metadata": {
        "id": "pBw2QpgETpYW"
      },
      "outputs": [],
      "source": [
        "df_tr"
      ]
    },
    {
      "cell_type": "code",
      "source": [
        "df_tr.to_csv('DataframeML_Completo_FFT.csv')"
      ],
      "metadata": {
        "id": "79vC8SYW261s"
      },
      "execution_count": null,
      "outputs": []
    },
    {
      "cell_type": "code",
      "execution_count": null,
      "metadata": {
        "id": "ToMJgwZKTuHc"
      },
      "outputs": [],
      "source": [
        "# Nome das Colunas:\n",
        "#Lista com Nome de cada Coluna:\n",
        "coln_tr=list(df_tr)\n",
        "\n",
        "#Definindo as Features (X's):\n",
        "features=coln_tr[1:]\n",
        "X=df_tr[features]\n",
        "\n",
        "#Definindo os Targets (Y's):\n",
        "\n",
        "targets=coln_tr[0] #Definindo lista de targets\n",
        "Y=df_tr[targets]"
      ]
    },
    {
      "cell_type": "markdown",
      "metadata": {
        "id": "Op_UfT-qUeg0"
      },
      "source": [
        "### RF"
      ]
    },
    {
      "cell_type": "code",
      "source": [
        "X"
      ],
      "metadata": {
        "id": "n-HDT9F53kkG"
      },
      "execution_count": null,
      "outputs": []
    },
    {
      "cell_type": "code",
      "source": [
        "Y"
      ],
      "metadata": {
        "id": "tASO8xMW3p8F"
      },
      "execution_count": null,
      "outputs": []
    },
    {
      "cell_type": "code",
      "execution_count": null,
      "metadata": {
        "id": "0EgaDxx9UsOu"
      },
      "outputs": [],
      "source": [
        "#Vamos fazer uma Random Forest para Toda o Dataframe, sem PCA e Scaler:\n",
        "Y = LabelEncoder().fit_transform(Y)\n",
        "\n",
        "sc = StandardScaler()\n",
        "X_sc=sc.fit_transform(X)\n",
        "\n",
        "\n",
        "X_train, X_test, y_train, y_test = train_test_split(X_sc, Y, test_size = 0.3, random_state = 0)\n",
        "\n",
        "RFC= RandomForestClassifier(max_depth= 1000, n_estimators = 2000, random_state = 0)\n",
        "RFC.fit(X_train, y_train)"
      ]
    },
    {
      "cell_type": "code",
      "execution_count": null,
      "metadata": {
        "id": "O0NS4QRqUsO4"
      },
      "outputs": [],
      "source": [
        "y_pred = RFC.predict(X_test)"
      ]
    },
    {
      "cell_type": "code",
      "execution_count": null,
      "metadata": {
        "id": "HSDZmkOaUsO4"
      },
      "outputs": [],
      "source": [
        "train_score_rf=RFC.score(X_train,y_train)\n",
        "print(train_score_rf)"
      ]
    },
    {
      "cell_type": "code",
      "execution_count": null,
      "metadata": {
        "id": "TicnlJ1hUsO4"
      },
      "outputs": [],
      "source": [
        "test_score_rf=RFC.score(X_test,y_test)\n",
        "print(test_score_rf)"
      ]
    },
    {
      "cell_type": "code",
      "execution_count": null,
      "metadata": {
        "id": "O85RJo0CUsO5"
      },
      "outputs": [],
      "source": [
        "accuracy_score(y_test, y_pred)\n",
        "print('accuracy_score %:',accuracy_score(y_test, y_pred)*100)"
      ]
    },
    {
      "cell_type": "code",
      "execution_count": null,
      "metadata": {
        "id": "rXah5dj6UsO5"
      },
      "outputs": [],
      "source": [
        "RFC.feature_importances_"
      ]
    },
    {
      "cell_type": "code",
      "execution_count": null,
      "metadata": {
        "id": "jqlma7E-UsO6"
      },
      "outputs": [],
      "source": [
        "np.max(RFC.feature_importances_)"
      ]
    },
    {
      "cell_type": "code",
      "execution_count": null,
      "metadata": {
        "id": "UxOPdyzXUsO6"
      },
      "outputs": [],
      "source": [
        "imp_df = pd.DataFrame({\n",
        "    \"Varname\": X.columns,\n",
        "    \"Imp\": RFC.feature_importances_\n",
        "})"
      ]
    },
    {
      "cell_type": "code",
      "execution_count": null,
      "metadata": {
        "id": "px-VSqD2UsO7"
      },
      "outputs": [],
      "source": [
        "#Vendo a Importância das Features para RF:\n",
        "imp_df.sort_values(by=\"Imp\", ascending=False)[0:50]"
      ]
    },
    {
      "cell_type": "code",
      "execution_count": null,
      "metadata": {
        "id": "ICTzv24tUsO7"
      },
      "outputs": [],
      "source": [
        "confmatrix_train = confusion_matrix(y_train,RFC.predict(X_train))\n",
        "confmatrix_test=confusion_matrix(y_test,RFC.predict(X_test))\n",
        "\n",
        "fig, ax = plt.subplots(figsize=(6,5))\n",
        "sns.heatmap(confmatrix_train, annot=True, fmt='g', ax=ax)\n",
        "ax.xaxis.set_ticklabels(falhas,rotation=90)\n",
        "ax.yaxis.set_ticklabels(falhas,rotation=0)\n",
        "ax.set_title('Train set Confusion Matrix',y=1)\n",
        "plt.show()\n",
        "\n",
        "fig, ax = plt.subplots(figsize=(6,5))\n",
        "sns.heatmap(confmatrix_test, annot=True, fmt='g', ax=ax)\n",
        "ax.xaxis.set_ticklabels(falhas,rotation=90)\n",
        "ax.yaxis.set_ticklabels(falhas,rotation=0)\n",
        "ax.set_title('Test set Confusion Matrix',y=1)\n",
        "plt.show()"
      ]
    },
    {
      "cell_type": "markdown",
      "metadata": {
        "id": "NfG_0FOZU2dx"
      },
      "source": [
        "### SVC"
      ]
    },
    {
      "cell_type": "code",
      "execution_count": null,
      "metadata": {
        "id": "lFW9OO0SU5wV"
      },
      "outputs": [],
      "source": [
        "Y = LabelEncoder().fit_transform(Y)\n",
        "\n",
        "Y"
      ]
    },
    {
      "cell_type": "code",
      "source": [
        "X"
      ],
      "metadata": {
        "id": "cBUv6Paw3wwb"
      },
      "execution_count": null,
      "outputs": []
    },
    {
      "cell_type": "code",
      "execution_count": null,
      "metadata": {
        "id": "_CgHljOPU5wW"
      },
      "outputs": [],
      "source": [
        "sc = StandardScaler()\n",
        "X_sc=sc.fit_transform(X)\n",
        "\n",
        "\n",
        "X_train, X_test, y_train, y_test = train_test_split(X_sc, Y, test_size = 0.3, random_state = 0)"
      ]
    },
    {
      "cell_type": "code",
      "execution_count": null,
      "metadata": {
        "id": "u-451udEU5wW"
      },
      "outputs": [],
      "source": [
        "from sklearn.svm import SVC\n",
        "\n",
        "SVC1 = SVC(kernel = 'linear', random_state = 0)\n",
        "SVC1.fit(X_train, y_train)"
      ]
    },
    {
      "cell_type": "code",
      "execution_count": null,
      "metadata": {
        "id": "J1ETcJtMU5wW"
      },
      "outputs": [],
      "source": [
        "y_pred = SVC1.predict(X_test)"
      ]
    },
    {
      "cell_type": "code",
      "execution_count": null,
      "metadata": {
        "id": "VwbcG3RmU5wX"
      },
      "outputs": [],
      "source": [
        "train_score_svc=SVC1.score(X_train,y_train)\n",
        "print(train_score_svc)"
      ]
    },
    {
      "cell_type": "code",
      "execution_count": null,
      "metadata": {
        "id": "tXQ34odrU5wX"
      },
      "outputs": [],
      "source": [
        "test_score_svc=SVC1.score(X_test,y_test)\n",
        "print(test_score_svc)"
      ]
    },
    {
      "cell_type": "code",
      "execution_count": null,
      "metadata": {
        "id": "PvVuVQicU5wX"
      },
      "outputs": [],
      "source": [
        "accuracy_score(y_test, y_pred)\n",
        "print('accuracy_score %:',accuracy_score(y_test, y_pred)*100)"
      ]
    },
    {
      "cell_type": "code",
      "execution_count": null,
      "metadata": {
        "id": "7sT3uz0VU5wY"
      },
      "outputs": [],
      "source": [
        "confmatrix_train = confusion_matrix(y_train,SVC1.predict(X_train))\n",
        "confmatrix_test=confusion_matrix(y_test,SVC1.predict(X_test))\n",
        "\n",
        "fig, ax = plt.subplots(figsize=(6,5))\n",
        "sns.heatmap(confmatrix_train, annot=True, fmt='g', ax=ax)\n",
        "ax.xaxis.set_ticklabels(falhas,rotation=90)\n",
        "ax.yaxis.set_ticklabels(falhas,rotation=0)\n",
        "ax.set_title('Train set Confusion Matrix',y=1)\n",
        "plt.show()\n",
        "\n",
        "fig, ax = plt.subplots(figsize=(6,5))\n",
        "sns.heatmap(confmatrix_test, annot=True, fmt='g', ax=ax)\n",
        "ax.xaxis.set_ticklabels(falhas,rotation=90)\n",
        "ax.yaxis.set_ticklabels(falhas,rotation=0)\n",
        "ax.set_title('Test set Confusion Matrix',y=1)\n",
        "plt.show()"
      ]
    },
    {
      "cell_type": "markdown",
      "metadata": {
        "id": "AGBpPwLcwAqg"
      },
      "source": [
        "# PCA"
      ]
    },
    {
      "cell_type": "markdown",
      "metadata": {
        "id": "ogqQ9pKzwFQ5"
      },
      "source": [
        "Como temos em torno de 22.500 colunas de features, temos que reduzir essa dimensionalidade !\n",
        "\n",
        "Observe que:\n",
        "\n",
        "* Muitos dados, principalmente das FFT's não tem significância, ou seja, são inapropriados para a análise.\n",
        "* Também, deve-se tomar cuidado com o Underfitting, pois tem-se uma excessividade enorme de features\n",
        "\n",
        "Assim, recorre-se ao PCA (Principal Component Analysis) para reduzir, no caso, as colunas de FFT. Divide-se em algumas arquiteturas:\n",
        "\n",
        "1. X Colunas, com 100% de variância, Para Cada FFT\n",
        "2. Y Colunas, com 90% de variância, Para Cada FFT\n",
        "3. Z Colunas, com 80% de variância, Para Cada FFT\n",
        "4. W Colunas, com 70% de variância, Para Cada FFT\n",
        "\n",
        "Lembrando que cada FFT tem 1250 pontos, temos 3 mancais / senores, cada um medindo 6 features ---> 3 x 6 = 18 Features de cada sensore ---> 18 x 1250 = 22500 pontos totais."
      ]
    },
    {
      "cell_type": "markdown",
      "metadata": {
        "id": "ZIslDaQuEtQJ"
      },
      "source": [
        "* Temos que aplicar a escala nos dados para aplicar o PCA ! Não ficar enviesado"
      ]
    },
    {
      "cell_type": "code",
      "source": [
        "df_ML = pd.read_csv(path+ 'DataframeML.csv',index_col=0)"
      ],
      "metadata": {
        "id": "Ch9hQaQ14k-M"
      },
      "execution_count": null,
      "outputs": []
    },
    {
      "cell_type": "code",
      "execution_count": null,
      "metadata": {
        "id": "DehdnkWm4xnL"
      },
      "outputs": [],
      "source": [
        "#Definindo as Features (X's):\n",
        "features=coln[1:]\n",
        "X=df_ML[features]\n",
        "\n",
        "#Definindo os Targets (Y's):\n",
        "\n",
        "targets=coln[0] #Definindo lista de targets\n",
        "Y=df_ML[targets]"
      ]
    },
    {
      "cell_type": "code",
      "execution_count": null,
      "metadata": {
        "id": "IAUYVyc_4xnM"
      },
      "outputs": [],
      "source": [
        "#Dividindo dados no Tempo\n",
        "X_tempo = X[c_T]\n",
        "c_X_tempo=list(X_tempo)\n",
        "print(c_X_tempo)\n",
        "\n",
        "#Dividindo as FFT's por Segmentos / Sensores / Eixos (SUBDATASETS):\n",
        "X_fft_a1_x=X[c_F_a1_x]\n",
        "X_fft_a1_y=X[c_F_a1_y]\n",
        "X_fft_a1_z=X[c_F_a1_z]\n",
        "\n",
        "X_fft_a2_x=X[c_F_a2_x]\n",
        "X_fft_a2_y=X[c_F_a2_y]\n",
        "X_fft_a2_z=X[c_F_a2_z]\n",
        "\n",
        "X_fft_a3_x=X[c_F_a3_x]\n",
        "X_fft_a3_y=X[c_F_a3_y]\n",
        "X_fft_a3_z=X[c_F_a3_z]\n",
        "\n",
        "X_fft_g1_x=X[c_F_g1_x]\n",
        "X_fft_g1_y=X[c_F_g1_y]\n",
        "X_fft_g1_z=X[c_F_g1_z]\n",
        "\n",
        "X_fft_g2_x=X[c_F_g2_x]\n",
        "X_fft_g2_y=X[c_F_g2_y]\n",
        "X_fft_g2_z=X[c_F_g2_z]\n",
        "\n",
        "X_fft_g3_x=X[c_F_g3_x]\n",
        "X_fft_g3_y=X[c_F_g3_y]\n",
        "X_fft_g3_z=X[c_F_g3_z]"
      ]
    },
    {
      "cell_type": "code",
      "execution_count": null,
      "metadata": {
        "id": "ROO5_rLswDCy"
      },
      "outputs": [],
      "source": [
        "sc = StandardScaler()\n",
        "\n",
        "#Aplicando a cada X_fft:\n",
        "X_fft_a1_x = sc.fit_transform(X_fft_a1_x)\n",
        "X_fft_a1_y = sc.fit_transform(X_fft_a1_y)\n",
        "X_fft_a1_z = sc.fit_transform(X_fft_a1_z)\n",
        "\n",
        "X_fft_a2_x = sc.fit_transform(X_fft_a2_x)\n",
        "X_fft_a2_y = sc.fit_transform(X_fft_a2_y)\n",
        "X_fft_a2_z = sc.fit_transform(X_fft_a2_z)\n",
        "\n",
        "X_fft_a3_x = sc.fit_transform(X_fft_a3_x)\n",
        "X_fft_a3_y = sc.fit_transform(X_fft_a3_y)\n",
        "X_fft_a3_z = sc.fit_transform(X_fft_a3_z)\n",
        "\n",
        "X_fft_g1_x = sc.fit_transform(X_fft_g1_x)\n",
        "X_fft_g1_y = sc.fit_transform(X_fft_g1_y)\n",
        "X_fft_g1_z = sc.fit_transform(X_fft_g1_z)\n",
        "\n",
        "X_fft_g2_x = sc.fit_transform(X_fft_g2_x)\n",
        "X_fft_g2_y = sc.fit_transform(X_fft_g2_y)\n",
        "X_fft_g2_z = sc.fit_transform(X_fft_g2_z)\n",
        "\n",
        "X_fft_g3_x = sc.fit_transform(X_fft_g3_x)\n",
        "X_fft_g3_y = sc.fit_transform(X_fft_g3_y)\n",
        "X_fft_g3_z = sc.fit_transform(X_fft_g3_z)"
      ]
    },
    {
      "cell_type": "code",
      "execution_count": null,
      "metadata": {
        "id": "aqmGaU8zwC1A"
      },
      "outputs": [],
      "source": [
        "#Testando:\n",
        "X_fft_g1_z"
      ]
    },
    {
      "cell_type": "code",
      "execution_count": null,
      "metadata": {
        "id": "v0I9DqRuwClS"
      },
      "outputs": [],
      "source": [
        "# Aplicando PCA com porcentagem de Variância: Quão significativo são os dados (Total Explaned Variance)\n",
        "\n",
        "pca = PCA(0.5)  #---> SÓ MUDAR AQUI, QUE MUDA PARA TODO O RESTO !\n",
        "\n",
        "#Aplicando o PCA para cada FFT:\n",
        "\n",
        "#PCA_X_fft_a1_x = pca.fit_transform(X_fft_a1_x)\n",
        "#PCA_X_fft_a1_y = pca.fit_transform(X_fft_a1_y)\n",
        "#PCA_X_fft_a1_z = pca.fit_transform(X_fft_a1_z)\n",
        "\n",
        "#PCA_X_fft_a2_x = pca.fit_transform(X_fft_a2_x)\n",
        "#PCA_X_fft_a2_y = pca.fit_transform(X_fft_a2_y)\n",
        "#PCA_X_fft_a2_z = pca.fit_transform(X_fft_a2_z)\n",
        "\n",
        "#PCA_X_fft_a3_x = pca.fit_transform(X_fft_a3_x)\n",
        "#PCA_X_fft_a3_y = pca.fit_transform(X_fft_a3_y)\n",
        "#PCA_X_fft_a3_z = pca.fit_transform(X_fft_a3_z)\n",
        "\n",
        "#PCA_X_fft_g1_x = pca.fit_transform(X_fft_g1_x)\n",
        "#PCA_X_fft_g1_y = pca.fit_transform(X_fft_g1_y)\n",
        "#PCA_X_fft_g1_z = pca.fit_transform(X_fft_g1_z)\n",
        "\n",
        "#PCA_X_fft_g2_x = pca.fit_transform(X_fft_g2_x)\n",
        "#PCA_X_fft_g2_y = pca.fit_transform(X_fft_g2_y)\n",
        "#PCA_X_fft_g2_z = pca.fit_transform(X_fft_g2_z)\n",
        "\n",
        "#PCA_X_fft_g3_x = pca.fit_transform(X_fft_g3_x)\n",
        "#PCA_X_fft_g3_y = pca.fit_transform(X_fft_g3_y)\n",
        "#PCA_X_fft_g3_z = pca.fit_transform(X_fft_g3_z)\n",
        "\n",
        "\n",
        "#https://stackabuse.com/implementing-pca-in-python-with-scikit-learn/\n",
        "#https://scikit-learn.org/stable/modules/generated/sklearn.decomposition.PCA.html\n",
        "#https://builtin.com/machine-learning/pca-in-python\n",
        "#https://www.jcchouinard.com/pca-with-python/\n",
        "#https://www.datacamp.com/tutorial/principal-component-analysis-in-python\n",
        "#https://jakevdp.github.io/PythonDataScienceHandbook/05.09-principal-component-analysis.html\n",
        "#Último fala sobre filtro de ruido -> PCA faz isso !"
      ]
    },
    {
      "cell_type": "code",
      "execution_count": null,
      "metadata": {
        "id": "H1pkjd58kF-s"
      },
      "outputs": [],
      "source": [
        "PCA_X_fft_a1_x = pca.fit_transform(X_fft_a1_x)\n",
        "\n",
        "exp_var_cumul = np.cumsum(pca.explained_variance_ratio_)\n",
        "px.area(\n",
        "    x=range(1, exp_var_cumul.shape[0] + 1),\n",
        "    y=exp_var_cumul,\n",
        "    labels={\"x\": \"Number of Components\", \"y\": \"Explained Variance\"},\n",
        "    title=\"Explained Variance for X_fft_a1_x\"\n",
        ")"
      ]
    },
    {
      "cell_type": "code",
      "execution_count": null,
      "metadata": {
        "id": "OSqQ8OSfoE0u"
      },
      "outputs": [],
      "source": [
        "plt.figure(figsize=(15,8))\n",
        "df_var_explained = pd.DataFrame({'var':pca.explained_variance_ratio_,'PC':[str(i) for i in range (1,len(PCA_X_fft_a1_x[0])+1)]})\n",
        "sns.barplot(x='PC',y=\"var\", data=df_var_explained, color=\"c\").set(title='Variance and PCA for PCA_X_fft_a1_x');"
      ]
    },
    {
      "cell_type": "code",
      "source": [
        "#https://towardsdatascience.com/pca-clearly-explained-how-when-why-to-use-it-and-feature-importance-a-guide-in-python-7c274582c37e\n",
        "#PCA.COMPONENTS mostra a importancia de cada variavel (coluna) para realizar cada PCA. Ou seja, cada linha é um PCA e cada coluna é a importância da variavel \"FFT_5_acc_X\"\n",
        "\n",
        "\n",
        "for i in range(0,len(pca.components_)):\n",
        "  print(f'PCA{i+1} \\n')\n",
        "  print(f'PCA{i+1} : {abs( pca.components_ )[i,:]}')\n",
        "  pca_df = pd.DataFrame({\"Variavel\": c_F_a1_x,\"Importância da Variavel para o PCA\": abs( pca.components_ )[i,:]})\n",
        "  print(pca_df.sort_values(by=\"Importância da Variavel para o PCA\", ascending=False)[0:10])"
      ],
      "metadata": {
        "id": "6EKalSRrm-UH"
      },
      "execution_count": null,
      "outputs": []
    },
    {
      "cell_type": "code",
      "execution_count": null,
      "metadata": {
        "id": "2w0HCGz6kc2c"
      },
      "outputs": [],
      "source": [
        "PCA_X_fft_a1_y = pca.fit_transform(X_fft_a1_y)\n",
        "\n",
        "exp_var_cumul = np.cumsum(pca.explained_variance_ratio_)\n",
        "px.area(\n",
        "    x=range(1, exp_var_cumul.shape[0] + 1),\n",
        "    y=exp_var_cumul,\n",
        "    labels={\"x\": \"Number of Components\", \"y\": \"Explained Variance\"},\n",
        "    title=\"Explained Variance for PCA_X_fft_a1_y\"\n",
        ")"
      ]
    },
    {
      "cell_type": "code",
      "execution_count": null,
      "metadata": {
        "id": "cWW1EdU8oIUG"
      },
      "outputs": [],
      "source": [
        "plt.figure(figsize=(15,8))\n",
        "df_var_explained = pd.DataFrame({'var':pca.explained_variance_ratio_,'PC':[str(i) for i in range (1,len(PCA_X_fft_a1_y[0])+1)]})\n",
        "sns.barplot(x='PC',y=\"var\", data=df_var_explained, color=\"c\").set(title='Variance and PCA for PCA_X_fft_a1_y');"
      ]
    },
    {
      "cell_type": "code",
      "source": [
        "#https://towardsdatascience.com/pca-clearly-explained-how-when-why-to-use-it-and-feature-importance-a-guide-in-python-7c274582c37e\n",
        "#PCA.COMPONENTS mostra a importancia de cada variavel (coluna) para realizar cada PCA. Ou seja, cada linha é um PCA e cada coluna é a importância da variavel \"FFT_5_acc_X\"\n",
        "\n",
        "\n",
        "for i in range(0,len(pca.components_)):\n",
        "  print(f'PCA{i+1} \\n')\n",
        "  print(f'PCA{i+1} : {abs( pca.components_ )[i,:]}')\n",
        "  pca_df = pd.DataFrame({\"Variavel\": c_F_a1_y,\"Importância da Variavel para o PCA\": abs( pca.components_ )[i,:]})\n",
        "  print(pca_df.sort_values(by=\"Importância da Variavel para o PCA\", ascending=False)[0:10])"
      ],
      "metadata": {
        "id": "oWbvWCWms8xu"
      },
      "execution_count": null,
      "outputs": []
    },
    {
      "cell_type": "code",
      "execution_count": null,
      "metadata": {
        "id": "dyei3fqPkDQR"
      },
      "outputs": [],
      "source": [
        "PCA_X_fft_a1_z = pca.fit_transform(X_fft_a1_z)\n",
        "\n",
        "exp_var_cumul = np.cumsum(pca.explained_variance_ratio_)\n",
        "px.area(\n",
        "    x=range(1, exp_var_cumul.shape[0] + 1),\n",
        "    y=exp_var_cumul,\n",
        "    labels={\"x\": \"Number of Components\", \"y\": \"Explained Variance\"},\n",
        "    title=\"Explained Variance for PCA_X_fft_a1_z\"\n",
        ")"
      ]
    },
    {
      "cell_type": "code",
      "execution_count": null,
      "metadata": {
        "id": "CexRexHMoMQy"
      },
      "outputs": [],
      "source": [
        "plt.figure(figsize=(15,8))\n",
        "df_var_explained = pd.DataFrame({'var':pca.explained_variance_ratio_,'PC':[str(i) for i in range (1,len(PCA_X_fft_a1_z[0])+1)]})\n",
        "sns.barplot(x='PC',y=\"var\", data=df_var_explained, color=\"c\").set(title='Variance and PCA for PCA_X_fft_a1_z');"
      ]
    },
    {
      "cell_type": "code",
      "source": [
        "#https://towardsdatascience.com/pca-clearly-explained-how-when-why-to-use-it-and-feature-importance-a-guide-in-python-7c274582c37e\n",
        "#PCA.COMPONENTS mostra a importancia de cada variavel (coluna) para realizar cada PCA. Ou seja, cada linha é um PCA e cada coluna é a importância da variavel \"FFT_5_acc_X\"\n",
        "\n",
        "\n",
        "for i in range(0,len(pca.components_)):\n",
        "  print(f'PCA{i+1} \\n')\n",
        "  print(f'PCA{i+1} : {abs( pca.components_ )[i,:]}')\n",
        "  pca_df = pd.DataFrame({\"Variavel\": c_F_a1_z,\"Importância da Variavel para o PCA\": abs( pca.components_ )[i,:]})\n",
        "  print(pca_df.sort_values(by=\"Importância da Variavel para o PCA\", ascending=False)[0:10])"
      ],
      "metadata": {
        "id": "cR68FhTEtD8i"
      },
      "execution_count": null,
      "outputs": []
    },
    {
      "cell_type": "code",
      "execution_count": null,
      "metadata": {
        "id": "9JPcKztikDNi"
      },
      "outputs": [],
      "source": [
        "PCA_X_fft_a2_x = pca.fit_transform(X_fft_a2_x)\n",
        "\n",
        "exp_var_cumul = np.cumsum(pca.explained_variance_ratio_)\n",
        "px.area(\n",
        "    x=range(1, exp_var_cumul.shape[0] + 1),\n",
        "    y=exp_var_cumul,\n",
        "    labels={\"x\": \"Number of Components\", \"y\": \"Explained Variance\"},\n",
        "    title=\"Explained Variance for PCA_X_fft_a2_x\"\n",
        ")"
      ]
    },
    {
      "cell_type": "code",
      "execution_count": null,
      "metadata": {
        "id": "TFlYiqlloQ1r"
      },
      "outputs": [],
      "source": [
        "plt.figure(figsize=(15,8))\n",
        "df_var_explained = pd.DataFrame({'var':pca.explained_variance_ratio_,'PC':[str(i) for i in range (1,len(PCA_X_fft_a2_x[0])+1)]})\n",
        "sns.barplot(x='PC',y=\"var\", data=df_var_explained, color=\"c\").set(title='Variance and PCA for PCA_X_fft_a2_x');"
      ]
    },
    {
      "cell_type": "code",
      "source": [
        "#https://towardsdatascience.com/pca-clearly-explained-how-when-why-to-use-it-and-feature-importance-a-guide-in-python-7c274582c37e\n",
        "#PCA.COMPONENTS mostra a importancia de cada variavel (coluna) para realizar cada PCA. Ou seja, cada linha é um PCA e cada coluna é a importância da variavel \"FFT_5_acc_X\"\n",
        "\n",
        "\n",
        "for i in range(0,len(pca.components_)):\n",
        "  print(f'PCA{i+1} \\n')\n",
        "  print(f'PCA{i+1} : {abs( pca.components_ )[i,:]}')\n",
        "  pca_df = pd.DataFrame({\"Variavel\": c_F_a2_x,\"Importância da Variavel para o PCA\": abs( pca.components_ )[i,:]})\n",
        "  print(pca_df.sort_values(by=\"Importância da Variavel para o PCA\", ascending=False)[0:10])"
      ],
      "metadata": {
        "id": "XSsc_VhxtIvA"
      },
      "execution_count": null,
      "outputs": []
    },
    {
      "cell_type": "code",
      "execution_count": null,
      "metadata": {
        "id": "xa7smqPzkDLb"
      },
      "outputs": [],
      "source": [
        "PCA_X_fft_a2_y = pca.fit_transform(X_fft_a2_y)\n",
        "\n",
        "exp_var_cumul = np.cumsum(pca.explained_variance_ratio_)\n",
        "px.area(\n",
        "    x=range(1, exp_var_cumul.shape[0] + 1),\n",
        "    y=exp_var_cumul,\n",
        "    labels={\"x\": \"Number of Components\", \"y\": \"Explained Variance\"},\n",
        "    title=\"Explained Variance for PCA_X_fft_a2_y\"\n",
        ")"
      ]
    },
    {
      "cell_type": "code",
      "execution_count": null,
      "metadata": {
        "id": "vp-S2CHMoWED"
      },
      "outputs": [],
      "source": [
        "plt.figure(figsize=(15,8))\n",
        "df_var_explained = pd.DataFrame({'var':pca.explained_variance_ratio_,'PC':[str(i) for i in range (1,len(PCA_X_fft_a2_y[0])+1)]})\n",
        "sns.barplot(x='PC',y=\"var\", data=df_var_explained, color=\"c\").set(title='Variance and PCA for PCA_X_fft_a2_y');"
      ]
    },
    {
      "cell_type": "code",
      "source": [
        "#https://towardsdatascience.com/pca-clearly-explained-how-when-why-to-use-it-and-feature-importance-a-guide-in-python-7c274582c37e\n",
        "#PCA.COMPONENTS mostra a importancia de cada variavel (coluna) para realizar cada PCA. Ou seja, cada linha é um PCA e cada coluna é a importância da variavel \"FFT_5_acc_X\"\n",
        "\n",
        "\n",
        "for i in range(0,len(pca.components_)):\n",
        "  print(f'PCA{i+1} \\n')\n",
        "  print(f'PCA{i+1} : {abs( pca.components_ )[i,:]}')\n",
        "  pca_df = pd.DataFrame({\"Variavel\": c_F_a2_y,\"Importância da Variavel para o PCA\": abs( pca.components_ )[i,:]})\n",
        "  print(pca_df.sort_values(by=\"Importância da Variavel para o PCA\", ascending=False)[0:10])"
      ],
      "metadata": {
        "id": "DWQ7mdLXtQDi"
      },
      "execution_count": null,
      "outputs": []
    },
    {
      "cell_type": "code",
      "execution_count": null,
      "metadata": {
        "id": "1QkzwPERkDJr"
      },
      "outputs": [],
      "source": [
        "PCA_X_fft_a2_z = pca.fit_transform(X_fft_a2_z)\n",
        "\n",
        "exp_var_cumul = np.cumsum(pca.explained_variance_ratio_)\n",
        "px.area(\n",
        "    x=range(1, exp_var_cumul.shape[0] + 1),\n",
        "    y=exp_var_cumul,\n",
        "    labels={\"x\": \"Number of Components\", \"y\": \"Explained Variance\"},\n",
        "    title=\"Explained Variance for PCA_X_fft_a2_z\"\n",
        ")"
      ]
    },
    {
      "cell_type": "code",
      "execution_count": null,
      "metadata": {
        "id": "DT1OqtU9oZ0k"
      },
      "outputs": [],
      "source": [
        "plt.figure(figsize=(15,8))\n",
        "df_var_explained = pd.DataFrame({'var':pca.explained_variance_ratio_,'PC':[str(i) for i in range (1,len(PCA_X_fft_a2_z[0])+1)]})\n",
        "sns.barplot(x='PC',y=\"var\", data=df_var_explained, color=\"c\").set(title='Variance and PCA for PCA_X_fft_a2_z');"
      ]
    },
    {
      "cell_type": "code",
      "source": [
        "#https://towardsdatascience.com/pca-clearly-explained-how-when-why-to-use-it-and-feature-importance-a-guide-in-python-7c274582c37e\n",
        "#PCA.COMPONENTS mostra a importancia de cada variavel (coluna) para realizar cada PCA. Ou seja, cada linha é um PCA e cada coluna é a importância da variavel \"FFT_5_acc_X\"\n",
        "\n",
        "\n",
        "for i in range(0,len(pca.components_)):\n",
        "  print(f'PCA{i+1} \\n')\n",
        "  print(f'PCA{i+1} : {abs( pca.components_ )[i,:]}')\n",
        "  pca_df = pd.DataFrame({\"Variavel\": c_F_a2_z,\"Importância da Variavel para o PCA\": abs( pca.components_ )[i,:]})\n",
        "  print(pca_df.sort_values(by=\"Importância da Variavel para o PCA\", ascending=False)[0:10])"
      ],
      "metadata": {
        "id": "O8-x0pIHtUTI"
      },
      "execution_count": null,
      "outputs": []
    },
    {
      "cell_type": "code",
      "execution_count": null,
      "metadata": {
        "id": "88ENMb2TkDHl"
      },
      "outputs": [],
      "source": [
        "PCA_X_fft_a3_x = pca.fit_transform(X_fft_a3_x)\n",
        "\n",
        "exp_var_cumul = np.cumsum(pca.explained_variance_ratio_)\n",
        "px.area(\n",
        "    x=range(1, exp_var_cumul.shape[0] + 1),\n",
        "    y=exp_var_cumul,\n",
        "    labels={\"x\": \"Number of Components\", \"y\": \"Explained Variance\"},\n",
        "    title=\"Explained Variance for PCA_X_fft_a3_x\"\n",
        ")"
      ]
    },
    {
      "cell_type": "code",
      "execution_count": null,
      "metadata": {
        "id": "4u9dYyrSoddU"
      },
      "outputs": [],
      "source": [
        "plt.figure(figsize=(15,8))\n",
        "df_var_explained = pd.DataFrame({'var':pca.explained_variance_ratio_,'PC':[str(i) for i in range (1,len(PCA_X_fft_a3_x[0])+1)]})\n",
        "sns.barplot(x='PC',y=\"var\", data=df_var_explained, color=\"c\").set(title='Variance and PCA for PCA_X_fft_a3_x');"
      ]
    },
    {
      "cell_type": "code",
      "source": [
        "#https://towardsdatascience.com/pca-clearly-explained-how-when-why-to-use-it-and-feature-importance-a-guide-in-python-7c274582c37e\n",
        "#PCA.COMPONENTS mostra a importancia de cada variavel (coluna) para realizar cada PCA. Ou seja, cada linha é um PCA e cada coluna é a importância da variavel \"FFT_5_acc_X\"\n",
        "\n",
        "\n",
        "for i in range(0,len(pca.components_)):\n",
        "  print(f'PCA{i+1} \\n')\n",
        "  print(f'PCA{i+1} : {abs( pca.components_ )[i,:]}')\n",
        "  pca_df = pd.DataFrame({\"Variavel\": c_F_a3_x,\"Importância da Variavel para o PCA\": abs( pca.components_ )[i,:]})\n",
        "  print(pca_df.sort_values(by=\"Importância da Variavel para o PCA\", ascending=False)[0:10])"
      ],
      "metadata": {
        "id": "J2sWmsMZtYBt"
      },
      "execution_count": null,
      "outputs": []
    },
    {
      "cell_type": "code",
      "execution_count": null,
      "metadata": {
        "id": "CVmhAW_jkDFF"
      },
      "outputs": [],
      "source": [
        "PCA_X_fft_a3_y = pca.fit_transform(X_fft_a3_y)\n",
        "\n",
        "exp_var_cumul = np.cumsum(pca.explained_variance_ratio_)\n",
        "px.area(\n",
        "    x=range(1, exp_var_cumul.shape[0] + 1),\n",
        "    y=exp_var_cumul,\n",
        "    labels={\"x\": \"Number of Components\", \"y\": \"Explained Variance\"},\n",
        "    title=\"Explained Variance for PCA_X_fft_a3_y\"\n",
        ")"
      ]
    },
    {
      "cell_type": "code",
      "execution_count": null,
      "metadata": {
        "id": "9fMsc4gbog7K"
      },
      "outputs": [],
      "source": [
        "plt.figure(figsize=(15,8))\n",
        "df_var_explained = pd.DataFrame({'var':pca.explained_variance_ratio_,'PC':[str(i) for i in range (1,len(PCA_X_fft_a3_y[0])+1)]})\n",
        "sns.barplot(x='PC',y=\"var\", data=df_var_explained, color=\"c\").set(title='Variance and PCA for PCA_X_fft_a3_y');"
      ]
    },
    {
      "cell_type": "code",
      "source": [
        "#https://towardsdatascience.com/pca-clearly-explained-how-when-why-to-use-it-and-feature-importance-a-guide-in-python-7c274582c37e\n",
        "#PCA.COMPONENTS mostra a importancia de cada variavel (coluna) para realizar cada PCA. Ou seja, cada linha é um PCA e cada coluna é a importância da variavel \"FFT_5_acc_X\"\n",
        "\n",
        "\n",
        "for i in range(0,len(pca.components_)):\n",
        "  print(f'PCA{i+1} \\n')\n",
        "  print(f'PCA{i+1} : {abs( pca.components_ )[i,:]}')\n",
        "  pca_df = pd.DataFrame({\"Variavel\": c_F_a3_y,\"Importância da Variavel para o PCA\": abs( pca.components_ )[i,:]})\n",
        "  print(pca_df.sort_values(by=\"Importância da Variavel para o PCA\", ascending=False)[0:10])"
      ],
      "metadata": {
        "id": "REfftz9BtgXA"
      },
      "execution_count": null,
      "outputs": []
    },
    {
      "cell_type": "code",
      "execution_count": null,
      "metadata": {
        "id": "leMJuIGVkDCv"
      },
      "outputs": [],
      "source": [
        "PCA_X_fft_a3_z = pca.fit_transform(X_fft_a3_z)\n",
        "\n",
        "exp_var_cumul = np.cumsum(pca.explained_variance_ratio_)\n",
        "px.area(\n",
        "    x=range(1, exp_var_cumul.shape[0] + 1),\n",
        "    y=exp_var_cumul,\n",
        "    labels={\"x\": \"Number of Components\", \"y\": \"Explained Variance\"},\n",
        "    title=\"Explained Variance for PCA_X_fft_a3_z\"\n",
        ")"
      ]
    },
    {
      "cell_type": "code",
      "execution_count": null,
      "metadata": {
        "id": "znIVwrVGoj3l"
      },
      "outputs": [],
      "source": [
        "plt.figure(figsize=(15,8))\n",
        "df_var_explained = pd.DataFrame({'var':pca.explained_variance_ratio_,'PC':[str(i) for i in range (1,len(PCA_X_fft_a3_z[0])+1)]})\n",
        "sns.barplot(x='PC',y=\"var\", data=df_var_explained, color=\"c\").set(title='Variance and PCA for PCA_X_fft_a3_z');"
      ]
    },
    {
      "cell_type": "code",
      "source": [
        "#https://towardsdatascience.com/pca-clearly-explained-how-when-why-to-use-it-and-feature-importance-a-guide-in-python-7c274582c37e\n",
        "#PCA.COMPONENTS mostra a importancia de cada variavel (coluna) para realizar cada PCA. Ou seja, cada linha é um PCA e cada coluna é a importância da variavel \"FFT_5_acc_X\"\n",
        "\n",
        "\n",
        "for i in range(0,len(pca.components_)):\n",
        "  print(f'PCA{i+1} \\n')\n",
        "  print(f'PCA{i+1} : {abs( pca.components_ )[i,:]}')\n",
        "  pca_df = pd.DataFrame({\"Variavel\": c_F_a3_z,\"Importância da Variavel para o PCA\": abs( pca.components_ )[i,:]})\n",
        "  print(pca_df.sort_values(by=\"Importância da Variavel para o PCA\", ascending=False)[0:10])"
      ],
      "metadata": {
        "id": "y6kNVz_xtlF8"
      },
      "execution_count": null,
      "outputs": []
    },
    {
      "cell_type": "code",
      "execution_count": null,
      "metadata": {
        "id": "ZI8M8453kC6O"
      },
      "outputs": [],
      "source": [
        "PCA_X_fft_g1_x = pca.fit_transform(X_fft_g1_x)\n",
        "\n",
        "exp_var_cumul = np.cumsum(pca.explained_variance_ratio_)\n",
        "px.area(\n",
        "    x=range(1, exp_var_cumul.shape[0] + 1),\n",
        "    y=exp_var_cumul,\n",
        "    labels={\"x\": \"Number of Components\", \"y\": \"Explained Variance\"},\n",
        "    title=\"Explained Variance for PCA_X_fft_g1_x\"\n",
        ")"
      ]
    },
    {
      "cell_type": "code",
      "execution_count": null,
      "metadata": {
        "id": "iYgNjcHeonNK"
      },
      "outputs": [],
      "source": [
        "plt.figure(figsize=(15,8))\n",
        "df_var_explained = pd.DataFrame({'var':pca.explained_variance_ratio_,'PC':[str(i) for i in range (1,len(PCA_X_fft_g1_x[0])+1)]})\n",
        "sns.barplot(x='PC',y=\"var\", data=df_var_explained, color=\"c\").set(title='Variance and PCA for PCA_X_fft_g1_x');"
      ]
    },
    {
      "cell_type": "code",
      "source": [
        "#https://towardsdatascience.com/pca-clearly-explained-how-when-why-to-use-it-and-feature-importance-a-guide-in-python-7c274582c37e\n",
        "#PCA.COMPONENTS mostra a importancia de cada variavel (coluna) para realizar cada PCA. Ou seja, cada linha é um PCA e cada coluna é a importância da variavel \"FFT_5_acc_X\"\n",
        "\n",
        "\n",
        "for i in range(0,len(pca.components_)):\n",
        "  print(f'PCA{i+1} \\n')\n",
        "  print(f'PCA{i+1} : {abs( pca.components_ )[i,:]}')\n",
        "  pca_df = pd.DataFrame({\"Variavel\": c_F_g1_x,\"Importância da Variavel para o PCA\": abs( pca.components_ )[i,:]})\n",
        "  print(pca_df.sort_values(by=\"Importância da Variavel para o PCA\", ascending=False)[0:10])"
      ],
      "metadata": {
        "id": "7dx0GmQ9tr1c"
      },
      "execution_count": null,
      "outputs": []
    },
    {
      "cell_type": "code",
      "execution_count": null,
      "metadata": {
        "id": "tl2EuNYcktia"
      },
      "outputs": [],
      "source": [
        "PCA_X_fft_g1_y = pca.fit_transform(X_fft_g1_y)\n",
        "\n",
        "exp_var_cumul = np.cumsum(pca.explained_variance_ratio_)\n",
        "px.area(\n",
        "    x=range(1, exp_var_cumul.shape[0] + 1),\n",
        "    y=exp_var_cumul,\n",
        "    labels={\"x\": \"Number of Components\", \"y\": \"Explained Variance\"},\n",
        "    title=\"Explained Variance for PCA_X_fft_g1_y\"\n",
        ")"
      ]
    },
    {
      "cell_type": "code",
      "execution_count": null,
      "metadata": {
        "id": "yfX7Oc00oqWq"
      },
      "outputs": [],
      "source": [
        "plt.figure(figsize=(15,8))\n",
        "df_var_explained = pd.DataFrame({'var':pca.explained_variance_ratio_,'PC':[str(i) for i in range (1,len(PCA_X_fft_g1_y[0])+1)]})\n",
        "sns.barplot(x='PC',y=\"var\", data=df_var_explained, color=\"c\").set(title='Variance and PCA for PCA_X_fft_g1_y');"
      ]
    },
    {
      "cell_type": "code",
      "source": [
        "#https://towardsdatascience.com/pca-clearly-explained-how-when-why-to-use-it-and-feature-importance-a-guide-in-python-7c274582c37e\n",
        "#PCA.COMPONENTS mostra a importancia de cada variavel (coluna) para realizar cada PCA. Ou seja, cada linha é um PCA e cada coluna é a importância da variavel \"FFT_5_acc_X\"\n",
        "\n",
        "\n",
        "for i in range(0,len(pca.components_)):\n",
        "  print(f'PCA{i+1} \\n')\n",
        "  print(f'PCA{i+1} : {abs( pca.components_ )[i,:]}')\n",
        "  pca_df = pd.DataFrame({\"Variavel\": c_F_g1_y,\"Importância da Variavel para o PCA\": abs( pca.components_ )[i,:]})\n",
        "  print(pca_df.sort_values(by=\"Importância da Variavel para o PCA\", ascending=False)[0:10])"
      ],
      "metadata": {
        "id": "puwnlt5FtzEk"
      },
      "execution_count": null,
      "outputs": []
    },
    {
      "cell_type": "code",
      "execution_count": null,
      "metadata": {
        "id": "VD8ZbpINktfq"
      },
      "outputs": [],
      "source": [
        "PCA_X_fft_g1_z = pca.fit_transform(X_fft_g1_z)\n",
        "\n",
        "exp_var_cumul = np.cumsum(pca.explained_variance_ratio_)\n",
        "px.area(\n",
        "    x=range(1, exp_var_cumul.shape[0] + 1),\n",
        "    y=exp_var_cumul,\n",
        "    labels={\"x\": \"Number of Components\", \"y\": \"Explained Variance\"},\n",
        "    title=\"Explained Variance for PCA_X_fft_g1_z\"\n",
        ")"
      ]
    },
    {
      "cell_type": "code",
      "execution_count": null,
      "metadata": {
        "id": "kme05m6Lotec"
      },
      "outputs": [],
      "source": [
        "plt.figure(figsize=(15,8))\n",
        "df_var_explained = pd.DataFrame({'var':pca.explained_variance_ratio_,'PC':[str(i) for i in range (1,len(PCA_X_fft_g1_z[0])+1)]})\n",
        "sns.barplot(x='PC',y=\"var\", data=df_var_explained, color=\"c\").set(title='Variance and PCA for PCA_X_fft_g1_z');"
      ]
    },
    {
      "cell_type": "code",
      "source": [
        "#https://towardsdatascience.com/pca-clearly-explained-how-when-why-to-use-it-and-feature-importance-a-guide-in-python-7c274582c37e\n",
        "#PCA.COMPONENTS mostra a importancia de cada variavel (coluna) para realizar cada PCA. Ou seja, cada linha é um PCA e cada coluna é a importância da variavel \"FFT_5_acc_X\"\n",
        "\n",
        "\n",
        "for i in range(0,len(pca.components_)):\n",
        "  print(f'PCA{i+1} \\n')\n",
        "  print(f'PCA{i+1} : {abs( pca.components_ )[i,:]}')\n",
        "  pca_df = pd.DataFrame({\"Variavel\": c_F_g1_z,\"Importância da Variavel para o PCA\": abs( pca.components_ )[i,:]})\n",
        "  print(pca_df.sort_values(by=\"Importância da Variavel para o PCA\", ascending=False)[0:10])"
      ],
      "metadata": {
        "id": "TjHZEIbFt2nM"
      },
      "execution_count": null,
      "outputs": []
    },
    {
      "cell_type": "code",
      "execution_count": null,
      "metadata": {
        "id": "sWpk6xVYktdE"
      },
      "outputs": [],
      "source": [
        "PCA_X_fft_g2_x = pca.fit_transform(X_fft_g2_x)\n",
        "\n",
        "exp_var_cumul = np.cumsum(pca.explained_variance_ratio_)\n",
        "px.area(\n",
        "    x=range(1, exp_var_cumul.shape[0] + 1),\n",
        "    y=exp_var_cumul,\n",
        "    labels={\"x\": \"Number of Components\", \"y\": \"Explained Variance\"},\n",
        "    title=\"Explained Variance for PCA_X_fft_g2_x\"\n",
        ")"
      ]
    },
    {
      "cell_type": "code",
      "execution_count": null,
      "metadata": {
        "id": "BJ5WyV2uowG0"
      },
      "outputs": [],
      "source": [
        "plt.figure(figsize=(15,8))\n",
        "df_var_explained = pd.DataFrame({'var':pca.explained_variance_ratio_,'PC':[str(i) for i in range (1,len(PCA_X_fft_g2_x[0])+1)]})\n",
        "sns.barplot(x='PC',y=\"var\", data=df_var_explained, color=\"c\").set(title='Variance and PCA for PCA_X_fft_g2_x');"
      ]
    },
    {
      "cell_type": "code",
      "source": [
        "#https://towardsdatascience.com/pca-clearly-explained-how-when-why-to-use-it-and-feature-importance-a-guide-in-python-7c274582c37e\n",
        "#PCA.COMPONENTS mostra a importancia de cada variavel (coluna) para realizar cada PCA. Ou seja, cada linha é um PCA e cada coluna é a importância da variavel \"FFT_5_acc_X\"\n",
        "\n",
        "\n",
        "for i in range(0,len(pca.components_)):\n",
        "  print(f'PCA{i+1} \\n')\n",
        "  print(f'PCA{i+1} : {abs( pca.components_ )[i,:]}')\n",
        "  pca_df = pd.DataFrame({\"Variavel\": c_F_g2_x,\"Importância da Variavel para o PCA\": abs( pca.components_ )[i,:]})\n",
        "  print(pca_df.sort_values(by=\"Importância da Variavel para o PCA\", ascending=False)[0:10])"
      ],
      "metadata": {
        "id": "dDhiqIVyt7Ff"
      },
      "execution_count": null,
      "outputs": []
    },
    {
      "cell_type": "code",
      "execution_count": null,
      "metadata": {
        "id": "tVvvNQUUktaq"
      },
      "outputs": [],
      "source": [
        "PCA_X_fft_g2_y = pca.fit_transform(X_fft_g2_y)\n",
        "\n",
        "exp_var_cumul = np.cumsum(pca.explained_variance_ratio_)\n",
        "px.area(\n",
        "    x=range(1, exp_var_cumul.shape[0] + 1),\n",
        "    y=exp_var_cumul,\n",
        "    labels={\"x\": \"Number of Components\", \"y\": \"Explained Variance\"},\n",
        "    title=\"Explained Variance for PCA_X_fft_g2_y\"\n",
        ")"
      ]
    },
    {
      "cell_type": "code",
      "execution_count": null,
      "metadata": {
        "id": "23QUosCUoy-1"
      },
      "outputs": [],
      "source": [
        "plt.figure(figsize=(15,8))\n",
        "df_var_explained = pd.DataFrame({'var':pca.explained_variance_ratio_,'PC':[str(i) for i in range (1,len(PCA_X_fft_g2_y[0])+1)]})\n",
        "sns.barplot(x='PC',y=\"var\", data=df_var_explained, color=\"c\").set(title='Variance and PCA for PCA_X_fft_g2_y');"
      ]
    },
    {
      "cell_type": "code",
      "source": [
        "#https://towardsdatascience.com/pca-clearly-explained-how-when-why-to-use-it-and-feature-importance-a-guide-in-python-7c274582c37e\n",
        "#PCA.COMPONENTS mostra a importancia de cada variavel (coluna) para realizar cada PCA. Ou seja, cada linha é um PCA e cada coluna é a importância da variavel \"FFT_5_acc_X\"\n",
        "\n",
        "\n",
        "for i in range(0,len(pca.components_)):\n",
        "  print(f'PCA{i+1} \\n')\n",
        "  print(f'PCA{i+1} : {abs( pca.components_ )[i,:]}')\n",
        "  pca_df = pd.DataFrame({\"Variavel\": c_F_g2_y,\"Importância da Variavel para o PCA\": abs( pca.components_ )[i,:]})\n",
        "  print(pca_df.sort_values(by=\"Importância da Variavel para o PCA\", ascending=False)[0:10])"
      ],
      "metadata": {
        "id": "zhNR_DKot-S5"
      },
      "execution_count": null,
      "outputs": []
    },
    {
      "cell_type": "code",
      "execution_count": null,
      "metadata": {
        "id": "mIBHPyPck44G"
      },
      "outputs": [],
      "source": [
        "PCA_X_fft_g2_z = pca.fit_transform(X_fft_g2_z)\n",
        "\n",
        "exp_var_cumul = np.cumsum(pca.explained_variance_ratio_)\n",
        "px.area(\n",
        "    x=range(1, exp_var_cumul.shape[0] + 1),\n",
        "    y=exp_var_cumul,\n",
        "    labels={\"x\": \"Number of Components\", \"y\": \"Explained Variance\"},\n",
        "    title=\"Explained Variance for PCA_X_fft_g2_z\"\n",
        ")"
      ]
    },
    {
      "cell_type": "code",
      "execution_count": null,
      "metadata": {
        "id": "kJkc2V1so18L"
      },
      "outputs": [],
      "source": [
        "plt.figure(figsize=(15,8))\n",
        "df_var_explained = pd.DataFrame({'var':pca.explained_variance_ratio_,'PC':[str(i) for i in range (1,len(PCA_X_fft_g2_z[0])+1)]})\n",
        "sns.barplot(x='PC',y=\"var\", data=df_var_explained, color=\"c\").set(title='Variance and PCA for PCA_X_fft_g2_z');"
      ]
    },
    {
      "cell_type": "code",
      "source": [
        "#https://towardsdatascience.com/pca-clearly-explained-how-when-why-to-use-it-and-feature-importance-a-guide-in-python-7c274582c37e\n",
        "#PCA.COMPONENTS mostra a importancia de cada variavel (coluna) para realizar cada PCA. Ou seja, cada linha é um PCA e cada coluna é a importância da variavel \"FFT_5_acc_X\"\n",
        "\n",
        "\n",
        "for i in range(0,len(pca.components_)):\n",
        "  print(f'PCA{i+1} \\n')\n",
        "  print(f'PCA{i+1} : {abs( pca.components_ )[i,:]}')\n",
        "  pca_df = pd.DataFrame({\"Variavel\": c_F_g2_z,\"Importância da Variavel para o PCA\": abs( pca.components_ )[i,:]})\n",
        "  print(pca_df.sort_values(by=\"Importância da Variavel para o PCA\", ascending=False)[0:10])"
      ],
      "metadata": {
        "id": "pLIXuhIXuBp1"
      },
      "execution_count": null,
      "outputs": []
    },
    {
      "cell_type": "code",
      "execution_count": null,
      "metadata": {
        "id": "3RHF1paOk41T"
      },
      "outputs": [],
      "source": [
        "PCA_X_fft_g3_x = pca.fit_transform(X_fft_g3_x)\n",
        "\n",
        "exp_var_cumul = np.cumsum(pca.explained_variance_ratio_)\n",
        "px.area(\n",
        "    x=range(1, exp_var_cumul.shape[0] + 1),\n",
        "    y=exp_var_cumul,\n",
        "    labels={\"x\": \"Number of Components\", \"y\": \"Explained Variance\"},\n",
        "    title=\"Explained Variance for PCA_X_fft_g3_x\"\n",
        ")"
      ]
    },
    {
      "cell_type": "code",
      "execution_count": null,
      "metadata": {
        "id": "LBwx4GnMo496"
      },
      "outputs": [],
      "source": [
        "plt.figure(figsize=(15,8))\n",
        "df_var_explained = pd.DataFrame({'var':pca.explained_variance_ratio_,'PC':[str(i) for i in range (1,len(PCA_X_fft_g3_x[0])+1)]})\n",
        "sns.barplot(x='PC',y=\"var\", data=df_var_explained, color=\"c\").set(title='Variance and PCA for PCA_X_fft_g3_x');"
      ]
    },
    {
      "cell_type": "code",
      "source": [
        "#https://towardsdatascience.com/pca-clearly-explained-how-when-why-to-use-it-and-feature-importance-a-guide-in-python-7c274582c37e\n",
        "#PCA.COMPONENTS mostra a importancia de cada variavel (coluna) para realizar cada PCA. Ou seja, cada linha é um PCA e cada coluna é a importância da variavel \"FFT_5_acc_X\"\n",
        "\n",
        "\n",
        "for i in range(0,len(pca.components_)):\n",
        "  print(f'PCA{i+1} \\n')\n",
        "  print(f'PCA{i+1} : {abs( pca.components_ )[i,:]}')\n",
        "  pca_df = pd.DataFrame({\"Variavel\": c_F_g3_x,\"Importância da Variavel para o PCA\": abs( pca.components_ )[i,:]})\n",
        "  print(pca_df.sort_values(by=\"Importância da Variavel para o PCA\", ascending=False)[0:10])"
      ],
      "metadata": {
        "id": "Ewh0JtcquFNF"
      },
      "execution_count": null,
      "outputs": []
    },
    {
      "cell_type": "code",
      "execution_count": null,
      "metadata": {
        "id": "uh3J2Ugdk4yi"
      },
      "outputs": [],
      "source": [
        "PCA_X_fft_g3_y = pca.fit_transform(X_fft_g3_y)\n",
        "\n",
        "exp_var_cumul = np.cumsum(pca.explained_variance_ratio_)\n",
        "px.area(\n",
        "    x=range(1, exp_var_cumul.shape[0] + 1),\n",
        "    y=exp_var_cumul,\n",
        "    labels={\"x\": \"Number of Components\", \"y\": \"Explained Variance\"},\n",
        "    title=\"Explained Variance for PCA_X_fft_g3_y\"\n",
        ")"
      ]
    },
    {
      "cell_type": "code",
      "execution_count": null,
      "metadata": {
        "id": "-hf75waVo72i"
      },
      "outputs": [],
      "source": [
        "plt.figure(figsize=(15,8))\n",
        "df_var_explained = pd.DataFrame({'var':pca.explained_variance_ratio_,'PC':[str(i) for i in range (1,len(PCA_X_fft_g3_y[0])+1)]})\n",
        "sns.barplot(x='PC',y=\"var\", data=df_var_explained, color=\"c\").set(title='Variance and PCA for PCA_X_fft_g3_y');"
      ]
    },
    {
      "cell_type": "code",
      "source": [
        "#https://towardsdatascience.com/pca-clearly-explained-how-when-why-to-use-it-and-feature-importance-a-guide-in-python-7c274582c37e\n",
        "#PCA.COMPONENTS mostra a importancia de cada variavel (coluna) para realizar cada PCA. Ou seja, cada linha é um PCA e cada coluna é a importância da variavel \"FFT_5_acc_X\"\n",
        "\n",
        "\n",
        "for i in range(0,len(pca.components_)):\n",
        "  print(f'PCA{i+1} \\n')\n",
        "  print(f'PCA{i+1} : {abs( pca.components_ )[i,:]}')\n",
        "  pca_df = pd.DataFrame({\"Variavel\": c_F_g3_y,\"Importância da Variavel para o PCA\": abs( pca.components_ )[i,:]})\n",
        "  print(pca_df.sort_values(by=\"Importância da Variavel para o PCA\", ascending=False)[0:10])"
      ],
      "metadata": {
        "id": "mz2iE4T_uIol"
      },
      "execution_count": null,
      "outputs": []
    },
    {
      "cell_type": "code",
      "execution_count": null,
      "metadata": {
        "id": "hG0hi1uHk4qi"
      },
      "outputs": [],
      "source": [
        "PCA_X_fft_g3_z = pca.fit_transform(X_fft_g3_z)\n",
        "\n",
        "exp_var_cumul = np.cumsum(pca.explained_variance_ratio_)\n",
        "px.area(\n",
        "    x=range(1, exp_var_cumul.shape[0] + 1),\n",
        "    y=exp_var_cumul,\n",
        "    labels={\"x\": \"Number of Components\", \"y\": \"Explained Variance\"},\n",
        "    title=\"Explained Variance for PCA_X_fft_g3_z\"\n",
        ")"
      ]
    },
    {
      "cell_type": "code",
      "execution_count": null,
      "metadata": {
        "id": "7KjFsdoBo-6C"
      },
      "outputs": [],
      "source": [
        "plt.figure(figsize=(15,8))\n",
        "df_var_explained = pd.DataFrame({'var':pca.explained_variance_ratio_,'PC':[str(i) for i in range (1,len(PCA_X_fft_g3_z[0])+1)]})\n",
        "sns.barplot(x='PC',y=\"var\", data=df_var_explained, color=\"c\").set(title='Variance and PCA for PCA_X_fft_g3_z');"
      ]
    },
    {
      "cell_type": "code",
      "source": [
        "#https://towardsdatascience.com/pca-clearly-explained-how-when-why-to-use-it-and-feature-importance-a-guide-in-python-7c274582c37e\n",
        "#PCA.COMPONENTS mostra a importancia de cada variavel (coluna) para realizar cada PCA. Ou seja, cada linha é um PCA e cada coluna é a importância da variavel \"FFT_5_acc_X\"\n",
        "\n",
        "\n",
        "for i in range(0,len(pca.components_)):\n",
        "  print(f'PCA{i+1} \\n')\n",
        "  print(f'PCA{i+1} : {abs( pca.components_ )[i,:]}')\n",
        "  pca_df = pd.DataFrame({\"Variavel\": c_F_g3_z,\"Importância da Variavel para o PCA\": abs( pca.components_ )[i,:]})\n",
        "  print(pca_df.sort_values(by=\"Importância da Variavel para o PCA\", ascending=False)[0:10])"
      ],
      "metadata": {
        "id": "KTus9DpNuLyw"
      },
      "execution_count": null,
      "outputs": []
    },
    {
      "cell_type": "code",
      "execution_count": null,
      "metadata": {
        "id": "YA7hOxFzLAmG"
      },
      "outputs": [],
      "source": [
        "# Vendo quantas Colunas são necessarias deixar para obter X% das informações, via PCA:\n",
        "\n",
        "print('PCA_X_fft_a1_x')\n",
        "#print(PCA_X_fft_a1_x)\n",
        "print(len(PCA_X_fft_a1_x[0]))\n",
        "\n",
        "print()\n",
        "print()\n",
        "\n",
        "print('PCA_X_fft_a1_y')\n",
        "#print(PCA_X_fft_a1_y)\n",
        "print(len(PCA_X_fft_a1_y[0]))\n",
        "\n",
        "print()\n",
        "print()\n",
        "\n",
        "print('PCA_X_fft_a1_z')\n",
        "#print(PCA_X_fft_a1_z)\n",
        "print(len(PCA_X_fft_a1_z[0]))\n",
        "\n",
        "print()\n",
        "print()\n",
        "\n",
        "print('PCA_X_fft_a2_x')\n",
        "#print(PCA_X_fft_a2_x)\n",
        "print(len(PCA_X_fft_a2_x[0]))\n",
        "\n",
        "print()\n",
        "print()\n",
        "\n",
        "print('PCA_X_fft_a2_y')\n",
        "#print(PCA_X_fft_a2_y)\n",
        "print(len(PCA_X_fft_a2_y[0]))\n",
        "\n",
        "print()\n",
        "print()\n",
        "\n",
        "print('PCA_X_fft_a2_z')\n",
        "#print(PCA_X_fft_a2_z)\n",
        "print(len(PCA_X_fft_a2_z[0]))\n",
        "\n",
        "print()\n",
        "print()\n",
        "\n",
        "print('PCA_X_fft_a3_x')\n",
        "#print(PCA_X_fft_a3_x)\n",
        "print(len(PCA_X_fft_a3_x[0]))\n",
        "\n",
        "print()\n",
        "print()\n",
        "\n",
        "print('PCA_X_fft_a3_y')\n",
        "#print(PCA_X_fft_a3_y)\n",
        "print(len(PCA_X_fft_a3_y[0]))\n",
        "\n",
        "print()\n",
        "print()\n",
        "\n",
        "print('PCA_X_fft_a3_z')\n",
        "#print(PCA_X_fft_a3_z)\n",
        "print(len(PCA_X_fft_a3_z[0]))\n",
        "\n",
        "print()\n",
        "print()\n",
        "\n",
        "print('PCA_X_fft_g1_x')\n",
        "#print(PCA_X_fft_g1_x)\n",
        "print(len(PCA_X_fft_g1_x[0]))\n",
        "\n",
        "print()\n",
        "print()\n",
        "\n",
        "print('PCA_X_fft_g1_y')\n",
        "#print(PCA_X_fft_g1_y)\n",
        "print(len(PCA_X_fft_g1_y[0]))\n",
        "\n",
        "print()\n",
        "print()\n",
        "\n",
        "print('PCA_X_fft_g1_z')\n",
        "#print(PCA_X_fft_g1_z)\n",
        "print(len(PCA_X_fft_g1_z[0]))\n",
        "\n",
        "print()\n",
        "print()\n",
        "\n",
        "print('PCA_X_fft_g2_x')\n",
        "#print(PCA_X_fft_g2_x)\n",
        "print(len(PCA_X_fft_g2_x[0]))\n",
        "\n",
        "print()\n",
        "print()\n",
        "\n",
        "print('PCA_X_fft_g2_y')\n",
        "#print(PCA_X_fft_g2_y)\n",
        "print(len(PCA_X_fft_g2_y[0]))\n",
        "\n",
        "print()\n",
        "print()\n",
        "\n",
        "print('PCA_X_fft_g2_z')\n",
        "#print(PCA_X_fft_g2_z)\n",
        "print(len(PCA_X_fft_g2_z[0]))\n",
        "\n",
        "print()\n",
        "print()\n",
        "\n",
        "print('PCA_X_fft_g3_x')\n",
        "#print(PCA_X_fft_g3_x)\n",
        "print(len(PCA_X_fft_g3_x[0]))\n",
        "\n",
        "print()\n",
        "print()\n",
        "\n",
        "print('PCA_X_fft_g3_y')\n",
        "#print(PCA_X_fft_g3_y)\n",
        "print(len(PCA_X_fft_g3_y[0]))\n",
        "\n",
        "print()\n",
        "print()\n",
        "\n",
        "print('PCA_X_fft_g3_z')\n",
        "#print(PCA_X_fft_g3_z)\n",
        "print(len(PCA_X_fft_g3_z[0]))"
      ]
    },
    {
      "cell_type": "markdown",
      "metadata": {
        "id": "b-jsqv2PLUfg"
      },
      "source": [
        "Pegando o maior número de colunas para cada porcentagem do PCA. Aqui simplismente, comparamos os resultados de cada sensor, mancal e eixo e pegamos o PCA com moir número de colunas:\n",
        "\n",
        "* PCA (1) -> 380 Colunas\n",
        "* PCA (0.999) -> 364 Colunas\n",
        "* PCA (0.99) -> 298 Colunas\n",
        "* PCA (0.98) -> 263 Colunas\n",
        "* PCA (0.95) -> 208 Colunas\n",
        "* PCA (0.90) -> 160 Colunas\n",
        "* PCA (0.80) -> 106 Colunas\n",
        "* PCA (0.70) -> 71 Colunas\n",
        "* PCA (0.60) -> 47 Colunas\n",
        "* PCA (0.50) -> 29 Colunas"
      ]
    },
    {
      "cell_type": "markdown",
      "metadata": {
        "id": "yrSYzozOPceO"
      },
      "source": [
        "------------------------\n",
        "Agora testando com TODO o X, sem fazer distinção de nada, loucuras"
      ]
    },
    {
      "cell_type": "code",
      "execution_count": null,
      "metadata": {
        "id": "GVrVCJ_vGv66"
      },
      "outputs": [],
      "source": [
        "X"
      ]
    },
    {
      "cell_type": "code",
      "source": [
        "c_X=X.columns"
      ],
      "metadata": {
        "id": "81A65Y9fvWqE"
      },
      "execution_count": null,
      "outputs": []
    },
    {
      "cell_type": "code",
      "execution_count": null,
      "metadata": {
        "id": "OdKmkry1Gv47"
      },
      "outputs": [],
      "source": [
        "X = sc.fit_transform(X)"
      ]
    },
    {
      "cell_type": "code",
      "execution_count": null,
      "metadata": {
        "id": "sEQiD0dMTcw6"
      },
      "outputs": [],
      "source": [
        "#Aplicando o PCA para cada FFT:\n",
        "PCA_X = pca.fit_transform(X)"
      ]
    },
    {
      "cell_type": "code",
      "execution_count": null,
      "metadata": {
        "id": "_il9uF7lTprz"
      },
      "outputs": [],
      "source": [
        "print('PCA_X')\n",
        "#print(PCA_X)\n",
        "print(len(PCA_X[0]))"
      ]
    },
    {
      "cell_type": "code",
      "execution_count": null,
      "metadata": {
        "id": "pbAAhrwzqIV0"
      },
      "outputs": [],
      "source": [
        "exp_var_cumul = np.cumsum(pca.explained_variance_ratio_)\n",
        "px.area(\n",
        "    x=range(1, exp_var_cumul.shape[0] + 1),\n",
        "    y=exp_var_cumul,\n",
        "    labels={\"x\": \"Number of Components\", \"y\": \"Explained Variance\"},\n",
        "    title=\"Explained Variance for PCA_X\"\n",
        ")"
      ]
    },
    {
      "cell_type": "code",
      "execution_count": null,
      "metadata": {
        "id": "bApsy9WxqOCk"
      },
      "outputs": [],
      "source": [
        "plt.figure(figsize=(15,8))\n",
        "df_var_explained = pd.DataFrame({'var':pca.explained_variance_ratio_,'PC':[str(i) for i in range (1,len(PCA_X[0])+1)]})\n",
        "sns.barplot(x='PC',y=\"var\", data=df_var_explained, color=\"c\").set(title='Variance and PCA for PCA_X');"
      ]
    },
    {
      "cell_type": "code",
      "source": [
        "#https://towardsdatascience.com/pca-clearly-explained-how-when-why-to-use-it-and-feature-importance-a-guide-in-python-7c274582c37e\n",
        "#PCA.COMPONENTS mostra a importancia de cada variavel (coluna) para realizar cada PCA. Ou seja, cada linha é um PCA e cada coluna é a importância da variavel \"FFT_5_acc_X\"\n",
        "\n",
        "\n",
        "for i in range(0,len(pca.components_)):\n",
        "  print(f'PCA{i+1} \\n')\n",
        "  print(f'PCA{i+1} : {abs( pca.components_ )[i,:]}')\n",
        "  pca_df = pd.DataFrame({\"Variavel\": c_X,\"Importância da Variavel para o PCA\": abs( pca.components_ )[i,:]})\n",
        "  print(pca_df.sort_values(by=\"Importância da Variavel para o PCA\", ascending=False)[0:10])"
      ],
      "metadata": {
        "id": "z2acffthuT7T"
      },
      "execution_count": null,
      "outputs": []
    },
    {
      "cell_type": "markdown",
      "metadata": {
        "id": "ryNu3Wh0lQyQ"
      },
      "source": [
        "# Arquitetura 1 :\n",
        "PCA (1)-> 380 Colunas"
      ]
    },
    {
      "cell_type": "code",
      "execution_count": null,
      "metadata": {
        "id": "A0HYiFZ6Xmxf"
      },
      "outputs": [],
      "source": [
        "df_ML = pd.read_csv(path+ 'DataframeML.csv',index_col=0)\n",
        "from sklearn.svm import SVC"
      ]
    },
    {
      "cell_type": "markdown",
      "metadata": {
        "id": "9qoja18Xwik-"
      },
      "source": [
        "## Montando Nova Tabela"
      ]
    },
    {
      "cell_type": "markdown",
      "metadata": {
        "id": "87a-yuE8wU04"
      },
      "source": [
        "* Zeramos as tranformações, voltamos ao início"
      ]
    },
    {
      "cell_type": "code",
      "execution_count": null,
      "metadata": {
        "id": "3RA8iLP8wN4a"
      },
      "outputs": [],
      "source": [
        "#Definindo as Features (X's):\n",
        "features=coln[1:]\n",
        "X=df_ML[features]\n",
        "\n",
        "#Definindo os Targets (Y's):\n",
        "\n",
        "targets=coln[0] #Definindo lista de targets\n",
        "Y=df_ML[targets]"
      ]
    },
    {
      "cell_type": "code",
      "execution_count": null,
      "metadata": {
        "id": "ce3xfoDFwRHh"
      },
      "outputs": [],
      "source": [
        "#Dividindo dados no Tempo\n",
        "X_tempo = X[c_T]\n",
        "c_X_tempo=list(X_tempo)\n",
        "print(c_X_tempo)\n",
        "\n",
        "#Dividindo as FFT's por Segmentos / Sensores / Eixos (SUBDATASETS):\n",
        "X_fft_a1_x=X[c_F_a1_x]\n",
        "X_fft_a1_y=X[c_F_a1_y]\n",
        "X_fft_a1_z=X[c_F_a1_z]\n",
        "\n",
        "X_fft_a2_x=X[c_F_a2_x]\n",
        "X_fft_a2_y=X[c_F_a2_y]\n",
        "X_fft_a2_z=X[c_F_a2_z]\n",
        "\n",
        "X_fft_a3_x=X[c_F_a3_x]\n",
        "X_fft_a3_y=X[c_F_a3_y]\n",
        "X_fft_a3_z=X[c_F_a3_z]\n",
        "\n",
        "X_fft_g1_x=X[c_F_g1_x]\n",
        "X_fft_g1_y=X[c_F_g1_y]\n",
        "X_fft_g1_z=X[c_F_g1_z]\n",
        "\n",
        "X_fft_g2_x=X[c_F_g2_x]\n",
        "X_fft_g2_y=X[c_F_g2_y]\n",
        "X_fft_g2_z=X[c_F_g2_z]\n",
        "\n",
        "X_fft_g3_x=X[c_F_g3_x]\n",
        "X_fft_g3_y=X[c_F_g3_y]\n",
        "X_fft_g3_z=X[c_F_g3_z]"
      ]
    },
    {
      "cell_type": "code",
      "execution_count": null,
      "metadata": {
        "id": "AvDVnCkrwnry"
      },
      "outputs": [],
      "source": [
        "sc = StandardScaler()\n",
        "\n",
        "#Aplicando a cada X_fft e Tempo:\n",
        "\n",
        "X_tempo = sc.fit_transform(X_tempo)\n",
        "\n",
        "X_fft_a1_x = sc.fit_transform(X_fft_a1_x)\n",
        "X_fft_a1_y = sc.fit_transform(X_fft_a1_y)\n",
        "X_fft_a1_z = sc.fit_transform(X_fft_a1_z)\n",
        "\n",
        "X_fft_a2_x = sc.fit_transform(X_fft_a2_x)\n",
        "X_fft_a2_y = sc.fit_transform(X_fft_a2_y)\n",
        "X_fft_a2_z = sc.fit_transform(X_fft_a2_z)\n",
        "\n",
        "X_fft_a3_x = sc.fit_transform(X_fft_a3_x)\n",
        "X_fft_a3_y = sc.fit_transform(X_fft_a3_y)\n",
        "X_fft_a3_z = sc.fit_transform(X_fft_a3_z)\n",
        "\n",
        "X_fft_g1_x = sc.fit_transform(X_fft_g1_x)\n",
        "X_fft_g1_y = sc.fit_transform(X_fft_g1_y)\n",
        "X_fft_g1_z = sc.fit_transform(X_fft_g1_z)\n",
        "\n",
        "X_fft_g2_x = sc.fit_transform(X_fft_g2_x)\n",
        "X_fft_g2_y = sc.fit_transform(X_fft_g2_y)\n",
        "X_fft_g2_z = sc.fit_transform(X_fft_g2_z)\n",
        "\n",
        "X_fft_g3_x = sc.fit_transform(X_fft_g3_x)\n",
        "X_fft_g3_y = sc.fit_transform(X_fft_g3_y)\n",
        "X_fft_g3_z = sc.fit_transform(X_fft_g3_z)"
      ]
    },
    {
      "cell_type": "code",
      "execution_count": null,
      "metadata": {
        "id": "DbTBsuntQv52"
      },
      "outputs": [],
      "source": [
        "df_Y=pd.DataFrame(Y, columns = ['Classificação'])\n",
        "df_Y"
      ]
    },
    {
      "cell_type": "code",
      "execution_count": null,
      "metadata": {
        "id": "hb22vW_iV-zE"
      },
      "outputs": [],
      "source": [
        "df_X_tempo=pd.DataFrame(X_tempo, columns = c_X_tempo)\n",
        "\n",
        "df_X_tempo"
      ]
    },
    {
      "cell_type": "code",
      "execution_count": null,
      "metadata": {
        "id": "PjI1xoZFyMIo"
      },
      "outputs": [],
      "source": [
        "pca = PCA() # 100% de Variância Explicada"
      ]
    },
    {
      "cell_type": "code",
      "execution_count": null,
      "metadata": {
        "id": "pW3u_K8byL-_"
      },
      "outputs": [],
      "source": [
        "#Aplicando o PCA para cada FFT:\n",
        "\n",
        "PCA_X_fft_a1_x = pca.fit_transform(X_fft_a1_x)\n",
        "PCA_X_fft_a1_y = pca.fit_transform(X_fft_a1_y)\n",
        "PCA_X_fft_a1_z = pca.fit_transform(X_fft_a1_z)\n",
        "\n",
        "PCA_X_fft_a2_x = pca.fit_transform(X_fft_a2_x)\n",
        "PCA_X_fft_a2_y = pca.fit_transform(X_fft_a2_y)\n",
        "PCA_X_fft_a2_z = pca.fit_transform(X_fft_a2_z)\n",
        "\n",
        "PCA_X_fft_a3_x = pca.fit_transform(X_fft_a3_x)\n",
        "PCA_X_fft_a3_y = pca.fit_transform(X_fft_a3_y)\n",
        "PCA_X_fft_a3_z = pca.fit_transform(X_fft_a3_z)\n",
        "\n",
        "PCA_X_fft_g1_x = pca.fit_transform(X_fft_g1_x)\n",
        "PCA_X_fft_g1_y = pca.fit_transform(X_fft_g1_y)\n",
        "PCA_X_fft_g1_z = pca.fit_transform(X_fft_g1_z)\n",
        "\n",
        "PCA_X_fft_g2_x = pca.fit_transform(X_fft_g2_x)\n",
        "PCA_X_fft_g2_y = pca.fit_transform(X_fft_g2_y)\n",
        "PCA_X_fft_g2_z = pca.fit_transform(X_fft_g2_z)\n",
        "\n",
        "PCA_X_fft_g3_x = pca.fit_transform(X_fft_g3_x)\n",
        "PCA_X_fft_g3_y = pca.fit_transform(X_fft_g3_y)\n",
        "PCA_X_fft_g3_z = pca.fit_transform(X_fft_g3_z)"
      ]
    },
    {
      "cell_type": "code",
      "execution_count": null,
      "metadata": {
        "id": "eMWBB_0D1J4N"
      },
      "outputs": [],
      "source": [
        "#Sub DataFrames:\n",
        "df_PCA_FFT_a1_X = pd.DataFrame(PCA_X_fft_a1_x, columns = ['PCA_FFT_a1_X_'+str(i) for i in range(len(PCA_X_fft_a1_x[0]))])\n",
        "df_PCA_FFT_a1_Y = pd.DataFrame(PCA_X_fft_a1_y, columns = ['PCA_FFT_a1_Y_'+str(i) for i in range(len(PCA_X_fft_a1_y[0]))])\n",
        "df_PCA_FFT_a1_Z = pd.DataFrame(PCA_X_fft_a1_z, columns = ['PCA_FFT_a1_Z_'+str(i) for i in range(len(PCA_X_fft_a1_z[0]))])\n",
        "\n",
        "df_PCA_FFT_a2_X = pd.DataFrame(PCA_X_fft_a2_x, columns = ['PCA_FFT_a2_X_'+str(i) for i in range(len(PCA_X_fft_a2_x[0]))])\n",
        "df_PCA_FFT_a2_Y = pd.DataFrame(PCA_X_fft_a2_y, columns = ['PCA_FFT_a2_Y_'+str(i) for i in range(len(PCA_X_fft_a2_y[0]))])\n",
        "df_PCA_FFT_a2_Z = pd.DataFrame(PCA_X_fft_a2_z, columns = ['PCA_FFT_a2_Z_'+str(i) for i in range(len(PCA_X_fft_a2_z[0]))])\n",
        "\n",
        "df_PCA_FFT_a3_X = pd.DataFrame(PCA_X_fft_a3_x, columns = ['PCA_FFT_a3_X_'+str(i) for i in range(len(PCA_X_fft_a3_x[0]))])\n",
        "df_PCA_FFT_a3_Y = pd.DataFrame(PCA_X_fft_a3_y, columns = ['PCA_FFT_a3_Y_'+str(i) for i in range(len(PCA_X_fft_a3_y[0]))])\n",
        "df_PCA_FFT_a3_Z = pd.DataFrame(PCA_X_fft_a3_z, columns = ['PCA_FFT_a3_Z_'+str(i) for i in range(len(PCA_X_fft_a3_z[0]))])\n",
        "\n",
        "df_PCA_FFT_g1_X = pd.DataFrame(PCA_X_fft_g1_x, columns = ['PCA_FFT_g1_X_'+str(i) for i in range(len(PCA_X_fft_g1_x[0]))])\n",
        "df_PCA_FFT_g1_Y = pd.DataFrame(PCA_X_fft_g1_y, columns = ['PCA_FFT_g1_Y_'+str(i) for i in range(len(PCA_X_fft_g1_y[0]))])\n",
        "df_PCA_FFT_g1_Z = pd.DataFrame(PCA_X_fft_g1_z, columns = ['PCA_FFT_g1_Z_'+str(i) for i in range(len(PCA_X_fft_g1_z[0]))])\n",
        "\n",
        "df_PCA_FFT_g2_X = pd.DataFrame(PCA_X_fft_g2_x, columns = ['PCA_FFT_g2_X_'+str(i) for i in range(len(PCA_X_fft_g2_x[0]))])\n",
        "df_PCA_FFT_g2_Y = pd.DataFrame(PCA_X_fft_g2_y, columns = ['PCA_FFT_g2_Y_'+str(i) for i in range(len(PCA_X_fft_g2_y[0]))])\n",
        "df_PCA_FFT_g2_Z = pd.DataFrame(PCA_X_fft_g2_z, columns = ['PCA_FFT_g2_Z_'+str(i) for i in range(len(PCA_X_fft_g2_z[0]))])\n",
        "\n",
        "df_PCA_FFT_g3_X = pd.DataFrame(PCA_X_fft_g3_x, columns = ['PCA_FFT_g3_X_'+str(i) for i in range(len(PCA_X_fft_g3_x[0]))])\n",
        "df_PCA_FFT_g3_Y = pd.DataFrame(PCA_X_fft_g3_y, columns = ['PCA_FFT_g3_Y_'+str(i) for i in range(len(PCA_X_fft_g3_y[0]))])\n",
        "df_PCA_FFT_g3_Z = pd.DataFrame(PCA_X_fft_g3_z, columns = ['PCA_FFT_g3_Z_'+str(i) for i in range(len(PCA_X_fft_g3_z[0]))])"
      ]
    },
    {
      "cell_type": "code",
      "execution_count": null,
      "metadata": {
        "id": "r35wCfZ34cJ7"
      },
      "outputs": [],
      "source": [
        "#Teste:\n",
        "df_PCA_FFT_a3_Z"
      ]
    },
    {
      "cell_type": "code",
      "execution_count": null,
      "metadata": {
        "id": "H8pG5KGW5U-V"
      },
      "outputs": [],
      "source": [
        "#Agrupando Tudo e Montar Tabela para Arquitetura 1:\n",
        "frames=[df_Y,df_X_tempo,df_PCA_FFT_a1_X,df_PCA_FFT_a1_Y,df_PCA_FFT_a1_Z,df_PCA_FFT_a2_X,df_PCA_FFT_a2_Y,df_PCA_FFT_a2_Z,df_PCA_FFT_a3_X,df_PCA_FFT_a3_Y,df_PCA_FFT_a3_Z,df_PCA_FFT_g1_X,df_PCA_FFT_g1_Y,df_PCA_FFT_g1_Z,df_PCA_FFT_g2_X,df_PCA_FFT_g2_Y,df_PCA_FFT_g2_Z,df_PCA_FFT_g3_X,df_PCA_FFT_g3_Y,df_PCA_FFT_g3_Z]\n",
        "df_arc1=pd.concat(frames,axis=1)"
      ]
    },
    {
      "cell_type": "code",
      "execution_count": null,
      "metadata": {
        "id": "kqiz3BTlU20T"
      },
      "outputs": [],
      "source": [
        "df_arc1"
      ]
    },
    {
      "cell_type": "code",
      "execution_count": null,
      "metadata": {
        "id": "GJuI6INOXfKf"
      },
      "outputs": [],
      "source": [
        "df_arc1.isnull().sum()"
      ]
    },
    {
      "cell_type": "code",
      "execution_count": null,
      "metadata": {
        "id": "38xDgtEQX23e"
      },
      "outputs": [],
      "source": [
        "#Conferindo NANs:\n",
        "for x in df_arc1.isnull().sum():\n",
        "  if x != 0:\n",
        "    print('TEM ALGUM NAN')\n",
        "print(\"Pode Seguir !!! Sem NANs\")"
      ]
    },
    {
      "cell_type": "code",
      "source": [
        "df_arc1.to_csv('DataframeML_ARC1_TempoFFT.csv')"
      ],
      "metadata": {
        "id": "c0UEtsGg5HRq"
      },
      "execution_count": null,
      "outputs": []
    },
    {
      "cell_type": "code",
      "execution_count": null,
      "metadata": {
        "id": "uoSRSIqMYaGz"
      },
      "outputs": [],
      "source": [
        "# Nome das Colunas:\n",
        "#Lista com Nome de cada Coluna:\n",
        "coln_arc1=list(df_arc1)\n",
        "print(coln_arc1, \"\\n\")\n",
        "\n",
        "print(len(coln_arc1))\n",
        "#Definindo as Features (X's):\n",
        "features=coln_arc1[1:]\n",
        "X_arc1=df_arc1[features]\n",
        "\n",
        "print(coln_arc1[1:])\n",
        "#Definindo os Targets (Y's):\n",
        "\n",
        "targets=coln_arc1[0] #Definindo lista de targets\n",
        "Y_arc1=df_arc1[targets]"
      ]
    },
    {
      "cell_type": "code",
      "execution_count": null,
      "metadata": {
        "id": "KZLYab8nYuIU"
      },
      "outputs": [],
      "source": [
        "X_arc1"
      ]
    },
    {
      "cell_type": "code",
      "execution_count": null,
      "metadata": {
        "id": "HfVhsHUKaDZM"
      },
      "outputs": [],
      "source": [
        "Y_arc1"
      ]
    },
    {
      "cell_type": "markdown",
      "metadata": {
        "id": "fg_LX4WOuu6y"
      },
      "source": [
        "## Random Forest (COM TEMPO)"
      ]
    },
    {
      "cell_type": "code",
      "source": [
        "X_arc1"
      ],
      "metadata": {
        "id": "KfJTVung5yyW"
      },
      "execution_count": null,
      "outputs": []
    },
    {
      "cell_type": "code",
      "execution_count": null,
      "metadata": {
        "id": "yA7rOWBNuunB"
      },
      "outputs": [],
      "source": [
        "Y_arc1 = LabelEncoder().fit_transform(Y_arc1)\n",
        "\n",
        "Y_arc1"
      ]
    },
    {
      "cell_type": "code",
      "execution_count": null,
      "metadata": {
        "id": "Ka2hLhbbezJB"
      },
      "outputs": [],
      "source": [
        "X_arc1_train, X_arc1_test, y_arc1_train, y_arc1_test = train_test_split(X_arc1, Y_arc1, test_size = 0.3, random_state = 0)\n",
        "\n",
        "RFC_arc1 = RandomForestClassifier(max_depth= 500, n_estimators = 500, random_state = 0)\n",
        "RFC_arc1.fit(X_arc1_train, y_arc1_train)"
      ]
    },
    {
      "cell_type": "code",
      "execution_count": null,
      "metadata": {
        "id": "_QFZC2pyfUi4"
      },
      "outputs": [],
      "source": [
        "y_arc1_pred = RFC_arc1.predict(X_arc1_test)"
      ]
    },
    {
      "cell_type": "code",
      "execution_count": null,
      "metadata": {
        "id": "UGkDVx_WiPxI"
      },
      "outputs": [],
      "source": [
        "train_score_rf=RFC_arc1.score(X_arc1_train,y_arc1_train)\n",
        "print(train_score_rf)"
      ]
    },
    {
      "cell_type": "code",
      "execution_count": null,
      "metadata": {
        "id": "tRxdgLp1iYnj"
      },
      "outputs": [],
      "source": [
        "test_score_rf=RFC_arc1.score(X_arc1_test,y_arc1_test)\n",
        "print(test_score_rf)"
      ]
    },
    {
      "cell_type": "code",
      "execution_count": null,
      "metadata": {
        "id": "j9EsrHBUfWrV"
      },
      "outputs": [],
      "source": [
        "accuracy_score(y_arc1_test, y_arc1_pred)\n",
        "print('accuracy_score %:',accuracy_score(y_arc1_test, y_arc1_pred)*100)"
      ]
    },
    {
      "cell_type": "code",
      "execution_count": null,
      "metadata": {
        "id": "kSQdHz-QgkB0"
      },
      "outputs": [],
      "source": [
        "RFC_arc1.feature_importances_"
      ]
    },
    {
      "cell_type": "code",
      "execution_count": null,
      "metadata": {
        "id": "MGpctkHIhUWv"
      },
      "outputs": [],
      "source": [
        "np.max(RFC_arc1.feature_importances_)"
      ]
    },
    {
      "cell_type": "code",
      "execution_count": null,
      "metadata": {
        "id": "yVaGknZJiQ22"
      },
      "outputs": [],
      "source": [
        "imp_df = pd.DataFrame({\n",
        "    \"Varname\": X_arc1_train.columns,\n",
        "    \"Imp\": RFC_arc1.feature_importances_\n",
        "})"
      ]
    },
    {
      "cell_type": "code",
      "execution_count": null,
      "metadata": {
        "id": "_f_9Un2diZgU"
      },
      "outputs": [],
      "source": [
        "#Vendo a Importância das Features para RF:\n",
        "imp_df.sort_values(by=\"Imp\", ascending=False)[0:50]"
      ]
    },
    {
      "cell_type": "code",
      "execution_count": null,
      "metadata": {
        "id": "glUcdac2gCaK"
      },
      "outputs": [],
      "source": [
        "confmatrix_train = confusion_matrix(y_arc1_train,RFC_arc1.predict(X_arc1_train))\n",
        "confmatrix_test=confusion_matrix(y_arc1_test,RFC_arc1.predict(X_arc1_test))\n",
        "\n",
        "fig, ax = plt.subplots(figsize=(6,5))\n",
        "sns.heatmap(confmatrix_train, annot=True, fmt='g', ax=ax)\n",
        "ax.xaxis.set_ticklabels(falhas,rotation=90)\n",
        "ax.yaxis.set_ticklabels(falhas,rotation=0)\n",
        "ax.set_title('Train set Confusion Matrix',y=1)\n",
        "plt.show()\n",
        "\n",
        "fig, ax = plt.subplots(figsize=(6,5))\n",
        "sns.heatmap(confmatrix_test, annot=True, fmt='g', ax=ax)\n",
        "ax.xaxis.set_ticklabels(falhas,rotation=90)\n",
        "ax.yaxis.set_ticklabels(falhas,rotation=0)\n",
        "ax.set_title('Test set Confusion Matrix',y=1)\n",
        "plt.show()"
      ]
    },
    {
      "cell_type": "markdown",
      "metadata": {
        "id": "uBVh1X6Wj2pf"
      },
      "source": [
        "### GridSearchCV:"
      ]
    },
    {
      "cell_type": "code",
      "execution_count": null,
      "metadata": {
        "id": "e_be96eVj5qR"
      },
      "outputs": [],
      "source": [
        "#https://www.kdnuggets.com/2022/10/hyperparameter-tuning-grid-search-random-search-python.html\n",
        "params_arc1 = {\n",
        "'n_estimators': [100,250,500,1000,1500,2000],\n",
        "'max_depth' : [50,125,250,500,750],\n",
        "'criterion' :['gini', 'entropy'],\n",
        "}"
      ]
    },
    {
      "cell_type": "code",
      "execution_count": null,
      "metadata": {
        "id": "GcnQcBq3j5k3"
      },
      "outputs": [],
      "source": [
        "print(\"Otimização Dados Arquitetura 1:\")\n",
        "\n",
        "grid_arc1 = GridSearchCV(RFC_arc1 ,params_arc1, scoring='accuracy',cv=5)\n",
        "grid_arc1.fit(X_arc1_train,y_arc1_train)\n",
        "\n",
        "print(grid_arc1.best_params_, grid_arc1.best_score_)\n",
        "rf_best_arc1 = grid_arc1.best_estimator_\n",
        "\n",
        "y_arc1_pred = rf_best_arc1.predict(X_arc1_test)\n",
        "\n",
        "accuracy_score(y_arc1_test, y_arc1_pred)\n",
        "print('accuracy_score %:',accuracy_score(y_arc1_test, y_arc1_pred)*100)\n",
        "\n",
        "print(rf_best_arc1.feature_importances_)\n",
        "\n",
        "imp_df = pd.DataFrame({\n",
        "    \"Varname\": X_arc1_train.columns,\n",
        "    \"Imp\": rf_best_arc1.feature_importances_\n",
        "})"
      ]
    },
    {
      "cell_type": "code",
      "execution_count": null,
      "metadata": {
        "id": "OYSQ1M1Zj5ZX"
      },
      "outputs": [],
      "source": [
        "#Vendo a Importância das Features para RF Grid:\n",
        "imp_df.sort_values(by=\"Imp\", ascending=False)[0:50]"
      ]
    },
    {
      "cell_type": "markdown",
      "metadata": {
        "id": "lldMoI4Huw02"
      },
      "source": [
        "## SVC (COM TEMPO)"
      ]
    },
    {
      "cell_type": "code",
      "source": [
        "X_arc1"
      ],
      "metadata": {
        "id": "Jg-hvs-Z6BqA"
      },
      "execution_count": null,
      "outputs": []
    },
    {
      "cell_type": "code",
      "execution_count": null,
      "metadata": {
        "id": "Gif_kzsPuwkx"
      },
      "outputs": [],
      "source": [
        "Y_arc1 = LabelEncoder().fit_transform(Y_arc1)\n",
        "\n",
        "Y_arc1"
      ]
    },
    {
      "cell_type": "code",
      "execution_count": null,
      "metadata": {
        "id": "q8WOcVYzzMYv"
      },
      "outputs": [],
      "source": [
        "X_arc1_train, X_arc1_test, y_arc1_train, y_arc1_test = train_test_split(X_arc1, Y_arc1, test_size = 0.3, random_state = 0)"
      ]
    },
    {
      "cell_type": "markdown",
      "metadata": {
        "id": "_ZrNRdUu1PmE"
      },
      "source": [
        "### Linear"
      ]
    },
    {
      "cell_type": "code",
      "execution_count": null,
      "metadata": {
        "id": "sqoYy_M41N0d"
      },
      "outputs": [],
      "source": [
        "SVC_arc1 = SVC(kernel = 'linear', random_state = 0)\n",
        "SVC_arc1.fit(X_arc1_train, y_arc1_train)"
      ]
    },
    {
      "cell_type": "code",
      "execution_count": null,
      "metadata": {
        "id": "Lr0QhgNyzMOo"
      },
      "outputs": [],
      "source": [
        "y_arc1_pred = SVC_arc1.predict(X_arc1_test)"
      ]
    },
    {
      "cell_type": "code",
      "execution_count": null,
      "metadata": {
        "id": "yA5ztfHjzMEj"
      },
      "outputs": [],
      "source": [
        "train_score_svc=SVC_arc1.score(X_arc1_train,y_arc1_train)\n",
        "print(train_score_svc)"
      ]
    },
    {
      "cell_type": "code",
      "execution_count": null,
      "metadata": {
        "id": "Cyw7Dgjtzk4H"
      },
      "outputs": [],
      "source": [
        "test_score_svc=SVC_arc1.score(X_arc1_test,y_arc1_test)\n",
        "print(test_score_svc)"
      ]
    },
    {
      "cell_type": "code",
      "execution_count": null,
      "metadata": {
        "id": "rG4qWGmqzk0G"
      },
      "outputs": [],
      "source": [
        "accuracy_score(y_arc1_test, y_arc1_pred)\n",
        "print('accuracy_score %:',accuracy_score(y_arc1_test, y_arc1_pred)*100)"
      ]
    },
    {
      "cell_type": "code",
      "execution_count": null,
      "metadata": {
        "id": "3QZCSV7N0Ab0"
      },
      "outputs": [],
      "source": [
        "confmatrix_train = confusion_matrix(y_arc1_train,SVC_arc1.predict(X_arc1_train))\n",
        "confmatrix_test=confusion_matrix(y_arc1_test,SVC_arc1.predict(X_arc1_test))\n",
        "\n",
        "fig, ax = plt.subplots(figsize=(6,5))\n",
        "sns.heatmap(confmatrix_train, annot=True, fmt='g', ax=ax)\n",
        "ax.xaxis.set_ticklabels(falhas,rotation=90)\n",
        "ax.yaxis.set_ticklabels(falhas,rotation=0)\n",
        "ax.set_title('Train set Confusion Matrix',y=1)\n",
        "plt.show()\n",
        "\n",
        "fig, ax = plt.subplots(figsize=(6,5))\n",
        "sns.heatmap(confmatrix_test, annot=True, fmt='g', ax=ax)\n",
        "ax.xaxis.set_ticklabels(falhas,rotation=90)\n",
        "ax.yaxis.set_ticklabels(falhas,rotation=0)\n",
        "ax.set_title('Test set Confusion Matrix',y=1)\n",
        "plt.show()"
      ]
    },
    {
      "cell_type": "markdown",
      "metadata": {
        "id": "Xmrg94ub1SV7"
      },
      "source": [
        "### Polinomial:"
      ]
    },
    {
      "cell_type": "code",
      "execution_count": null,
      "metadata": {
        "id": "VdMItH6l1YxF"
      },
      "outputs": [],
      "source": [
        "SVC_arc1 = SVC(kernel = 'poly',degree = 10, random_state = 0)\n",
        "SVC_arc1.fit(X_arc1_train, y_arc1_train)"
      ]
    },
    {
      "cell_type": "code",
      "execution_count": null,
      "metadata": {
        "id": "1nxWpjhs1Ynj"
      },
      "outputs": [],
      "source": [
        "y_arc1_pred = SVC_arc1.predict(X_arc1_test)"
      ]
    },
    {
      "cell_type": "code",
      "execution_count": null,
      "metadata": {
        "id": "Ysken44A1Yar"
      },
      "outputs": [],
      "source": [
        "train_score_svc=SVC_arc1.score(X_arc1_train,y_arc1_train)\n",
        "print(train_score_svc)"
      ]
    },
    {
      "cell_type": "code",
      "execution_count": null,
      "metadata": {
        "id": "c3yck60Q1vUt"
      },
      "outputs": [],
      "source": [
        "test_score_svc=SVC_arc1.score(X_arc1_test,y_arc1_test)\n",
        "print(test_score_svc)"
      ]
    },
    {
      "cell_type": "code",
      "execution_count": null,
      "metadata": {
        "id": "tmGcBuu-1vKG"
      },
      "outputs": [],
      "source": [
        "accuracy_score(y_arc1_test, y_arc1_pred)\n",
        "print('accuracy_score %:',accuracy_score(y_arc1_test, y_arc1_pred)*100)"
      ]
    },
    {
      "cell_type": "code",
      "execution_count": null,
      "metadata": {
        "id": "ei0R3mKX1vDL"
      },
      "outputs": [],
      "source": [
        "confmatrix_train = confusion_matrix(y_arc1_train,SVC_arc1.predict(X_arc1_train))\n",
        "confmatrix_test=confusion_matrix(y_arc1_test,SVC_arc1.predict(X_arc1_test))\n",
        "\n",
        "fig, ax = plt.subplots(figsize=(6,5))\n",
        "sns.heatmap(confmatrix_train, annot=True, fmt='g', ax=ax)\n",
        "ax.xaxis.set_ticklabels(falhas,rotation=90)\n",
        "ax.yaxis.set_ticklabels(falhas,rotation=0)\n",
        "ax.set_title('Train set Confusion Matrix',y=1)\n",
        "plt.show()\n",
        "\n",
        "fig, ax = plt.subplots(figsize=(6,5))\n",
        "sns.heatmap(confmatrix_test, annot=True, fmt='g', ax=ax)\n",
        "ax.xaxis.set_ticklabels(falhas,rotation=90)\n",
        "ax.yaxis.set_ticklabels(falhas,rotation=0)\n",
        "ax.set_title('Test set Confusion Matrix',y=1)\n",
        "plt.show()"
      ]
    },
    {
      "cell_type": "markdown",
      "metadata": {
        "id": "B7sSSS1g1ZLM"
      },
      "source": [
        "### RBF:"
      ]
    },
    {
      "cell_type": "code",
      "execution_count": null,
      "metadata": {
        "id": "Vscp1Gh_14MF"
      },
      "outputs": [],
      "source": [
        "SVC_arc1 = SVC(kernel = 'rbf', random_state = 0)\n",
        "SVC_arc1.fit(X_arc1_train, y_arc1_train)"
      ]
    },
    {
      "cell_type": "code",
      "execution_count": null,
      "metadata": {
        "id": "wCffRItF14MN"
      },
      "outputs": [],
      "source": [
        "y_arc1_pred = SVC_arc1.predict(X_arc1_test)"
      ]
    },
    {
      "cell_type": "code",
      "execution_count": null,
      "metadata": {
        "id": "9Qmm4T1h14MO"
      },
      "outputs": [],
      "source": [
        "train_score_svc=SVC_arc1.score(X_arc1_train,y_arc1_train)\n",
        "print(train_score_svc)"
      ]
    },
    {
      "cell_type": "code",
      "execution_count": null,
      "metadata": {
        "id": "F0CfA0PV14MP"
      },
      "outputs": [],
      "source": [
        "test_score_svc=SVC_arc1.score(X_arc1_test,y_arc1_test)\n",
        "print(test_score_svc)"
      ]
    },
    {
      "cell_type": "code",
      "execution_count": null,
      "metadata": {
        "id": "rGPHut9m14MP"
      },
      "outputs": [],
      "source": [
        "accuracy_score(y_arc1_test, y_arc1_pred)\n",
        "print('accuracy_score %:',accuracy_score(y_arc1_test, y_arc1_pred)*100)"
      ]
    },
    {
      "cell_type": "code",
      "execution_count": null,
      "metadata": {
        "id": "hKy-RHq614MQ"
      },
      "outputs": [],
      "source": [
        "confmatrix_train = confusion_matrix(y_arc1_train,SVC_arc1.predict(X_arc1_train))\n",
        "confmatrix_test=confusion_matrix(y_arc1_test,SVC_arc1.predict(X_arc1_test))\n",
        "\n",
        "fig, ax = plt.subplots(figsize=(6,5))\n",
        "sns.heatmap(confmatrix_train, annot=True, fmt='g', ax=ax)\n",
        "ax.xaxis.set_ticklabels(falhas,rotation=90)\n",
        "ax.yaxis.set_ticklabels(falhas,rotation=0)\n",
        "ax.set_title('Train set Confusion Matrix',y=1)\n",
        "plt.show()\n",
        "\n",
        "fig, ax = plt.subplots(figsize=(6,5))\n",
        "sns.heatmap(confmatrix_test, annot=True, fmt='g', ax=ax)\n",
        "ax.xaxis.set_ticklabels(falhas,rotation=90)\n",
        "ax.yaxis.set_ticklabels(falhas,rotation=0)\n",
        "ax.set_title('Test set Confusion Matrix',y=1)\n",
        "plt.show()"
      ]
    },
    {
      "cell_type": "markdown",
      "metadata": {
        "id": "ytg6P-se1bz0"
      },
      "source": [
        "### Sigmoid:"
      ]
    },
    {
      "cell_type": "code",
      "execution_count": null,
      "metadata": {
        "id": "TElrwtK819EV"
      },
      "outputs": [],
      "source": [
        "SVC_arc1 = SVC(kernel = 'sigmoid', random_state = 0)\n",
        "SVC_arc1.fit(X_arc1_train, y_arc1_train)"
      ]
    },
    {
      "cell_type": "code",
      "execution_count": null,
      "metadata": {
        "id": "-si7qEts19Ef"
      },
      "outputs": [],
      "source": [
        "y_arc1_pred = SVC_arc1.predict(X_arc1_test)"
      ]
    },
    {
      "cell_type": "code",
      "execution_count": null,
      "metadata": {
        "id": "zL5sdnct19Eg"
      },
      "outputs": [],
      "source": [
        "train_score_svc=SVC_arc1.score(X_arc1_train,y_arc1_train)\n",
        "print(train_score_svc)"
      ]
    },
    {
      "cell_type": "code",
      "execution_count": null,
      "metadata": {
        "id": "FquKbdZ-19Eg"
      },
      "outputs": [],
      "source": [
        "test_score_svc=SVC_arc1.score(X_arc1_test,y_arc1_test)\n",
        "print(test_score_svc)"
      ]
    },
    {
      "cell_type": "code",
      "execution_count": null,
      "metadata": {
        "id": "0YbOi0pM19Eh"
      },
      "outputs": [],
      "source": [
        "accuracy_score(y_arc1_test, y_arc1_pred)\n",
        "print('accuracy_score %:',accuracy_score(y_arc1_test, y_arc1_pred)*100)"
      ]
    },
    {
      "cell_type": "code",
      "execution_count": null,
      "metadata": {
        "id": "AvgF9hZO19Ei"
      },
      "outputs": [],
      "source": [
        "confmatrix_train = confusion_matrix(y_arc1_train,SVC_arc1.predict(X_arc1_train))\n",
        "confmatrix_test=confusion_matrix(y_arc1_test,SVC_arc1.predict(X_arc1_test))\n",
        "\n",
        "fig, ax = plt.subplots(figsize=(6,5))\n",
        "sns.heatmap(confmatrix_train, annot=True, fmt='g', ax=ax)\n",
        "ax.xaxis.set_ticklabels(falhas,rotation=90)\n",
        "ax.yaxis.set_ticklabels(falhas,rotation=0)\n",
        "ax.set_title('Train set Confusion Matrix',y=1)\n",
        "plt.show()\n",
        "\n",
        "fig, ax = plt.subplots(figsize=(6,5))\n",
        "sns.heatmap(confmatrix_test, annot=True, fmt='g', ax=ax)\n",
        "ax.xaxis.set_ticklabels(falhas,rotation=90)\n",
        "ax.yaxis.set_ticklabels(falhas,rotation=0)\n",
        "ax.set_title('Test set Confusion Matrix',y=1)\n",
        "plt.show()"
      ]
    },
    {
      "cell_type": "markdown",
      "metadata": {
        "id": "rB6m1R-Ugnnr"
      },
      "source": [
        "### GridSearchCV"
      ]
    },
    {
      "cell_type": "markdown",
      "metadata": {
        "id": "YpRHKcmHhAQy"
      },
      "source": [
        "Abandonamos o Kernel polinomial, pois não importa o grau do polinomio, sempre fica ruim"
      ]
    },
    {
      "cell_type": "code",
      "execution_count": null,
      "metadata": {
        "id": "irsRnl4Pgs5C"
      },
      "outputs": [],
      "source": [
        "params_arc1_SVC_Linear = {\n",
        "'kernel':['linear'],\n",
        "'C':[0.001,0.01,0.1,1,10,100,1000],\n",
        "}\n",
        "\n",
        "params_arc1_SVC_RS = {\n",
        "'kernel':['rbf','sigmoid'],\n",
        "'gamma':['scale', 'auto'],\n",
        "'C':[0.001,0.01,0.1,1,10,100,1000],\n",
        "}"
      ]
    },
    {
      "cell_type": "code",
      "execution_count": null,
      "metadata": {
        "id": "T_XQgLZlgsuE"
      },
      "outputs": [],
      "source": [
        "for params in [params_arc1_SVC_Linear,params_arc1_SVC_RS]:\n",
        "  print(\"Otimização Dados:\")\n",
        "  grid_arc1_SVC = GridSearchCV(SVC_arc1 ,params, scoring='accuracy')\n",
        "  grid_arc1_SVC.fit(X_arc1_train,y_arc1_train)\n",
        "  print(grid_arc1_SVC.best_params_, grid_arc1_SVC.best_score_)\n",
        "  rf_best_arc1_SVC = grid_arc1_SVC.best_estimator_\n",
        "\n",
        "  y_arc1_pred_SVC = rf_best_arc1_SVC.predict(X_arc1_test)\n",
        "\n",
        "  accuracy_score(y_arc1_test, y_arc1_pred_SVC)\n",
        "  print('accuracy_score %:',accuracy_score(y_arc1_test, y_arc1_pred_SVC)*100)\n",
        "  print()"
      ]
    },
    {
      "cell_type": "markdown",
      "metadata": {
        "id": "3zIMLUs5qELh"
      },
      "source": [
        "## Tabela sem Tempo"
      ]
    },
    {
      "cell_type": "code",
      "execution_count": null,
      "metadata": {
        "id": "StQaLOvTqHhJ"
      },
      "outputs": [],
      "source": [
        "df_arc1"
      ]
    },
    {
      "cell_type": "code",
      "execution_count": null,
      "metadata": {
        "id": "X27w-vj4qLJn"
      },
      "outputs": [],
      "source": [
        "df_arc1.drop(c_X_tempo[1:],axis=1, inplace=True)"
      ]
    },
    {
      "cell_type": "code",
      "execution_count": null,
      "metadata": {
        "id": "h0aOOYXJrQ5e"
      },
      "outputs": [],
      "source": [
        "df_arc1"
      ]
    },
    {
      "cell_type": "code",
      "source": [
        "df_arc1.to_csv('DataframeML_ARC1_FFT.csv')"
      ],
      "metadata": {
        "id": "QGONznlc6LXy"
      },
      "execution_count": null,
      "outputs": []
    },
    {
      "cell_type": "code",
      "execution_count": null,
      "metadata": {
        "id": "bW9PmE24qhzp"
      },
      "outputs": [],
      "source": [
        "# Nome das Colunas:\n",
        "#Lista com Nome de cada Coluna:\n",
        "coln_arc1=list(df_arc1)\n",
        "print(coln_arc1, \"\\n\")\n",
        "\n",
        "print(len(coln_arc1))\n",
        "#Definindo as Features (X's):\n",
        "features=coln_arc1[1:]\n",
        "X_arc1=df_arc1[features]\n",
        "\n",
        "print(coln_arc1[1:])\n",
        "#Definindo os Targets (Y's):\n",
        "\n",
        "targets=coln_arc1[0] #Definindo lista de targets\n",
        "Y_arc1=df_arc1[targets]"
      ]
    },
    {
      "cell_type": "code",
      "execution_count": null,
      "metadata": {
        "id": "ZTpAkPRYq24g"
      },
      "outputs": [],
      "source": [
        "Y_arc1"
      ]
    },
    {
      "cell_type": "code",
      "execution_count": null,
      "metadata": {
        "id": "0sF9knY0q42O"
      },
      "outputs": [],
      "source": [
        "X_arc1"
      ]
    },
    {
      "cell_type": "markdown",
      "metadata": {
        "id": "C7LQP2Lgk-Oz"
      },
      "source": [
        "## Random Forest (SEM TEMPO)"
      ]
    },
    {
      "cell_type": "code",
      "source": [
        "X_arc1"
      ],
      "metadata": {
        "id": "hgXWkPpS6c5V"
      },
      "execution_count": null,
      "outputs": []
    },
    {
      "cell_type": "code",
      "execution_count": null,
      "metadata": {
        "id": "4egeAxlrlEUY"
      },
      "outputs": [],
      "source": [
        "Y_arc1 = LabelEncoder().fit_transform(Y_arc1)\n",
        "\n",
        "Y_arc1"
      ]
    },
    {
      "cell_type": "code",
      "execution_count": null,
      "metadata": {
        "id": "SET60vIElEG4"
      },
      "outputs": [],
      "source": [
        "X_arc1_train, X_arc1_test, y_arc1_train, y_arc1_test = train_test_split(X_arc1, Y_arc1, test_size = 0.3, random_state = 0)"
      ]
    },
    {
      "cell_type": "code",
      "execution_count": null,
      "metadata": {
        "id": "JSJ925QdrnJM"
      },
      "outputs": [],
      "source": [
        "RFC_arc1 = RandomForestClassifier(max_depth= 250, n_estimators = 1000, random_state = 0)\n",
        "RFC_arc1.fit(X_arc1_train, y_arc1_train)"
      ]
    },
    {
      "cell_type": "code",
      "execution_count": null,
      "metadata": {
        "id": "xXXrxRGdrnJO"
      },
      "outputs": [],
      "source": [
        "y_arc1_pred = RFC_arc1.predict(X_arc1_test)"
      ]
    },
    {
      "cell_type": "code",
      "execution_count": null,
      "metadata": {
        "id": "glurPF6grnJP"
      },
      "outputs": [],
      "source": [
        "train_score_rf=RFC_arc1.score(X_arc1_train,y_arc1_train)\n",
        "print(train_score_rf)"
      ]
    },
    {
      "cell_type": "code",
      "execution_count": null,
      "metadata": {
        "id": "poychA2vrnJQ"
      },
      "outputs": [],
      "source": [
        "test_score_rf=RFC_arc1.score(X_arc1_test,y_arc1_test)\n",
        "print(test_score_rf)"
      ]
    },
    {
      "cell_type": "code",
      "execution_count": null,
      "metadata": {
        "id": "KmhicJRbrnJR"
      },
      "outputs": [],
      "source": [
        "accuracy_score(y_arc1_test, y_arc1_pred)\n",
        "print('accuracy_score %:',accuracy_score(y_arc1_test, y_arc1_pred)*100)"
      ]
    },
    {
      "cell_type": "code",
      "execution_count": null,
      "metadata": {
        "id": "NBj7Yn1irnJS"
      },
      "outputs": [],
      "source": [
        "RFC_arc1.feature_importances_"
      ]
    },
    {
      "cell_type": "code",
      "execution_count": null,
      "metadata": {
        "id": "edOiUWJIrnJT"
      },
      "outputs": [],
      "source": [
        "np.max(RFC_arc1.feature_importances_)"
      ]
    },
    {
      "cell_type": "code",
      "execution_count": null,
      "metadata": {
        "id": "hWyX6I76rnJU"
      },
      "outputs": [],
      "source": [
        "imp_df = pd.DataFrame({\n",
        "    \"Varname\": X_arc1_train.columns,\n",
        "    \"Imp\": RFC_arc1.feature_importances_\n",
        "})"
      ]
    },
    {
      "cell_type": "code",
      "execution_count": null,
      "metadata": {
        "id": "cvoFi2cIrnJU"
      },
      "outputs": [],
      "source": [
        "#Vendo a Importância das Features para RF:\n",
        "imp_df.sort_values(by=\"Imp\", ascending=False)[0:50]"
      ]
    },
    {
      "cell_type": "code",
      "execution_count": null,
      "metadata": {
        "id": "6cWP0afqrnJV"
      },
      "outputs": [],
      "source": [
        "confmatrix_train = confusion_matrix(y_arc1_train,RFC_arc1.predict(X_arc1_train))\n",
        "confmatrix_test=confusion_matrix(y_arc1_test,RFC_arc1.predict(X_arc1_test))\n",
        "\n",
        "fig, ax = plt.subplots(figsize=(6,5))\n",
        "sns.heatmap(confmatrix_train, annot=True, fmt='g', ax=ax)\n",
        "ax.xaxis.set_ticklabels(falhas,rotation=90)\n",
        "ax.yaxis.set_ticklabels(falhas,rotation=0)\n",
        "ax.set_title('Train set Confusion Matrix',y=1)\n",
        "plt.show()\n",
        "\n",
        "fig, ax = plt.subplots(figsize=(6,5))\n",
        "sns.heatmap(confmatrix_test, annot=True, fmt='g', ax=ax)\n",
        "ax.xaxis.set_ticklabels(falhas,rotation=90)\n",
        "ax.yaxis.set_ticklabels(falhas,rotation=0)\n",
        "ax.set_title('Test set Confusion Matrix',y=1)\n",
        "plt.show()"
      ]
    },
    {
      "cell_type": "markdown",
      "metadata": {
        "id": "SfwQb_2NsmkZ"
      },
      "source": [
        "### GridSearchCV"
      ]
    },
    {
      "cell_type": "code",
      "execution_count": null,
      "metadata": {
        "id": "_BOls5acsuxv"
      },
      "outputs": [],
      "source": [
        "#https://www.kdnuggets.com/2022/10/hyperparameter-tuning-grid-search-random-search-python.html\n",
        "params_arc1 = {\n",
        "'n_estimators': [100,250,500,1000,1500,2000],\n",
        "'max_depth' : [50,125,250,500,750],\n",
        "'criterion' :['gini', 'entropy'],\n",
        "}"
      ]
    },
    {
      "cell_type": "code",
      "execution_count": null,
      "metadata": {
        "id": "hnjKNAZisux3"
      },
      "outputs": [],
      "source": [
        "print(\"Otimização Dados Arquitetura 1 Sem Tempo:\")\n",
        "\n",
        "grid_arc1 = GridSearchCV(RFC_arc1 ,params_arc1, scoring='accuracy',cv=5) #43 min\n",
        "grid_arc1.fit(X_arc1_train,y_arc1_train)\n",
        "\n",
        "print(grid_arc1.best_params_, grid_arc1.best_score_)\n",
        "rf_best_arc1 = grid_arc1.best_estimator_\n",
        "\n",
        "y_arc1_pred = rf_best_arc1.predict(X_arc1_test)\n",
        "\n",
        "accuracy_score(y_arc1_test, y_arc1_pred)\n",
        "print('accuracy_score %:',accuracy_score(y_arc1_test, y_arc1_pred)*100)\n",
        "\n",
        "print(rf_best_arc1.feature_importances_)\n",
        "\n",
        "imp_df = pd.DataFrame({\n",
        "    \"Varname\": X_arc1_train.columns,\n",
        "    \"Imp\": rf_best_arc1.feature_importances_\n",
        "})"
      ]
    },
    {
      "cell_type": "code",
      "execution_count": null,
      "metadata": {
        "id": "D3mREw2rsux4"
      },
      "outputs": [],
      "source": [
        "#Vendo a Importância das Features para RF Grid:\n",
        "imp_df.sort_values(by=\"Imp\", ascending=False)[0:50]"
      ]
    },
    {
      "cell_type": "markdown",
      "metadata": {
        "id": "2hbBu9z-lEoo"
      },
      "source": [
        "## SVC (SEM TEMPO)"
      ]
    },
    {
      "cell_type": "code",
      "source": [
        "X_arc1"
      ],
      "metadata": {
        "id": "KMIQQCC26hti"
      },
      "execution_count": null,
      "outputs": []
    },
    {
      "cell_type": "code",
      "execution_count": null,
      "metadata": {
        "id": "9DZ5Xgxgtb2V"
      },
      "outputs": [],
      "source": [
        "Y_arc1 = LabelEncoder().fit_transform(Y_arc1)\n",
        "\n",
        "Y_arc1"
      ]
    },
    {
      "cell_type": "code",
      "execution_count": null,
      "metadata": {
        "id": "qh5DbCWytb2l"
      },
      "outputs": [],
      "source": [
        "X_arc1_train, X_arc1_test, y_arc1_train, y_arc1_test = train_test_split(X_arc1, Y_arc1, test_size = 0.3, random_state = 0)"
      ]
    },
    {
      "cell_type": "markdown",
      "metadata": {
        "id": "PA9c9tbXtnxz"
      },
      "source": [
        "### Linear"
      ]
    },
    {
      "cell_type": "code",
      "execution_count": null,
      "metadata": {
        "id": "XyAFTbaFtnyN"
      },
      "outputs": [],
      "source": [
        "SVC_arc1 = SVC(kernel = 'linear', random_state = 0)\n",
        "SVC_arc1.fit(X_arc1_train, y_arc1_train)"
      ]
    },
    {
      "cell_type": "code",
      "execution_count": null,
      "metadata": {
        "id": "7X95MwKVtnyN"
      },
      "outputs": [],
      "source": [
        "y_arc1_pred = SVC_arc1.predict(X_arc1_test)"
      ]
    },
    {
      "cell_type": "code",
      "execution_count": null,
      "metadata": {
        "id": "0J_zTIkEtnyO"
      },
      "outputs": [],
      "source": [
        "train_score_svc=SVC_arc1.score(X_arc1_train,y_arc1_train)\n",
        "print(train_score_svc)"
      ]
    },
    {
      "cell_type": "code",
      "execution_count": null,
      "metadata": {
        "id": "9uIXWYKUtnyP"
      },
      "outputs": [],
      "source": [
        "test_score_svc=SVC_arc1.score(X_arc1_test,y_arc1_test)\n",
        "print(test_score_svc)"
      ]
    },
    {
      "cell_type": "code",
      "execution_count": null,
      "metadata": {
        "id": "vHPJ-AdPtnyP"
      },
      "outputs": [],
      "source": [
        "accuracy_score(y_arc1_test, y_arc1_pred)\n",
        "print('accuracy_score %:',accuracy_score(y_arc1_test, y_arc1_pred)*100)"
      ]
    },
    {
      "cell_type": "code",
      "execution_count": null,
      "metadata": {
        "id": "DhDHL-a0tnyQ"
      },
      "outputs": [],
      "source": [
        "confmatrix_train = confusion_matrix(y_arc1_train,SVC_arc1.predict(X_arc1_train))\n",
        "confmatrix_test=confusion_matrix(y_arc1_test,SVC_arc1.predict(X_arc1_test))\n",
        "\n",
        "fig, ax = plt.subplots(figsize=(6,5))\n",
        "sns.heatmap(confmatrix_train, annot=True, fmt='g', ax=ax)\n",
        "ax.xaxis.set_ticklabels(falhas,rotation=90)\n",
        "ax.yaxis.set_ticklabels(falhas,rotation=0)\n",
        "ax.set_title('Train set Confusion Matrix',y=1)\n",
        "plt.show()\n",
        "\n",
        "fig, ax = plt.subplots(figsize=(6,5))\n",
        "sns.heatmap(confmatrix_test, annot=True, fmt='g', ax=ax)\n",
        "ax.xaxis.set_ticklabels(falhas,rotation=90)\n",
        "ax.yaxis.set_ticklabels(falhas,rotation=0)\n",
        "ax.set_title('Test set Confusion Matrix',y=1)\n",
        "plt.show()"
      ]
    },
    {
      "cell_type": "markdown",
      "metadata": {
        "id": "6eYzsC_UtnyQ"
      },
      "source": [
        "### Polinomial:"
      ]
    },
    {
      "cell_type": "code",
      "execution_count": null,
      "metadata": {
        "id": "L4irwdfQtnyR"
      },
      "outputs": [],
      "source": [
        "SVC_arc1 = SVC(kernel = 'poly',degree = 10, random_state = 0)\n",
        "SVC_arc1.fit(X_arc1_train, y_arc1_train)"
      ]
    },
    {
      "cell_type": "code",
      "execution_count": null,
      "metadata": {
        "id": "NfKkoHj_tnyR"
      },
      "outputs": [],
      "source": [
        "y_arc1_pred = SVC_arc1.predict(X_arc1_test)"
      ]
    },
    {
      "cell_type": "code",
      "execution_count": null,
      "metadata": {
        "id": "JrbocqEQtnyR"
      },
      "outputs": [],
      "source": [
        "train_score_svc=SVC_arc1.score(X_arc1_train,y_arc1_train)\n",
        "print(train_score_svc)"
      ]
    },
    {
      "cell_type": "code",
      "execution_count": null,
      "metadata": {
        "id": "wYFS9T3ytnyS"
      },
      "outputs": [],
      "source": [
        "test_score_svc=SVC_arc1.score(X_arc1_test,y_arc1_test)\n",
        "print(test_score_svc)"
      ]
    },
    {
      "cell_type": "code",
      "execution_count": null,
      "metadata": {
        "id": "ld9xL0QTtnyS"
      },
      "outputs": [],
      "source": [
        "accuracy_score(y_arc1_test, y_arc1_pred)\n",
        "print('accuracy_score %:',accuracy_score(y_arc1_test, y_arc1_pred)*100)"
      ]
    },
    {
      "cell_type": "code",
      "execution_count": null,
      "metadata": {
        "id": "RKEcQJCotnyT"
      },
      "outputs": [],
      "source": [
        "confmatrix_train = confusion_matrix(y_arc1_train,SVC_arc1.predict(X_arc1_train))\n",
        "confmatrix_test=confusion_matrix(y_arc1_test,SVC_arc1.predict(X_arc1_test))\n",
        "\n",
        "fig, ax = plt.subplots(figsize=(6,5))\n",
        "sns.heatmap(confmatrix_train, annot=True, fmt='g', ax=ax)\n",
        "ax.xaxis.set_ticklabels(falhas,rotation=90)\n",
        "ax.yaxis.set_ticklabels(falhas,rotation=0)\n",
        "ax.set_title('Train set Confusion Matrix',y=1)\n",
        "plt.show()\n",
        "\n",
        "fig, ax = plt.subplots(figsize=(6,5))\n",
        "sns.heatmap(confmatrix_test, annot=True, fmt='g', ax=ax)\n",
        "ax.xaxis.set_ticklabels(falhas,rotation=90)\n",
        "ax.yaxis.set_ticklabels(falhas,rotation=0)\n",
        "ax.set_title('Test set Confusion Matrix',y=1)\n",
        "plt.show()"
      ]
    },
    {
      "cell_type": "markdown",
      "metadata": {
        "id": "F9lFRpW0tnyT"
      },
      "source": [
        "### RBF:"
      ]
    },
    {
      "cell_type": "code",
      "execution_count": null,
      "metadata": {
        "id": "piQUfn19tnyT"
      },
      "outputs": [],
      "source": [
        "SVC_arc1 = SVC(kernel = 'rbf', random_state = 0)\n",
        "SVC_arc1.fit(X_arc1_train, y_arc1_train)"
      ]
    },
    {
      "cell_type": "code",
      "execution_count": null,
      "metadata": {
        "id": "gFarxENWtnyU"
      },
      "outputs": [],
      "source": [
        "y_arc1_pred = SVC_arc1.predict(X_arc1_test)"
      ]
    },
    {
      "cell_type": "code",
      "execution_count": null,
      "metadata": {
        "id": "_b8uxAYwtnyU"
      },
      "outputs": [],
      "source": [
        "train_score_svc=SVC_arc1.score(X_arc1_train,y_arc1_train)\n",
        "print(train_score_svc)"
      ]
    },
    {
      "cell_type": "code",
      "execution_count": null,
      "metadata": {
        "id": "RSUzLheGtnyV"
      },
      "outputs": [],
      "source": [
        "test_score_svc=SVC_arc1.score(X_arc1_test,y_arc1_test)\n",
        "print(test_score_svc)"
      ]
    },
    {
      "cell_type": "code",
      "execution_count": null,
      "metadata": {
        "id": "FuiHMqlrtnyV"
      },
      "outputs": [],
      "source": [
        "accuracy_score(y_arc1_test, y_arc1_pred)\n",
        "print('accuracy_score %:',accuracy_score(y_arc1_test, y_arc1_pred)*100)"
      ]
    },
    {
      "cell_type": "code",
      "execution_count": null,
      "metadata": {
        "id": "D74Ibmr0tnyW"
      },
      "outputs": [],
      "source": [
        "confmatrix_train = confusion_matrix(y_arc1_train,SVC_arc1.predict(X_arc1_train))\n",
        "confmatrix_test=confusion_matrix(y_arc1_test,SVC_arc1.predict(X_arc1_test))\n",
        "\n",
        "fig, ax = plt.subplots(figsize=(6,5))\n",
        "sns.heatmap(confmatrix_train, annot=True, fmt='g', ax=ax)\n",
        "ax.xaxis.set_ticklabels(falhas,rotation=90)\n",
        "ax.yaxis.set_ticklabels(falhas,rotation=0)\n",
        "ax.set_title('Train set Confusion Matrix',y=1)\n",
        "plt.show()\n",
        "\n",
        "fig, ax = plt.subplots(figsize=(6,5))\n",
        "sns.heatmap(confmatrix_test, annot=True, fmt='g', ax=ax)\n",
        "ax.xaxis.set_ticklabels(falhas,rotation=90)\n",
        "ax.yaxis.set_ticklabels(falhas,rotation=0)\n",
        "ax.set_title('Test set Confusion Matrix',y=1)\n",
        "plt.show()"
      ]
    },
    {
      "cell_type": "markdown",
      "metadata": {
        "id": "cc2aRCjgtnyX"
      },
      "source": [
        "### Sigmoid:"
      ]
    },
    {
      "cell_type": "code",
      "execution_count": null,
      "metadata": {
        "id": "B8iKdTU5tnyX"
      },
      "outputs": [],
      "source": [
        "SVC_arc1 = SVC(kernel = 'sigmoid', random_state = 0)\n",
        "SVC_arc1.fit(X_arc1_train, y_arc1_train)"
      ]
    },
    {
      "cell_type": "code",
      "execution_count": null,
      "metadata": {
        "id": "gpg3bJ0TtnyY"
      },
      "outputs": [],
      "source": [
        "y_arc1_pred = SVC_arc1.predict(X_arc1_test)"
      ]
    },
    {
      "cell_type": "code",
      "execution_count": null,
      "metadata": {
        "id": "Ktl0mYuttnyY"
      },
      "outputs": [],
      "source": [
        "train_score_svc=SVC_arc1.score(X_arc1_train,y_arc1_train)\n",
        "print(train_score_svc)"
      ]
    },
    {
      "cell_type": "code",
      "execution_count": null,
      "metadata": {
        "id": "ykTGm26dtnyZ"
      },
      "outputs": [],
      "source": [
        "test_score_svc=SVC_arc1.score(X_arc1_test,y_arc1_test)\n",
        "print(test_score_svc)"
      ]
    },
    {
      "cell_type": "code",
      "execution_count": null,
      "metadata": {
        "id": "dJI9DNSntnyZ"
      },
      "outputs": [],
      "source": [
        "accuracy_score(y_arc1_test, y_arc1_pred)\n",
        "print('accuracy_score %:',accuracy_score(y_arc1_test, y_arc1_pred)*100)"
      ]
    },
    {
      "cell_type": "code",
      "execution_count": null,
      "metadata": {
        "id": "yl_RC-UztnyZ"
      },
      "outputs": [],
      "source": [
        "confmatrix_train = confusion_matrix(y_arc1_train,SVC_arc1.predict(X_arc1_train))\n",
        "confmatrix_test=confusion_matrix(y_arc1_test,SVC_arc1.predict(X_arc1_test))\n",
        "\n",
        "fig, ax = plt.subplots(figsize=(6,5))\n",
        "sns.heatmap(confmatrix_train, annot=True, fmt='g', ax=ax)\n",
        "ax.xaxis.set_ticklabels(falhas,rotation=90)\n",
        "ax.yaxis.set_ticklabels(falhas,rotation=0)\n",
        "ax.set_title('Train set Confusion Matrix',y=1)\n",
        "plt.show()\n",
        "\n",
        "fig, ax = plt.subplots(figsize=(6,5))\n",
        "sns.heatmap(confmatrix_test, annot=True, fmt='g', ax=ax)\n",
        "ax.xaxis.set_ticklabels(falhas,rotation=90)\n",
        "ax.yaxis.set_ticklabels(falhas,rotation=0)\n",
        "ax.set_title('Test set Confusion Matrix',y=1)\n",
        "plt.show()"
      ]
    },
    {
      "cell_type": "markdown",
      "metadata": {
        "id": "a7dUk4eMvbNr"
      },
      "source": [
        "### GridSearchCV"
      ]
    },
    {
      "cell_type": "markdown",
      "metadata": {
        "id": "PtJ2Iu_AvbNs"
      },
      "source": [
        "Abandonamos o Kernel polinomial, pois não importa o grau do polinomio, sempre fica ruim"
      ]
    },
    {
      "cell_type": "code",
      "execution_count": null,
      "metadata": {
        "id": "N0i7fSSpvbNs"
      },
      "outputs": [],
      "source": [
        "params_arc1_SVC_Linear = {\n",
        "'kernel':['linear'],\n",
        "'C':[0.001,0.01,0.1,1,10,100,1000],\n",
        "}\n",
        "\n",
        "params_arc1_SVC_RS = {\n",
        "'kernel':['rbf','sigmoid'],\n",
        "'gamma':['scale', 'auto'],\n",
        "'C':[0.001,0.01,0.1,1,10,100,1000],\n",
        "}"
      ]
    },
    {
      "cell_type": "code",
      "execution_count": null,
      "metadata": {
        "id": "6HwMVCv7vbNt"
      },
      "outputs": [],
      "source": [
        "for params in [params_arc1_SVC_Linear,params_arc1_SVC_RS]:\n",
        "  print(\"Otimização Dados:\")\n",
        "  grid_arc1_SVC = GridSearchCV(SVC_arc1 ,params, scoring='accuracy')\n",
        "  grid_arc1_SVC.fit(X_arc1_train,y_arc1_train)\n",
        "  print(grid_arc1_SVC.best_params_, grid_arc1_SVC.best_score_)\n",
        "  rf_best_arc1_SVC = grid_arc1_SVC.best_estimator_\n",
        "\n",
        "  y_arc1_pred_SVC = rf_best_arc1_SVC.predict(X_arc1_test)\n",
        "\n",
        "  accuracy_score(y_arc1_test, y_arc1_pred_SVC)\n",
        "  print('accuracy_score %:',accuracy_score(y_arc1_test, y_arc1_pred_SVC)*100)\n",
        "  print()"
      ]
    },
    {
      "cell_type": "markdown",
      "metadata": {
        "id": "HzYWAE8pzXGd"
      },
      "source": [
        "# Arquitetura 2 :\n",
        "PCA (0.90)-> 160 Colunas"
      ]
    },
    {
      "cell_type": "markdown",
      "metadata": {
        "id": "4uCFHcFizXGe"
      },
      "source": [
        "## Montando Nova Tabela"
      ]
    },
    {
      "cell_type": "markdown",
      "metadata": {
        "id": "8P0IEHspzXGe"
      },
      "source": [
        "* Zeramos as tranformações, voltamos ao início"
      ]
    },
    {
      "cell_type": "code",
      "execution_count": null,
      "metadata": {
        "id": "JWfh3cuQzXGf"
      },
      "outputs": [],
      "source": [
        "#Definindo as Features (X's):\n",
        "features=coln[1:]\n",
        "X=df_ML[features]\n",
        "\n",
        "#Definindo os Targets (Y's):\n",
        "\n",
        "targets=coln[0] #Definindo lista de targets\n",
        "Y=df_ML[targets]"
      ]
    },
    {
      "cell_type": "code",
      "execution_count": null,
      "metadata": {
        "id": "tWXNhYY1zXGf"
      },
      "outputs": [],
      "source": [
        "#Dividindo dados no Tempo\n",
        "X_tempo = X[c_T]\n",
        "c_X_tempo=list(X_tempo)\n",
        "print(c_X_tempo)\n",
        "\n",
        "#Dividindo as FFT's por Segmentos / Sensores / Eixos (SUBDATASETS):\n",
        "X_fft_a1_x=X[c_F_a1_x]\n",
        "X_fft_a1_y=X[c_F_a1_y]\n",
        "X_fft_a1_z=X[c_F_a1_z]\n",
        "\n",
        "X_fft_a2_x=X[c_F_a2_x]\n",
        "X_fft_a2_y=X[c_F_a2_y]\n",
        "X_fft_a2_z=X[c_F_a2_z]\n",
        "\n",
        "X_fft_a3_x=X[c_F_a3_x]\n",
        "X_fft_a3_y=X[c_F_a3_y]\n",
        "X_fft_a3_z=X[c_F_a3_z]\n",
        "\n",
        "X_fft_g1_x=X[c_F_g1_x]\n",
        "X_fft_g1_y=X[c_F_g1_y]\n",
        "X_fft_g1_z=X[c_F_g1_z]\n",
        "\n",
        "X_fft_g2_x=X[c_F_g2_x]\n",
        "X_fft_g2_y=X[c_F_g2_y]\n",
        "X_fft_g2_z=X[c_F_g2_z]\n",
        "\n",
        "X_fft_g3_x=X[c_F_g3_x]\n",
        "X_fft_g3_y=X[c_F_g3_y]\n",
        "X_fft_g3_z=X[c_F_g3_z]"
      ]
    },
    {
      "cell_type": "code",
      "execution_count": null,
      "metadata": {
        "id": "Fsf8dXoWzXGg"
      },
      "outputs": [],
      "source": [
        "sc = StandardScaler()\n",
        "\n",
        "#Aplicando a cada X_fft e Tempo:\n",
        "\n",
        "X_tempo = sc.fit_transform(X_tempo)\n",
        "\n",
        "X_fft_a1_x = sc.fit_transform(X_fft_a1_x)\n",
        "X_fft_a1_y = sc.fit_transform(X_fft_a1_y)\n",
        "X_fft_a1_z = sc.fit_transform(X_fft_a1_z)\n",
        "\n",
        "X_fft_a2_x = sc.fit_transform(X_fft_a2_x)\n",
        "X_fft_a2_y = sc.fit_transform(X_fft_a2_y)\n",
        "X_fft_a2_z = sc.fit_transform(X_fft_a2_z)\n",
        "\n",
        "X_fft_a3_x = sc.fit_transform(X_fft_a3_x)\n",
        "X_fft_a3_y = sc.fit_transform(X_fft_a3_y)\n",
        "X_fft_a3_z = sc.fit_transform(X_fft_a3_z)\n",
        "\n",
        "X_fft_g1_x = sc.fit_transform(X_fft_g1_x)\n",
        "X_fft_g1_y = sc.fit_transform(X_fft_g1_y)\n",
        "X_fft_g1_z = sc.fit_transform(X_fft_g1_z)\n",
        "\n",
        "X_fft_g2_x = sc.fit_transform(X_fft_g2_x)\n",
        "X_fft_g2_y = sc.fit_transform(X_fft_g2_y)\n",
        "X_fft_g2_z = sc.fit_transform(X_fft_g2_z)\n",
        "\n",
        "X_fft_g3_x = sc.fit_transform(X_fft_g3_x)\n",
        "X_fft_g3_y = sc.fit_transform(X_fft_g3_y)\n",
        "X_fft_g3_z = sc.fit_transform(X_fft_g3_z)"
      ]
    },
    {
      "cell_type": "code",
      "execution_count": null,
      "metadata": {
        "id": "_Tx4nnAUzXGh"
      },
      "outputs": [],
      "source": [
        "df_Y=pd.DataFrame(Y, columns = ['Classificação'])\n",
        "df_Y"
      ]
    },
    {
      "cell_type": "code",
      "execution_count": null,
      "metadata": {
        "id": "RiEcRJUfzXGi"
      },
      "outputs": [],
      "source": [
        "df_X_tempo=pd.DataFrame(X_tempo, columns = c_X_tempo)\n",
        "\n",
        "df_X_tempo"
      ]
    },
    {
      "cell_type": "code",
      "execution_count": null,
      "metadata": {
        "id": "nNXkVD6VzXGi"
      },
      "outputs": [],
      "source": [
        "pca = PCA(0.90) # 90% de Variância Explicada"
      ]
    },
    {
      "cell_type": "code",
      "execution_count": null,
      "metadata": {
        "id": "wjG5Ln2ZzXGj"
      },
      "outputs": [],
      "source": [
        "#Aplicando o PCA para cada FFT:\n",
        "\n",
        "PCA_X_fft_a1_x = pca.fit_transform(X_fft_a1_x)\n",
        "PCA_X_fft_a1_y = pca.fit_transform(X_fft_a1_y)\n",
        "PCA_X_fft_a1_z = pca.fit_transform(X_fft_a1_z)\n",
        "\n",
        "PCA_X_fft_a2_x = pca.fit_transform(X_fft_a2_x)\n",
        "PCA_X_fft_a2_y = pca.fit_transform(X_fft_a2_y)\n",
        "PCA_X_fft_a2_z = pca.fit_transform(X_fft_a2_z)\n",
        "\n",
        "PCA_X_fft_a3_x = pca.fit_transform(X_fft_a3_x)\n",
        "PCA_X_fft_a3_y = pca.fit_transform(X_fft_a3_y)\n",
        "PCA_X_fft_a3_z = pca.fit_transform(X_fft_a3_z)\n",
        "\n",
        "PCA_X_fft_g1_x = pca.fit_transform(X_fft_g1_x)\n",
        "PCA_X_fft_g1_y = pca.fit_transform(X_fft_g1_y)\n",
        "PCA_X_fft_g1_z = pca.fit_transform(X_fft_g1_z)\n",
        "\n",
        "PCA_X_fft_g2_x = pca.fit_transform(X_fft_g2_x)\n",
        "PCA_X_fft_g2_y = pca.fit_transform(X_fft_g2_y)\n",
        "PCA_X_fft_g2_z = pca.fit_transform(X_fft_g2_z)\n",
        "\n",
        "PCA_X_fft_g3_x = pca.fit_transform(X_fft_g3_x)\n",
        "PCA_X_fft_g3_y = pca.fit_transform(X_fft_g3_y)\n",
        "PCA_X_fft_g3_z = pca.fit_transform(X_fft_g3_z)"
      ]
    },
    {
      "cell_type": "code",
      "execution_count": null,
      "metadata": {
        "id": "bv61PN67zXGj"
      },
      "outputs": [],
      "source": [
        "#Sub DataFrames:\n",
        "df_PCA_FFT_a1_X = pd.DataFrame(PCA_X_fft_a1_x, columns = ['PCA_FFT_a1_X_'+str(i) for i in range(len(PCA_X_fft_a1_x[0]))])\n",
        "df_PCA_FFT_a1_Y = pd.DataFrame(PCA_X_fft_a1_y, columns = ['PCA_FFT_a1_Y_'+str(i) for i in range(len(PCA_X_fft_a1_y[0]))])\n",
        "df_PCA_FFT_a1_Z = pd.DataFrame(PCA_X_fft_a1_z, columns = ['PCA_FFT_a1_Z_'+str(i) for i in range(len(PCA_X_fft_a1_z[0]))])\n",
        "\n",
        "df_PCA_FFT_a2_X = pd.DataFrame(PCA_X_fft_a2_x, columns = ['PCA_FFT_a2_X_'+str(i) for i in range(len(PCA_X_fft_a2_x[0]))])\n",
        "df_PCA_FFT_a2_Y = pd.DataFrame(PCA_X_fft_a2_y, columns = ['PCA_FFT_a2_Y_'+str(i) for i in range(len(PCA_X_fft_a2_y[0]))])\n",
        "df_PCA_FFT_a2_Z = pd.DataFrame(PCA_X_fft_a2_z, columns = ['PCA_FFT_a2_Z_'+str(i) for i in range(len(PCA_X_fft_a2_z[0]))])\n",
        "\n",
        "df_PCA_FFT_a3_X = pd.DataFrame(PCA_X_fft_a3_x, columns = ['PCA_FFT_a3_X_'+str(i) for i in range(len(PCA_X_fft_a3_x[0]))])\n",
        "df_PCA_FFT_a3_Y = pd.DataFrame(PCA_X_fft_a3_y, columns = ['PCA_FFT_a3_Y_'+str(i) for i in range(len(PCA_X_fft_a3_y[0]))])\n",
        "df_PCA_FFT_a3_Z = pd.DataFrame(PCA_X_fft_a3_z, columns = ['PCA_FFT_a3_Z_'+str(i) for i in range(len(PCA_X_fft_a3_z[0]))])\n",
        "\n",
        "df_PCA_FFT_g1_X = pd.DataFrame(PCA_X_fft_g1_x, columns = ['PCA_FFT_g1_X_'+str(i) for i in range(len(PCA_X_fft_g1_x[0]))])\n",
        "df_PCA_FFT_g1_Y = pd.DataFrame(PCA_X_fft_g1_y, columns = ['PCA_FFT_g1_Y_'+str(i) for i in range(len(PCA_X_fft_g1_y[0]))])\n",
        "df_PCA_FFT_g1_Z = pd.DataFrame(PCA_X_fft_g1_z, columns = ['PCA_FFT_g1_Z_'+str(i) for i in range(len(PCA_X_fft_g1_z[0]))])\n",
        "\n",
        "df_PCA_FFT_g2_X = pd.DataFrame(PCA_X_fft_g2_x, columns = ['PCA_FFT_g2_X_'+str(i) for i in range(len(PCA_X_fft_g2_x[0]))])\n",
        "df_PCA_FFT_g2_Y = pd.DataFrame(PCA_X_fft_g2_y, columns = ['PCA_FFT_g2_Y_'+str(i) for i in range(len(PCA_X_fft_g2_y[0]))])\n",
        "df_PCA_FFT_g2_Z = pd.DataFrame(PCA_X_fft_g2_z, columns = ['PCA_FFT_g2_Z_'+str(i) for i in range(len(PCA_X_fft_g2_z[0]))])\n",
        "\n",
        "df_PCA_FFT_g3_X = pd.DataFrame(PCA_X_fft_g3_x, columns = ['PCA_FFT_g3_X_'+str(i) for i in range(len(PCA_X_fft_g3_x[0]))])\n",
        "df_PCA_FFT_g3_Y = pd.DataFrame(PCA_X_fft_g3_y, columns = ['PCA_FFT_g3_Y_'+str(i) for i in range(len(PCA_X_fft_g3_y[0]))])\n",
        "df_PCA_FFT_g3_Z = pd.DataFrame(PCA_X_fft_g3_z, columns = ['PCA_FFT_g3_Z_'+str(i) for i in range(len(PCA_X_fft_g3_z[0]))])"
      ]
    },
    {
      "cell_type": "code",
      "execution_count": null,
      "metadata": {
        "id": "O3PHE6kFzXGk"
      },
      "outputs": [],
      "source": [
        "#Teste:\n",
        "df_PCA_FFT_a3_Z"
      ]
    },
    {
      "cell_type": "code",
      "execution_count": null,
      "metadata": {
        "id": "sXRTR1SGzXGk"
      },
      "outputs": [],
      "source": [
        "#Agrupando Tudo e Montar Tabela para Arquitetura 1:\n",
        "frames=[df_Y,df_X_tempo,df_PCA_FFT_a1_X,df_PCA_FFT_a1_Y,df_PCA_FFT_a1_Z,df_PCA_FFT_a2_X,df_PCA_FFT_a2_Y,df_PCA_FFT_a2_Z,df_PCA_FFT_a3_X,df_PCA_FFT_a3_Y,df_PCA_FFT_a3_Z,df_PCA_FFT_g1_X,df_PCA_FFT_g1_Y,df_PCA_FFT_g1_Z,df_PCA_FFT_g2_X,df_PCA_FFT_g2_Y,df_PCA_FFT_g2_Z,df_PCA_FFT_g3_X,df_PCA_FFT_g3_Y,df_PCA_FFT_g3_Z]\n",
        "df_arc2=pd.concat(frames,axis=1)"
      ]
    },
    {
      "cell_type": "code",
      "execution_count": null,
      "metadata": {
        "id": "Xb1HPR9LzXGl"
      },
      "outputs": [],
      "source": [
        "df_arc2"
      ]
    },
    {
      "cell_type": "code",
      "execution_count": null,
      "metadata": {
        "id": "O06zR7kNzXGl"
      },
      "outputs": [],
      "source": [
        "df_arc2.isnull().sum()"
      ]
    },
    {
      "cell_type": "code",
      "execution_count": null,
      "metadata": {
        "id": "mKSfjYc5zXGl"
      },
      "outputs": [],
      "source": [
        "#Conferindo NANs:\n",
        "for x in df_arc2.isnull().sum():\n",
        "  if x != 0:\n",
        "    print('TEM ALGUM NAN')\n",
        "print(\"Pode Seguir !!! Sem NANs\")"
      ]
    },
    {
      "cell_type": "code",
      "source": [
        "df_arc2.to_csv('DataframeML_ARC2_TempoFFT.csv')"
      ],
      "metadata": {
        "id": "-4AyOMyF7AZJ"
      },
      "execution_count": null,
      "outputs": []
    },
    {
      "cell_type": "code",
      "execution_count": null,
      "metadata": {
        "id": "slqLDvCLzXGl"
      },
      "outputs": [],
      "source": [
        "# Nome das Colunas:\n",
        "#Lista com Nome de cada Coluna:\n",
        "coln_arc2=list(df_arc2)\n",
        "print(coln_arc2, \"\\n\")\n",
        "\n",
        "print(len(coln_arc2))\n",
        "#Definindo as Features (X's):\n",
        "features=coln_arc2[1:]\n",
        "X_arc2=df_arc2[features]\n",
        "\n",
        "print(coln_arc2[1:])\n",
        "#Definindo os Targets (Y's):\n",
        "\n",
        "targets=coln_arc2[0] #Definindo lista de targets\n",
        "Y_arc2=df_arc2[targets]"
      ]
    },
    {
      "cell_type": "code",
      "execution_count": null,
      "metadata": {
        "id": "ws-51BH4zXGm"
      },
      "outputs": [],
      "source": [
        "X_arc2"
      ]
    },
    {
      "cell_type": "code",
      "execution_count": null,
      "metadata": {
        "id": "hfnIM5XIzXGm"
      },
      "outputs": [],
      "source": [
        "Y_arc2"
      ]
    },
    {
      "cell_type": "markdown",
      "metadata": {
        "id": "3X-fWu4XzXGm"
      },
      "source": [
        "## Random Forest (COM TEMPO)"
      ]
    },
    {
      "cell_type": "code",
      "source": [
        "X_arc2"
      ],
      "metadata": {
        "id": "sKuAmaiu7Wgp"
      },
      "execution_count": null,
      "outputs": []
    },
    {
      "cell_type": "code",
      "execution_count": null,
      "metadata": {
        "id": "klERJ0H2zXGn"
      },
      "outputs": [],
      "source": [
        "Y_arc2 = LabelEncoder().fit_transform(Y_arc2)\n",
        "\n",
        "Y_arc2"
      ]
    },
    {
      "cell_type": "code",
      "execution_count": null,
      "metadata": {
        "id": "M2qivIjrzXGn"
      },
      "outputs": [],
      "source": [
        "X_arc2_train, X_arc2_test, y_arc2_train, y_arc2_test = train_test_split(X_arc2, Y_arc2, test_size = 0.3, random_state = 0)\n",
        "\n",
        "RFC_arc2 = RandomForestClassifier(max_depth= 100, n_estimators = 100, random_state = 0)\n",
        "RFC_arc2.fit(X_arc2_train, y_arc2_train)"
      ]
    },
    {
      "cell_type": "code",
      "execution_count": null,
      "metadata": {
        "id": "jCV4t4p5zXGn"
      },
      "outputs": [],
      "source": [
        "y_arc2_pred = RFC_arc2.predict(X_arc2_test)"
      ]
    },
    {
      "cell_type": "code",
      "execution_count": null,
      "metadata": {
        "id": "U0cWt6WlzXGn"
      },
      "outputs": [],
      "source": [
        "train_score_rf=RFC_arc2.score(X_arc2_train,y_arc2_train)\n",
        "print(train_score_rf)"
      ]
    },
    {
      "cell_type": "code",
      "execution_count": null,
      "metadata": {
        "id": "euMprWIvzXGn"
      },
      "outputs": [],
      "source": [
        "test_score_rf=RFC_arc2.score(X_arc2_test,y_arc2_test)\n",
        "print(test_score_rf)"
      ]
    },
    {
      "cell_type": "code",
      "execution_count": null,
      "metadata": {
        "id": "hpzHcTDBzXGo"
      },
      "outputs": [],
      "source": [
        "accuracy_score(y_arc2_test, y_arc2_pred)\n",
        "print('accuracy_score %:',accuracy_score(y_arc2_test, y_arc2_pred)*100)"
      ]
    },
    {
      "cell_type": "code",
      "execution_count": null,
      "metadata": {
        "id": "0cric7WQzXGo"
      },
      "outputs": [],
      "source": [
        "RFC_arc2.feature_importances_"
      ]
    },
    {
      "cell_type": "code",
      "execution_count": null,
      "metadata": {
        "id": "DgPJwXb0zXGo"
      },
      "outputs": [],
      "source": [
        "np.max(RFC_arc2.feature_importances_)"
      ]
    },
    {
      "cell_type": "code",
      "execution_count": null,
      "metadata": {
        "id": "ld6UfPQOzXGp"
      },
      "outputs": [],
      "source": [
        "imp_df = pd.DataFrame({\n",
        "    \"Varname\": X_arc2_train.columns,\n",
        "    \"Imp\": RFC_arc2.feature_importances_\n",
        "})"
      ]
    },
    {
      "cell_type": "code",
      "execution_count": null,
      "metadata": {
        "id": "xOslwAJyzXGp"
      },
      "outputs": [],
      "source": [
        "#Vendo a Importância das Features para RF:\n",
        "imp_df.sort_values(by=\"Imp\", ascending=False)[0:50]"
      ]
    },
    {
      "cell_type": "code",
      "execution_count": null,
      "metadata": {
        "id": "YcNme-hDzXGq"
      },
      "outputs": [],
      "source": [
        "confmatrix_train = confusion_matrix(y_arc2_train,RFC_arc2.predict(X_arc2_train))\n",
        "confmatrix_test=confusion_matrix(y_arc2_test,RFC_arc2.predict(X_arc2_test))\n",
        "\n",
        "fig, ax = plt.subplots(figsize=(6,5))\n",
        "sns.heatmap(confmatrix_train, annot=True, fmt='g', ax=ax)\n",
        "ax.xaxis.set_ticklabels(falhas,rotation=90)\n",
        "ax.yaxis.set_ticklabels(falhas,rotation=0)\n",
        "ax.set_title('Train set Confusion Matrix',y=1)\n",
        "plt.show()\n",
        "\n",
        "fig, ax = plt.subplots(figsize=(6,5))\n",
        "sns.heatmap(confmatrix_test, annot=True, fmt='g', ax=ax)\n",
        "ax.xaxis.set_ticklabels(falhas,rotation=90)\n",
        "ax.yaxis.set_ticklabels(falhas,rotation=0)\n",
        "ax.set_title('Test set Confusion Matrix',y=1)\n",
        "plt.show()"
      ]
    },
    {
      "cell_type": "markdown",
      "metadata": {
        "id": "peYubsVyzXGq"
      },
      "source": [
        "### GridSearchCV:"
      ]
    },
    {
      "cell_type": "code",
      "execution_count": null,
      "metadata": {
        "id": "tM1H3z3MzXGq"
      },
      "outputs": [],
      "source": [
        "#https://www.kdnuggets.com/2022/10/hyperparameter-tuning-grid-search-random-search-python.html\n",
        "params_arc2 = {\n",
        "'n_estimators': [50,100,250,500,1000],\n",
        "'max_depth' : [25,50,125,250,500],\n",
        "'criterion' :['gini', 'entropy'],\n",
        "}"
      ]
    },
    {
      "cell_type": "code",
      "execution_count": null,
      "metadata": {
        "id": "qav6eV5yzXGq"
      },
      "outputs": [],
      "source": [
        "print(\"Otimização Dados Arquitetura 2:\")\n",
        "\n",
        "grid_arc2 = GridSearchCV(RFC_arc2 ,params_arc2, scoring='accuracy',cv=5) #43 min\n",
        "grid_arc2.fit(X_arc2_train,y_arc2_train)\n",
        "\n",
        "print(grid_arc2.best_params_, grid_arc2.best_score_)\n",
        "rf_best_arc2 = grid_arc2.best_estimator_\n",
        "\n",
        "y_arc2_pred = rf_best_arc2.predict(X_arc2_test)\n",
        "\n",
        "accuracy_score(y_arc2_test, y_arc2_pred)\n",
        "print('accuracy_score %:',accuracy_score(y_arc2_test, y_arc2_pred)*100)\n",
        "\n",
        "print(rf_best_arc2.feature_importances_)\n",
        "\n",
        "imp_df = pd.DataFrame({\n",
        "    \"Varname\": X_arc2_train.columns,\n",
        "    \"Imp\": rf_best_arc2.feature_importances_\n",
        "})"
      ]
    },
    {
      "cell_type": "code",
      "execution_count": null,
      "metadata": {
        "id": "xAs_5k2HzXGr"
      },
      "outputs": [],
      "source": [
        "#Vendo a Importância das Features para RF Grid:\n",
        "imp_df.sort_values(by=\"Imp\", ascending=False)[0:50]"
      ]
    },
    {
      "cell_type": "markdown",
      "metadata": {
        "id": "sahQyt7OzXGr"
      },
      "source": [
        "## SVC (COM TEMPO)"
      ]
    },
    {
      "cell_type": "code",
      "source": [
        "X_arc2"
      ],
      "metadata": {
        "id": "a9-EQ97C7ZkK"
      },
      "execution_count": null,
      "outputs": []
    },
    {
      "cell_type": "code",
      "execution_count": null,
      "metadata": {
        "id": "_oMER54VzXGr"
      },
      "outputs": [],
      "source": [
        "Y_arc2 = LabelEncoder().fit_transform(Y_arc2)\n",
        "\n",
        "Y_arc2"
      ]
    },
    {
      "cell_type": "code",
      "execution_count": null,
      "metadata": {
        "id": "r3A4aQhmzXGr"
      },
      "outputs": [],
      "source": [
        "X_arc2_train, X_arc2_test, y_arc2_train, y_arc2_test = train_test_split(X_arc2, Y_arc2, test_size = 0.3, random_state = 0)"
      ]
    },
    {
      "cell_type": "markdown",
      "metadata": {
        "id": "13l7_gDOzXGs"
      },
      "source": [
        "### Linear"
      ]
    },
    {
      "cell_type": "code",
      "execution_count": null,
      "metadata": {
        "id": "PMiclMCvzXGs"
      },
      "outputs": [],
      "source": [
        "SVC_arc2 = SVC(kernel = 'linear', random_state = 0)\n",
        "SVC_arc2.fit(X_arc2_train, y_arc2_train)"
      ]
    },
    {
      "cell_type": "code",
      "execution_count": null,
      "metadata": {
        "id": "EqHhizKZzXGs"
      },
      "outputs": [],
      "source": [
        "y_arc2_pred = SVC_arc2.predict(X_arc2_test)"
      ]
    },
    {
      "cell_type": "code",
      "execution_count": null,
      "metadata": {
        "id": "8gSfKzx3zXGs"
      },
      "outputs": [],
      "source": [
        "train_score_svc=SVC_arc2.score(X_arc2_train,y_arc2_train)\n",
        "print(train_score_svc)"
      ]
    },
    {
      "cell_type": "code",
      "execution_count": null,
      "metadata": {
        "id": "Ma-w2b-6zXGt"
      },
      "outputs": [],
      "source": [
        "test_score_svc=SVC_arc2.score(X_arc2_test,y_arc2_test)\n",
        "print(test_score_svc)"
      ]
    },
    {
      "cell_type": "code",
      "execution_count": null,
      "metadata": {
        "id": "AB-DQsMdzXGt"
      },
      "outputs": [],
      "source": [
        "accuracy_score(y_arc2_test, y_arc2_pred)\n",
        "print('accuracy_score %:',accuracy_score(y_arc2_test, y_arc2_pred)*100)"
      ]
    },
    {
      "cell_type": "code",
      "execution_count": null,
      "metadata": {
        "id": "S-Uyq4jczXGt"
      },
      "outputs": [],
      "source": [
        "confmatrix_train = confusion_matrix(y_arc2_train,SVC_arc2.predict(X_arc2_train))\n",
        "confmatrix_test=confusion_matrix(y_arc2_test,SVC_arc2.predict(X_arc2_test))\n",
        "\n",
        "fig, ax = plt.subplots(figsize=(6,5))\n",
        "sns.heatmap(confmatrix_train, annot=True, fmt='g', ax=ax)\n",
        "ax.xaxis.set_ticklabels(falhas,rotation=90)\n",
        "ax.yaxis.set_ticklabels(falhas,rotation=0)\n",
        "ax.set_title('Train set Confusion Matrix',y=1)\n",
        "plt.show()\n",
        "\n",
        "fig, ax = plt.subplots(figsize=(6,5))\n",
        "sns.heatmap(confmatrix_test, annot=True, fmt='g', ax=ax)\n",
        "ax.xaxis.set_ticklabels(falhas,rotation=90)\n",
        "ax.yaxis.set_ticklabels(falhas,rotation=0)\n",
        "ax.set_title('Test set Confusion Matrix',y=1)\n",
        "plt.show()"
      ]
    },
    {
      "cell_type": "markdown",
      "metadata": {
        "id": "vK7QdNIqzXGt"
      },
      "source": [
        "### Polinomial:"
      ]
    },
    {
      "cell_type": "code",
      "execution_count": null,
      "metadata": {
        "id": "4of0wcrozXGu"
      },
      "outputs": [],
      "source": [
        "SVC_arc2 = SVC(kernel = 'poly',degree = 10, random_state = 0)\n",
        "SVC_arc2.fit(X_arc2_train, y_arc2_train)"
      ]
    },
    {
      "cell_type": "code",
      "execution_count": null,
      "metadata": {
        "id": "joWnQuT3zXGu"
      },
      "outputs": [],
      "source": [
        "y_arc2_pred = SVC_arc2.predict(X_arc2_test)"
      ]
    },
    {
      "cell_type": "code",
      "execution_count": null,
      "metadata": {
        "id": "qVCLHXYjzXGu"
      },
      "outputs": [],
      "source": [
        "train_score_svc=SVC_arc2.score(X_arc2_train,y_arc2_train)\n",
        "print(train_score_svc)"
      ]
    },
    {
      "cell_type": "code",
      "execution_count": null,
      "metadata": {
        "id": "_Vhjf0ChzXGu"
      },
      "outputs": [],
      "source": [
        "test_score_svc=SVC_arc2.score(X_arc2_test,y_arc2_test)\n",
        "print(test_score_svc)"
      ]
    },
    {
      "cell_type": "code",
      "execution_count": null,
      "metadata": {
        "id": "B8xR-ojszXGv"
      },
      "outputs": [],
      "source": [
        "accuracy_score(y_arc2_test, y_arc2_pred)\n",
        "print('accuracy_score %:',accuracy_score(y_arc2_test, y_arc2_pred)*100)"
      ]
    },
    {
      "cell_type": "code",
      "execution_count": null,
      "metadata": {
        "id": "VWh7aphpzXGv"
      },
      "outputs": [],
      "source": [
        "confmatrix_train = confusion_matrix(y_arc2_train,SVC_arc2.predict(X_arc2_train))\n",
        "confmatrix_test=confusion_matrix(y_arc2_test,SVC_arc2.predict(X_arc2_test))\n",
        "\n",
        "fig, ax = plt.subplots(figsize=(6,5))\n",
        "sns.heatmap(confmatrix_train, annot=True, fmt='g', ax=ax)\n",
        "ax.xaxis.set_ticklabels(falhas,rotation=90)\n",
        "ax.yaxis.set_ticklabels(falhas,rotation=0)\n",
        "ax.set_title('Train set Confusion Matrix',y=1)\n",
        "plt.show()\n",
        "\n",
        "fig, ax = plt.subplots(figsize=(6,5))\n",
        "sns.heatmap(confmatrix_test, annot=True, fmt='g', ax=ax)\n",
        "ax.xaxis.set_ticklabels(falhas,rotation=90)\n",
        "ax.yaxis.set_ticklabels(falhas,rotation=0)\n",
        "ax.set_title('Test set Confusion Matrix',y=1)\n",
        "plt.show()"
      ]
    },
    {
      "cell_type": "markdown",
      "metadata": {
        "id": "g2EG8b1IzXGv"
      },
      "source": [
        "### RBF:"
      ]
    },
    {
      "cell_type": "code",
      "execution_count": null,
      "metadata": {
        "id": "GijPYoq9zXGv"
      },
      "outputs": [],
      "source": [
        "SVC_arc2 = SVC(kernel = 'rbf', random_state = 0)\n",
        "SVC_arc2.fit(X_arc2_train, y_arc2_train)"
      ]
    },
    {
      "cell_type": "code",
      "execution_count": null,
      "metadata": {
        "id": "4gV1jMOzzXGw"
      },
      "outputs": [],
      "source": [
        "y_arc2_pred = SVC_arc2.predict(X_arc2_test)"
      ]
    },
    {
      "cell_type": "code",
      "execution_count": null,
      "metadata": {
        "id": "VP8rX8OGzXGw"
      },
      "outputs": [],
      "source": [
        "train_score_svc=SVC_arc2.score(X_arc2_train,y_arc2_train)\n",
        "print(train_score_svc)"
      ]
    },
    {
      "cell_type": "code",
      "execution_count": null,
      "metadata": {
        "id": "FqFF6YsUzXGw"
      },
      "outputs": [],
      "source": [
        "test_score_svc=SVC_arc2.score(X_arc2_test,y_arc2_test)\n",
        "print(test_score_svc)"
      ]
    },
    {
      "cell_type": "code",
      "execution_count": null,
      "metadata": {
        "id": "XAyt9OoLzXGw"
      },
      "outputs": [],
      "source": [
        "accuracy_score(y_arc2_test, y_arc2_pred)\n",
        "print('accuracy_score %:',accuracy_score(y_arc2_test, y_arc2_pred)*100)"
      ]
    },
    {
      "cell_type": "code",
      "execution_count": null,
      "metadata": {
        "id": "XEquUZQWzXGx"
      },
      "outputs": [],
      "source": [
        "confmatrix_train = confusion_matrix(y_arc2_train,SVC_arc2.predict(X_arc2_train))\n",
        "confmatrix_test=confusion_matrix(y_arc2_test,SVC_arc2.predict(X_arc2_test))\n",
        "\n",
        "fig, ax = plt.subplots(figsize=(6,5))\n",
        "sns.heatmap(confmatrix_train, annot=True, fmt='g', ax=ax)\n",
        "ax.xaxis.set_ticklabels(falhas,rotation=90)\n",
        "ax.yaxis.set_ticklabels(falhas,rotation=0)\n",
        "ax.set_title('Train set Confusion Matrix',y=1)\n",
        "plt.show()\n",
        "\n",
        "fig, ax = plt.subplots(figsize=(6,5))\n",
        "sns.heatmap(confmatrix_test, annot=True, fmt='g', ax=ax)\n",
        "ax.xaxis.set_ticklabels(falhas,rotation=90)\n",
        "ax.yaxis.set_ticklabels(falhas,rotation=0)\n",
        "ax.set_title('Test set Confusion Matrix',y=1)\n",
        "plt.show()"
      ]
    },
    {
      "cell_type": "markdown",
      "metadata": {
        "id": "p79IDktLzXGx"
      },
      "source": [
        "### Sigmoid:"
      ]
    },
    {
      "cell_type": "code",
      "execution_count": null,
      "metadata": {
        "id": "B6NrKp4bzXGx"
      },
      "outputs": [],
      "source": [
        "SVC_arc2 = SVC(kernel = 'sigmoid', random_state = 0)\n",
        "SVC_arc2.fit(X_arc2_train, y_arc2_train)"
      ]
    },
    {
      "cell_type": "code",
      "execution_count": null,
      "metadata": {
        "id": "ccSYSDbGzXGy"
      },
      "outputs": [],
      "source": [
        "y_arc2_pred = SVC_arc2.predict(X_arc2_test)"
      ]
    },
    {
      "cell_type": "code",
      "execution_count": null,
      "metadata": {
        "id": "1J3DOdD5zXGy"
      },
      "outputs": [],
      "source": [
        "train_score_svc=SVC_arc2.score(X_arc2_train,y_arc2_train)\n",
        "print(train_score_svc)"
      ]
    },
    {
      "cell_type": "code",
      "execution_count": null,
      "metadata": {
        "id": "jgSJPz5zzXGy"
      },
      "outputs": [],
      "source": [
        "test_score_svc=SVC_arc2.score(X_arc2_test,y_arc2_test)\n",
        "print(test_score_svc)"
      ]
    },
    {
      "cell_type": "code",
      "execution_count": null,
      "metadata": {
        "id": "qah8tsX_zXGy"
      },
      "outputs": [],
      "source": [
        "accuracy_score(y_arc2_test, y_arc2_pred)\n",
        "print('accuracy_score %:',accuracy_score(y_arc2_test, y_arc2_pred)*100)"
      ]
    },
    {
      "cell_type": "code",
      "execution_count": null,
      "metadata": {
        "id": "MVRCHOu0zXGz"
      },
      "outputs": [],
      "source": [
        "confmatrix_train = confusion_matrix(y_arc2_train,SVC_arc2.predict(X_arc2_train))\n",
        "confmatrix_test=confusion_matrix(y_arc2_test,SVC_arc2.predict(X_arc2_test))\n",
        "\n",
        "fig, ax = plt.subplots(figsize=(6,5))\n",
        "sns.heatmap(confmatrix_train, annot=True, fmt='g', ax=ax)\n",
        "ax.xaxis.set_ticklabels(falhas,rotation=90)\n",
        "ax.yaxis.set_ticklabels(falhas,rotation=0)\n",
        "ax.set_title('Train set Confusion Matrix',y=1)\n",
        "plt.show()\n",
        "\n",
        "fig, ax = plt.subplots(figsize=(6,5))\n",
        "sns.heatmap(confmatrix_test, annot=True, fmt='g', ax=ax)\n",
        "ax.xaxis.set_ticklabels(falhas,rotation=90)\n",
        "ax.yaxis.set_ticklabels(falhas,rotation=0)\n",
        "ax.set_title('Test set Confusion Matrix',y=1)\n",
        "plt.show()"
      ]
    },
    {
      "cell_type": "markdown",
      "metadata": {
        "id": "oDAM1WYdzXGz"
      },
      "source": [
        "### GridSearchCV"
      ]
    },
    {
      "cell_type": "markdown",
      "metadata": {
        "id": "H-DexoPAzXGz"
      },
      "source": [
        "Abandonamos o Kernel polinomial, pois não importa o grau do polinomio, sempre fica ruim"
      ]
    },
    {
      "cell_type": "code",
      "execution_count": null,
      "metadata": {
        "id": "oAn_yrUVzXGz"
      },
      "outputs": [],
      "source": [
        "params_arc2_SVC_Linear = {\n",
        "'kernel':['linear'],\n",
        "'C':[0.001,0.01,0.1,1,10,100,1000],\n",
        "}\n",
        "\n",
        "params_arc2_SVC_RS = {\n",
        "'kernel':['rbf','sigmoid'],\n",
        "'gamma':['scale', 'auto'],\n",
        "'C':[0.001,0.01,0.1,1,10,100,1000],\n",
        "}"
      ]
    },
    {
      "cell_type": "code",
      "execution_count": null,
      "metadata": {
        "id": "bK0kNprizXGz"
      },
      "outputs": [],
      "source": [
        "for params in [params_arc2_SVC_Linear,params_arc2_SVC_RS]:\n",
        "  print(\"Otimização Dados Arquitetura 2:\")\n",
        "  grid_arc2_SVC = GridSearchCV(SVC_arc2 ,params, scoring='accuracy')\n",
        "  grid_arc2_SVC.fit(X_arc2_train,y_arc2_train)\n",
        "  print(grid_arc2_SVC.best_params_, grid_arc2_SVC.best_score_)\n",
        "  rf_best_arc2_SVC = grid_arc2_SVC.best_estimator_\n",
        "\n",
        "  y_arc2_pred_SVC = rf_best_arc2_SVC.predict(X_arc2_test)\n",
        "\n",
        "  accuracy_score(y_arc2_test, y_arc2_pred_SVC)\n",
        "  print('accuracy_score %:',accuracy_score(y_arc2_test, y_arc2_pred_SVC)*100)\n",
        "  print()"
      ]
    },
    {
      "cell_type": "markdown",
      "metadata": {
        "id": "V3KzsT4MzXG0"
      },
      "source": [
        "## Tabela sem Tempo"
      ]
    },
    {
      "cell_type": "code",
      "execution_count": null,
      "metadata": {
        "id": "rn-cJdmEzXG0"
      },
      "outputs": [],
      "source": [
        "df_arc2"
      ]
    },
    {
      "cell_type": "code",
      "execution_count": null,
      "metadata": {
        "id": "G1UTQrB1zXG0"
      },
      "outputs": [],
      "source": [
        "df_arc2.drop(c_X_tempo[1:],axis=1,inplace=True)"
      ]
    },
    {
      "cell_type": "code",
      "execution_count": null,
      "metadata": {
        "id": "iVjoA9NszXG0"
      },
      "outputs": [],
      "source": [
        "df_arc2"
      ]
    },
    {
      "cell_type": "code",
      "source": [
        "df_arc2.to_csv('DataframeML_ARC2_FFT.csv')"
      ],
      "metadata": {
        "id": "lU2RoeBS7fup"
      },
      "execution_count": null,
      "outputs": []
    },
    {
      "cell_type": "code",
      "execution_count": null,
      "metadata": {
        "id": "sZ6d2N0szXG1"
      },
      "outputs": [],
      "source": [
        "# Nome das Colunas:\n",
        "#Lista com Nome de cada Coluna:\n",
        "coln_arc2=list(df_arc2)\n",
        "print(coln_arc2, \"\\n\")\n",
        "\n",
        "print(len(coln_arc2))\n",
        "#Definindo as Features (X's):\n",
        "features=coln_arc2[1:]\n",
        "X_arc2=df_arc2[features]\n",
        "\n",
        "print(coln_arc2[1:])\n",
        "#Definindo os Targets (Y's):\n",
        "\n",
        "targets=coln_arc2[0] #Definindo lista de targets\n",
        "Y_arc2=df_arc2[targets]"
      ]
    },
    {
      "cell_type": "code",
      "execution_count": null,
      "metadata": {
        "id": "K9F3UQ6pzXG1"
      },
      "outputs": [],
      "source": [
        "Y_arc2"
      ]
    },
    {
      "cell_type": "code",
      "execution_count": null,
      "metadata": {
        "id": "UXc2_sexzXG1"
      },
      "outputs": [],
      "source": [
        "X_arc2"
      ]
    },
    {
      "cell_type": "markdown",
      "metadata": {
        "id": "bZovROrpzXG1"
      },
      "source": [
        "## Random Forest (SEM TEMPO)"
      ]
    },
    {
      "cell_type": "code",
      "source": [
        "X_arc2"
      ],
      "metadata": {
        "id": "iE35XwET7tQT"
      },
      "execution_count": null,
      "outputs": []
    },
    {
      "cell_type": "code",
      "execution_count": null,
      "metadata": {
        "id": "fsbQy3uWzXG1"
      },
      "outputs": [],
      "source": [
        "Y_arc2 = LabelEncoder().fit_transform(Y_arc2)\n",
        "\n",
        "Y_arc2"
      ]
    },
    {
      "cell_type": "code",
      "execution_count": null,
      "metadata": {
        "id": "U9r4eHMczXG2"
      },
      "outputs": [],
      "source": [
        "X_arc2_train, X_arc2_test, y_arc2_train, y_arc2_test = train_test_split(X_arc2, Y_arc2, test_size = 0.3, random_state = 0)"
      ]
    },
    {
      "cell_type": "code",
      "execution_count": null,
      "metadata": {
        "id": "ZrvpSWDpzXG2"
      },
      "outputs": [],
      "source": [
        "RFC_arc2 = RandomForestClassifier(max_depth= 500, n_estimators = 1000, random_state = 0)\n",
        "RFC_arc2.fit(X_arc2_train, y_arc2_train)"
      ]
    },
    {
      "cell_type": "code",
      "execution_count": null,
      "metadata": {
        "id": "38-_T-ZNzXG2"
      },
      "outputs": [],
      "source": [
        "y_arc2_pred = RFC_arc2.predict(X_arc2_test)"
      ]
    },
    {
      "cell_type": "code",
      "execution_count": null,
      "metadata": {
        "id": "OyTm-FUpzXG2"
      },
      "outputs": [],
      "source": [
        "train_score_rf=RFC_arc2.score(X_arc2_train,y_arc2_train)\n",
        "print(train_score_rf)"
      ]
    },
    {
      "cell_type": "code",
      "execution_count": null,
      "metadata": {
        "id": "77iJKtO4zXG3"
      },
      "outputs": [],
      "source": [
        "test_score_rf=RFC_arc2.score(X_arc2_test,y_arc2_test)\n",
        "print(test_score_rf)"
      ]
    },
    {
      "cell_type": "code",
      "execution_count": null,
      "metadata": {
        "id": "FFks3om4zXG3"
      },
      "outputs": [],
      "source": [
        "accuracy_score(y_arc2_test, y_arc2_pred)\n",
        "print('accuracy_score %:',accuracy_score(y_arc2_test, y_arc2_pred)*100)"
      ]
    },
    {
      "cell_type": "code",
      "execution_count": null,
      "metadata": {
        "id": "ptNIaHPgzXG3"
      },
      "outputs": [],
      "source": [
        "RFC_arc2.feature_importances_"
      ]
    },
    {
      "cell_type": "code",
      "execution_count": null,
      "metadata": {
        "id": "qqf8gBkmzXG4"
      },
      "outputs": [],
      "source": [
        "np.max(RFC_arc2.feature_importances_)"
      ]
    },
    {
      "cell_type": "code",
      "execution_count": null,
      "metadata": {
        "id": "lenx1hn1zXG4"
      },
      "outputs": [],
      "source": [
        "imp_df = pd.DataFrame({\n",
        "    \"Varname\": X_arc2_train.columns,\n",
        "    \"Imp\": RFC_arc2.feature_importances_\n",
        "})"
      ]
    },
    {
      "cell_type": "code",
      "execution_count": null,
      "metadata": {
        "id": "pfuENOcAzXG4"
      },
      "outputs": [],
      "source": [
        "#Vendo a Importância das Features para RF:\n",
        "imp_df.sort_values(by=\"Imp\", ascending=False)[0:50]"
      ]
    },
    {
      "cell_type": "code",
      "execution_count": null,
      "metadata": {
        "id": "LWcJOD4EzXG5"
      },
      "outputs": [],
      "source": [
        "confmatrix_train = confusion_matrix(y_arc2_train,RFC_arc2.predict(X_arc2_train))\n",
        "confmatrix_test=confusion_matrix(y_arc2_test,RFC_arc2.predict(X_arc2_test))\n",
        "\n",
        "fig, ax = plt.subplots(figsize=(6,5))\n",
        "sns.heatmap(confmatrix_train, annot=True, fmt='g', ax=ax)\n",
        "ax.xaxis.set_ticklabels(falhas,rotation=90)\n",
        "ax.yaxis.set_ticklabels(falhas,rotation=0)\n",
        "ax.set_title('Train set Confusion Matrix',y=1)\n",
        "plt.show()\n",
        "\n",
        "fig, ax = plt.subplots(figsize=(6,5))\n",
        "sns.heatmap(confmatrix_test, annot=True, fmt='g', ax=ax)\n",
        "ax.xaxis.set_ticklabels(falhas,rotation=90)\n",
        "ax.yaxis.set_ticklabels(falhas,rotation=0)\n",
        "ax.set_title('Test set Confusion Matrix',y=1)\n",
        "plt.show()"
      ]
    },
    {
      "cell_type": "markdown",
      "metadata": {
        "id": "SBz8tMjzzXG5"
      },
      "source": [
        "### GridSearchCV"
      ]
    },
    {
      "cell_type": "code",
      "execution_count": null,
      "metadata": {
        "id": "p1fd8YzzzXG5"
      },
      "outputs": [],
      "source": [
        "#https://www.kdnuggets.com/2022/10/hyperparameter-tuning-grid-search-random-search-python.html\n",
        "params_arc2 = {\n",
        "'n_estimators': [50,100,250,500,1000],\n",
        "'max_depth' : [25,50,125,250,500],\n",
        "'criterion' :['gini', 'entropy'],\n",
        "}"
      ]
    },
    {
      "cell_type": "code",
      "execution_count": null,
      "metadata": {
        "id": "EOvdXx7yzXHA"
      },
      "outputs": [],
      "source": [
        "print(\"Otimização Dados Arquitetura 2 Sem Tempo:\")\n",
        "\n",
        "grid_arc2 = GridSearchCV(RFC_arc2 ,params_arc2, scoring='accuracy',cv=5)\n",
        "grid_arc2.fit(X_arc2_train,y_arc2_train)\n",
        "\n",
        "print(grid_arc2.best_params_, grid_arc2.best_score_)\n",
        "rf_best_arc2 = grid_arc2.best_estimator_\n",
        "\n",
        "y_arc2_pred = rf_best_arc2.predict(X_arc2_test)\n",
        "\n",
        "accuracy_score(y_arc2_test, y_arc2_pred)\n",
        "print('accuracy_score %:',accuracy_score(y_arc2_test, y_arc2_pred)*100)\n",
        "\n",
        "print(rf_best_arc2.feature_importances_)\n",
        "\n",
        "imp_df = pd.DataFrame({\n",
        "    \"Varname\": X_arc2_train.columns,\n",
        "    \"Imp\": rf_best_arc2.feature_importances_\n",
        "})"
      ]
    },
    {
      "cell_type": "code",
      "execution_count": null,
      "metadata": {
        "id": "05BsGvxYzXHB"
      },
      "outputs": [],
      "source": [
        "#Vendo a Importância das Features para RF Grid:\n",
        "imp_df.sort_values(by=\"Imp\", ascending=False)[0:50]"
      ]
    },
    {
      "cell_type": "markdown",
      "metadata": {
        "id": "VoKBhigJzXHB"
      },
      "source": [
        "## SVC (SEM TEMPO)"
      ]
    },
    {
      "cell_type": "code",
      "source": [
        "X_arc2"
      ],
      "metadata": {
        "id": "YXk5Ej_47xEn"
      },
      "execution_count": null,
      "outputs": []
    },
    {
      "cell_type": "code",
      "execution_count": null,
      "metadata": {
        "id": "180cUJfbzXHB"
      },
      "outputs": [],
      "source": [
        "Y_arc2 = LabelEncoder().fit_transform(Y_arc2)\n",
        "\n",
        "Y_arc2"
      ]
    },
    {
      "cell_type": "code",
      "execution_count": null,
      "metadata": {
        "id": "eUfxuTCozXHB"
      },
      "outputs": [],
      "source": [
        "X_arc2_train, X_arc2_test, y_arc2_train, y_arc2_test = train_test_split(X_arc2, Y_arc2, test_size = 0.3, random_state = 0)"
      ]
    },
    {
      "cell_type": "markdown",
      "metadata": {
        "id": "wieGa9FSzXHC"
      },
      "source": [
        "### Linear"
      ]
    },
    {
      "cell_type": "code",
      "execution_count": null,
      "metadata": {
        "id": "_S4tHawfzXHC"
      },
      "outputs": [],
      "source": [
        "SVC_arc2 = SVC(kernel = 'linear', random_state = 0)\n",
        "SVC_arc2.fit(X_arc2_train, y_arc2_train)"
      ]
    },
    {
      "cell_type": "code",
      "execution_count": null,
      "metadata": {
        "id": "5-3ktU4MzXHC"
      },
      "outputs": [],
      "source": [
        "y_arc2_pred = SVC_arc2.predict(X_arc2_test)"
      ]
    },
    {
      "cell_type": "code",
      "execution_count": null,
      "metadata": {
        "id": "-g001mamzXHC"
      },
      "outputs": [],
      "source": [
        "train_score_svc=SVC_arc2.score(X_arc2_train,y_arc2_train)\n",
        "print(train_score_svc)"
      ]
    },
    {
      "cell_type": "code",
      "execution_count": null,
      "metadata": {
        "id": "XQUsPnCnzXHD"
      },
      "outputs": [],
      "source": [
        "test_score_svc=SVC_arc2.score(X_arc2_test,y_arc2_test)\n",
        "print(test_score_svc)"
      ]
    },
    {
      "cell_type": "code",
      "execution_count": null,
      "metadata": {
        "id": "yE4S92xEzXHD"
      },
      "outputs": [],
      "source": [
        "accuracy_score(y_arc2_test, y_arc2_pred)\n",
        "print('accuracy_score %:',accuracy_score(y_arc2_test, y_arc2_pred)*100)"
      ]
    },
    {
      "cell_type": "code",
      "execution_count": null,
      "metadata": {
        "id": "QsTGyVs2zXHD"
      },
      "outputs": [],
      "source": [
        "confmatrix_train = confusion_matrix(y_arc2_train,SVC_arc2.predict(X_arc2_train))\n",
        "confmatrix_test=confusion_matrix(y_arc2_test,SVC_arc2.predict(X_arc2_test))\n",
        "\n",
        "fig, ax = plt.subplots(figsize=(6,5))\n",
        "sns.heatmap(confmatrix_train, annot=True, fmt='g', ax=ax)\n",
        "ax.xaxis.set_ticklabels(falhas,rotation=90)\n",
        "ax.yaxis.set_ticklabels(falhas,rotation=0)\n",
        "ax.set_title('Train set Confusion Matrix',y=1)\n",
        "plt.show()\n",
        "\n",
        "fig, ax = plt.subplots(figsize=(6,5))\n",
        "sns.heatmap(confmatrix_test, annot=True, fmt='g', ax=ax)\n",
        "ax.xaxis.set_ticklabels(falhas,rotation=90)\n",
        "ax.yaxis.set_ticklabels(falhas,rotation=0)\n",
        "ax.set_title('Test set Confusion Matrix',y=1)\n",
        "plt.show()"
      ]
    },
    {
      "cell_type": "markdown",
      "metadata": {
        "id": "4JQytaiuzXHD"
      },
      "source": [
        "### Polinomial:"
      ]
    },
    {
      "cell_type": "code",
      "execution_count": null,
      "metadata": {
        "id": "RuuiMe3lzXHE"
      },
      "outputs": [],
      "source": [
        "SVC_arc2 = SVC(kernel = 'poly',degree = 10, random_state = 0)\n",
        "SVC_arc2.fit(X_arc2_train, y_arc2_train)"
      ]
    },
    {
      "cell_type": "code",
      "execution_count": null,
      "metadata": {
        "id": "9iMesxXfzXHE"
      },
      "outputs": [],
      "source": [
        "y_arc2_pred = SVC_arc2.predict(X_arc2_test)"
      ]
    },
    {
      "cell_type": "code",
      "execution_count": null,
      "metadata": {
        "id": "jXIC0cBxzXHE"
      },
      "outputs": [],
      "source": [
        "train_score_svc=SVC_arc2.score(X_arc2_train,y_arc2_train)\n",
        "print(train_score_svc)"
      ]
    },
    {
      "cell_type": "code",
      "execution_count": null,
      "metadata": {
        "id": "YFIiLi7ezXHE"
      },
      "outputs": [],
      "source": [
        "test_score_svc=SVC_arc2.score(X_arc2_test,y_arc2_test)\n",
        "print(test_score_svc)"
      ]
    },
    {
      "cell_type": "code",
      "execution_count": null,
      "metadata": {
        "id": "akg3JqzmzXHE"
      },
      "outputs": [],
      "source": [
        "accuracy_score(y_arc2_test, y_arc2_pred)\n",
        "print('accuracy_score %:',accuracy_score(y_arc2_test, y_arc2_pred)*100)"
      ]
    },
    {
      "cell_type": "code",
      "execution_count": null,
      "metadata": {
        "id": "gv0sErkTzXHF"
      },
      "outputs": [],
      "source": [
        "confmatrix_train = confusion_matrix(y_arc2_train,SVC_arc2.predict(X_arc2_train))\n",
        "confmatrix_test=confusion_matrix(y_arc2_test,SVC_arc2.predict(X_arc2_test))\n",
        "\n",
        "fig, ax = plt.subplots(figsize=(6,5))\n",
        "sns.heatmap(confmatrix_train, annot=True, fmt='g', ax=ax)\n",
        "ax.xaxis.set_ticklabels(falhas,rotation=90)\n",
        "ax.yaxis.set_ticklabels(falhas,rotation=0)\n",
        "ax.set_title('Train set Confusion Matrix',y=1)\n",
        "plt.show()\n",
        "\n",
        "fig, ax = plt.subplots(figsize=(6,5))\n",
        "sns.heatmap(confmatrix_test, annot=True, fmt='g', ax=ax)\n",
        "ax.xaxis.set_ticklabels(falhas,rotation=90)\n",
        "ax.yaxis.set_ticklabels(falhas,rotation=0)\n",
        "ax.set_title('Test set Confusion Matrix',y=1)\n",
        "plt.show()"
      ]
    },
    {
      "cell_type": "markdown",
      "metadata": {
        "id": "YTrXDAJCzXHF"
      },
      "source": [
        "### RBF:"
      ]
    },
    {
      "cell_type": "code",
      "execution_count": null,
      "metadata": {
        "id": "YQBMgXrRzXHF"
      },
      "outputs": [],
      "source": [
        "SVC_arc2 = SVC(kernel = 'rbf', random_state = 0)\n",
        "SVC_arc2.fit(X_arc2_train, y_arc2_train)"
      ]
    },
    {
      "cell_type": "code",
      "execution_count": null,
      "metadata": {
        "id": "SdR73nDozXHF"
      },
      "outputs": [],
      "source": [
        "y_arc2_pred = SVC_arc2.predict(X_arc2_test)"
      ]
    },
    {
      "cell_type": "code",
      "execution_count": null,
      "metadata": {
        "id": "DfGNClsFzXHF"
      },
      "outputs": [],
      "source": [
        "train_score_svc=SVC_arc2.score(X_arc2_train,y_arc2_train)\n",
        "print(train_score_svc)"
      ]
    },
    {
      "cell_type": "code",
      "execution_count": null,
      "metadata": {
        "id": "piaWZIJUzXHG"
      },
      "outputs": [],
      "source": [
        "test_score_svc=SVC_arc2.score(X_arc2_test,y_arc2_test)\n",
        "print(test_score_svc)"
      ]
    },
    {
      "cell_type": "code",
      "execution_count": null,
      "metadata": {
        "id": "eLJNx823zXHG"
      },
      "outputs": [],
      "source": [
        "accuracy_score(y_arc2_test, y_arc2_pred)\n",
        "print('accuracy_score %:',accuracy_score(y_arc2_test, y_arc2_pred)*100)"
      ]
    },
    {
      "cell_type": "code",
      "execution_count": null,
      "metadata": {
        "id": "iY5JYHUqzXHG"
      },
      "outputs": [],
      "source": [
        "confmatrix_train = confusion_matrix(y_arc2_train,SVC_arc2.predict(X_arc2_train))\n",
        "confmatrix_test=confusion_matrix(y_arc2_test,SVC_arc2.predict(X_arc2_test))\n",
        "\n",
        "fig, ax = plt.subplots(figsize=(6,5))\n",
        "sns.heatmap(confmatrix_train, annot=True, fmt='g', ax=ax)\n",
        "ax.xaxis.set_ticklabels(falhas,rotation=90)\n",
        "ax.yaxis.set_ticklabels(falhas,rotation=0)\n",
        "ax.set_title('Train set Confusion Matrix',y=1)\n",
        "plt.show()\n",
        "\n",
        "fig, ax = plt.subplots(figsize=(6,5))\n",
        "sns.heatmap(confmatrix_test, annot=True, fmt='g', ax=ax)\n",
        "ax.xaxis.set_ticklabels(falhas,rotation=90)\n",
        "ax.yaxis.set_ticklabels(falhas,rotation=0)\n",
        "ax.set_title('Test set Confusion Matrix',y=1)\n",
        "plt.show()"
      ]
    },
    {
      "cell_type": "markdown",
      "metadata": {
        "id": "L-pbVjhSzXHG"
      },
      "source": [
        "### Sigmoid:"
      ]
    },
    {
      "cell_type": "code",
      "execution_count": null,
      "metadata": {
        "id": "xG3sRENTzXHH"
      },
      "outputs": [],
      "source": [
        "SVC_arc2 = SVC(kernel = 'sigmoid', random_state = 0)\n",
        "SVC_arc2.fit(X_arc2_train, y_arc2_train)"
      ]
    },
    {
      "cell_type": "code",
      "execution_count": null,
      "metadata": {
        "id": "G0hCr7gLzXHH"
      },
      "outputs": [],
      "source": [
        "y_arc2_pred = SVC_arc2.predict(X_arc2_test)"
      ]
    },
    {
      "cell_type": "code",
      "execution_count": null,
      "metadata": {
        "id": "WBhQbmO7zXHH"
      },
      "outputs": [],
      "source": [
        "train_score_svc=SVC_arc2.score(X_arc2_train,y_arc2_train)\n",
        "print(train_score_svc)"
      ]
    },
    {
      "cell_type": "code",
      "execution_count": null,
      "metadata": {
        "id": "A8qbqs8dzXHH"
      },
      "outputs": [],
      "source": [
        "test_score_svc=SVC_arc2.score(X_arc2_test,y_arc2_test)\n",
        "print(test_score_svc)"
      ]
    },
    {
      "cell_type": "code",
      "execution_count": null,
      "metadata": {
        "id": "XexoNytgzXHH"
      },
      "outputs": [],
      "source": [
        "accuracy_score(y_arc2_test, y_arc2_pred)\n",
        "print('accuracy_score %:',accuracy_score(y_arc2_test, y_arc2_pred)*100)"
      ]
    },
    {
      "cell_type": "code",
      "execution_count": null,
      "metadata": {
        "id": "k-iuVlKZzXHI"
      },
      "outputs": [],
      "source": [
        "confmatrix_train = confusion_matrix(y_arc2_train,SVC_arc2.predict(X_arc2_train))\n",
        "confmatrix_test=confusion_matrix(y_arc2_test,SVC_arc2.predict(X_arc2_test))\n",
        "\n",
        "fig, ax = plt.subplots(figsize=(6,5))\n",
        "sns.heatmap(confmatrix_train, annot=True, fmt='g', ax=ax)\n",
        "ax.xaxis.set_ticklabels(falhas,rotation=90)\n",
        "ax.yaxis.set_ticklabels(falhas,rotation=0)\n",
        "ax.set_title('Train set Confusion Matrix',y=1)\n",
        "plt.show()\n",
        "\n",
        "fig, ax = plt.subplots(figsize=(6,5))\n",
        "sns.heatmap(confmatrix_test, annot=True, fmt='g', ax=ax)\n",
        "ax.xaxis.set_ticklabels(falhas,rotation=90)\n",
        "ax.yaxis.set_ticklabels(falhas,rotation=0)\n",
        "ax.set_title('Test set Confusion Matrix',y=1)\n",
        "plt.show()"
      ]
    },
    {
      "cell_type": "markdown",
      "metadata": {
        "id": "dHY-KK1uzXHI"
      },
      "source": [
        "### GridSearchCV"
      ]
    },
    {
      "cell_type": "markdown",
      "metadata": {
        "id": "G2gsoNcZzXHI"
      },
      "source": [
        "Abandonamos o Kernel polinomial, pois não importa o grau do polinomio, sempre fica ruim"
      ]
    },
    {
      "cell_type": "code",
      "execution_count": null,
      "metadata": {
        "id": "ubO5YDXHzXHI"
      },
      "outputs": [],
      "source": [
        "params_arc2_SVC_Linear = {\n",
        "'kernel':['linear'],\n",
        "'C':[0.001,0.01,0.1,1,10,100,1000],\n",
        "}\n",
        "\n",
        "params_arc2_SVC_RS = {\n",
        "'kernel':['rbf','sigmoid'],\n",
        "'gamma':['scale', 'auto'],\n",
        "'C':[0.001,0.01,0.1,1,10,100,1000],\n",
        "}"
      ]
    },
    {
      "cell_type": "code",
      "execution_count": null,
      "metadata": {
        "id": "qdX8RlmMzXHI"
      },
      "outputs": [],
      "source": [
        "for params in [params_arc2_SVC_Linear,params_arc2_SVC_RS]:\n",
        "  print(\"Otimização Dados Arqutetura 2 - Sem Tempo:\")\n",
        "  grid_arc2_SVC = GridSearchCV(SVC_arc2 ,params, scoring='accuracy')\n",
        "  grid_arc2_SVC.fit(X_arc2_train,y_arc2_train)\n",
        "  print(grid_arc2_SVC.best_params_, grid_arc2_SVC.best_score_)\n",
        "  rf_best_arc2_SVC = grid_arc2_SVC.best_estimator_\n",
        "\n",
        "  y_arc2_pred_SVC = rf_best_arc2_SVC.predict(X_arc2_test)\n",
        "\n",
        "  accuracy_score(y_arc2_test, y_arc2_pred_SVC)\n",
        "  print('accuracy_score %:',accuracy_score(y_arc2_test, y_arc2_pred_SVC)*100)\n",
        "  print()"
      ]
    },
    {
      "cell_type": "markdown",
      "metadata": {
        "id": "_uuwf9edFSQn"
      },
      "source": [
        "# Arquitetura 3 :\n",
        "PCA (0.80)-> 106 Colunas"
      ]
    },
    {
      "cell_type": "markdown",
      "metadata": {
        "id": "Vgi1zBqSFSQn"
      },
      "source": [
        "## Montando Nova Tabela"
      ]
    },
    {
      "cell_type": "markdown",
      "metadata": {
        "id": "t-RDMF86FSQo"
      },
      "source": [
        "* Zeramos as tranformações, voltamos ao início"
      ]
    },
    {
      "cell_type": "code",
      "execution_count": null,
      "metadata": {
        "id": "PA28-iv2FSQo"
      },
      "outputs": [],
      "source": [
        "#Definindo as Features (X's):\n",
        "features=coln[1:]\n",
        "X=df_ML[features]\n",
        "\n",
        "#Definindo os Targets (Y's):\n",
        "\n",
        "targets=coln[0] #Definindo lista de targets\n",
        "Y=df_ML[targets]"
      ]
    },
    {
      "cell_type": "code",
      "execution_count": null,
      "metadata": {
        "id": "wSfco4MdFSQp"
      },
      "outputs": [],
      "source": [
        "#Dividindo dados no Tempo\n",
        "X_tempo = X[c_T]\n",
        "c_X_tempo=list(X_tempo)\n",
        "print(c_X_tempo)\n",
        "\n",
        "#Dividindo as FFT's por Segmentos / Sensores / Eixos (SUBDATASETS):\n",
        "X_fft_a1_x=X[c_F_a1_x]\n",
        "X_fft_a1_y=X[c_F_a1_y]\n",
        "X_fft_a1_z=X[c_F_a1_z]\n",
        "\n",
        "X_fft_a2_x=X[c_F_a2_x]\n",
        "X_fft_a2_y=X[c_F_a2_y]\n",
        "X_fft_a2_z=X[c_F_a2_z]\n",
        "\n",
        "X_fft_a3_x=X[c_F_a3_x]\n",
        "X_fft_a3_y=X[c_F_a3_y]\n",
        "X_fft_a3_z=X[c_F_a3_z]\n",
        "\n",
        "X_fft_g1_x=X[c_F_g1_x]\n",
        "X_fft_g1_y=X[c_F_g1_y]\n",
        "X_fft_g1_z=X[c_F_g1_z]\n",
        "\n",
        "X_fft_g2_x=X[c_F_g2_x]\n",
        "X_fft_g2_y=X[c_F_g2_y]\n",
        "X_fft_g2_z=X[c_F_g2_z]\n",
        "\n",
        "X_fft_g3_x=X[c_F_g3_x]\n",
        "X_fft_g3_y=X[c_F_g3_y]\n",
        "X_fft_g3_z=X[c_F_g3_z]"
      ]
    },
    {
      "cell_type": "code",
      "execution_count": null,
      "metadata": {
        "id": "gO2R9pGVFSQp"
      },
      "outputs": [],
      "source": [
        "sc = StandardScaler()\n",
        "\n",
        "#Aplicando a cada X_fft e Tempo:\n",
        "\n",
        "X_tempo = sc.fit_transform(X_tempo)\n",
        "\n",
        "X_fft_a1_x = sc.fit_transform(X_fft_a1_x)\n",
        "X_fft_a1_y = sc.fit_transform(X_fft_a1_y)\n",
        "X_fft_a1_z = sc.fit_transform(X_fft_a1_z)\n",
        "\n",
        "X_fft_a2_x = sc.fit_transform(X_fft_a2_x)\n",
        "X_fft_a2_y = sc.fit_transform(X_fft_a2_y)\n",
        "X_fft_a2_z = sc.fit_transform(X_fft_a2_z)\n",
        "\n",
        "X_fft_a3_x = sc.fit_transform(X_fft_a3_x)\n",
        "X_fft_a3_y = sc.fit_transform(X_fft_a3_y)\n",
        "X_fft_a3_z = sc.fit_transform(X_fft_a3_z)\n",
        "\n",
        "X_fft_g1_x = sc.fit_transform(X_fft_g1_x)\n",
        "X_fft_g1_y = sc.fit_transform(X_fft_g1_y)\n",
        "X_fft_g1_z = sc.fit_transform(X_fft_g1_z)\n",
        "\n",
        "X_fft_g2_x = sc.fit_transform(X_fft_g2_x)\n",
        "X_fft_g2_y = sc.fit_transform(X_fft_g2_y)\n",
        "X_fft_g2_z = sc.fit_transform(X_fft_g2_z)\n",
        "\n",
        "X_fft_g3_x = sc.fit_transform(X_fft_g3_x)\n",
        "X_fft_g3_y = sc.fit_transform(X_fft_g3_y)\n",
        "X_fft_g3_z = sc.fit_transform(X_fft_g3_z)"
      ]
    },
    {
      "cell_type": "code",
      "execution_count": null,
      "metadata": {
        "id": "v4iyhfynFSQq"
      },
      "outputs": [],
      "source": [
        "df_Y=pd.DataFrame(Y, columns = ['Classificação'])\n",
        "df_Y"
      ]
    },
    {
      "cell_type": "code",
      "execution_count": null,
      "metadata": {
        "id": "xin1E9OIFSQq"
      },
      "outputs": [],
      "source": [
        "df_X_tempo=pd.DataFrame(X_tempo, columns = c_X_tempo)\n",
        "\n",
        "df_X_tempo"
      ]
    },
    {
      "cell_type": "code",
      "execution_count": null,
      "metadata": {
        "id": "ozcFF5_mFSQq"
      },
      "outputs": [],
      "source": [
        "pca = PCA(0.80) # 80% de Variância Explicada"
      ]
    },
    {
      "cell_type": "code",
      "execution_count": null,
      "metadata": {
        "id": "8k3mwjmuFSQr"
      },
      "outputs": [],
      "source": [
        "#Aplicando o PCA para cada FFT:\n",
        "\n",
        "PCA_X_fft_a1_x = pca.fit_transform(X_fft_a1_x)\n",
        "PCA_X_fft_a1_y = pca.fit_transform(X_fft_a1_y)\n",
        "PCA_X_fft_a1_z = pca.fit_transform(X_fft_a1_z)\n",
        "\n",
        "PCA_X_fft_a2_x = pca.fit_transform(X_fft_a2_x)\n",
        "PCA_X_fft_a2_y = pca.fit_transform(X_fft_a2_y)\n",
        "PCA_X_fft_a2_z = pca.fit_transform(X_fft_a2_z)\n",
        "\n",
        "PCA_X_fft_a3_x = pca.fit_transform(X_fft_a3_x)\n",
        "PCA_X_fft_a3_y = pca.fit_transform(X_fft_a3_y)\n",
        "PCA_X_fft_a3_z = pca.fit_transform(X_fft_a3_z)\n",
        "\n",
        "PCA_X_fft_g1_x = pca.fit_transform(X_fft_g1_x)\n",
        "PCA_X_fft_g1_y = pca.fit_transform(X_fft_g1_y)\n",
        "PCA_X_fft_g1_z = pca.fit_transform(X_fft_g1_z)\n",
        "\n",
        "PCA_X_fft_g2_x = pca.fit_transform(X_fft_g2_x)\n",
        "PCA_X_fft_g2_y = pca.fit_transform(X_fft_g2_y)\n",
        "PCA_X_fft_g2_z = pca.fit_transform(X_fft_g2_z)\n",
        "\n",
        "PCA_X_fft_g3_x = pca.fit_transform(X_fft_g3_x)\n",
        "PCA_X_fft_g3_y = pca.fit_transform(X_fft_g3_y)\n",
        "PCA_X_fft_g3_z = pca.fit_transform(X_fft_g3_z)"
      ]
    },
    {
      "cell_type": "code",
      "execution_count": null,
      "metadata": {
        "id": "BFcs2gAlFSQr"
      },
      "outputs": [],
      "source": [
        "#Sub DataFrames:\n",
        "df_PCA_FFT_a1_X = pd.DataFrame(PCA_X_fft_a1_x, columns = ['PCA_FFT_a1_X_'+str(i) for i in range(len(PCA_X_fft_a1_x[0]))])\n",
        "df_PCA_FFT_a1_Y = pd.DataFrame(PCA_X_fft_a1_y, columns = ['PCA_FFT_a1_Y_'+str(i) for i in range(len(PCA_X_fft_a1_y[0]))])\n",
        "df_PCA_FFT_a1_Z = pd.DataFrame(PCA_X_fft_a1_z, columns = ['PCA_FFT_a1_Z_'+str(i) for i in range(len(PCA_X_fft_a1_z[0]))])\n",
        "\n",
        "df_PCA_FFT_a2_X = pd.DataFrame(PCA_X_fft_a2_x, columns = ['PCA_FFT_a2_X_'+str(i) for i in range(len(PCA_X_fft_a2_x[0]))])\n",
        "df_PCA_FFT_a2_Y = pd.DataFrame(PCA_X_fft_a2_y, columns = ['PCA_FFT_a2_Y_'+str(i) for i in range(len(PCA_X_fft_a2_y[0]))])\n",
        "df_PCA_FFT_a2_Z = pd.DataFrame(PCA_X_fft_a2_z, columns = ['PCA_FFT_a2_Z_'+str(i) for i in range(len(PCA_X_fft_a2_z[0]))])\n",
        "\n",
        "df_PCA_FFT_a3_X = pd.DataFrame(PCA_X_fft_a3_x, columns = ['PCA_FFT_a3_X_'+str(i) for i in range(len(PCA_X_fft_a3_x[0]))])\n",
        "df_PCA_FFT_a3_Y = pd.DataFrame(PCA_X_fft_a3_y, columns = ['PCA_FFT_a3_Y_'+str(i) for i in range(len(PCA_X_fft_a3_y[0]))])\n",
        "df_PCA_FFT_a3_Z = pd.DataFrame(PCA_X_fft_a3_z, columns = ['PCA_FFT_a3_Z_'+str(i) for i in range(len(PCA_X_fft_a3_z[0]))])\n",
        "\n",
        "df_PCA_FFT_g1_X = pd.DataFrame(PCA_X_fft_g1_x, columns = ['PCA_FFT_g1_X_'+str(i) for i in range(len(PCA_X_fft_g1_x[0]))])\n",
        "df_PCA_FFT_g1_Y = pd.DataFrame(PCA_X_fft_g1_y, columns = ['PCA_FFT_g1_Y_'+str(i) for i in range(len(PCA_X_fft_g1_y[0]))])\n",
        "df_PCA_FFT_g1_Z = pd.DataFrame(PCA_X_fft_g1_z, columns = ['PCA_FFT_g1_Z_'+str(i) for i in range(len(PCA_X_fft_g1_z[0]))])\n",
        "\n",
        "df_PCA_FFT_g2_X = pd.DataFrame(PCA_X_fft_g2_x, columns = ['PCA_FFT_g2_X_'+str(i) for i in range(len(PCA_X_fft_g2_x[0]))])\n",
        "df_PCA_FFT_g2_Y = pd.DataFrame(PCA_X_fft_g2_y, columns = ['PCA_FFT_g2_Y_'+str(i) for i in range(len(PCA_X_fft_g2_y[0]))])\n",
        "df_PCA_FFT_g2_Z = pd.DataFrame(PCA_X_fft_g2_z, columns = ['PCA_FFT_g2_Z_'+str(i) for i in range(len(PCA_X_fft_g2_z[0]))])\n",
        "\n",
        "df_PCA_FFT_g3_X = pd.DataFrame(PCA_X_fft_g3_x, columns = ['PCA_FFT_g3_X_'+str(i) for i in range(len(PCA_X_fft_g3_x[0]))])\n",
        "df_PCA_FFT_g3_Y = pd.DataFrame(PCA_X_fft_g3_y, columns = ['PCA_FFT_g3_Y_'+str(i) for i in range(len(PCA_X_fft_g3_y[0]))])\n",
        "df_PCA_FFT_g3_Z = pd.DataFrame(PCA_X_fft_g3_z, columns = ['PCA_FFT_g3_Z_'+str(i) for i in range(len(PCA_X_fft_g3_z[0]))])"
      ]
    },
    {
      "cell_type": "code",
      "execution_count": null,
      "metadata": {
        "id": "wrTaRpnLFSQs"
      },
      "outputs": [],
      "source": [
        "#Teste:\n",
        "df_PCA_FFT_a3_Z"
      ]
    },
    {
      "cell_type": "code",
      "execution_count": null,
      "metadata": {
        "id": "pEu2Ina8FSQs"
      },
      "outputs": [],
      "source": [
        "#Agrupando Tudo e Montar Tabela para Arquitetura 1:\n",
        "frames=[df_Y,df_X_tempo,df_PCA_FFT_a1_X,df_PCA_FFT_a1_Y,df_PCA_FFT_a1_Z,df_PCA_FFT_a2_X,df_PCA_FFT_a2_Y,df_PCA_FFT_a2_Z,df_PCA_FFT_a3_X,df_PCA_FFT_a3_Y,df_PCA_FFT_a3_Z,df_PCA_FFT_g1_X,df_PCA_FFT_g1_Y,df_PCA_FFT_g1_Z,df_PCA_FFT_g2_X,df_PCA_FFT_g2_Y,df_PCA_FFT_g2_Z,df_PCA_FFT_g3_X,df_PCA_FFT_g3_Y,df_PCA_FFT_g3_Z]\n",
        "df_arc3=pd.concat(frames,axis=1)"
      ]
    },
    {
      "cell_type": "code",
      "execution_count": null,
      "metadata": {
        "id": "dfo64iFIFSQt"
      },
      "outputs": [],
      "source": [
        "df_arc3"
      ]
    },
    {
      "cell_type": "code",
      "execution_count": null,
      "metadata": {
        "id": "2WMmqA--FSQt"
      },
      "outputs": [],
      "source": [
        "df_arc3.isnull().sum()"
      ]
    },
    {
      "cell_type": "code",
      "execution_count": null,
      "metadata": {
        "id": "sV811GwxFSQt"
      },
      "outputs": [],
      "source": [
        "#Conferindo NANs:\n",
        "for x in df_arc3.isnull().sum():\n",
        "  if x != 0:\n",
        "    print('TEM ALGUM NAN')\n",
        "print(\"Pode Seguir !!! Sem NANs\")"
      ]
    },
    {
      "cell_type": "code",
      "source": [
        "df_arc3.to_csv('DataframeML_ARC3_TempoFFT.csv')"
      ],
      "metadata": {
        "id": "mGuivvlz8Jc5"
      },
      "execution_count": null,
      "outputs": []
    },
    {
      "cell_type": "code",
      "execution_count": null,
      "metadata": {
        "id": "zMy3PtY2FSQu"
      },
      "outputs": [],
      "source": [
        "# Nome das Colunas:\n",
        "#Lista com Nome de cada Coluna:\n",
        "coln_arc3=list(df_arc3)\n",
        "print(coln_arc3, \"\\n\")\n",
        "\n",
        "print(len(coln_arc3))\n",
        "#Definindo as Features (X's):\n",
        "features=coln_arc3[1:]\n",
        "X_arc3=df_arc3[features]\n",
        "\n",
        "print(coln_arc3[1:])\n",
        "#Definindo os Targets (Y's):\n",
        "\n",
        "targets=coln_arc3[0] #Definindo lista de targets\n",
        "Y_arc3=df_arc3[targets]"
      ]
    },
    {
      "cell_type": "code",
      "execution_count": null,
      "metadata": {
        "id": "9ikgCbIcFSQu"
      },
      "outputs": [],
      "source": [
        "X_arc3"
      ]
    },
    {
      "cell_type": "code",
      "execution_count": null,
      "metadata": {
        "id": "hrjChduOFSQv"
      },
      "outputs": [],
      "source": [
        "Y_arc3"
      ]
    },
    {
      "cell_type": "markdown",
      "metadata": {
        "id": "QXJs7z5XFSQv"
      },
      "source": [
        "## Random Forest (COM TEMPO)"
      ]
    },
    {
      "cell_type": "code",
      "source": [
        "X_arc3"
      ],
      "metadata": {
        "id": "dggXfEI98ZzH"
      },
      "execution_count": null,
      "outputs": []
    },
    {
      "cell_type": "code",
      "execution_count": null,
      "metadata": {
        "id": "joJx3fpVFSQv"
      },
      "outputs": [],
      "source": [
        "Y_arc3 = LabelEncoder().fit_transform(Y_arc3)\n",
        "\n",
        "Y_arc3"
      ]
    },
    {
      "cell_type": "code",
      "execution_count": null,
      "metadata": {
        "id": "6MsfZKjiFSQw"
      },
      "outputs": [],
      "source": [
        "X_arc3_train, X_arc3_test, y_arc3_train, y_arc3_test = train_test_split(X_arc3, Y_arc3, test_size = 0.3, random_state = 0)\n",
        "\n",
        "RFC_arc3 = RandomForestClassifier(max_depth= 20, n_estimators = 20, random_state = 0)\n",
        "RFC_arc3.fit(X_arc3_train, y_arc3_train)"
      ]
    },
    {
      "cell_type": "code",
      "execution_count": null,
      "metadata": {
        "id": "pYigiDPoFSQw"
      },
      "outputs": [],
      "source": [
        "y_arc3_pred = RFC_arc3.predict(X_arc3_test)"
      ]
    },
    {
      "cell_type": "code",
      "execution_count": null,
      "metadata": {
        "id": "ROyWtcBRFSQx"
      },
      "outputs": [],
      "source": [
        "train_score_rf=RFC_arc3.score(X_arc3_train,y_arc3_train)\n",
        "print(train_score_rf)"
      ]
    },
    {
      "cell_type": "code",
      "execution_count": null,
      "metadata": {
        "id": "Dd_7DVFBFSQx"
      },
      "outputs": [],
      "source": [
        "test_score_rf=RFC_arc3.score(X_arc3_test,y_arc3_test)\n",
        "print(test_score_rf)"
      ]
    },
    {
      "cell_type": "code",
      "execution_count": null,
      "metadata": {
        "id": "TNGW47R6FSQx"
      },
      "outputs": [],
      "source": [
        "accuracy_score(y_arc3_test, y_arc3_pred)\n",
        "print('accuracy_score %:',accuracy_score(y_arc3_test, y_arc3_pred)*100)"
      ]
    },
    {
      "cell_type": "code",
      "execution_count": null,
      "metadata": {
        "id": "0QluB4rlFSQy"
      },
      "outputs": [],
      "source": [
        "RFC_arc3.feature_importances_"
      ]
    },
    {
      "cell_type": "code",
      "execution_count": null,
      "metadata": {
        "id": "uQp6g-idFSQy"
      },
      "outputs": [],
      "source": [
        "np.max(RFC_arc3.feature_importances_)"
      ]
    },
    {
      "cell_type": "code",
      "execution_count": null,
      "metadata": {
        "id": "L3rEj1NtFSQy"
      },
      "outputs": [],
      "source": [
        "imp_df = pd.DataFrame({\n",
        "    \"Varname\": X_arc3_train.columns,\n",
        "    \"Imp\": RFC_arc3.feature_importances_\n",
        "})"
      ]
    },
    {
      "cell_type": "code",
      "execution_count": null,
      "metadata": {
        "id": "0VGd3TTUFSQy"
      },
      "outputs": [],
      "source": [
        "#Vendo a Importância das Features para RF:\n",
        "imp_df.sort_values(by=\"Imp\", ascending=False)[0:50]"
      ]
    },
    {
      "cell_type": "code",
      "execution_count": null,
      "metadata": {
        "id": "x6MNLj0TFSQz"
      },
      "outputs": [],
      "source": [
        "confmatrix_train = confusion_matrix(y_arc3_train,RFC_arc3.predict(X_arc3_train))\n",
        "confmatrix_test=confusion_matrix(y_arc3_test,RFC_arc3.predict(X_arc3_test))\n",
        "\n",
        "fig, ax = plt.subplots(figsize=(6,5))\n",
        "sns.heatmap(confmatrix_train, annot=True, fmt='g', ax=ax)\n",
        "ax.xaxis.set_ticklabels(falhas,rotation=90)\n",
        "ax.yaxis.set_ticklabels(falhas,rotation=0)\n",
        "ax.set_title('Train set Confusion Matrix',y=1)\n",
        "plt.show()\n",
        "\n",
        "fig, ax = plt.subplots(figsize=(6,5))\n",
        "sns.heatmap(confmatrix_test, annot=True, fmt='g', ax=ax)\n",
        "ax.xaxis.set_ticklabels(falhas,rotation=90)\n",
        "ax.yaxis.set_ticklabels(falhas,rotation=0)\n",
        "ax.set_title('Test set Confusion Matrix',y=1)\n",
        "plt.show()"
      ]
    },
    {
      "cell_type": "markdown",
      "metadata": {
        "id": "s2DAmD2WFSQz"
      },
      "source": [
        "### GridSearchCV:"
      ]
    },
    {
      "cell_type": "code",
      "execution_count": null,
      "metadata": {
        "id": "oieZyo8fFSQz"
      },
      "outputs": [],
      "source": [
        "#https://www.kdnuggets.com/2022/10/hyperparameter-tuning-grid-search-random-search-python.html\n",
        "params_arc3 = {\n",
        "'n_estimators': [25,50,100,250,500],\n",
        "'max_depth' : [10,25,50,125,250],\n",
        "'criterion' :['gini', 'entropy'],\n",
        "}"
      ]
    },
    {
      "cell_type": "code",
      "execution_count": null,
      "metadata": {
        "id": "y0_KaxkiFSQ0"
      },
      "outputs": [],
      "source": [
        "print(\"Otimização Dados Arquitetura 3:\")\n",
        "\n",
        "grid_arc3 = GridSearchCV(RFC_arc3 ,params_arc3, scoring='accuracy',cv=5) #43 min\n",
        "grid_arc3.fit(X_arc3_train,y_arc3_train)\n",
        "\n",
        "print(grid_arc3.best_params_, grid_arc3.best_score_)\n",
        "rf_best_arc3 = grid_arc3.best_estimator_\n",
        "\n",
        "y_arc3_pred = rf_best_arc3.predict(X_arc3_test)\n",
        "\n",
        "accuracy_score(y_arc3_test, y_arc3_pred)\n",
        "print('accuracy_score %:',accuracy_score(y_arc3_test, y_arc3_pred)*100)\n",
        "\n",
        "print(rf_best_arc3.feature_importances_)\n",
        "\n",
        "imp_df = pd.DataFrame({\n",
        "    \"Varname\": X_arc3_train.columns,\n",
        "    \"Imp\": rf_best_arc3.feature_importances_\n",
        "})"
      ]
    },
    {
      "cell_type": "code",
      "execution_count": null,
      "metadata": {
        "id": "LQKA2LPlFSQ0"
      },
      "outputs": [],
      "source": [
        "#Vendo a Importância das Features para RF Grid:\n",
        "imp_df.sort_values(by=\"Imp\", ascending=False)[0:50]"
      ]
    },
    {
      "cell_type": "markdown",
      "metadata": {
        "id": "UK_KzCBVFSQ1"
      },
      "source": [
        "## SVC (COM TEMPO)"
      ]
    },
    {
      "cell_type": "code",
      "source": [
        "X_arc3"
      ],
      "metadata": {
        "id": "8j4dBPD_8eEJ"
      },
      "execution_count": null,
      "outputs": []
    },
    {
      "cell_type": "code",
      "execution_count": null,
      "metadata": {
        "id": "qH2m4ILYFSQ1"
      },
      "outputs": [],
      "source": [
        "Y_arc3 = LabelEncoder().fit_transform(Y_arc3)\n",
        "\n",
        "Y_arc3"
      ]
    },
    {
      "cell_type": "code",
      "execution_count": null,
      "metadata": {
        "id": "B-Hv_ZAcFSQ1"
      },
      "outputs": [],
      "source": [
        "X_arc3_train, X_arc3_test, y_arc3_train, y_arc3_test = train_test_split(X_arc3, Y_arc3, test_size = 0.3, random_state = 0)"
      ]
    },
    {
      "cell_type": "markdown",
      "metadata": {
        "id": "2iWG1TmAFSQ1"
      },
      "source": [
        "### Linear"
      ]
    },
    {
      "cell_type": "code",
      "execution_count": null,
      "metadata": {
        "id": "5qvSDAaGFSQ2"
      },
      "outputs": [],
      "source": [
        "SVC_arc3 = SVC(kernel = 'linear', random_state = 0)\n",
        "SVC_arc3.fit(X_arc3_train, y_arc3_train)"
      ]
    },
    {
      "cell_type": "code",
      "execution_count": null,
      "metadata": {
        "id": "oordXaEQFSQ2"
      },
      "outputs": [],
      "source": [
        "y_arc3_pred = SVC_arc3.predict(X_arc3_test)"
      ]
    },
    {
      "cell_type": "code",
      "execution_count": null,
      "metadata": {
        "id": "4ygujVy6FSQ2"
      },
      "outputs": [],
      "source": [
        "train_score_svc=SVC_arc3.score(X_arc3_train,y_arc3_train)\n",
        "print(train_score_svc)"
      ]
    },
    {
      "cell_type": "code",
      "execution_count": null,
      "metadata": {
        "id": "jF8_19HvFSQ3"
      },
      "outputs": [],
      "source": [
        "test_score_svc=SVC_arc3.score(X_arc3_test,y_arc3_test)\n",
        "print(test_score_svc)"
      ]
    },
    {
      "cell_type": "code",
      "execution_count": null,
      "metadata": {
        "id": "ShodYFqdFSQ4"
      },
      "outputs": [],
      "source": [
        "accuracy_score(y_arc3_test, y_arc3_pred)\n",
        "print('accuracy_score %:',accuracy_score(y_arc3_test, y_arc3_pred)*100)"
      ]
    },
    {
      "cell_type": "code",
      "execution_count": null,
      "metadata": {
        "id": "vaUEDwwoFSQ4"
      },
      "outputs": [],
      "source": [
        "confmatrix_train = confusion_matrix(y_arc3_train,SVC_arc3.predict(X_arc3_train))\n",
        "confmatrix_test=confusion_matrix(y_arc3_test,SVC_arc3.predict(X_arc3_test))\n",
        "\n",
        "fig, ax = plt.subplots(figsize=(6,5))\n",
        "sns.heatmap(confmatrix_train, annot=True, fmt='g', ax=ax)\n",
        "ax.xaxis.set_ticklabels(falhas,rotation=90)\n",
        "ax.yaxis.set_ticklabels(falhas,rotation=0)\n",
        "ax.set_title('Train set Confusion Matrix',y=1)\n",
        "plt.show()\n",
        "\n",
        "fig, ax = plt.subplots(figsize=(6,5))\n",
        "sns.heatmap(confmatrix_test, annot=True, fmt='g', ax=ax)\n",
        "ax.xaxis.set_ticklabels(falhas,rotation=90)\n",
        "ax.yaxis.set_ticklabels(falhas,rotation=0)\n",
        "ax.set_title('Test set Confusion Matrix',y=1)\n",
        "plt.show()"
      ]
    },
    {
      "cell_type": "markdown",
      "metadata": {
        "id": "BJjAqMwgFSQ5"
      },
      "source": [
        "### Polinomial:"
      ]
    },
    {
      "cell_type": "code",
      "execution_count": null,
      "metadata": {
        "id": "31vaQpnAFSQ5"
      },
      "outputs": [],
      "source": [
        "SVC_arc3 = SVC(kernel = 'poly',degree = 10, random_state = 0)\n",
        "SVC_arc3.fit(X_arc3_train, y_arc3_train)"
      ]
    },
    {
      "cell_type": "code",
      "execution_count": null,
      "metadata": {
        "id": "ms5OY8aDFSQ5"
      },
      "outputs": [],
      "source": [
        "y_arc3_pred = SVC_arc3.predict(X_arc3_test)"
      ]
    },
    {
      "cell_type": "code",
      "execution_count": null,
      "metadata": {
        "id": "mXBuuUyJFSQ6"
      },
      "outputs": [],
      "source": [
        "train_score_svc=SVC_arc3.score(X_arc3_train,y_arc3_train)\n",
        "print(train_score_svc)"
      ]
    },
    {
      "cell_type": "code",
      "execution_count": null,
      "metadata": {
        "id": "KsWcTgm8FSQ6"
      },
      "outputs": [],
      "source": [
        "test_score_svc=SVC_arc3.score(X_arc3_test,y_arc3_test)\n",
        "print(test_score_svc)"
      ]
    },
    {
      "cell_type": "code",
      "execution_count": null,
      "metadata": {
        "id": "iszNWkMdFSQ6"
      },
      "outputs": [],
      "source": [
        "accuracy_score(y_arc3_test, y_arc3_pred)\n",
        "print('accuracy_score %:',accuracy_score(y_arc3_test, y_arc3_pred)*100)"
      ]
    },
    {
      "cell_type": "code",
      "execution_count": null,
      "metadata": {
        "id": "sshvkEpAFSQ7"
      },
      "outputs": [],
      "source": [
        "confmatrix_train = confusion_matrix(y_arc3_train,SVC_arc3.predict(X_arc3_train))\n",
        "confmatrix_test=confusion_matrix(y_arc3_test,SVC_arc3.predict(X_arc3_test))\n",
        "\n",
        "fig, ax = plt.subplots(figsize=(6,5))\n",
        "sns.heatmap(confmatrix_train, annot=True, fmt='g', ax=ax)\n",
        "ax.xaxis.set_ticklabels(falhas,rotation=90)\n",
        "ax.yaxis.set_ticklabels(falhas,rotation=0)\n",
        "ax.set_title('Train set Confusion Matrix',y=1)\n",
        "plt.show()\n",
        "\n",
        "fig, ax = plt.subplots(figsize=(6,5))\n",
        "sns.heatmap(confmatrix_test, annot=True, fmt='g', ax=ax)\n",
        "ax.xaxis.set_ticklabels(falhas,rotation=90)\n",
        "ax.yaxis.set_ticklabels(falhas,rotation=0)\n",
        "ax.set_title('Test set Confusion Matrix',y=1)\n",
        "plt.show()"
      ]
    },
    {
      "cell_type": "markdown",
      "metadata": {
        "id": "PrnDtYQpFSQ8"
      },
      "source": [
        "### RBF:"
      ]
    },
    {
      "cell_type": "code",
      "execution_count": null,
      "metadata": {
        "id": "28fUGZg1FSQ8"
      },
      "outputs": [],
      "source": [
        "SVC_arc3 = SVC(kernel = 'rbf', random_state = 0)\n",
        "SVC_arc3.fit(X_arc3_train, y_arc3_train)"
      ]
    },
    {
      "cell_type": "code",
      "execution_count": null,
      "metadata": {
        "id": "s97Y3wyEFSQ8"
      },
      "outputs": [],
      "source": [
        "y_arc3_pred = SVC_arc3.predict(X_arc3_test)"
      ]
    },
    {
      "cell_type": "code",
      "execution_count": null,
      "metadata": {
        "id": "OamkbaqrFSQ9"
      },
      "outputs": [],
      "source": [
        "train_score_svc=SVC_arc3.score(X_arc3_train,y_arc3_train)\n",
        "print(train_score_svc)"
      ]
    },
    {
      "cell_type": "code",
      "execution_count": null,
      "metadata": {
        "id": "XoL9QoPCFSQ9"
      },
      "outputs": [],
      "source": [
        "test_score_svc=SVC_arc3.score(X_arc3_test,y_arc3_test)\n",
        "print(test_score_svc)"
      ]
    },
    {
      "cell_type": "code",
      "execution_count": null,
      "metadata": {
        "id": "Qsvo25DTFSQ-"
      },
      "outputs": [],
      "source": [
        "accuracy_score(y_arc3_test, y_arc3_pred)\n",
        "print('accuracy_score %:',accuracy_score(y_arc3_test, y_arc3_pred)*100)"
      ]
    },
    {
      "cell_type": "code",
      "execution_count": null,
      "metadata": {
        "id": "NIppivUHFSQ_"
      },
      "outputs": [],
      "source": [
        "confmatrix_train = confusion_matrix(y_arc3_train,SVC_arc3.predict(X_arc3_train))\n",
        "confmatrix_test=confusion_matrix(y_arc3_test,SVC_arc3.predict(X_arc3_test))\n",
        "\n",
        "fig, ax = plt.subplots(figsize=(6,5))\n",
        "sns.heatmap(confmatrix_train, annot=True, fmt='g', ax=ax)\n",
        "ax.xaxis.set_ticklabels(falhas,rotation=90)\n",
        "ax.yaxis.set_ticklabels(falhas,rotation=0)\n",
        "ax.set_title('Train set Confusion Matrix',y=1)\n",
        "plt.show()\n",
        "\n",
        "fig, ax = plt.subplots(figsize=(6,5))\n",
        "sns.heatmap(confmatrix_test, annot=True, fmt='g', ax=ax)\n",
        "ax.xaxis.set_ticklabels(falhas,rotation=90)\n",
        "ax.yaxis.set_ticklabels(falhas,rotation=0)\n",
        "ax.set_title('Test set Confusion Matrix',y=1)\n",
        "plt.show()"
      ]
    },
    {
      "cell_type": "markdown",
      "metadata": {
        "id": "q9aTImocFSRA"
      },
      "source": [
        "### Sigmoid:"
      ]
    },
    {
      "cell_type": "code",
      "execution_count": null,
      "metadata": {
        "id": "82hlpmNsFSRB"
      },
      "outputs": [],
      "source": [
        "SVC_arc3 = SVC(kernel = 'sigmoid', random_state = 0)\n",
        "SVC_arc3.fit(X_arc3_train, y_arc3_train)"
      ]
    },
    {
      "cell_type": "code",
      "execution_count": null,
      "metadata": {
        "id": "4_kb3vbNFSRC"
      },
      "outputs": [],
      "source": [
        "y_arc3_pred = SVC_arc3.predict(X_arc3_test)"
      ]
    },
    {
      "cell_type": "code",
      "execution_count": null,
      "metadata": {
        "id": "v9CgOHyRFSRD"
      },
      "outputs": [],
      "source": [
        "train_score_svc=SVC_arc3.score(X_arc3_train,y_arc3_train)\n",
        "print(train_score_svc)"
      ]
    },
    {
      "cell_type": "code",
      "execution_count": null,
      "metadata": {
        "id": "ArogWsWFFSRD"
      },
      "outputs": [],
      "source": [
        "test_score_svc=SVC_arc3.score(X_arc3_test,y_arc3_test)\n",
        "print(test_score_svc)"
      ]
    },
    {
      "cell_type": "code",
      "execution_count": null,
      "metadata": {
        "id": "92yfwMgLFSRE"
      },
      "outputs": [],
      "source": [
        "accuracy_score(y_arc3_test, y_arc3_pred)\n",
        "print('accuracy_score %:',accuracy_score(y_arc3_test, y_arc3_pred)*100)"
      ]
    },
    {
      "cell_type": "code",
      "execution_count": null,
      "metadata": {
        "id": "rlX1kMWqFSRE"
      },
      "outputs": [],
      "source": [
        "confmatrix_train = confusion_matrix(y_arc3_train,SVC_arc3.predict(X_arc3_train))\n",
        "confmatrix_test=confusion_matrix(y_arc3_test,SVC_arc3.predict(X_arc3_test))\n",
        "\n",
        "fig, ax = plt.subplots(figsize=(6,5))\n",
        "sns.heatmap(confmatrix_train, annot=True, fmt='g', ax=ax)\n",
        "ax.xaxis.set_ticklabels(falhas,rotation=90)\n",
        "ax.yaxis.set_ticklabels(falhas,rotation=0)\n",
        "ax.set_title('Train set Confusion Matrix',y=1)\n",
        "plt.show()\n",
        "\n",
        "fig, ax = plt.subplots(figsize=(6,5))\n",
        "sns.heatmap(confmatrix_test, annot=True, fmt='g', ax=ax)\n",
        "ax.xaxis.set_ticklabels(falhas,rotation=90)\n",
        "ax.yaxis.set_ticklabels(falhas,rotation=0)\n",
        "ax.set_title('Test set Confusion Matrix',y=1)\n",
        "plt.show()"
      ]
    },
    {
      "cell_type": "markdown",
      "metadata": {
        "id": "vvuKsgOqFSRF"
      },
      "source": [
        "### GridSearchCV"
      ]
    },
    {
      "cell_type": "markdown",
      "metadata": {
        "id": "8Ol2b3PsFSRF"
      },
      "source": [
        "Abandonamos o Kernel polinomial, pois não importa o grau do polinomio, sempre fica ruim"
      ]
    },
    {
      "cell_type": "code",
      "execution_count": null,
      "metadata": {
        "id": "DOgiHqM_FSRG"
      },
      "outputs": [],
      "source": [
        "params_arc3_SVC_Linear = {\n",
        "'kernel':['linear'],\n",
        "'C':[0.001,0.01,0.1,1,10,100,1000],\n",
        "}\n",
        "\n",
        "params_arc3_SVC_RS = {\n",
        "'kernel':['rbf','sigmoid'],\n",
        "'gamma':['scale', 'auto'],\n",
        "'C':[0.001,0.01,0.1,1,10,100,1000],\n",
        "}"
      ]
    },
    {
      "cell_type": "code",
      "execution_count": null,
      "metadata": {
        "id": "i9l3c9nxFSRG"
      },
      "outputs": [],
      "source": [
        "for params in [params_arc3_SVC_Linear,params_arc3_SVC_RS]:\n",
        "  print(\"Otimização Dados Arquitetura 3:\")\n",
        "  grid_arc3_SVC = GridSearchCV(SVC_arc3 ,params, scoring='accuracy')\n",
        "  grid_arc3_SVC.fit(X_arc3_train,y_arc3_train)\n",
        "  print(grid_arc3_SVC.best_params_, grid_arc3_SVC.best_score_)\n",
        "  rf_best_arc3_SVC = grid_arc3_SVC.best_estimator_\n",
        "\n",
        "  y_arc3_pred_SVC = rf_best_arc3_SVC.predict(X_arc3_test)\n",
        "\n",
        "  accuracy_score(y_arc3_test, y_arc3_pred_SVC)\n",
        "  print('accuracy_score %:',accuracy_score(y_arc3_test, y_arc3_pred_SVC)*100)\n",
        "  print()"
      ]
    },
    {
      "cell_type": "markdown",
      "metadata": {
        "id": "xkLtGz5dFSRH"
      },
      "source": [
        "## Tabela sem Tempo"
      ]
    },
    {
      "cell_type": "code",
      "execution_count": null,
      "metadata": {
        "id": "s3nijo57FSRH"
      },
      "outputs": [],
      "source": [
        "df_arc3"
      ]
    },
    {
      "cell_type": "code",
      "execution_count": null,
      "metadata": {
        "id": "MGGw8jvbFSRH"
      },
      "outputs": [],
      "source": [
        "df_arc3.drop(c_X_tempo[1:],axis=1,inplace=True)"
      ]
    },
    {
      "cell_type": "code",
      "execution_count": null,
      "metadata": {
        "id": "QN53XF8cFSRI"
      },
      "outputs": [],
      "source": [
        "df_arc3"
      ]
    },
    {
      "cell_type": "code",
      "source": [
        "df_arc3.to_csv('DataframeML_ARC3_FFT.csv')"
      ],
      "metadata": {
        "id": "iKzTfugD8mvK"
      },
      "execution_count": null,
      "outputs": []
    },
    {
      "cell_type": "code",
      "execution_count": null,
      "metadata": {
        "id": "2f2mCXi5FSRI"
      },
      "outputs": [],
      "source": [
        "# Nome das Colunas:\n",
        "#Lista com Nome de cada Coluna:\n",
        "coln_arc3=list(df_arc3)\n",
        "print(coln_arc3, \"\\n\")\n",
        "\n",
        "print(len(coln_arc3))\n",
        "#Definindo as Features (X's):\n",
        "features=coln_arc3[1:]\n",
        "X_arc3=df_arc3[features]\n",
        "\n",
        "print(coln_arc3[1:])\n",
        "#Definindo os Targets (Y's):\n",
        "\n",
        "targets=coln_arc3[0] #Definindo lista de targets\n",
        "Y_arc3=df_arc3[targets]"
      ]
    },
    {
      "cell_type": "code",
      "execution_count": null,
      "metadata": {
        "id": "xh5Fh6e8FSRJ"
      },
      "outputs": [],
      "source": [
        "Y_arc3"
      ]
    },
    {
      "cell_type": "code",
      "execution_count": null,
      "metadata": {
        "id": "ffsej-t6FSRK"
      },
      "outputs": [],
      "source": [
        "X_arc3"
      ]
    },
    {
      "cell_type": "markdown",
      "metadata": {
        "id": "U9Rovz_AL7h7"
      },
      "source": [
        "## Random Forest (SEM TEMPO)"
      ]
    },
    {
      "cell_type": "code",
      "source": [
        "X_arc3"
      ],
      "metadata": {
        "id": "cLnNnm3Y8z_e"
      },
      "execution_count": null,
      "outputs": []
    },
    {
      "cell_type": "code",
      "execution_count": null,
      "metadata": {
        "id": "greJGmCKL7h9"
      },
      "outputs": [],
      "source": [
        "Y_arc3 = LabelEncoder().fit_transform(Y_arc3)\n",
        "\n",
        "Y_arc3"
      ]
    },
    {
      "cell_type": "code",
      "execution_count": null,
      "metadata": {
        "id": "I9ExcAdzL7h-"
      },
      "outputs": [],
      "source": [
        "X_arc3_train, X_arc3_test, y_arc3_train, y_arc3_test = train_test_split(X_arc3, Y_arc3, test_size = 0.3, random_state = 0)\n",
        "\n",
        "RFC_arc3 = RandomForestClassifier(max_depth= 100, n_estimators = 100, random_state = 0)\n",
        "RFC_arc3.fit(X_arc3_train, y_arc3_train)"
      ]
    },
    {
      "cell_type": "code",
      "execution_count": null,
      "metadata": {
        "id": "N7_uJxPXL7h_"
      },
      "outputs": [],
      "source": [
        "y_arc3_pred = RFC_arc3.predict(X_arc3_test)"
      ]
    },
    {
      "cell_type": "code",
      "execution_count": null,
      "metadata": {
        "id": "8CWOcCj9L7h_"
      },
      "outputs": [],
      "source": [
        "train_score_rf=RFC_arc3.score(X_arc3_train,y_arc3_train)\n",
        "print(train_score_rf)"
      ]
    },
    {
      "cell_type": "code",
      "execution_count": null,
      "metadata": {
        "id": "zXw-7tQIL7iA"
      },
      "outputs": [],
      "source": [
        "test_score_rf=RFC_arc3.score(X_arc3_test,y_arc3_test)\n",
        "print(test_score_rf)"
      ]
    },
    {
      "cell_type": "code",
      "execution_count": null,
      "metadata": {
        "id": "2bEbnJgZL7iB"
      },
      "outputs": [],
      "source": [
        "accuracy_score(y_arc3_test, y_arc3_pred)\n",
        "print('accuracy_score %:',accuracy_score(y_arc3_test, y_arc3_pred)*100)"
      ]
    },
    {
      "cell_type": "code",
      "execution_count": null,
      "metadata": {
        "id": "xcmEdBQvL7iC"
      },
      "outputs": [],
      "source": [
        "RFC_arc3.feature_importances_"
      ]
    },
    {
      "cell_type": "code",
      "execution_count": null,
      "metadata": {
        "id": "tRUKGRPWL7iD"
      },
      "outputs": [],
      "source": [
        "np.max(RFC_arc3.feature_importances_)"
      ]
    },
    {
      "cell_type": "code",
      "execution_count": null,
      "metadata": {
        "id": "kkyxoTEXL7iD"
      },
      "outputs": [],
      "source": [
        "imp_df = pd.DataFrame({\n",
        "    \"Varname\": X_arc3_train.columns,\n",
        "    \"Imp\": RFC_arc3.feature_importances_\n",
        "})"
      ]
    },
    {
      "cell_type": "code",
      "execution_count": null,
      "metadata": {
        "id": "JmuF0Tt2L7iE"
      },
      "outputs": [],
      "source": [
        "#Vendo a Importância das Features para RF:\n",
        "imp_df.sort_values(by=\"Imp\", ascending=False)[0:50]"
      ]
    },
    {
      "cell_type": "code",
      "execution_count": null,
      "metadata": {
        "id": "6J9VLKljL7iF"
      },
      "outputs": [],
      "source": [
        "confmatrix_train = confusion_matrix(y_arc3_train,RFC_arc3.predict(X_arc3_train))\n",
        "confmatrix_test=confusion_matrix(y_arc3_test,RFC_arc3.predict(X_arc3_test))\n",
        "\n",
        "fig, ax = plt.subplots(figsize=(6,5))\n",
        "sns.heatmap(confmatrix_train, annot=True, fmt='g', ax=ax)\n",
        "ax.xaxis.set_ticklabels(falhas,rotation=90)\n",
        "ax.yaxis.set_ticklabels(falhas,rotation=0)\n",
        "ax.set_title('Train set Confusion Matrix',y=1)\n",
        "plt.show()\n",
        "\n",
        "fig, ax = plt.subplots(figsize=(6,5))\n",
        "sns.heatmap(confmatrix_test, annot=True, fmt='g', ax=ax)\n",
        "ax.xaxis.set_ticklabels(falhas,rotation=90)\n",
        "ax.yaxis.set_ticklabels(falhas,rotation=0)\n",
        "ax.set_title('Test set Confusion Matrix',y=1)\n",
        "plt.show()"
      ]
    },
    {
      "cell_type": "markdown",
      "metadata": {
        "id": "06AP7el0L7iG"
      },
      "source": [
        "### GridSearchCV:"
      ]
    },
    {
      "cell_type": "code",
      "execution_count": null,
      "metadata": {
        "id": "4uINu9ClL7iH"
      },
      "outputs": [],
      "source": [
        "#https://www.kdnuggets.com/2022/10/hyperparameter-tuning-grid-search-random-search-python.html\n",
        "params_arc3 = {\n",
        "'n_estimators': [25,50,100,250,500],\n",
        "'max_depth' : [10,25,50,125,250],\n",
        "'criterion' :['gini', 'entropy'],\n",
        "}"
      ]
    },
    {
      "cell_type": "code",
      "execution_count": null,
      "metadata": {
        "id": "Mr-6JKHHL7iI"
      },
      "outputs": [],
      "source": [
        "print(\"Otimização Dados Arquitetura 3:\")\n",
        "\n",
        "grid_arc3 = GridSearchCV(RFC_arc3 ,params_arc3, scoring='accuracy',cv=5) #43 min\n",
        "grid_arc3.fit(X_arc3_train,y_arc3_train)\n",
        "\n",
        "print(grid_arc3.best_params_, grid_arc3.best_score_)\n",
        "rf_best_arc3 = grid_arc3.best_estimator_\n",
        "\n",
        "y_arc3_pred = rf_best_arc3.predict(X_arc3_test)\n",
        "\n",
        "accuracy_score(y_arc3_test, y_arc3_pred)\n",
        "print('accuracy_score %:',accuracy_score(y_arc3_test, y_arc3_pred)*100)\n",
        "\n",
        "print(rf_best_arc3.feature_importances_)\n",
        "\n",
        "imp_df = pd.DataFrame({\n",
        "    \"Varname\": X_arc3_train.columns,\n",
        "    \"Imp\": rf_best_arc3.feature_importances_\n",
        "})"
      ]
    },
    {
      "cell_type": "code",
      "execution_count": null,
      "metadata": {
        "id": "nlyJ1HHPL7iI"
      },
      "outputs": [],
      "source": [
        "#Vendo a Importância das Features para RF Grid:\n",
        "imp_df.sort_values(by=\"Imp\", ascending=False)[0:50]"
      ]
    },
    {
      "cell_type": "markdown",
      "metadata": {
        "id": "trXTGfq2L7iK"
      },
      "source": [
        "## SVC (SEM TEMPO)"
      ]
    },
    {
      "cell_type": "code",
      "source": [
        "X_arc3"
      ],
      "metadata": {
        "id": "_oNY6u6D82vJ"
      },
      "execution_count": null,
      "outputs": []
    },
    {
      "cell_type": "code",
      "execution_count": null,
      "metadata": {
        "id": "bC5scxfPL7iL"
      },
      "outputs": [],
      "source": [
        "Y_arc3 = LabelEncoder().fit_transform(Y_arc3)\n",
        "\n",
        "Y_arc3"
      ]
    },
    {
      "cell_type": "code",
      "execution_count": null,
      "metadata": {
        "id": "QjfRd15_L7iM"
      },
      "outputs": [],
      "source": [
        "X_arc3_train, X_arc3_test, y_arc3_train, y_arc3_test = train_test_split(X_arc3, Y_arc3, test_size = 0.3, random_state = 0)"
      ]
    },
    {
      "cell_type": "markdown",
      "metadata": {
        "id": "jnpvoNsJL7iN"
      },
      "source": [
        "### Linear"
      ]
    },
    {
      "cell_type": "code",
      "execution_count": null,
      "metadata": {
        "id": "BpsNtmiaL7iO"
      },
      "outputs": [],
      "source": [
        "SVC_arc3 = SVC(kernel = 'linear', random_state = 0)\n",
        "SVC_arc3.fit(X_arc3_train, y_arc3_train)"
      ]
    },
    {
      "cell_type": "code",
      "execution_count": null,
      "metadata": {
        "id": "Jj-12zqVL7iQ"
      },
      "outputs": [],
      "source": [
        "y_arc3_pred = SVC_arc3.predict(X_arc3_test)"
      ]
    },
    {
      "cell_type": "code",
      "execution_count": null,
      "metadata": {
        "id": "Bk4NYws9L7iR"
      },
      "outputs": [],
      "source": [
        "train_score_svc=SVC_arc3.score(X_arc3_train,y_arc3_train)\n",
        "print(train_score_svc)"
      ]
    },
    {
      "cell_type": "code",
      "execution_count": null,
      "metadata": {
        "id": "qlgroAKuL7iS"
      },
      "outputs": [],
      "source": [
        "test_score_svc=SVC_arc3.score(X_arc3_test,y_arc3_test)\n",
        "print(test_score_svc)"
      ]
    },
    {
      "cell_type": "code",
      "execution_count": null,
      "metadata": {
        "id": "znIic6qTL7iT"
      },
      "outputs": [],
      "source": [
        "accuracy_score(y_arc3_test, y_arc3_pred)\n",
        "print('accuracy_score %:',accuracy_score(y_arc3_test, y_arc3_pred)*100)"
      ]
    },
    {
      "cell_type": "code",
      "execution_count": null,
      "metadata": {
        "id": "idruVWjbL7iU"
      },
      "outputs": [],
      "source": [
        "confmatrix_train = confusion_matrix(y_arc3_train,SVC_arc3.predict(X_arc3_train))\n",
        "confmatrix_test=confusion_matrix(y_arc3_test,SVC_arc3.predict(X_arc3_test))\n",
        "\n",
        "fig, ax = plt.subplots(figsize=(6,5))\n",
        "sns.heatmap(confmatrix_train, annot=True, fmt='g', ax=ax)\n",
        "ax.xaxis.set_ticklabels(falhas,rotation=90)\n",
        "ax.yaxis.set_ticklabels(falhas,rotation=0)\n",
        "ax.set_title('Train set Confusion Matrix',y=1)\n",
        "plt.show()\n",
        "\n",
        "fig, ax = plt.subplots(figsize=(6,5))\n",
        "sns.heatmap(confmatrix_test, annot=True, fmt='g', ax=ax)\n",
        "ax.xaxis.set_ticklabels(falhas,rotation=90)\n",
        "ax.yaxis.set_ticklabels(falhas,rotation=0)\n",
        "ax.set_title('Test set Confusion Matrix',y=1)\n",
        "plt.show()"
      ]
    },
    {
      "cell_type": "markdown",
      "metadata": {
        "id": "4_ImSVB4L7iV"
      },
      "source": [
        "### Polinomial:"
      ]
    },
    {
      "cell_type": "code",
      "execution_count": null,
      "metadata": {
        "id": "0sLy2nEsL7iW"
      },
      "outputs": [],
      "source": [
        "SVC_arc3 = SVC(kernel = 'poly',degree = 10, random_state = 0)\n",
        "SVC_arc3.fit(X_arc3_train, y_arc3_train)"
      ]
    },
    {
      "cell_type": "code",
      "execution_count": null,
      "metadata": {
        "id": "Uj152O5XL7iX"
      },
      "outputs": [],
      "source": [
        "y_arc3_pred = SVC_arc3.predict(X_arc3_test)"
      ]
    },
    {
      "cell_type": "code",
      "execution_count": null,
      "metadata": {
        "id": "opbssdwFL7iY"
      },
      "outputs": [],
      "source": [
        "train_score_svc=SVC_arc3.score(X_arc3_train,y_arc3_train)\n",
        "print(train_score_svc)"
      ]
    },
    {
      "cell_type": "code",
      "execution_count": null,
      "metadata": {
        "id": "H76NusmNL7ia"
      },
      "outputs": [],
      "source": [
        "test_score_svc=SVC_arc3.score(X_arc3_test,y_arc3_test)\n",
        "print(test_score_svc)"
      ]
    },
    {
      "cell_type": "code",
      "execution_count": null,
      "metadata": {
        "id": "yjnNaN3VL7ib"
      },
      "outputs": [],
      "source": [
        "accuracy_score(y_arc3_test, y_arc3_pred)\n",
        "print('accuracy_score %:',accuracy_score(y_arc3_test, y_arc3_pred)*100)"
      ]
    },
    {
      "cell_type": "code",
      "execution_count": null,
      "metadata": {
        "id": "PRH-k9HbL7id"
      },
      "outputs": [],
      "source": [
        "confmatrix_train = confusion_matrix(y_arc3_train,SVC_arc3.predict(X_arc3_train))\n",
        "confmatrix_test=confusion_matrix(y_arc3_test,SVC_arc3.predict(X_arc3_test))\n",
        "\n",
        "fig, ax = plt.subplots(figsize=(6,5))\n",
        "sns.heatmap(confmatrix_train, annot=True, fmt='g', ax=ax)\n",
        "ax.xaxis.set_ticklabels(falhas,rotation=90)\n",
        "ax.yaxis.set_ticklabels(falhas,rotation=0)\n",
        "ax.set_title('Train set Confusion Matrix',y=1)\n",
        "plt.show()\n",
        "\n",
        "fig, ax = plt.subplots(figsize=(6,5))\n",
        "sns.heatmap(confmatrix_test, annot=True, fmt='g', ax=ax)\n",
        "ax.xaxis.set_ticklabels(falhas,rotation=90)\n",
        "ax.yaxis.set_ticklabels(falhas,rotation=0)\n",
        "ax.set_title('Test set Confusion Matrix',y=1)\n",
        "plt.show()"
      ]
    },
    {
      "cell_type": "markdown",
      "metadata": {
        "id": "HnOjkDTjL7ie"
      },
      "source": [
        "### RBF:"
      ]
    },
    {
      "cell_type": "code",
      "execution_count": null,
      "metadata": {
        "id": "-7XYLi8vL7if"
      },
      "outputs": [],
      "source": [
        "SVC_arc3 = SVC(kernel = 'rbf', random_state = 0)\n",
        "SVC_arc3.fit(X_arc3_train, y_arc3_train)"
      ]
    },
    {
      "cell_type": "code",
      "execution_count": null,
      "metadata": {
        "id": "V89MPv5JL7ig"
      },
      "outputs": [],
      "source": [
        "y_arc3_pred = SVC_arc3.predict(X_arc3_test)"
      ]
    },
    {
      "cell_type": "code",
      "execution_count": null,
      "metadata": {
        "id": "SO0u8PCbL7ih"
      },
      "outputs": [],
      "source": [
        "train_score_svc=SVC_arc3.score(X_arc3_train,y_arc3_train)\n",
        "print(train_score_svc)"
      ]
    },
    {
      "cell_type": "code",
      "execution_count": null,
      "metadata": {
        "id": "acBLH3YSL7ih"
      },
      "outputs": [],
      "source": [
        "test_score_svc=SVC_arc3.score(X_arc3_test,y_arc3_test)\n",
        "print(test_score_svc)"
      ]
    },
    {
      "cell_type": "code",
      "execution_count": null,
      "metadata": {
        "id": "5cTNbwJRL7ii"
      },
      "outputs": [],
      "source": [
        "accuracy_score(y_arc3_test, y_arc3_pred)\n",
        "print('accuracy_score %:',accuracy_score(y_arc3_test, y_arc3_pred)*100)"
      ]
    },
    {
      "cell_type": "code",
      "execution_count": null,
      "metadata": {
        "id": "JP1KhgtuL7ij"
      },
      "outputs": [],
      "source": [
        "confmatrix_train = confusion_matrix(y_arc3_train,SVC_arc3.predict(X_arc3_train))\n",
        "confmatrix_test=confusion_matrix(y_arc3_test,SVC_arc3.predict(X_arc3_test))\n",
        "\n",
        "fig, ax = plt.subplots(figsize=(6,5))\n",
        "sns.heatmap(confmatrix_train, annot=True, fmt='g', ax=ax)\n",
        "ax.xaxis.set_ticklabels(falhas,rotation=90)\n",
        "ax.yaxis.set_ticklabels(falhas,rotation=0)\n",
        "ax.set_title('Train set Confusion Matrix',y=1)\n",
        "plt.show()\n",
        "\n",
        "fig, ax = plt.subplots(figsize=(6,5))\n",
        "sns.heatmap(confmatrix_test, annot=True, fmt='g', ax=ax)\n",
        "ax.xaxis.set_ticklabels(falhas,rotation=90)\n",
        "ax.yaxis.set_ticklabels(falhas,rotation=0)\n",
        "ax.set_title('Test set Confusion Matrix',y=1)\n",
        "plt.show()"
      ]
    },
    {
      "cell_type": "markdown",
      "metadata": {
        "id": "ESiPknsoL7ik"
      },
      "source": [
        "### Sigmoid:"
      ]
    },
    {
      "cell_type": "code",
      "execution_count": null,
      "metadata": {
        "id": "pJVc25olL7il"
      },
      "outputs": [],
      "source": [
        "SVC_arc3 = SVC(kernel = 'sigmoid', random_state = 0)\n",
        "SVC_arc3.fit(X_arc3_train, y_arc3_train)"
      ]
    },
    {
      "cell_type": "code",
      "execution_count": null,
      "metadata": {
        "id": "v8QnBo47L7im"
      },
      "outputs": [],
      "source": [
        "y_arc3_pred = SVC_arc3.predict(X_arc3_test)"
      ]
    },
    {
      "cell_type": "code",
      "execution_count": null,
      "metadata": {
        "id": "GT52EjyaL7in"
      },
      "outputs": [],
      "source": [
        "train_score_svc=SVC_arc3.score(X_arc3_train,y_arc3_train)\n",
        "print(train_score_svc)"
      ]
    },
    {
      "cell_type": "code",
      "execution_count": null,
      "metadata": {
        "id": "xR4lFPtuL7in"
      },
      "outputs": [],
      "source": [
        "test_score_svc=SVC_arc3.score(X_arc3_test,y_arc3_test)\n",
        "print(test_score_svc)"
      ]
    },
    {
      "cell_type": "code",
      "execution_count": null,
      "metadata": {
        "id": "wnWZTloAL7io"
      },
      "outputs": [],
      "source": [
        "accuracy_score(y_arc3_test, y_arc3_pred)\n",
        "print('accuracy_score %:',accuracy_score(y_arc3_test, y_arc3_pred)*100)"
      ]
    },
    {
      "cell_type": "code",
      "execution_count": null,
      "metadata": {
        "id": "PwQV30REL7io"
      },
      "outputs": [],
      "source": [
        "confmatrix_train = confusion_matrix(y_arc3_train,SVC_arc3.predict(X_arc3_train))\n",
        "confmatrix_test=confusion_matrix(y_arc3_test,SVC_arc3.predict(X_arc3_test))\n",
        "\n",
        "fig, ax = plt.subplots(figsize=(6,5))\n",
        "sns.heatmap(confmatrix_train, annot=True, fmt='g', ax=ax)\n",
        "ax.xaxis.set_ticklabels(falhas,rotation=90)\n",
        "ax.yaxis.set_ticklabels(falhas,rotation=0)\n",
        "ax.set_title('Train set Confusion Matrix',y=1)\n",
        "plt.show()\n",
        "\n",
        "fig, ax = plt.subplots(figsize=(6,5))\n",
        "sns.heatmap(confmatrix_test, annot=True, fmt='g', ax=ax)\n",
        "ax.xaxis.set_ticklabels(falhas,rotation=90)\n",
        "ax.yaxis.set_ticklabels(falhas,rotation=0)\n",
        "ax.set_title('Test set Confusion Matrix',y=1)\n",
        "plt.show()"
      ]
    },
    {
      "cell_type": "markdown",
      "metadata": {
        "id": "r9q5EReoL7iq"
      },
      "source": [
        "### GridSearchCV"
      ]
    },
    {
      "cell_type": "markdown",
      "metadata": {
        "id": "gmQtOA4xL7ir"
      },
      "source": [
        "Abandonamos o Kernel polinomial, pois não importa o grau do polinomio, sempre fica ruim"
      ]
    },
    {
      "cell_type": "code",
      "execution_count": null,
      "metadata": {
        "id": "wItZ-g8fL7is"
      },
      "outputs": [],
      "source": [
        "params_arc3_SVC_Linear = {\n",
        "'kernel':['linear'],\n",
        "'C':[0.001,0.01,0.1,1,10,100,1000],\n",
        "}\n",
        "\n",
        "params_arc3_SVC_RS = {\n",
        "'kernel':['rbf','sigmoid'],\n",
        "'gamma':['scale', 'auto'],\n",
        "'C':[0.001,0.01,0.1,1,10,100,1000],\n",
        "}"
      ]
    },
    {
      "cell_type": "code",
      "execution_count": null,
      "metadata": {
        "id": "SC3uX82SL7it"
      },
      "outputs": [],
      "source": [
        "for params in [params_arc3_SVC_Linear,params_arc3_SVC_RS]:\n",
        "  print(\"Otimização Dados Arquitetura 3 - Sem tempo:\")\n",
        "  grid_arc3_SVC = GridSearchCV(SVC_arc3 ,params, scoring='accuracy')\n",
        "  grid_arc3_SVC.fit(X_arc3_train,y_arc3_train)\n",
        "  print(grid_arc3_SVC.best_params_, grid_arc3_SVC.best_score_)\n",
        "  rf_best_arc3_SVC = grid_arc3_SVC.best_estimator_\n",
        "\n",
        "  y_arc3_pred_SVC = rf_best_arc3_SVC.predict(X_arc3_test)\n",
        "\n",
        "  accuracy_score(y_arc3_test, y_arc3_pred_SVC)\n",
        "  print('accuracy_score %:',accuracy_score(y_arc3_test, y_arc3_pred_SVC)*100)\n",
        "  print()"
      ]
    },
    {
      "cell_type": "markdown",
      "metadata": {
        "id": "z62IkrisF3nZ"
      },
      "source": [
        "# Arquitetura 4 :\n",
        "PCA (0.70)-> 71 Colunas"
      ]
    },
    {
      "cell_type": "markdown",
      "metadata": {
        "id": "6LZ4MyMiF3na"
      },
      "source": [
        "## Montando Nova Tabela"
      ]
    },
    {
      "cell_type": "markdown",
      "metadata": {
        "id": "gA8JQJjKF3na"
      },
      "source": [
        "* Zeramos as tranformações, voltamos ao início"
      ]
    },
    {
      "cell_type": "code",
      "execution_count": null,
      "metadata": {
        "id": "Q5IzuqVyF3nb"
      },
      "outputs": [],
      "source": [
        "#Definindo as Features (X's):\n",
        "features=coln[1:]\n",
        "X=df_ML[features]\n",
        "\n",
        "#Definindo os Targets (Y's):\n",
        "\n",
        "targets=coln[0] #Definindo lista de targets\n",
        "Y=df_ML[targets]"
      ]
    },
    {
      "cell_type": "code",
      "execution_count": null,
      "metadata": {
        "id": "XC4SJ7JOF3nb"
      },
      "outputs": [],
      "source": [
        "#Dividindo dados no Tempo\n",
        "X_tempo = X[c_T]\n",
        "c_X_tempo=list(X_tempo)\n",
        "print(c_X_tempo)\n",
        "\n",
        "#Dividindo as FFT's por Segmentos / Sensores / Eixos (SUBDATASETS):\n",
        "X_fft_a1_x=X[c_F_a1_x]\n",
        "X_fft_a1_y=X[c_F_a1_y]\n",
        "X_fft_a1_z=X[c_F_a1_z]\n",
        "\n",
        "X_fft_a2_x=X[c_F_a2_x]\n",
        "X_fft_a2_y=X[c_F_a2_y]\n",
        "X_fft_a2_z=X[c_F_a2_z]\n",
        "\n",
        "X_fft_a3_x=X[c_F_a3_x]\n",
        "X_fft_a3_y=X[c_F_a3_y]\n",
        "X_fft_a3_z=X[c_F_a3_z]\n",
        "\n",
        "X_fft_g1_x=X[c_F_g1_x]\n",
        "X_fft_g1_y=X[c_F_g1_y]\n",
        "X_fft_g1_z=X[c_F_g1_z]\n",
        "\n",
        "X_fft_g2_x=X[c_F_g2_x]\n",
        "X_fft_g2_y=X[c_F_g2_y]\n",
        "X_fft_g2_z=X[c_F_g2_z]\n",
        "\n",
        "X_fft_g3_x=X[c_F_g3_x]\n",
        "X_fft_g3_y=X[c_F_g3_y]\n",
        "X_fft_g3_z=X[c_F_g3_z]"
      ]
    },
    {
      "cell_type": "code",
      "execution_count": null,
      "metadata": {
        "id": "_TKbW5kFF3nc"
      },
      "outputs": [],
      "source": [
        "sc = StandardScaler()\n",
        "\n",
        "#Aplicando a cada X_fft e Tempo:\n",
        "\n",
        "X_tempo = sc.fit_transform(X_tempo)\n",
        "\n",
        "X_fft_a1_x = sc.fit_transform(X_fft_a1_x)\n",
        "X_fft_a1_y = sc.fit_transform(X_fft_a1_y)\n",
        "X_fft_a1_z = sc.fit_transform(X_fft_a1_z)\n",
        "\n",
        "X_fft_a2_x = sc.fit_transform(X_fft_a2_x)\n",
        "X_fft_a2_y = sc.fit_transform(X_fft_a2_y)\n",
        "X_fft_a2_z = sc.fit_transform(X_fft_a2_z)\n",
        "\n",
        "X_fft_a3_x = sc.fit_transform(X_fft_a3_x)\n",
        "X_fft_a3_y = sc.fit_transform(X_fft_a3_y)\n",
        "X_fft_a3_z = sc.fit_transform(X_fft_a3_z)\n",
        "\n",
        "X_fft_g1_x = sc.fit_transform(X_fft_g1_x)\n",
        "X_fft_g1_y = sc.fit_transform(X_fft_g1_y)\n",
        "X_fft_g1_z = sc.fit_transform(X_fft_g1_z)\n",
        "\n",
        "X_fft_g2_x = sc.fit_transform(X_fft_g2_x)\n",
        "X_fft_g2_y = sc.fit_transform(X_fft_g2_y)\n",
        "X_fft_g2_z = sc.fit_transform(X_fft_g2_z)\n",
        "\n",
        "X_fft_g3_x = sc.fit_transform(X_fft_g3_x)\n",
        "X_fft_g3_y = sc.fit_transform(X_fft_g3_y)\n",
        "X_fft_g3_z = sc.fit_transform(X_fft_g3_z)"
      ]
    },
    {
      "cell_type": "code",
      "execution_count": null,
      "metadata": {
        "id": "Ts0_QG38F3nd"
      },
      "outputs": [],
      "source": [
        "df_Y=pd.DataFrame(Y, columns = ['Classificação'])\n",
        "df_Y"
      ]
    },
    {
      "cell_type": "code",
      "execution_count": null,
      "metadata": {
        "id": "fRljYb6mF3nd"
      },
      "outputs": [],
      "source": [
        "df_X_tempo=pd.DataFrame(X_tempo, columns = c_X_tempo)\n",
        "\n",
        "df_X_tempo"
      ]
    },
    {
      "cell_type": "code",
      "execution_count": null,
      "metadata": {
        "id": "8xESc3ThF3nd"
      },
      "outputs": [],
      "source": [
        "pca = PCA(0.70) # 70% de Variância Explicada"
      ]
    },
    {
      "cell_type": "code",
      "execution_count": null,
      "metadata": {
        "id": "dMvKBgbNF3nd"
      },
      "outputs": [],
      "source": [
        "#Aplicando o PCA para cada FFT:\n",
        "\n",
        "PCA_X_fft_a1_x = pca.fit_transform(X_fft_a1_x)\n",
        "PCA_X_fft_a1_y = pca.fit_transform(X_fft_a1_y)\n",
        "PCA_X_fft_a1_z = pca.fit_transform(X_fft_a1_z)\n",
        "\n",
        "PCA_X_fft_a2_x = pca.fit_transform(X_fft_a2_x)\n",
        "PCA_X_fft_a2_y = pca.fit_transform(X_fft_a2_y)\n",
        "PCA_X_fft_a2_z = pca.fit_transform(X_fft_a2_z)\n",
        "\n",
        "PCA_X_fft_a3_x = pca.fit_transform(X_fft_a3_x)\n",
        "PCA_X_fft_a3_y = pca.fit_transform(X_fft_a3_y)\n",
        "PCA_X_fft_a3_z = pca.fit_transform(X_fft_a3_z)\n",
        "\n",
        "PCA_X_fft_g1_x = pca.fit_transform(X_fft_g1_x)\n",
        "PCA_X_fft_g1_y = pca.fit_transform(X_fft_g1_y)\n",
        "PCA_X_fft_g1_z = pca.fit_transform(X_fft_g1_z)\n",
        "\n",
        "PCA_X_fft_g2_x = pca.fit_transform(X_fft_g2_x)\n",
        "PCA_X_fft_g2_y = pca.fit_transform(X_fft_g2_y)\n",
        "PCA_X_fft_g2_z = pca.fit_transform(X_fft_g2_z)\n",
        "\n",
        "PCA_X_fft_g3_x = pca.fit_transform(X_fft_g3_x)\n",
        "PCA_X_fft_g3_y = pca.fit_transform(X_fft_g3_y)\n",
        "PCA_X_fft_g3_z = pca.fit_transform(X_fft_g3_z)"
      ]
    },
    {
      "cell_type": "code",
      "execution_count": null,
      "metadata": {
        "id": "DIck4E0SF3ne"
      },
      "outputs": [],
      "source": [
        "#Sub DataFrames:\n",
        "df_PCA_FFT_a1_X = pd.DataFrame(PCA_X_fft_a1_x, columns = ['PCA_FFT_a1_X_'+str(i) for i in range(len(PCA_X_fft_a1_x[0]))])\n",
        "df_PCA_FFT_a1_Y = pd.DataFrame(PCA_X_fft_a1_y, columns = ['PCA_FFT_a1_Y_'+str(i) for i in range(len(PCA_X_fft_a1_y[0]))])\n",
        "df_PCA_FFT_a1_Z = pd.DataFrame(PCA_X_fft_a1_z, columns = ['PCA_FFT_a1_Z_'+str(i) for i in range(len(PCA_X_fft_a1_z[0]))])\n",
        "\n",
        "df_PCA_FFT_a2_X = pd.DataFrame(PCA_X_fft_a2_x, columns = ['PCA_FFT_a2_X_'+str(i) for i in range(len(PCA_X_fft_a2_x[0]))])\n",
        "df_PCA_FFT_a2_Y = pd.DataFrame(PCA_X_fft_a2_y, columns = ['PCA_FFT_a2_Y_'+str(i) for i in range(len(PCA_X_fft_a2_y[0]))])\n",
        "df_PCA_FFT_a2_Z = pd.DataFrame(PCA_X_fft_a2_z, columns = ['PCA_FFT_a2_Z_'+str(i) for i in range(len(PCA_X_fft_a2_z[0]))])\n",
        "\n",
        "df_PCA_FFT_a3_X = pd.DataFrame(PCA_X_fft_a3_x, columns = ['PCA_FFT_a3_X_'+str(i) for i in range(len(PCA_X_fft_a3_x[0]))])\n",
        "df_PCA_FFT_a3_Y = pd.DataFrame(PCA_X_fft_a3_y, columns = ['PCA_FFT_a3_Y_'+str(i) for i in range(len(PCA_X_fft_a3_y[0]))])\n",
        "df_PCA_FFT_a3_Z = pd.DataFrame(PCA_X_fft_a3_z, columns = ['PCA_FFT_a3_Z_'+str(i) for i in range(len(PCA_X_fft_a3_z[0]))])\n",
        "\n",
        "df_PCA_FFT_g1_X = pd.DataFrame(PCA_X_fft_g1_x, columns = ['PCA_FFT_g1_X_'+str(i) for i in range(len(PCA_X_fft_g1_x[0]))])\n",
        "df_PCA_FFT_g1_Y = pd.DataFrame(PCA_X_fft_g1_y, columns = ['PCA_FFT_g1_Y_'+str(i) for i in range(len(PCA_X_fft_g1_y[0]))])\n",
        "df_PCA_FFT_g1_Z = pd.DataFrame(PCA_X_fft_g1_z, columns = ['PCA_FFT_g1_Z_'+str(i) for i in range(len(PCA_X_fft_g1_z[0]))])\n",
        "\n",
        "df_PCA_FFT_g2_X = pd.DataFrame(PCA_X_fft_g2_x, columns = ['PCA_FFT_g2_X_'+str(i) for i in range(len(PCA_X_fft_g2_x[0]))])\n",
        "df_PCA_FFT_g2_Y = pd.DataFrame(PCA_X_fft_g2_y, columns = ['PCA_FFT_g2_Y_'+str(i) for i in range(len(PCA_X_fft_g2_y[0]))])\n",
        "df_PCA_FFT_g2_Z = pd.DataFrame(PCA_X_fft_g2_z, columns = ['PCA_FFT_g2_Z_'+str(i) for i in range(len(PCA_X_fft_g2_z[0]))])\n",
        "\n",
        "df_PCA_FFT_g3_X = pd.DataFrame(PCA_X_fft_g3_x, columns = ['PCA_FFT_g3_X_'+str(i) for i in range(len(PCA_X_fft_g3_x[0]))])\n",
        "df_PCA_FFT_g3_Y = pd.DataFrame(PCA_X_fft_g3_y, columns = ['PCA_FFT_g3_Y_'+str(i) for i in range(len(PCA_X_fft_g3_y[0]))])\n",
        "df_PCA_FFT_g3_Z = pd.DataFrame(PCA_X_fft_g3_z, columns = ['PCA_FFT_g3_Z_'+str(i) for i in range(len(PCA_X_fft_g3_z[0]))])"
      ]
    },
    {
      "cell_type": "code",
      "execution_count": null,
      "metadata": {
        "id": "dLcgWemGF3ne"
      },
      "outputs": [],
      "source": [
        "#Teste:\n",
        "df_PCA_FFT_a3_Z"
      ]
    },
    {
      "cell_type": "code",
      "execution_count": null,
      "metadata": {
        "id": "rDlMLEbDF3ne"
      },
      "outputs": [],
      "source": [
        "#Agrupando Tudo e Montar Tabela para Arquitetura 1:\n",
        "frames=[df_Y,df_X_tempo,df_PCA_FFT_a1_X,df_PCA_FFT_a1_Y,df_PCA_FFT_a1_Z,df_PCA_FFT_a2_X,df_PCA_FFT_a2_Y,df_PCA_FFT_a2_Z,df_PCA_FFT_a3_X,df_PCA_FFT_a3_Y,df_PCA_FFT_a3_Z,df_PCA_FFT_g1_X,df_PCA_FFT_g1_Y,df_PCA_FFT_g1_Z,df_PCA_FFT_g2_X,df_PCA_FFT_g2_Y,df_PCA_FFT_g2_Z,df_PCA_FFT_g3_X,df_PCA_FFT_g3_Y,df_PCA_FFT_g3_Z]\n",
        "df_arc4=pd.concat(frames,axis=1)"
      ]
    },
    {
      "cell_type": "code",
      "execution_count": null,
      "metadata": {
        "id": "prZFlbmbF3nf"
      },
      "outputs": [],
      "source": [
        "df_arc4"
      ]
    },
    {
      "cell_type": "code",
      "execution_count": null,
      "metadata": {
        "id": "Ut6ZcNMuF3nf"
      },
      "outputs": [],
      "source": [
        "df_arc4.isnull().sum()"
      ]
    },
    {
      "cell_type": "code",
      "execution_count": null,
      "metadata": {
        "id": "Psh2wVbCF3nf"
      },
      "outputs": [],
      "source": [
        "#Conferindo NANs:\n",
        "for x in df_arc4.isnull().sum():\n",
        "  if x != 0:\n",
        "    print('TEM ALGUM NAN')\n",
        "print(\"Pode Seguir !!! Sem NANs\")"
      ]
    },
    {
      "cell_type": "code",
      "source": [
        "df_arc4.to_csv('DataframeML_ARC4_TempoFFT.csv')"
      ],
      "metadata": {
        "id": "quzo24K09NCT"
      },
      "execution_count": null,
      "outputs": []
    },
    {
      "cell_type": "code",
      "execution_count": null,
      "metadata": {
        "id": "9NTM45JtF3nf"
      },
      "outputs": [],
      "source": [
        "# Nome das Colunas:\n",
        "#Lista com Nome de cada Coluna:\n",
        "coln_arc4=list(df_arc4)\n",
        "print(coln_arc4, \"\\n\")\n",
        "\n",
        "print(len(coln_arc4))\n",
        "#Definindo as Features (X's):\n",
        "features=coln_arc4[1:]\n",
        "X_arc4=df_arc4[features]\n",
        "\n",
        "print(coln_arc4[1:])\n",
        "#Definindo os Targets (Y's):\n",
        "\n",
        "targets=coln_arc4[0] #Definindo lista de targets\n",
        "Y_arc4=df_arc4[targets]"
      ]
    },
    {
      "cell_type": "code",
      "execution_count": null,
      "metadata": {
        "id": "JvRVhnwfF3ng"
      },
      "outputs": [],
      "source": [
        "X_arc4"
      ]
    },
    {
      "cell_type": "code",
      "execution_count": null,
      "metadata": {
        "id": "FSusBlQiF3ng"
      },
      "outputs": [],
      "source": [
        "Y_arc4"
      ]
    },
    {
      "cell_type": "markdown",
      "metadata": {
        "id": "d0_xVB8xF3ng"
      },
      "source": [
        "## Random Forest (COM TEMPO)"
      ]
    },
    {
      "cell_type": "code",
      "source": [
        "X_arc4"
      ],
      "metadata": {
        "id": "c426-h1t9XjI"
      },
      "execution_count": null,
      "outputs": []
    },
    {
      "cell_type": "code",
      "execution_count": null,
      "metadata": {
        "id": "dfGEvl5CF3nh"
      },
      "outputs": [],
      "source": [
        "Y_arc4 = LabelEncoder().fit_transform(Y_arc4)\n",
        "\n",
        "Y_arc4"
      ]
    },
    {
      "cell_type": "code",
      "execution_count": null,
      "metadata": {
        "id": "LamrIxSPF3nh"
      },
      "outputs": [],
      "source": [
        "X_arc4_train, X_arc4_test, y_arc4_train, y_arc4_test = train_test_split(X_arc4, Y_arc4, test_size = 0.3, random_state = 0)\n",
        "\n",
        "RFC_arc4 = RandomForestClassifier(max_depth= 25, n_estimators = 50, random_state = 0)\n",
        "RFC_arc4.fit(X_arc4_train, y_arc4_train)"
      ]
    },
    {
      "cell_type": "code",
      "execution_count": null,
      "metadata": {
        "id": "p4Fn3K8xF3nh"
      },
      "outputs": [],
      "source": [
        "y_arc4_pred = RFC_arc4.predict(X_arc4_test)"
      ]
    },
    {
      "cell_type": "code",
      "execution_count": null,
      "metadata": {
        "id": "J7PUaNKjF3ni"
      },
      "outputs": [],
      "source": [
        "train_score_rf=RFC_arc4.score(X_arc4_train,y_arc4_train)\n",
        "print(train_score_rf)"
      ]
    },
    {
      "cell_type": "code",
      "execution_count": null,
      "metadata": {
        "id": "ZuzorjuwF3ni"
      },
      "outputs": [],
      "source": [
        "test_score_rf=RFC_arc4.score(X_arc4_test,y_arc4_test)\n",
        "print(test_score_rf)"
      ]
    },
    {
      "cell_type": "code",
      "execution_count": null,
      "metadata": {
        "id": "2PBRzINmF3ni"
      },
      "outputs": [],
      "source": [
        "accuracy_score(y_arc4_test, y_arc4_pred)\n",
        "print('accuracy_score %:',accuracy_score(y_arc4_test, y_arc4_pred)*100)"
      ]
    },
    {
      "cell_type": "code",
      "execution_count": null,
      "metadata": {
        "id": "XbfWF9YnF3nj"
      },
      "outputs": [],
      "source": [
        "RFC_arc4.feature_importances_"
      ]
    },
    {
      "cell_type": "code",
      "execution_count": null,
      "metadata": {
        "id": "1q-B4pAwF3nj"
      },
      "outputs": [],
      "source": [
        "np.max(RFC_arc4.feature_importances_)"
      ]
    },
    {
      "cell_type": "code",
      "execution_count": null,
      "metadata": {
        "id": "Fn0dtEv6F3nj"
      },
      "outputs": [],
      "source": [
        "imp_df = pd.DataFrame({\n",
        "    \"Varname\": X_arc4_train.columns,\n",
        "    \"Imp\": RFC_arc4.feature_importances_\n",
        "})"
      ]
    },
    {
      "cell_type": "code",
      "execution_count": null,
      "metadata": {
        "id": "H6SQVrV9F3nj"
      },
      "outputs": [],
      "source": [
        "#Vendo a Importância das Features para RF:\n",
        "imp_df.sort_values(by=\"Imp\", ascending=False)[0:50]"
      ]
    },
    {
      "cell_type": "code",
      "execution_count": null,
      "metadata": {
        "id": "Uj9TcLqXF3nk"
      },
      "outputs": [],
      "source": [
        "confmatrix_train = confusion_matrix(y_arc4_train,RFC_arc4.predict(X_arc4_train))\n",
        "confmatrix_test=confusion_matrix(y_arc4_test,RFC_arc4.predict(X_arc4_test))\n",
        "\n",
        "fig, ax = plt.subplots(figsize=(6,5))\n",
        "sns.heatmap(confmatrix_train, annot=True, fmt='g', ax=ax)\n",
        "ax.xaxis.set_ticklabels(falhas,rotation=90)\n",
        "ax.yaxis.set_ticklabels(falhas,rotation=0)\n",
        "ax.set_title('Train set Confusion Matrix',y=1)\n",
        "plt.show()\n",
        "\n",
        "fig, ax = plt.subplots(figsize=(6,5))\n",
        "sns.heatmap(confmatrix_test, annot=True, fmt='g', ax=ax)\n",
        "ax.xaxis.set_ticklabels(falhas,rotation=90)\n",
        "ax.yaxis.set_ticklabels(falhas,rotation=0)\n",
        "ax.set_title('Test set Confusion Matrix',y=1)\n",
        "plt.show()"
      ]
    },
    {
      "cell_type": "markdown",
      "metadata": {
        "id": "DO4fZHf2F3nk"
      },
      "source": [
        "### GridSearchCV:"
      ]
    },
    {
      "cell_type": "code",
      "execution_count": null,
      "metadata": {
        "id": "jTNRErRWF3nk"
      },
      "outputs": [],
      "source": [
        "#https://www.kdnuggets.com/2022/10/hyperparameter-tuning-grid-search-random-search-python.html\n",
        "params_arc4 = {\n",
        "'n_estimators': [10,25,50,100,200],\n",
        "'max_depth' : [5,10,25,50,100],\n",
        "'criterion' :['gini', 'entropy'],\n",
        "}"
      ]
    },
    {
      "cell_type": "code",
      "execution_count": null,
      "metadata": {
        "id": "TavVgYTxF3nk"
      },
      "outputs": [],
      "source": [
        "print(\"Otimização Dados Arquitetura 4:\")\n",
        "\n",
        "grid_arc4 = GridSearchCV(RFC_arc4 ,params_arc4, scoring='accuracy',cv=5) #43 min\n",
        "grid_arc4.fit(X_arc4_train,y_arc4_train)\n",
        "\n",
        "print(grid_arc4.best_params_, grid_arc4.best_score_)\n",
        "rf_best_arc4 = grid_arc4.best_estimator_\n",
        "\n",
        "y_arc4_pred = rf_best_arc4.predict(X_arc4_test)\n",
        "\n",
        "accuracy_score(y_arc4_test, y_arc4_pred)\n",
        "print('accuracy_score %:',accuracy_score(y_arc4_test, y_arc4_pred)*100)\n",
        "\n",
        "print(rf_best_arc4.feature_importances_)\n",
        "\n",
        "imp_df = pd.DataFrame({\n",
        "    \"Varname\": X_arc4_train.columns,\n",
        "    \"Imp\": rf_best_arc4.feature_importances_\n",
        "})"
      ]
    },
    {
      "cell_type": "code",
      "execution_count": null,
      "metadata": {
        "id": "f-L5crAbF3nl"
      },
      "outputs": [],
      "source": [
        "#Vendo a Importância das Features para RF Grid:\n",
        "imp_df.sort_values(by=\"Imp\", ascending=False)[0:50]"
      ]
    },
    {
      "cell_type": "markdown",
      "metadata": {
        "id": "7EGP2MvaF3nl"
      },
      "source": [
        "## SVC (COM TEMPO)"
      ]
    },
    {
      "cell_type": "code",
      "source": [
        "X_arc4"
      ],
      "metadata": {
        "id": "8w0fSI1O9aEY"
      },
      "execution_count": null,
      "outputs": []
    },
    {
      "cell_type": "code",
      "execution_count": null,
      "metadata": {
        "id": "TIBecTL2F3nl"
      },
      "outputs": [],
      "source": [
        "Y_arc4 = LabelEncoder().fit_transform(Y_arc4)\n",
        "\n",
        "Y_arc4"
      ]
    },
    {
      "cell_type": "code",
      "execution_count": null,
      "metadata": {
        "id": "Qy7zoyv5F3nl"
      },
      "outputs": [],
      "source": [
        "X_arc4_train, X_arc4_test, y_arc4_train, y_arc4_test = train_test_split(X_arc4, Y_arc4, test_size = 0.3, random_state = 0)"
      ]
    },
    {
      "cell_type": "markdown",
      "metadata": {
        "id": "u-AgAeDeF3nl"
      },
      "source": [
        "### Linear"
      ]
    },
    {
      "cell_type": "code",
      "execution_count": null,
      "metadata": {
        "id": "K7VQgI2ZF3nm"
      },
      "outputs": [],
      "source": [
        "SVC_arc4 = SVC(kernel = 'linear', random_state = 0)\n",
        "SVC_arc4.fit(X_arc4_train, y_arc4_train)"
      ]
    },
    {
      "cell_type": "code",
      "execution_count": null,
      "metadata": {
        "id": "hD8OrgbNF3nm"
      },
      "outputs": [],
      "source": [
        "y_arc4_pred = SVC_arc4.predict(X_arc4_test)"
      ]
    },
    {
      "cell_type": "code",
      "execution_count": null,
      "metadata": {
        "id": "eVerlWTnF3nn"
      },
      "outputs": [],
      "source": [
        "train_score_svc=SVC_arc4.score(X_arc4_train,y_arc4_train)\n",
        "print(train_score_svc)"
      ]
    },
    {
      "cell_type": "code",
      "execution_count": null,
      "metadata": {
        "id": "T8GYp-1WF3nn"
      },
      "outputs": [],
      "source": [
        "test_score_svc=SVC_arc4.score(X_arc4_test,y_arc4_test)\n",
        "print(test_score_svc)"
      ]
    },
    {
      "cell_type": "code",
      "execution_count": null,
      "metadata": {
        "id": "slzY3YBaF3no"
      },
      "outputs": [],
      "source": [
        "accuracy_score(y_arc4_test, y_arc4_pred)\n",
        "print('accuracy_score %:',accuracy_score(y_arc4_test, y_arc4_pred)*100)"
      ]
    },
    {
      "cell_type": "code",
      "execution_count": null,
      "metadata": {
        "id": "FACJ7XGXF3no"
      },
      "outputs": [],
      "source": [
        "confmatrix_train = confusion_matrix(y_arc4_train,SVC_arc4.predict(X_arc4_train))\n",
        "confmatrix_test=confusion_matrix(y_arc4_test,SVC_arc4.predict(X_arc4_test))\n",
        "\n",
        "fig, ax = plt.subplots(figsize=(6,5))\n",
        "sns.heatmap(confmatrix_train, annot=True, fmt='g', ax=ax)\n",
        "ax.xaxis.set_ticklabels(falhas,rotation=90)\n",
        "ax.yaxis.set_ticklabels(falhas,rotation=0)\n",
        "ax.set_title('Train set Confusion Matrix',y=1)\n",
        "plt.show()\n",
        "\n",
        "fig, ax = plt.subplots(figsize=(6,5))\n",
        "sns.heatmap(confmatrix_test, annot=True, fmt='g', ax=ax)\n",
        "ax.xaxis.set_ticklabels(falhas,rotation=90)\n",
        "ax.yaxis.set_ticklabels(falhas,rotation=0)\n",
        "ax.set_title('Test set Confusion Matrix',y=1)\n",
        "plt.show()"
      ]
    },
    {
      "cell_type": "markdown",
      "metadata": {
        "id": "3cF7TUX9F3np"
      },
      "source": [
        "### Polinomial:"
      ]
    },
    {
      "cell_type": "code",
      "execution_count": null,
      "metadata": {
        "id": "mduBx_dCF3nq"
      },
      "outputs": [],
      "source": [
        "SVC_arc4 = SVC(kernel = 'poly',degree = 10, random_state = 0)\n",
        "SVC_arc4.fit(X_arc4_train, y_arc4_train)"
      ]
    },
    {
      "cell_type": "code",
      "execution_count": null,
      "metadata": {
        "id": "fsnWQHsAF3nq"
      },
      "outputs": [],
      "source": [
        "y_arc4_pred = SVC_arc4.predict(X_arc4_test)"
      ]
    },
    {
      "cell_type": "code",
      "execution_count": null,
      "metadata": {
        "id": "JOqw26HSF3nq"
      },
      "outputs": [],
      "source": [
        "train_score_svc=SVC_arc4.score(X_arc4_train,y_arc4_train)\n",
        "print(train_score_svc)"
      ]
    },
    {
      "cell_type": "code",
      "execution_count": null,
      "metadata": {
        "id": "Oa9dHmyXF3nr"
      },
      "outputs": [],
      "source": [
        "test_score_svc=SVC_arc4.score(X_arc4_test,y_arc4_test)\n",
        "print(test_score_svc)"
      ]
    },
    {
      "cell_type": "code",
      "execution_count": null,
      "metadata": {
        "id": "9tAKAH0JF3nr"
      },
      "outputs": [],
      "source": [
        "accuracy_score(y_arc4_test, y_arc4_pred)\n",
        "print('accuracy_score %:',accuracy_score(y_arc4_test, y_arc4_pred)*100)"
      ]
    },
    {
      "cell_type": "code",
      "execution_count": null,
      "metadata": {
        "id": "I4x0keCyF3ns"
      },
      "outputs": [],
      "source": [
        "confmatrix_train = confusion_matrix(y_arc4_train,SVC_arc4.predict(X_arc4_train))\n",
        "confmatrix_test=confusion_matrix(y_arc4_test,SVC_arc4.predict(X_arc4_test))\n",
        "\n",
        "fig, ax = plt.subplots(figsize=(6,5))\n",
        "sns.heatmap(confmatrix_train, annot=True, fmt='g', ax=ax)\n",
        "ax.xaxis.set_ticklabels(falhas,rotation=90)\n",
        "ax.yaxis.set_ticklabels(falhas,rotation=0)\n",
        "ax.set_title('Train set Confusion Matrix',y=1)\n",
        "plt.show()\n",
        "\n",
        "fig, ax = plt.subplots(figsize=(6,5))\n",
        "sns.heatmap(confmatrix_test, annot=True, fmt='g', ax=ax)\n",
        "ax.xaxis.set_ticklabels(falhas,rotation=90)\n",
        "ax.yaxis.set_ticklabels(falhas,rotation=0)\n",
        "ax.set_title('Test set Confusion Matrix',y=1)\n",
        "plt.show()"
      ]
    },
    {
      "cell_type": "markdown",
      "metadata": {
        "id": "mMYYHWz9F3nt"
      },
      "source": [
        "### RBF:"
      ]
    },
    {
      "cell_type": "code",
      "execution_count": null,
      "metadata": {
        "id": "8C1mI6yqF3nt"
      },
      "outputs": [],
      "source": [
        "SVC_arc4 = SVC(kernel = 'rbf', random_state = 0)\n",
        "SVC_arc4.fit(X_arc4_train, y_arc4_train)"
      ]
    },
    {
      "cell_type": "code",
      "execution_count": null,
      "metadata": {
        "id": "42K4zLfvF3nt"
      },
      "outputs": [],
      "source": [
        "y_arc4_pred = SVC_arc4.predict(X_arc4_test)"
      ]
    },
    {
      "cell_type": "code",
      "execution_count": null,
      "metadata": {
        "id": "STdijsPrF3nu"
      },
      "outputs": [],
      "source": [
        "train_score_svc=SVC_arc4.score(X_arc4_train,y_arc4_train)\n",
        "print(train_score_svc)"
      ]
    },
    {
      "cell_type": "code",
      "execution_count": null,
      "metadata": {
        "id": "Om7uDOBvF3nu"
      },
      "outputs": [],
      "source": [
        "test_score_svc=SVC_arc4.score(X_arc4_test,y_arc4_test)\n",
        "print(test_score_svc)"
      ]
    },
    {
      "cell_type": "code",
      "execution_count": null,
      "metadata": {
        "id": "HHqFKGtYF3nu"
      },
      "outputs": [],
      "source": [
        "accuracy_score(y_arc4_test, y_arc4_pred)\n",
        "print('accuracy_score %:',accuracy_score(y_arc4_test, y_arc4_pred)*100)"
      ]
    },
    {
      "cell_type": "code",
      "execution_count": null,
      "metadata": {
        "id": "umhb8s8eF3nv"
      },
      "outputs": [],
      "source": [
        "confmatrix_train = confusion_matrix(y_arc4_train,SVC_arc4.predict(X_arc4_train))\n",
        "confmatrix_test=confusion_matrix(y_arc4_test,SVC_arc4.predict(X_arc4_test))\n",
        "\n",
        "fig, ax = plt.subplots(figsize=(6,5))\n",
        "sns.heatmap(confmatrix_train, annot=True, fmt='g', ax=ax)\n",
        "ax.xaxis.set_ticklabels(falhas,rotation=90)\n",
        "ax.yaxis.set_ticklabels(falhas,rotation=0)\n",
        "ax.set_title('Train set Confusion Matrix',y=1)\n",
        "plt.show()\n",
        "\n",
        "fig, ax = plt.subplots(figsize=(6,5))\n",
        "sns.heatmap(confmatrix_test, annot=True, fmt='g', ax=ax)\n",
        "ax.xaxis.set_ticklabels(falhas,rotation=90)\n",
        "ax.yaxis.set_ticklabels(falhas,rotation=0)\n",
        "ax.set_title('Test set Confusion Matrix',y=1)\n",
        "plt.show()"
      ]
    },
    {
      "cell_type": "markdown",
      "metadata": {
        "id": "BzAteYiEF3nw"
      },
      "source": [
        "### Sigmoid:"
      ]
    },
    {
      "cell_type": "code",
      "execution_count": null,
      "metadata": {
        "id": "c2iq3lzGF3nw"
      },
      "outputs": [],
      "source": [
        "SVC_arc4 = SVC(kernel = 'sigmoid', random_state = 0)\n",
        "SVC_arc4.fit(X_arc4_train, y_arc4_train)"
      ]
    },
    {
      "cell_type": "code",
      "execution_count": null,
      "metadata": {
        "id": "Rok2gDP-F3nw"
      },
      "outputs": [],
      "source": [
        "y_arc4_pred = SVC_arc4.predict(X_arc4_test)"
      ]
    },
    {
      "cell_type": "code",
      "execution_count": null,
      "metadata": {
        "id": "KIfUUh2eF3nw"
      },
      "outputs": [],
      "source": [
        "train_score_svc=SVC_arc4.score(X_arc4_train,y_arc4_train)\n",
        "print(train_score_svc)"
      ]
    },
    {
      "cell_type": "code",
      "execution_count": null,
      "metadata": {
        "id": "KUHOGO3NF3nx"
      },
      "outputs": [],
      "source": [
        "test_score_svc=SVC_arc4.score(X_arc4_test,y_arc4_test)\n",
        "print(test_score_svc)"
      ]
    },
    {
      "cell_type": "code",
      "execution_count": null,
      "metadata": {
        "id": "SR5NogW4F3nx"
      },
      "outputs": [],
      "source": [
        "accuracy_score(y_arc4_test, y_arc4_pred)\n",
        "print('accuracy_score %:',accuracy_score(y_arc4_test, y_arc4_pred)*100)"
      ]
    },
    {
      "cell_type": "code",
      "execution_count": null,
      "metadata": {
        "id": "LvdgRxYmF3nx"
      },
      "outputs": [],
      "source": [
        "confmatrix_train = confusion_matrix(y_arc4_train,SVC_arc4.predict(X_arc4_train))\n",
        "confmatrix_test=confusion_matrix(y_arc4_test,SVC_arc4.predict(X_arc4_test))\n",
        "\n",
        "fig, ax = plt.subplots(figsize=(6,5))\n",
        "sns.heatmap(confmatrix_train, annot=True, fmt='g', ax=ax)\n",
        "ax.xaxis.set_ticklabels(falhas,rotation=90)\n",
        "ax.yaxis.set_ticklabels(falhas,rotation=0)\n",
        "ax.set_title('Train set Confusion Matrix',y=1)\n",
        "plt.show()\n",
        "\n",
        "fig, ax = plt.subplots(figsize=(6,5))\n",
        "sns.heatmap(confmatrix_test, annot=True, fmt='g', ax=ax)\n",
        "ax.xaxis.set_ticklabels(falhas,rotation=90)\n",
        "ax.yaxis.set_ticklabels(falhas,rotation=0)\n",
        "ax.set_title('Test set Confusion Matrix',y=1)\n",
        "plt.show()"
      ]
    },
    {
      "cell_type": "markdown",
      "metadata": {
        "id": "HHa-qfSDF3ny"
      },
      "source": [
        "### GridSearchCV"
      ]
    },
    {
      "cell_type": "markdown",
      "metadata": {
        "id": "nwQ18FC0F3ny"
      },
      "source": [
        "Abandonamos o Kernel polinomial, pois não importa o grau do polinomio, sempre fica ruim"
      ]
    },
    {
      "cell_type": "code",
      "execution_count": null,
      "metadata": {
        "id": "tMVdpa1kF3nz"
      },
      "outputs": [],
      "source": [
        "params_arc4_SVC_Linear = {\n",
        "'kernel':['linear'],\n",
        "'C':[0.001,0.01,0.1,1,10,100,1000],\n",
        "}\n",
        "\n",
        "params_arc4_SVC_RS = {\n",
        "'kernel':['rbf','sigmoid'],\n",
        "'gamma':['scale', 'auto'],\n",
        "'C':[0.001,0.01,0.1,1,10,100,1000],\n",
        "}"
      ]
    },
    {
      "cell_type": "code",
      "execution_count": null,
      "metadata": {
        "id": "_I0S4NtHF3n0"
      },
      "outputs": [],
      "source": [
        "for params in [params_arc4_SVC_Linear,params_arc4_SVC_RS]:\n",
        "  print(\"Otimização Dados Arquitetura 4:\")\n",
        "  grid_arc4_SVC = GridSearchCV(SVC_arc4 ,params, scoring='accuracy')\n",
        "  grid_arc4_SVC.fit(X_arc4_train,y_arc4_train)\n",
        "  print(grid_arc4_SVC.best_params_, grid_arc4_SVC.best_score_)\n",
        "  rf_best_arc4_SVC = grid_arc4_SVC.best_estimator_\n",
        "\n",
        "  y_arc4_pred_SVC = rf_best_arc4_SVC.predict(X_arc4_test)\n",
        "\n",
        "  accuracy_score(y_arc4_test, y_arc4_pred_SVC)\n",
        "  print('accuracy_score %:',accuracy_score(y_arc4_test, y_arc4_pred_SVC)*100)\n",
        "  print()"
      ]
    },
    {
      "cell_type": "markdown",
      "metadata": {
        "id": "_INsbP6QF3n0"
      },
      "source": [
        "## Tabela sem Tempo"
      ]
    },
    {
      "cell_type": "code",
      "execution_count": null,
      "metadata": {
        "id": "AShP5k8CF3n0"
      },
      "outputs": [],
      "source": [
        "df_arc4"
      ]
    },
    {
      "cell_type": "code",
      "execution_count": null,
      "metadata": {
        "id": "aKeckCQbF3n1"
      },
      "outputs": [],
      "source": [
        "df_arc4.drop(c_X_tempo[1:],axis=1,inplace=True)"
      ]
    },
    {
      "cell_type": "code",
      "execution_count": null,
      "metadata": {
        "id": "RfGlMJFnF3n1"
      },
      "outputs": [],
      "source": [
        "df_arc4"
      ]
    },
    {
      "cell_type": "code",
      "source": [
        "df_arc4.to_csv('DataframeML_ARC4_FFT.csv')"
      ],
      "metadata": {
        "id": "h9HqfEwV9jNa"
      },
      "execution_count": null,
      "outputs": []
    },
    {
      "cell_type": "code",
      "execution_count": null,
      "metadata": {
        "id": "GrNpzDBUF3n1"
      },
      "outputs": [],
      "source": [
        "# Nome das Colunas:\n",
        "#Lista com Nome de cada Coluna:\n",
        "coln_arc4=list(df_arc4)\n",
        "print(coln_arc4, \"\\n\")\n",
        "\n",
        "print(len(coln_arc4))\n",
        "#Definindo as Features (X's):\n",
        "features=coln_arc4[1:]\n",
        "X_arc4=df_arc4[features]\n",
        "\n",
        "print(coln_arc4[1:])\n",
        "#Definindo os Targets (Y's):\n",
        "\n",
        "targets=coln_arc4[0] #Definindo lista de targets\n",
        "Y_arc4=df_arc4[targets]"
      ]
    },
    {
      "cell_type": "code",
      "execution_count": null,
      "metadata": {
        "id": "yVNnaYGDF3n2"
      },
      "outputs": [],
      "source": [
        "Y_arc4"
      ]
    },
    {
      "cell_type": "code",
      "execution_count": null,
      "metadata": {
        "id": "lCOc6pzQF3n2"
      },
      "outputs": [],
      "source": [
        "X_arc4"
      ]
    },
    {
      "cell_type": "markdown",
      "metadata": {
        "id": "N9pD1L-uR35b"
      },
      "source": [
        "## Random Forest (SEM TEMPO)"
      ]
    },
    {
      "cell_type": "code",
      "source": [
        "X_arc4"
      ],
      "metadata": {
        "id": "wpZgoYhW90HC"
      },
      "execution_count": null,
      "outputs": []
    },
    {
      "cell_type": "code",
      "execution_count": null,
      "metadata": {
        "id": "9UemvbpFR35b"
      },
      "outputs": [],
      "source": [
        "Y_arc4 = LabelEncoder().fit_transform(Y_arc4)\n",
        "\n",
        "Y_arc4"
      ]
    },
    {
      "cell_type": "code",
      "execution_count": null,
      "metadata": {
        "id": "hBPb_nt9R35c"
      },
      "outputs": [],
      "source": [
        "X_arc4_train, X_arc4_test, y_arc4_train, y_arc4_test = train_test_split(X_arc4, Y_arc4, test_size = 0.3, random_state = 0)\n",
        "\n",
        "RFC_arc4 = RandomForestClassifier(max_depth= 10, n_estimators = 25, random_state = 0)\n",
        "RFC_arc4.fit(X_arc4_train, y_arc4_train)"
      ]
    },
    {
      "cell_type": "code",
      "execution_count": null,
      "metadata": {
        "id": "2fOkG7EFR35d"
      },
      "outputs": [],
      "source": [
        "y_arc4_pred = RFC_arc4.predict(X_arc4_test)"
      ]
    },
    {
      "cell_type": "code",
      "execution_count": null,
      "metadata": {
        "id": "Q068N3nFR35e"
      },
      "outputs": [],
      "source": [
        "train_score_rf=RFC_arc4.score(X_arc4_train,y_arc4_train)\n",
        "print(train_score_rf)"
      ]
    },
    {
      "cell_type": "code",
      "execution_count": null,
      "metadata": {
        "id": "WaH357GoR35e"
      },
      "outputs": [],
      "source": [
        "test_score_rf=RFC_arc4.score(X_arc4_test,y_arc4_test)\n",
        "print(test_score_rf)"
      ]
    },
    {
      "cell_type": "code",
      "execution_count": null,
      "metadata": {
        "id": "lz_4U_w1R35f"
      },
      "outputs": [],
      "source": [
        "accuracy_score(y_arc4_test, y_arc4_pred)\n",
        "print('accuracy_score %:',accuracy_score(y_arc4_test, y_arc4_pred)*100)"
      ]
    },
    {
      "cell_type": "code",
      "execution_count": null,
      "metadata": {
        "id": "rse1H2oZR35f"
      },
      "outputs": [],
      "source": [
        "RFC_arc4.feature_importances_"
      ]
    },
    {
      "cell_type": "code",
      "execution_count": null,
      "metadata": {
        "id": "LlmCg8A1R35g"
      },
      "outputs": [],
      "source": [
        "np.max(RFC_arc4.feature_importances_)"
      ]
    },
    {
      "cell_type": "code",
      "execution_count": null,
      "metadata": {
        "id": "hLI22r6cR35h"
      },
      "outputs": [],
      "source": [
        "imp_df = pd.DataFrame({\n",
        "    \"Varname\": X_arc4_train.columns,\n",
        "    \"Imp\": RFC_arc4.feature_importances_\n",
        "})"
      ]
    },
    {
      "cell_type": "code",
      "execution_count": null,
      "metadata": {
        "id": "I5XqXZK4R35i"
      },
      "outputs": [],
      "source": [
        "#Vendo a Importância das Features para RF:\n",
        "imp_df.sort_values(by=\"Imp\", ascending=False)[0:50]"
      ]
    },
    {
      "cell_type": "code",
      "execution_count": null,
      "metadata": {
        "id": "_wOPqu4eR35j"
      },
      "outputs": [],
      "source": [
        "confmatrix_train = confusion_matrix(y_arc4_train,RFC_arc4.predict(X_arc4_train))\n",
        "confmatrix_test=confusion_matrix(y_arc4_test,RFC_arc4.predict(X_arc4_test))\n",
        "\n",
        "fig, ax = plt.subplots(figsize=(6,5))\n",
        "sns.heatmap(confmatrix_train, annot=True, fmt='g', ax=ax)\n",
        "ax.xaxis.set_ticklabels(falhas,rotation=90)\n",
        "ax.yaxis.set_ticklabels(falhas,rotation=0)\n",
        "ax.set_title('Train set Confusion Matrix',y=1)\n",
        "plt.show()\n",
        "\n",
        "fig, ax = plt.subplots(figsize=(6,5))\n",
        "sns.heatmap(confmatrix_test, annot=True, fmt='g', ax=ax)\n",
        "ax.xaxis.set_ticklabels(falhas,rotation=90)\n",
        "ax.yaxis.set_ticklabels(falhas,rotation=0)\n",
        "ax.set_title('Test set Confusion Matrix',y=1)\n",
        "plt.show()"
      ]
    },
    {
      "cell_type": "markdown",
      "metadata": {
        "id": "RP0ypb3AR35j"
      },
      "source": [
        "### GridSearchCV:"
      ]
    },
    {
      "cell_type": "code",
      "execution_count": null,
      "metadata": {
        "id": "6GiEsdOkR35k"
      },
      "outputs": [],
      "source": [
        "#https://www.kdnuggets.com/2022/10/hyperparameter-tuning-grid-search-random-search-python.html\n",
        "params_arc4 = {\n",
        "'n_estimators': [10,25,50,100,200],\n",
        "'max_depth' : [5,10,25,50,100],\n",
        "'criterion' :['gini', 'entropy'],\n",
        "}"
      ]
    },
    {
      "cell_type": "code",
      "execution_count": null,
      "metadata": {
        "id": "pEEjkTksR35k"
      },
      "outputs": [],
      "source": [
        "print(\"Otimização Dados Arquitetura 4:\")\n",
        "\n",
        "grid_arc4 = GridSearchCV(RFC_arc4 ,params_arc4, scoring='accuracy',cv=5) #43 min\n",
        "grid_arc4.fit(X_arc4_train,y_arc4_train)\n",
        "\n",
        "print(grid_arc4.best_params_, grid_arc4.best_score_)\n",
        "rf_best_arc4 = grid_arc4.best_estimator_\n",
        "\n",
        "y_arc4_pred = rf_best_arc4.predict(X_arc4_test)\n",
        "\n",
        "accuracy_score(y_arc4_test, y_arc4_pred)\n",
        "print('accuracy_score %:',accuracy_score(y_arc4_test, y_arc4_pred)*100)\n",
        "\n",
        "print(rf_best_arc4.feature_importances_)\n",
        "\n",
        "imp_df = pd.DataFrame({\n",
        "    \"Varname\": X_arc4_train.columns,\n",
        "    \"Imp\": rf_best_arc4.feature_importances_\n",
        "})"
      ]
    },
    {
      "cell_type": "code",
      "execution_count": null,
      "metadata": {
        "id": "EAAdojNeR35l"
      },
      "outputs": [],
      "source": [
        "#Vendo a Importância das Features para RF Grid:\n",
        "imp_df.sort_values(by=\"Imp\", ascending=False)[0:50]"
      ]
    },
    {
      "cell_type": "markdown",
      "metadata": {
        "id": "oB6tDDhKR35m"
      },
      "source": [
        "## SVC (SEM TEMPO)"
      ]
    },
    {
      "cell_type": "code",
      "source": [
        "X_arc4"
      ],
      "metadata": {
        "id": "K89DZyHJ93T6"
      },
      "execution_count": null,
      "outputs": []
    },
    {
      "cell_type": "code",
      "execution_count": null,
      "metadata": {
        "id": "kWHEY6gnR35m"
      },
      "outputs": [],
      "source": [
        "Y_arc4 = LabelEncoder().fit_transform(Y_arc4)\n",
        "\n",
        "Y_arc4"
      ]
    },
    {
      "cell_type": "code",
      "execution_count": null,
      "metadata": {
        "id": "16APIo5FR35n"
      },
      "outputs": [],
      "source": [
        "X_arc4_train, X_arc4_test, y_arc4_train, y_arc4_test = train_test_split(X_arc4, Y_arc4, test_size = 0.3, random_state = 0)"
      ]
    },
    {
      "cell_type": "markdown",
      "metadata": {
        "id": "VLF2G5e9R35n"
      },
      "source": [
        "### Linear"
      ]
    },
    {
      "cell_type": "code",
      "execution_count": null,
      "metadata": {
        "id": "Mujo4oB2R35n"
      },
      "outputs": [],
      "source": [
        "SVC_arc4 = SVC(kernel = 'linear', random_state = 0)\n",
        "SVC_arc4.fit(X_arc4_train, y_arc4_train)"
      ]
    },
    {
      "cell_type": "code",
      "execution_count": null,
      "metadata": {
        "id": "m8FeqhKqR35o"
      },
      "outputs": [],
      "source": [
        "y_arc4_pred = SVC_arc4.predict(X_arc4_test)"
      ]
    },
    {
      "cell_type": "code",
      "execution_count": null,
      "metadata": {
        "id": "w0w6BlYpR35o"
      },
      "outputs": [],
      "source": [
        "train_score_svc=SVC_arc4.score(X_arc4_train,y_arc4_train)\n",
        "print(train_score_svc)"
      ]
    },
    {
      "cell_type": "code",
      "execution_count": null,
      "metadata": {
        "id": "0oeHRUBgR35p"
      },
      "outputs": [],
      "source": [
        "test_score_svc=SVC_arc4.score(X_arc4_test,y_arc4_test)\n",
        "print(test_score_svc)"
      ]
    },
    {
      "cell_type": "code",
      "execution_count": null,
      "metadata": {
        "id": "qn-YgwYnR35p"
      },
      "outputs": [],
      "source": [
        "accuracy_score(y_arc4_test, y_arc4_pred)\n",
        "print('accuracy_score %:',accuracy_score(y_arc4_test, y_arc4_pred)*100)"
      ]
    },
    {
      "cell_type": "code",
      "execution_count": null,
      "metadata": {
        "id": "YyGkZEAGR35q"
      },
      "outputs": [],
      "source": [
        "confmatrix_train = confusion_matrix(y_arc4_train,SVC_arc4.predict(X_arc4_train))\n",
        "confmatrix_test=confusion_matrix(y_arc4_test,SVC_arc4.predict(X_arc4_test))\n",
        "\n",
        "fig, ax = plt.subplots(figsize=(6,5))\n",
        "sns.heatmap(confmatrix_train, annot=True, fmt='g', ax=ax)\n",
        "ax.xaxis.set_ticklabels(falhas,rotation=90)\n",
        "ax.yaxis.set_ticklabels(falhas,rotation=0)\n",
        "ax.set_title('Train set Confusion Matrix',y=1)\n",
        "plt.show()\n",
        "\n",
        "fig, ax = plt.subplots(figsize=(6,5))\n",
        "sns.heatmap(confmatrix_test, annot=True, fmt='g', ax=ax)\n",
        "ax.xaxis.set_ticklabels(falhas,rotation=90)\n",
        "ax.yaxis.set_ticklabels(falhas,rotation=0)\n",
        "ax.set_title('Test set Confusion Matrix',y=1)\n",
        "plt.show()"
      ]
    },
    {
      "cell_type": "markdown",
      "metadata": {
        "id": "0fxUyiSaR35q"
      },
      "source": [
        "### Polinomial:"
      ]
    },
    {
      "cell_type": "code",
      "execution_count": null,
      "metadata": {
        "id": "hZEAwWvrR35r"
      },
      "outputs": [],
      "source": [
        "SVC_arc4 = SVC(kernel = 'poly',degree = 10, random_state = 0)\n",
        "SVC_arc4.fit(X_arc4_train, y_arc4_train)"
      ]
    },
    {
      "cell_type": "code",
      "execution_count": null,
      "metadata": {
        "id": "CE9AWLhjR35r"
      },
      "outputs": [],
      "source": [
        "y_arc4_pred = SVC_arc4.predict(X_arc4_test)"
      ]
    },
    {
      "cell_type": "code",
      "execution_count": null,
      "metadata": {
        "id": "ucu5IqHKR35s"
      },
      "outputs": [],
      "source": [
        "train_score_svc=SVC_arc4.score(X_arc4_train,y_arc4_train)\n",
        "print(train_score_svc)"
      ]
    },
    {
      "cell_type": "code",
      "execution_count": null,
      "metadata": {
        "id": "45CrtPd0R35s"
      },
      "outputs": [],
      "source": [
        "test_score_svc=SVC_arc4.score(X_arc4_test,y_arc4_test)\n",
        "print(test_score_svc)"
      ]
    },
    {
      "cell_type": "code",
      "execution_count": null,
      "metadata": {
        "id": "3MzzZyA1R35t"
      },
      "outputs": [],
      "source": [
        "accuracy_score(y_arc4_test, y_arc4_pred)\n",
        "print('accuracy_score %:',accuracy_score(y_arc4_test, y_arc4_pred)*100)"
      ]
    },
    {
      "cell_type": "code",
      "execution_count": null,
      "metadata": {
        "id": "K5wd35orR35t"
      },
      "outputs": [],
      "source": [
        "confmatrix_train = confusion_matrix(y_arc4_train,SVC_arc4.predict(X_arc4_train))\n",
        "confmatrix_test=confusion_matrix(y_arc4_test,SVC_arc4.predict(X_arc4_test))\n",
        "\n",
        "fig, ax = plt.subplots(figsize=(6,5))\n",
        "sns.heatmap(confmatrix_train, annot=True, fmt='g', ax=ax)\n",
        "ax.xaxis.set_ticklabels(falhas,rotation=90)\n",
        "ax.yaxis.set_ticklabels(falhas,rotation=0)\n",
        "ax.set_title('Train set Confusion Matrix',y=1)\n",
        "plt.show()\n",
        "\n",
        "fig, ax = plt.subplots(figsize=(6,5))\n",
        "sns.heatmap(confmatrix_test, annot=True, fmt='g', ax=ax)\n",
        "ax.xaxis.set_ticklabels(falhas,rotation=90)\n",
        "ax.yaxis.set_ticklabels(falhas,rotation=0)\n",
        "ax.set_title('Test set Confusion Matrix',y=1)\n",
        "plt.show()"
      ]
    },
    {
      "cell_type": "markdown",
      "metadata": {
        "id": "GHSqc4kPR35u"
      },
      "source": [
        "### RBF:"
      ]
    },
    {
      "cell_type": "code",
      "execution_count": null,
      "metadata": {
        "id": "4aKAaPQ7R35u"
      },
      "outputs": [],
      "source": [
        "SVC_arc4 = SVC(kernel = 'rbf', random_state = 0)\n",
        "SVC_arc4.fit(X_arc4_train, y_arc4_train)"
      ]
    },
    {
      "cell_type": "code",
      "execution_count": null,
      "metadata": {
        "id": "qStndRVsR35u"
      },
      "outputs": [],
      "source": [
        "y_arc4_pred = SVC_arc4.predict(X_arc4_test)"
      ]
    },
    {
      "cell_type": "code",
      "execution_count": null,
      "metadata": {
        "id": "TUac1nt8R35v"
      },
      "outputs": [],
      "source": [
        "train_score_svc=SVC_arc4.score(X_arc4_train,y_arc4_train)\n",
        "print(train_score_svc)"
      ]
    },
    {
      "cell_type": "code",
      "execution_count": null,
      "metadata": {
        "id": "Eceb_QCRR35w"
      },
      "outputs": [],
      "source": [
        "test_score_svc=SVC_arc4.score(X_arc4_test,y_arc4_test)\n",
        "print(test_score_svc)"
      ]
    },
    {
      "cell_type": "code",
      "execution_count": null,
      "metadata": {
        "id": "Myl_2a-_R35w"
      },
      "outputs": [],
      "source": [
        "accuracy_score(y_arc4_test, y_arc4_pred)\n",
        "print('accuracy_score %:',accuracy_score(y_arc4_test, y_arc4_pred)*100)"
      ]
    },
    {
      "cell_type": "code",
      "execution_count": null,
      "metadata": {
        "id": "I9qScdgZR35x"
      },
      "outputs": [],
      "source": [
        "confmatrix_train = confusion_matrix(y_arc4_train,SVC_arc4.predict(X_arc4_train))\n",
        "confmatrix_test=confusion_matrix(y_arc4_test,SVC_arc4.predict(X_arc4_test))\n",
        "\n",
        "fig, ax = plt.subplots(figsize=(6,5))\n",
        "sns.heatmap(confmatrix_train, annot=True, fmt='g', ax=ax)\n",
        "ax.xaxis.set_ticklabels(falhas,rotation=90)\n",
        "ax.yaxis.set_ticklabels(falhas,rotation=0)\n",
        "ax.set_title('Train set Confusion Matrix',y=1)\n",
        "plt.show()\n",
        "\n",
        "fig, ax = plt.subplots(figsize=(6,5))\n",
        "sns.heatmap(confmatrix_test, annot=True, fmt='g', ax=ax)\n",
        "ax.xaxis.set_ticklabels(falhas,rotation=90)\n",
        "ax.yaxis.set_ticklabels(falhas,rotation=0)\n",
        "ax.set_title('Test set Confusion Matrix',y=1)\n",
        "plt.show()"
      ]
    },
    {
      "cell_type": "markdown",
      "metadata": {
        "id": "HqX8f-qNR35x"
      },
      "source": [
        "### Sigmoid:"
      ]
    },
    {
      "cell_type": "code",
      "execution_count": null,
      "metadata": {
        "id": "rsJ2qqWuR35y"
      },
      "outputs": [],
      "source": [
        "SVC_arc4 = SVC(kernel = 'sigmoid', random_state = 0)\n",
        "SVC_arc4.fit(X_arc4_train, y_arc4_train)"
      ]
    },
    {
      "cell_type": "code",
      "execution_count": null,
      "metadata": {
        "id": "IP7B5Y9PR35y"
      },
      "outputs": [],
      "source": [
        "y_arc4_pred = SVC_arc4.predict(X_arc4_test)"
      ]
    },
    {
      "cell_type": "code",
      "execution_count": null,
      "metadata": {
        "id": "Je03SlrgR35z"
      },
      "outputs": [],
      "source": [
        "train_score_svc=SVC_arc4.score(X_arc4_train,y_arc4_train)\n",
        "print(train_score_svc)"
      ]
    },
    {
      "cell_type": "code",
      "execution_count": null,
      "metadata": {
        "id": "XyH4ihoaR35z"
      },
      "outputs": [],
      "source": [
        "test_score_svc=SVC_arc4.score(X_arc4_test,y_arc4_test)\n",
        "print(test_score_svc)"
      ]
    },
    {
      "cell_type": "code",
      "execution_count": null,
      "metadata": {
        "id": "fk3yOQxaR350"
      },
      "outputs": [],
      "source": [
        "accuracy_score(y_arc4_test, y_arc4_pred)\n",
        "print('accuracy_score %:',accuracy_score(y_arc4_test, y_arc4_pred)*100)"
      ]
    },
    {
      "cell_type": "code",
      "execution_count": null,
      "metadata": {
        "id": "Sb-i8-zRR351"
      },
      "outputs": [],
      "source": [
        "confmatrix_train = confusion_matrix(y_arc4_train,SVC_arc4.predict(X_arc4_train))\n",
        "confmatrix_test=confusion_matrix(y_arc4_test,SVC_arc4.predict(X_arc4_test))\n",
        "\n",
        "fig, ax = plt.subplots(figsize=(6,5))\n",
        "sns.heatmap(confmatrix_train, annot=True, fmt='g', ax=ax)\n",
        "ax.xaxis.set_ticklabels(falhas,rotation=90)\n",
        "ax.yaxis.set_ticklabels(falhas,rotation=0)\n",
        "ax.set_title('Train set Confusion Matrix',y=1)\n",
        "plt.show()\n",
        "\n",
        "fig, ax = plt.subplots(figsize=(6,5))\n",
        "sns.heatmap(confmatrix_test, annot=True, fmt='g', ax=ax)\n",
        "ax.xaxis.set_ticklabels(falhas,rotation=90)\n",
        "ax.yaxis.set_ticklabels(falhas,rotation=0)\n",
        "ax.set_title('Test set Confusion Matrix',y=1)\n",
        "plt.show()"
      ]
    },
    {
      "cell_type": "markdown",
      "metadata": {
        "id": "TJdlP4MUR351"
      },
      "source": [
        "### GridSearchCV"
      ]
    },
    {
      "cell_type": "markdown",
      "metadata": {
        "id": "qLRgomqZR352"
      },
      "source": [
        "Abandonamos o Kernel polinomial, pois não importa o grau do polinomio, sempre fica ruim"
      ]
    },
    {
      "cell_type": "code",
      "execution_count": null,
      "metadata": {
        "id": "Oe_pPSa5R352"
      },
      "outputs": [],
      "source": [
        "params_arc4_SVC_Linear = {\n",
        "'kernel':['linear'],\n",
        "'C':[0.001,0.01,0.1,1,10,100,1000],\n",
        "}\n",
        "\n",
        "params_arc4_SVC_RS = {\n",
        "'kernel':['rbf','sigmoid'],\n",
        "'gamma':['scale', 'auto'],\n",
        "'C':[0.001,0.01,0.1,1,10,100,1000],\n",
        "}"
      ]
    },
    {
      "cell_type": "code",
      "execution_count": null,
      "metadata": {
        "id": "mqEuxX7QR353"
      },
      "outputs": [],
      "source": [
        "for params in [params_arc4_SVC_Linear,params_arc4_SVC_RS]:\n",
        "  print(\"Otimização Dados Arquitetura 4:\")\n",
        "  grid_arc4_SVC = GridSearchCV(SVC_arc4 ,params, scoring='accuracy')\n",
        "  grid_arc4_SVC.fit(X_arc4_train,y_arc4_train)\n",
        "  print(grid_arc4_SVC.best_params_, grid_arc4_SVC.best_score_)\n",
        "  rf_best_arc4_SVC = grid_arc4_SVC.best_estimator_\n",
        "\n",
        "  y_arc4_pred_SVC = rf_best_arc4_SVC.predict(X_arc4_test)\n",
        "\n",
        "  accuracy_score(y_arc4_test, y_arc4_pred_SVC)\n",
        "  print('accuracy_score %:',accuracy_score(y_arc4_test, y_arc4_pred_SVC)*100)\n",
        "  print()"
      ]
    },
    {
      "cell_type": "markdown",
      "source": [
        "# Arquitetura 5\n",
        "\n",
        "PCA(0.50)"
      ],
      "metadata": {
        "id": "G8N5biOQMKNx"
      }
    },
    {
      "cell_type": "markdown",
      "metadata": {
        "id": "Vtoz_qfxMvVl"
      },
      "source": [
        "## Montando Nova Tabela"
      ]
    },
    {
      "cell_type": "markdown",
      "metadata": {
        "id": "fZnnorSlMvVm"
      },
      "source": [
        "* Zeramos as tranformações, voltamos ao início"
      ]
    },
    {
      "cell_type": "code",
      "execution_count": null,
      "metadata": {
        "id": "-SXWhzpGMvVn"
      },
      "outputs": [],
      "source": [
        "#Definindo as Features (X's):\n",
        "features=coln[1:]\n",
        "X=df_ML[features]\n",
        "\n",
        "#Definindo os Targets (Y's):\n",
        "\n",
        "targets=coln[0] #Definindo lista de targets\n",
        "Y=df_ML[targets]"
      ]
    },
    {
      "cell_type": "code",
      "execution_count": null,
      "metadata": {
        "id": "d6FtNv7hMvVn"
      },
      "outputs": [],
      "source": [
        "#Dividindo dados no Tempo\n",
        "X_tempo = X[c_T]\n",
        "c_X_tempo=list(X_tempo)\n",
        "print(c_X_tempo)\n",
        "\n",
        "#Dividindo as FFT's por Segmentos / Sensores / Eixos (SUBDATASETS):\n",
        "X_fft_a1_x=X[c_F_a1_x]\n",
        "X_fft_a1_y=X[c_F_a1_y]\n",
        "X_fft_a1_z=X[c_F_a1_z]\n",
        "\n",
        "X_fft_a2_x=X[c_F_a2_x]\n",
        "X_fft_a2_y=X[c_F_a2_y]\n",
        "X_fft_a2_z=X[c_F_a2_z]\n",
        "\n",
        "X_fft_a3_x=X[c_F_a3_x]\n",
        "X_fft_a3_y=X[c_F_a3_y]\n",
        "X_fft_a3_z=X[c_F_a3_z]\n",
        "\n",
        "X_fft_g1_x=X[c_F_g1_x]\n",
        "X_fft_g1_y=X[c_F_g1_y]\n",
        "X_fft_g1_z=X[c_F_g1_z]\n",
        "\n",
        "X_fft_g2_x=X[c_F_g2_x]\n",
        "X_fft_g2_y=X[c_F_g2_y]\n",
        "X_fft_g2_z=X[c_F_g2_z]\n",
        "\n",
        "X_fft_g3_x=X[c_F_g3_x]\n",
        "X_fft_g3_y=X[c_F_g3_y]\n",
        "X_fft_g3_z=X[c_F_g3_z]"
      ]
    },
    {
      "cell_type": "code",
      "execution_count": null,
      "metadata": {
        "id": "ESKPtC66MvVo"
      },
      "outputs": [],
      "source": [
        "sc = StandardScaler()\n",
        "\n",
        "#Aplicando a cada X_fft e Tempo:\n",
        "\n",
        "X_tempo = sc.fit_transform(X_tempo)\n",
        "\n",
        "X_fft_a1_x = sc.fit_transform(X_fft_a1_x)\n",
        "X_fft_a1_y = sc.fit_transform(X_fft_a1_y)\n",
        "X_fft_a1_z = sc.fit_transform(X_fft_a1_z)\n",
        "\n",
        "X_fft_a2_x = sc.fit_transform(X_fft_a2_x)\n",
        "X_fft_a2_y = sc.fit_transform(X_fft_a2_y)\n",
        "X_fft_a2_z = sc.fit_transform(X_fft_a2_z)\n",
        "\n",
        "X_fft_a3_x = sc.fit_transform(X_fft_a3_x)\n",
        "X_fft_a3_y = sc.fit_transform(X_fft_a3_y)\n",
        "X_fft_a3_z = sc.fit_transform(X_fft_a3_z)\n",
        "\n",
        "X_fft_g1_x = sc.fit_transform(X_fft_g1_x)\n",
        "X_fft_g1_y = sc.fit_transform(X_fft_g1_y)\n",
        "X_fft_g1_z = sc.fit_transform(X_fft_g1_z)\n",
        "\n",
        "X_fft_g2_x = sc.fit_transform(X_fft_g2_x)\n",
        "X_fft_g2_y = sc.fit_transform(X_fft_g2_y)\n",
        "X_fft_g2_z = sc.fit_transform(X_fft_g2_z)\n",
        "\n",
        "X_fft_g3_x = sc.fit_transform(X_fft_g3_x)\n",
        "X_fft_g3_y = sc.fit_transform(X_fft_g3_y)\n",
        "X_fft_g3_z = sc.fit_transform(X_fft_g3_z)"
      ]
    },
    {
      "cell_type": "code",
      "execution_count": null,
      "metadata": {
        "id": "6eZNCFF5MvVo"
      },
      "outputs": [],
      "source": [
        "df_Y=pd.DataFrame(Y, columns = ['Classificação'])\n",
        "df_Y"
      ]
    },
    {
      "cell_type": "code",
      "execution_count": null,
      "metadata": {
        "id": "-C4fPrYZMvVp"
      },
      "outputs": [],
      "source": [
        "df_X_tempo=pd.DataFrame(X_tempo, columns = c_X_tempo)\n",
        "\n",
        "df_X_tempo"
      ]
    },
    {
      "cell_type": "code",
      "execution_count": null,
      "metadata": {
        "id": "XLIFHGVBMvVq"
      },
      "outputs": [],
      "source": [
        "pca = PCA(0.50) # 70% de Variância Explicada"
      ]
    },
    {
      "cell_type": "code",
      "execution_count": null,
      "metadata": {
        "id": "9xjLw4S5MvVq"
      },
      "outputs": [],
      "source": [
        "#Aplicando o PCA para cada FFT:\n",
        "\n",
        "PCA_X_fft_a1_x = pca.fit_transform(X_fft_a1_x)\n",
        "PCA_X_fft_a1_y = pca.fit_transform(X_fft_a1_y)\n",
        "PCA_X_fft_a1_z = pca.fit_transform(X_fft_a1_z)\n",
        "\n",
        "PCA_X_fft_a2_x = pca.fit_transform(X_fft_a2_x)\n",
        "PCA_X_fft_a2_y = pca.fit_transform(X_fft_a2_y)\n",
        "PCA_X_fft_a2_z = pca.fit_transform(X_fft_a2_z)\n",
        "\n",
        "PCA_X_fft_a3_x = pca.fit_transform(X_fft_a3_x)\n",
        "PCA_X_fft_a3_y = pca.fit_transform(X_fft_a3_y)\n",
        "PCA_X_fft_a3_z = pca.fit_transform(X_fft_a3_z)\n",
        "\n",
        "PCA_X_fft_g1_x = pca.fit_transform(X_fft_g1_x)\n",
        "PCA_X_fft_g1_y = pca.fit_transform(X_fft_g1_y)\n",
        "PCA_X_fft_g1_z = pca.fit_transform(X_fft_g1_z)\n",
        "\n",
        "PCA_X_fft_g2_x = pca.fit_transform(X_fft_g2_x)\n",
        "PCA_X_fft_g2_y = pca.fit_transform(X_fft_g2_y)\n",
        "PCA_X_fft_g2_z = pca.fit_transform(X_fft_g2_z)\n",
        "\n",
        "PCA_X_fft_g3_x = pca.fit_transform(X_fft_g3_x)\n",
        "PCA_X_fft_g3_y = pca.fit_transform(X_fft_g3_y)\n",
        "PCA_X_fft_g3_z = pca.fit_transform(X_fft_g3_z)"
      ]
    },
    {
      "cell_type": "code",
      "execution_count": null,
      "metadata": {
        "id": "azx_6-cQMvVq"
      },
      "outputs": [],
      "source": [
        "#Sub DataFrames:\n",
        "df_PCA_FFT_a1_X = pd.DataFrame(PCA_X_fft_a1_x, columns = ['PCA_FFT_a1_X_'+str(i) for i in range(len(PCA_X_fft_a1_x[0]))])\n",
        "df_PCA_FFT_a1_Y = pd.DataFrame(PCA_X_fft_a1_y, columns = ['PCA_FFT_a1_Y_'+str(i) for i in range(len(PCA_X_fft_a1_y[0]))])\n",
        "df_PCA_FFT_a1_Z = pd.DataFrame(PCA_X_fft_a1_z, columns = ['PCA_FFT_a1_Z_'+str(i) for i in range(len(PCA_X_fft_a1_z[0]))])\n",
        "\n",
        "df_PCA_FFT_a2_X = pd.DataFrame(PCA_X_fft_a2_x, columns = ['PCA_FFT_a2_X_'+str(i) for i in range(len(PCA_X_fft_a2_x[0]))])\n",
        "df_PCA_FFT_a2_Y = pd.DataFrame(PCA_X_fft_a2_y, columns = ['PCA_FFT_a2_Y_'+str(i) for i in range(len(PCA_X_fft_a2_y[0]))])\n",
        "df_PCA_FFT_a2_Z = pd.DataFrame(PCA_X_fft_a2_z, columns = ['PCA_FFT_a2_Z_'+str(i) for i in range(len(PCA_X_fft_a2_z[0]))])\n",
        "\n",
        "df_PCA_FFT_a3_X = pd.DataFrame(PCA_X_fft_a3_x, columns = ['PCA_FFT_a3_X_'+str(i) for i in range(len(PCA_X_fft_a3_x[0]))])\n",
        "df_PCA_FFT_a3_Y = pd.DataFrame(PCA_X_fft_a3_y, columns = ['PCA_FFT_a3_Y_'+str(i) for i in range(len(PCA_X_fft_a3_y[0]))])\n",
        "df_PCA_FFT_a3_Z = pd.DataFrame(PCA_X_fft_a3_z, columns = ['PCA_FFT_a3_Z_'+str(i) for i in range(len(PCA_X_fft_a3_z[0]))])\n",
        "\n",
        "df_PCA_FFT_g1_X = pd.DataFrame(PCA_X_fft_g1_x, columns = ['PCA_FFT_g1_X_'+str(i) for i in range(len(PCA_X_fft_g1_x[0]))])\n",
        "df_PCA_FFT_g1_Y = pd.DataFrame(PCA_X_fft_g1_y, columns = ['PCA_FFT_g1_Y_'+str(i) for i in range(len(PCA_X_fft_g1_y[0]))])\n",
        "df_PCA_FFT_g1_Z = pd.DataFrame(PCA_X_fft_g1_z, columns = ['PCA_FFT_g1_Z_'+str(i) for i in range(len(PCA_X_fft_g1_z[0]))])\n",
        "\n",
        "df_PCA_FFT_g2_X = pd.DataFrame(PCA_X_fft_g2_x, columns = ['PCA_FFT_g2_X_'+str(i) for i in range(len(PCA_X_fft_g2_x[0]))])\n",
        "df_PCA_FFT_g2_Y = pd.DataFrame(PCA_X_fft_g2_y, columns = ['PCA_FFT_g2_Y_'+str(i) for i in range(len(PCA_X_fft_g2_y[0]))])\n",
        "df_PCA_FFT_g2_Z = pd.DataFrame(PCA_X_fft_g2_z, columns = ['PCA_FFT_g2_Z_'+str(i) for i in range(len(PCA_X_fft_g2_z[0]))])\n",
        "\n",
        "df_PCA_FFT_g3_X = pd.DataFrame(PCA_X_fft_g3_x, columns = ['PCA_FFT_g3_X_'+str(i) for i in range(len(PCA_X_fft_g3_x[0]))])\n",
        "df_PCA_FFT_g3_Y = pd.DataFrame(PCA_X_fft_g3_y, columns = ['PCA_FFT_g3_Y_'+str(i) for i in range(len(PCA_X_fft_g3_y[0]))])\n",
        "df_PCA_FFT_g3_Z = pd.DataFrame(PCA_X_fft_g3_z, columns = ['PCA_FFT_g3_Z_'+str(i) for i in range(len(PCA_X_fft_g3_z[0]))])"
      ]
    },
    {
      "cell_type": "code",
      "execution_count": null,
      "metadata": {
        "id": "GZpIGeR1MvVr"
      },
      "outputs": [],
      "source": [
        "#Teste:\n",
        "df_PCA_FFT_a3_Z"
      ]
    },
    {
      "cell_type": "code",
      "execution_count": null,
      "metadata": {
        "id": "uBzUKotjMvVr"
      },
      "outputs": [],
      "source": [
        "#Agrupando Tudo e Montar Tabela para Arquitetura 1:\n",
        "frames=[df_Y,df_X_tempo,df_PCA_FFT_a1_X,df_PCA_FFT_a1_Y,df_PCA_FFT_a1_Z,df_PCA_FFT_a2_X,df_PCA_FFT_a2_Y,df_PCA_FFT_a2_Z,df_PCA_FFT_a3_X,df_PCA_FFT_a3_Y,df_PCA_FFT_a3_Z,df_PCA_FFT_g1_X,df_PCA_FFT_g1_Y,df_PCA_FFT_g1_Z,df_PCA_FFT_g2_X,df_PCA_FFT_g2_Y,df_PCA_FFT_g2_Z,df_PCA_FFT_g3_X,df_PCA_FFT_g3_Y,df_PCA_FFT_g3_Z]\n",
        "df_arc5=pd.concat(frames,axis=1)"
      ]
    },
    {
      "cell_type": "code",
      "execution_count": null,
      "metadata": {
        "id": "xW3m4Fh1MvVs"
      },
      "outputs": [],
      "source": [
        "df_arc5"
      ]
    },
    {
      "cell_type": "code",
      "execution_count": null,
      "metadata": {
        "id": "h6JdAiC3MvVs"
      },
      "outputs": [],
      "source": [
        "df_arc5.isnull().sum()"
      ]
    },
    {
      "cell_type": "code",
      "execution_count": null,
      "metadata": {
        "id": "l-ShoNQgMvVt"
      },
      "outputs": [],
      "source": [
        "#Conferindo NANs:\n",
        "for x in df_arc5.isnull().sum():\n",
        "  if x != 0:\n",
        "    print('TEM ALGUM NAN')\n",
        "print(\"Pode Seguir !!! Sem NANs\")"
      ]
    },
    {
      "cell_type": "code",
      "source": [
        "df_arc5.to_csv('DataframeML_ARC5_TempoFFT.csv')"
      ],
      "metadata": {
        "id": "1OscKtb0MvVt"
      },
      "execution_count": null,
      "outputs": []
    },
    {
      "cell_type": "code",
      "execution_count": null,
      "metadata": {
        "id": "TmRDeF2wMvVu"
      },
      "outputs": [],
      "source": [
        "# Nome das Colunas:\n",
        "#Lista com Nome de cada Coluna:\n",
        "coln_arc5=list(df_arc5)\n",
        "print(coln_arc5, \"\\n\")\n",
        "\n",
        "print(len(coln_arc5))\n",
        "#Definindo as Features (X's):\n",
        "features=coln_arc5[1:]\n",
        "X_arc5=df_arc5[features]\n",
        "\n",
        "print(coln_arc5[1:])\n",
        "#Definindo os Targets (Y's):\n",
        "\n",
        "targets=coln_arc5[0] #Definindo lista de targets\n",
        "Y_arc5=df_arc5[targets]"
      ]
    },
    {
      "cell_type": "code",
      "execution_count": null,
      "metadata": {
        "id": "JZNC8c2zMvVv"
      },
      "outputs": [],
      "source": [
        "X_arc5"
      ]
    },
    {
      "cell_type": "code",
      "execution_count": null,
      "metadata": {
        "id": "lUffMu8fMvVv"
      },
      "outputs": [],
      "source": [
        "Y_arc5"
      ]
    },
    {
      "cell_type": "markdown",
      "metadata": {
        "id": "eclj6GLfO4aq"
      },
      "source": [
        "## Random Forest (COM TEMPO)"
      ]
    },
    {
      "cell_type": "code",
      "source": [
        "X_arc5"
      ],
      "metadata": {
        "id": "_dFItcplO4ar"
      },
      "execution_count": null,
      "outputs": []
    },
    {
      "cell_type": "code",
      "execution_count": null,
      "metadata": {
        "id": "ghjULy5oO4ar"
      },
      "outputs": [],
      "source": [
        "Y_arc5 = LabelEncoder().fit_transform(Y_arc5)\n",
        "\n",
        "Y_arc5"
      ]
    },
    {
      "cell_type": "code",
      "execution_count": null,
      "metadata": {
        "id": "YtC-1qxQO4as"
      },
      "outputs": [],
      "source": [
        "X_arc5_train, X_arc5_test, y_arc5_train, y_arc5_test = train_test_split(X_arc5, Y_arc5, test_size = 0.3, random_state = 0)\n",
        "\n",
        "RFC_arc5 = RandomForestClassifier(max_depth= 25, n_estimators = 50, random_state = 0)\n",
        "RFC_arc5.fit(X_arc5_train, y_arc5_train)"
      ]
    },
    {
      "cell_type": "code",
      "execution_count": null,
      "metadata": {
        "id": "o2F1zx0KO4as"
      },
      "outputs": [],
      "source": [
        "y_arc5_pred = RFC_arc5.predict(X_arc5_test)"
      ]
    },
    {
      "cell_type": "code",
      "execution_count": null,
      "metadata": {
        "id": "DlCgqHr2O4at"
      },
      "outputs": [],
      "source": [
        "train_score_rf=RFC_arc5.score(X_arc5_train,y_arc5_train)\n",
        "print(train_score_rf)"
      ]
    },
    {
      "cell_type": "code",
      "execution_count": null,
      "metadata": {
        "id": "Rz6kYTgPO4at"
      },
      "outputs": [],
      "source": [
        "test_score_rf=RFC_arc5.score(X_arc5_test,y_arc5_test)\n",
        "print(test_score_rf)"
      ]
    },
    {
      "cell_type": "code",
      "execution_count": null,
      "metadata": {
        "id": "Rk_wQeYAO4au"
      },
      "outputs": [],
      "source": [
        "accuracy_score(y_arc5_test, y_arc5_pred)\n",
        "print('accuracy_score %:',accuracy_score(y_arc5_test, y_arc5_pred)*100)"
      ]
    },
    {
      "cell_type": "code",
      "execution_count": null,
      "metadata": {
        "id": "RuJN3H5UO4au"
      },
      "outputs": [],
      "source": [
        "RFC_arc5.feature_importances_"
      ]
    },
    {
      "cell_type": "code",
      "execution_count": null,
      "metadata": {
        "id": "Xw_Rdd9DO4av"
      },
      "outputs": [],
      "source": [
        "np.max(RFC_arc5.feature_importances_)"
      ]
    },
    {
      "cell_type": "code",
      "execution_count": null,
      "metadata": {
        "id": "_kbIKCoRO4aw"
      },
      "outputs": [],
      "source": [
        "imp_df = pd.DataFrame({\n",
        "    \"Varname\": X_arc5_train.columns,\n",
        "    \"Imp\": RFC_arc5.feature_importances_\n",
        "})"
      ]
    },
    {
      "cell_type": "code",
      "execution_count": null,
      "metadata": {
        "id": "ZCQj9KD4O4aw"
      },
      "outputs": [],
      "source": [
        "#Vendo a Importância das Features para RF:\n",
        "imp_df.sort_values(by=\"Imp\", ascending=False)[0:50]"
      ]
    },
    {
      "cell_type": "code",
      "execution_count": null,
      "metadata": {
        "id": "jjb1IEIRO4ax"
      },
      "outputs": [],
      "source": [
        "confmatrix_train = confusion_matrix(y_arc5_train,RFC_arc5.predict(X_arc5_train))\n",
        "confmatrix_test=confusion_matrix(y_arc5_test,RFC_arc5.predict(X_arc5_test))\n",
        "\n",
        "fig, ax = plt.subplots(figsize=(6,5))\n",
        "sns.heatmap(confmatrix_train, annot=True, fmt='g', ax=ax)\n",
        "ax.xaxis.set_ticklabels(falhas,rotation=90)\n",
        "ax.yaxis.set_ticklabels(falhas,rotation=0)\n",
        "ax.set_title('Train set Confusion Matrix',y=1)\n",
        "plt.show()\n",
        "\n",
        "fig, ax = plt.subplots(figsize=(6,5))\n",
        "sns.heatmap(confmatrix_test, annot=True, fmt='g', ax=ax)\n",
        "ax.xaxis.set_ticklabels(falhas,rotation=90)\n",
        "ax.yaxis.set_ticklabels(falhas,rotation=0)\n",
        "ax.set_title('Test set Confusion Matrix',y=1)\n",
        "plt.show()"
      ]
    },
    {
      "cell_type": "markdown",
      "metadata": {
        "id": "fJ1dmG-0O4ax"
      },
      "source": [
        "### GridSearchCV:"
      ]
    },
    {
      "cell_type": "code",
      "execution_count": null,
      "metadata": {
        "id": "RRAXQyd2O4ax"
      },
      "outputs": [],
      "source": [
        "#https://www.kdnuggets.com/2022/10/hyperparameter-tuning-grid-search-random-search-python.html\n",
        "params_arc5 = {\n",
        "'n_estimators': [10,25,50,100,200],\n",
        "'max_depth' : [5,10,25,50,100],\n",
        "'criterion' :['gini', 'entropy'],\n",
        "}"
      ]
    },
    {
      "cell_type": "code",
      "execution_count": null,
      "metadata": {
        "id": "FEckOFPNO4ay"
      },
      "outputs": [],
      "source": [
        "print(\"Otimização Dados Arquitetura 5:\")\n",
        "\n",
        "grid_arc5 = GridSearchCV(RFC_arc5 ,params_arc5, scoring='accuracy',cv=5)\n",
        "grid_arc5.fit(X_arc5_train,y_arc5_train)\n",
        "\n",
        "print(grid_arc5.best_params_, grid_arc5.best_score_)\n",
        "rf_best_arc5 = grid_arc5.best_estimator_\n",
        "\n",
        "y_arc5_pred = rf_best_arc5.predict(X_arc5_test)\n",
        "\n",
        "accuracy_score(y_arc5_test, y_arc5_pred)\n",
        "print('accuracy_score %:',accuracy_score(y_arc5_test, y_arc5_pred)*100)\n",
        "\n",
        "print(rf_best_arc5.feature_importances_)\n",
        "\n",
        "imp_df = pd.DataFrame({\n",
        "    \"Varname\": X_arc5_train.columns,\n",
        "    \"Imp\": rf_best_arc5.feature_importances_\n",
        "})"
      ]
    },
    {
      "cell_type": "code",
      "execution_count": null,
      "metadata": {
        "id": "tQu7iy43O4ay"
      },
      "outputs": [],
      "source": [
        "#Vendo a Importância das Features para RF Grid:\n",
        "imp_df.sort_values(by=\"Imp\", ascending=False)[0:50]"
      ]
    },
    {
      "cell_type": "markdown",
      "metadata": {
        "id": "_Fe6PUz6RTAd"
      },
      "source": [
        "## SVC (COM TEMPO)"
      ]
    },
    {
      "cell_type": "code",
      "source": [
        "X_arc5"
      ],
      "metadata": {
        "id": "ZEt_jjcURTAf"
      },
      "execution_count": null,
      "outputs": []
    },
    {
      "cell_type": "code",
      "execution_count": null,
      "metadata": {
        "id": "GcuLuRRiRTAh"
      },
      "outputs": [],
      "source": [
        "Y_arc5 = LabelEncoder().fit_transform(Y_arc5)\n",
        "\n",
        "Y_arc5"
      ]
    },
    {
      "cell_type": "code",
      "execution_count": null,
      "metadata": {
        "id": "0Tc65e9xRTAi"
      },
      "outputs": [],
      "source": [
        "X_arc5_train, X_arc5_test, y_arc5_train, y_arc5_test = train_test_split(X_arc5, Y_arc5, test_size = 0.3, random_state = 0)"
      ]
    },
    {
      "cell_type": "markdown",
      "metadata": {
        "id": "Pt9A-5kARTAj"
      },
      "source": [
        "### Linear"
      ]
    },
    {
      "cell_type": "code",
      "execution_count": null,
      "metadata": {
        "id": "5OP9WlctRTAk"
      },
      "outputs": [],
      "source": [
        "SVC_arc5 = SVC(kernel = 'linear', random_state = 0)\n",
        "SVC_arc5.fit(X_arc5_train, y_arc5_train)"
      ]
    },
    {
      "cell_type": "code",
      "execution_count": null,
      "metadata": {
        "id": "5Oxd-PunRTAk"
      },
      "outputs": [],
      "source": [
        "y_arc5_pred = SVC_arc5.predict(X_arc5_test)"
      ]
    },
    {
      "cell_type": "code",
      "execution_count": null,
      "metadata": {
        "id": "GKJHXdyfRTAl"
      },
      "outputs": [],
      "source": [
        "train_score_svc=SVC_arc5.score(X_arc5_train,y_arc5_train)\n",
        "print(train_score_svc)"
      ]
    },
    {
      "cell_type": "code",
      "execution_count": null,
      "metadata": {
        "id": "bIfRu8crRTAm"
      },
      "outputs": [],
      "source": [
        "test_score_svc=SVC_arc5.score(X_arc5_test,y_arc5_test)\n",
        "print(test_score_svc)"
      ]
    },
    {
      "cell_type": "code",
      "execution_count": null,
      "metadata": {
        "id": "tXW-Yh1XRTAm"
      },
      "outputs": [],
      "source": [
        "accuracy_score(y_arc5_test, y_arc5_pred)\n",
        "print('accuracy_score %:',accuracy_score(y_arc5_test, y_arc5_pred)*100)"
      ]
    },
    {
      "cell_type": "code",
      "execution_count": null,
      "metadata": {
        "id": "24wdbXUQRTAn"
      },
      "outputs": [],
      "source": [
        "confmatrix_train = confusion_matrix(y_arc5_train,SVC_arc5.predict(X_arc5_train))\n",
        "confmatrix_test=confusion_matrix(y_arc5_test,SVC_arc5.predict(X_arc5_test))\n",
        "\n",
        "fig, ax = plt.subplots(figsize=(6,5))\n",
        "sns.heatmap(confmatrix_train, annot=True, fmt='g', ax=ax)\n",
        "ax.xaxis.set_ticklabels(falhas,rotation=90)\n",
        "ax.yaxis.set_ticklabels(falhas,rotation=0)\n",
        "ax.set_title('Train set Confusion Matrix',y=1)\n",
        "plt.show()\n",
        "\n",
        "fig, ax = plt.subplots(figsize=(6,5))\n",
        "sns.heatmap(confmatrix_test, annot=True, fmt='g', ax=ax)\n",
        "ax.xaxis.set_ticklabels(falhas,rotation=90)\n",
        "ax.yaxis.set_ticklabels(falhas,rotation=0)\n",
        "ax.set_title('Test set Confusion Matrix',y=1)\n",
        "plt.show()"
      ]
    },
    {
      "cell_type": "markdown",
      "metadata": {
        "id": "hmmRAhTfRTAo"
      },
      "source": [
        "### Polinomial:"
      ]
    },
    {
      "cell_type": "code",
      "execution_count": null,
      "metadata": {
        "id": "glNAOiN4RTAo"
      },
      "outputs": [],
      "source": [
        "SVC_arc5 = SVC(kernel = 'poly',degree = 10, random_state = 0)\n",
        "SVC_arc5.fit(X_arc5_train, y_arc5_train)"
      ]
    },
    {
      "cell_type": "code",
      "execution_count": null,
      "metadata": {
        "id": "B_oYr6QjRTAp"
      },
      "outputs": [],
      "source": [
        "y_arc5_pred = SVC_arc5.predict(X_arc5_test)"
      ]
    },
    {
      "cell_type": "code",
      "execution_count": null,
      "metadata": {
        "id": "IoNO1-jrRTAp"
      },
      "outputs": [],
      "source": [
        "train_score_svc=SVC_arc5.score(X_arc5_train,y_arc5_train)\n",
        "print(train_score_svc)"
      ]
    },
    {
      "cell_type": "code",
      "execution_count": null,
      "metadata": {
        "id": "0YZpur6bRTAq"
      },
      "outputs": [],
      "source": [
        "test_score_svc=SVC_arc5.score(X_arc5_test,y_arc5_test)\n",
        "print(test_score_svc)"
      ]
    },
    {
      "cell_type": "code",
      "execution_count": null,
      "metadata": {
        "id": "wxtt9g8CRTAq"
      },
      "outputs": [],
      "source": [
        "accuracy_score(y_arc5_test, y_arc5_pred)\n",
        "print('accuracy_score %:',accuracy_score(y_arc5_test, y_arc5_pred)*100)"
      ]
    },
    {
      "cell_type": "code",
      "execution_count": null,
      "metadata": {
        "id": "NWOtLmZLRTAr"
      },
      "outputs": [],
      "source": [
        "confmatrix_train = confusion_matrix(y_arc5_train,SVC_arc5.predict(X_arc5_train))\n",
        "confmatrix_test=confusion_matrix(y_arc5_test,SVC_arc5.predict(X_arc5_test))\n",
        "\n",
        "fig, ax = plt.subplots(figsize=(6,5))\n",
        "sns.heatmap(confmatrix_train, annot=True, fmt='g', ax=ax)\n",
        "ax.xaxis.set_ticklabels(falhas,rotation=90)\n",
        "ax.yaxis.set_ticklabels(falhas,rotation=0)\n",
        "ax.set_title('Train set Confusion Matrix',y=1)\n",
        "plt.show()\n",
        "\n",
        "fig, ax = plt.subplots(figsize=(6,5))\n",
        "sns.heatmap(confmatrix_test, annot=True, fmt='g', ax=ax)\n",
        "ax.xaxis.set_ticklabels(falhas,rotation=90)\n",
        "ax.yaxis.set_ticklabels(falhas,rotation=0)\n",
        "ax.set_title('Test set Confusion Matrix',y=1)\n",
        "plt.show()"
      ]
    },
    {
      "cell_type": "markdown",
      "metadata": {
        "id": "40CqK9JoRTAs"
      },
      "source": [
        "### RBF:"
      ]
    },
    {
      "cell_type": "code",
      "execution_count": null,
      "metadata": {
        "id": "7CxdR3eERTAs"
      },
      "outputs": [],
      "source": [
        "SVC_arc5 = SVC(kernel = 'rbf', random_state = 0)\n",
        "SVC_arc5.fit(X_arc5_train, y_arc5_train)"
      ]
    },
    {
      "cell_type": "code",
      "execution_count": null,
      "metadata": {
        "id": "Cx_dSFwIRTAt"
      },
      "outputs": [],
      "source": [
        "y_arc5_pred = SVC_arc5.predict(X_arc5_test)"
      ]
    },
    {
      "cell_type": "code",
      "execution_count": null,
      "metadata": {
        "id": "LP079kufRTAt"
      },
      "outputs": [],
      "source": [
        "train_score_svc=SVC_arc5.score(X_arc5_train,y_arc5_train)\n",
        "print(train_score_svc)"
      ]
    },
    {
      "cell_type": "code",
      "execution_count": null,
      "metadata": {
        "id": "EqZwShBrRTAu"
      },
      "outputs": [],
      "source": [
        "test_score_svc=SVC_arc5.score(X_arc5_test,y_arc5_test)\n",
        "print(test_score_svc)"
      ]
    },
    {
      "cell_type": "code",
      "execution_count": null,
      "metadata": {
        "id": "CptdTedIRTAv"
      },
      "outputs": [],
      "source": [
        "accuracy_score(y_arc5_test, y_arc5_pred)\n",
        "print('accuracy_score %:',accuracy_score(y_arc5_test, y_arc5_pred)*100)"
      ]
    },
    {
      "cell_type": "code",
      "execution_count": null,
      "metadata": {
        "id": "FKGJMYvgRTAv"
      },
      "outputs": [],
      "source": [
        "confmatrix_train = confusion_matrix(y_arc5_train,SVC_arc5.predict(X_arc5_train))\n",
        "confmatrix_test=confusion_matrix(y_arc5_test,SVC_arc5.predict(X_arc5_test))\n",
        "\n",
        "fig, ax = plt.subplots(figsize=(6,5))\n",
        "sns.heatmap(confmatrix_train, annot=True, fmt='g', ax=ax)\n",
        "ax.xaxis.set_ticklabels(falhas,rotation=90)\n",
        "ax.yaxis.set_ticklabels(falhas,rotation=0)\n",
        "ax.set_title('Train set Confusion Matrix',y=1)\n",
        "plt.show()\n",
        "\n",
        "fig, ax = plt.subplots(figsize=(6,5))\n",
        "sns.heatmap(confmatrix_test, annot=True, fmt='g', ax=ax)\n",
        "ax.xaxis.set_ticklabels(falhas,rotation=90)\n",
        "ax.yaxis.set_ticklabels(falhas,rotation=0)\n",
        "ax.set_title('Test set Confusion Matrix',y=1)\n",
        "plt.show()"
      ]
    },
    {
      "cell_type": "markdown",
      "metadata": {
        "id": "VM3q7X09RTAw"
      },
      "source": [
        "### Sigmoid:"
      ]
    },
    {
      "cell_type": "code",
      "execution_count": null,
      "metadata": {
        "id": "Mjs263EFRTAx"
      },
      "outputs": [],
      "source": [
        "SVC_arc5 = SVC(kernel = 'sigmoid', random_state = 0)\n",
        "SVC_arc5.fit(X_arc5_train, y_arc5_train)"
      ]
    },
    {
      "cell_type": "code",
      "execution_count": null,
      "metadata": {
        "id": "GukLMAEMRTAx"
      },
      "outputs": [],
      "source": [
        "y_arc5_pred = SVC_arc5.predict(X_arc5_test)"
      ]
    },
    {
      "cell_type": "code",
      "execution_count": null,
      "metadata": {
        "id": "uhtJHZb5RTAy"
      },
      "outputs": [],
      "source": [
        "train_score_svc=SVC_arc5.score(X_arc5_train,y_arc5_train)\n",
        "print(train_score_svc)"
      ]
    },
    {
      "cell_type": "code",
      "execution_count": null,
      "metadata": {
        "id": "-Si0b1FPRTAz"
      },
      "outputs": [],
      "source": [
        "test_score_svc=SVC_arc5.score(X_arc5_test,y_arc5_test)\n",
        "print(test_score_svc)"
      ]
    },
    {
      "cell_type": "code",
      "execution_count": null,
      "metadata": {
        "id": "oR_SAPuJRTAz"
      },
      "outputs": [],
      "source": [
        "accuracy_score(y_arc5_test, y_arc5_pred)\n",
        "print('accuracy_score %:',accuracy_score(y_arc5_test, y_arc5_pred)*100)"
      ]
    },
    {
      "cell_type": "code",
      "execution_count": null,
      "metadata": {
        "id": "l3MTyGUSRTA0"
      },
      "outputs": [],
      "source": [
        "confmatrix_train = confusion_matrix(y_arc5_train,SVC_arc5.predict(X_arc5_train))\n",
        "confmatrix_test=confusion_matrix(y_arc5_test,SVC_arc5.predict(X_arc5_test))\n",
        "\n",
        "fig, ax = plt.subplots(figsize=(6,5))\n",
        "sns.heatmap(confmatrix_train, annot=True, fmt='g', ax=ax)\n",
        "ax.xaxis.set_ticklabels(falhas,rotation=90)\n",
        "ax.yaxis.set_ticklabels(falhas,rotation=0)\n",
        "ax.set_title('Train set Confusion Matrix',y=1)\n",
        "plt.show()\n",
        "\n",
        "fig, ax = plt.subplots(figsize=(6,5))\n",
        "sns.heatmap(confmatrix_test, annot=True, fmt='g', ax=ax)\n",
        "ax.xaxis.set_ticklabels(falhas,rotation=90)\n",
        "ax.yaxis.set_ticklabels(falhas,rotation=0)\n",
        "ax.set_title('Test set Confusion Matrix',y=1)\n",
        "plt.show()"
      ]
    },
    {
      "cell_type": "markdown",
      "metadata": {
        "id": "jMK7WZ0ORTA1"
      },
      "source": [
        "### GridSearchCV"
      ]
    },
    {
      "cell_type": "markdown",
      "metadata": {
        "id": "EHkFwBKkRTA2"
      },
      "source": [
        "Abandonamos o Kernel polinomial, pois não importa o grau do polinomio, sempre fica ruim"
      ]
    },
    {
      "cell_type": "code",
      "execution_count": null,
      "metadata": {
        "id": "IDhDd4neRTA2"
      },
      "outputs": [],
      "source": [
        "params_arc5_SVC_Linear = {\n",
        "'kernel':['linear'],\n",
        "'C':[0.001,0.01,0.1,1,10,100,1000],\n",
        "}\n",
        "\n",
        "params_arc5_SVC_RS = {\n",
        "'kernel':['rbf','sigmoid'],\n",
        "'gamma':['scale', 'auto'],\n",
        "'C':[0.001,0.01,0.1,1,10,100,1000],\n",
        "}"
      ]
    },
    {
      "cell_type": "code",
      "execution_count": null,
      "metadata": {
        "id": "Ht9abktQRTA2"
      },
      "outputs": [],
      "source": [
        "for params in [params_arc5_SVC_Linear,params_arc5_SVC_RS]:\n",
        "  print(\"Otimização Dados Arquitetura 5:\")\n",
        "  grid_arc5_SVC = GridSearchCV(SVC_arc5 ,params, scoring='accuracy')\n",
        "  grid_arc5_SVC.fit(X_arc5_train,y_arc5_train)\n",
        "  print(grid_arc5_SVC.best_params_, grid_arc5_SVC.best_score_)\n",
        "  rf_best_arc5_SVC = grid_arc5_SVC.best_estimator_\n",
        "\n",
        "  y_arc5_pred_SVC = rf_best_arc5_SVC.predict(X_arc5_test)\n",
        "\n",
        "  accuracy_score(y_arc5_test, y_arc5_pred_SVC)\n",
        "  print('accuracy_score %:',accuracy_score(y_arc5_test, y_arc5_pred_SVC)*100)\n",
        "  print()"
      ]
    },
    {
      "cell_type": "markdown",
      "metadata": {
        "id": "25lX9wm3TqsO"
      },
      "source": [
        "## Tabela sem Tempo"
      ]
    },
    {
      "cell_type": "code",
      "execution_count": null,
      "metadata": {
        "id": "Z9k4XE0yTqsP"
      },
      "outputs": [],
      "source": [
        "df_arc5"
      ]
    },
    {
      "cell_type": "code",
      "execution_count": null,
      "metadata": {
        "id": "7ItY4OFITqsQ"
      },
      "outputs": [],
      "source": [
        "df_arc5.drop(c_X_tempo[1:],axis=1,inplace=True)"
      ]
    },
    {
      "cell_type": "code",
      "execution_count": null,
      "metadata": {
        "id": "Nf0sSPcMTqsR"
      },
      "outputs": [],
      "source": [
        "df_arc5"
      ]
    },
    {
      "cell_type": "code",
      "source": [
        "df_arc5.to_csv('DataframeML_ARC5_FFT.csv')"
      ],
      "metadata": {
        "id": "hOGgeaEvTqsS"
      },
      "execution_count": null,
      "outputs": []
    },
    {
      "cell_type": "code",
      "execution_count": null,
      "metadata": {
        "id": "5mN46WlNTqsT"
      },
      "outputs": [],
      "source": [
        "# Nome das Colunas:\n",
        "#Lista com Nome de cada Coluna:\n",
        "coln_arc5=list(df_arc5)\n",
        "print(coln_arc5, \"\\n\")\n",
        "\n",
        "print(len(coln_arc5))\n",
        "#Definindo as Features (X's):\n",
        "features=coln_arc5[1:]\n",
        "X_arc5=df_arc5[features]\n",
        "\n",
        "print(coln_arc5[1:])\n",
        "#Definindo os Targets (Y's):\n",
        "\n",
        "targets=coln_arc5[0] #Definindo lista de targets\n",
        "Y_arc5=df_arc5[targets]"
      ]
    },
    {
      "cell_type": "code",
      "execution_count": null,
      "metadata": {
        "id": "TzF1p_yqTqsU"
      },
      "outputs": [],
      "source": [
        "Y_arc5"
      ]
    },
    {
      "cell_type": "code",
      "execution_count": null,
      "metadata": {
        "id": "4DL-dyfFTqsU"
      },
      "outputs": [],
      "source": [
        "X_arc5"
      ]
    },
    {
      "cell_type": "markdown",
      "metadata": {
        "id": "vSItPUSLUros"
      },
      "source": [
        "## Random Forest (SEM TEMPO)"
      ]
    },
    {
      "cell_type": "code",
      "source": [
        "X_arc5"
      ],
      "metadata": {
        "id": "NY1epI1TUros"
      },
      "execution_count": null,
      "outputs": []
    },
    {
      "cell_type": "code",
      "execution_count": null,
      "metadata": {
        "id": "oxF6H2XWUrot"
      },
      "outputs": [],
      "source": [
        "Y_arc5 = LabelEncoder().fit_transform(Y_arc5)\n",
        "\n",
        "Y_arc5"
      ]
    },
    {
      "cell_type": "code",
      "execution_count": null,
      "metadata": {
        "id": "7FkUCdJIUrou"
      },
      "outputs": [],
      "source": [
        "X_arc5_train, X_arc5_test, y_arc5_train, y_arc5_test = train_test_split(X_arc5, Y_arc5, test_size = 0.3, random_state = 0)\n",
        "\n",
        "RFC_arc5 = RandomForestClassifier(max_depth= 10, n_estimators = 25, random_state = 0)\n",
        "RFC_arc5.fit(X_arc5_train, y_arc5_train)"
      ]
    },
    {
      "cell_type": "code",
      "execution_count": null,
      "metadata": {
        "id": "JS0fi6SuUrou"
      },
      "outputs": [],
      "source": [
        "y_arc5_pred = RFC_arc5.predict(X_arc5_test)"
      ]
    },
    {
      "cell_type": "code",
      "execution_count": null,
      "metadata": {
        "id": "hRw0rdUoUroz"
      },
      "outputs": [],
      "source": [
        "train_score_rf=RFC_arc5.score(X_arc5_train,y_arc5_train)\n",
        "print(train_score_rf)"
      ]
    },
    {
      "cell_type": "code",
      "execution_count": null,
      "metadata": {
        "id": "GiIZytvsUro0"
      },
      "outputs": [],
      "source": [
        "test_score_rf=RFC_arc5.score(X_arc5_test,y_arc5_test)\n",
        "print(test_score_rf)"
      ]
    },
    {
      "cell_type": "code",
      "execution_count": null,
      "metadata": {
        "id": "Lj-nc0fdUro1"
      },
      "outputs": [],
      "source": [
        "accuracy_score(y_arc5_test, y_arc5_pred)\n",
        "print('accuracy_score %:',accuracy_score(y_arc5_test, y_arc5_pred)*100)"
      ]
    },
    {
      "cell_type": "code",
      "execution_count": null,
      "metadata": {
        "id": "hugjeMGTUro2"
      },
      "outputs": [],
      "source": [
        "RFC_arc5.feature_importances_"
      ]
    },
    {
      "cell_type": "code",
      "execution_count": null,
      "metadata": {
        "id": "JpJFSxJ9Uro3"
      },
      "outputs": [],
      "source": [
        "np.max(RFC_arc5.feature_importances_)"
      ]
    },
    {
      "cell_type": "code",
      "execution_count": null,
      "metadata": {
        "id": "hP8fLW7fUro4"
      },
      "outputs": [],
      "source": [
        "imp_df = pd.DataFrame({\n",
        "    \"Varname\": X_arc5_train.columns,\n",
        "    \"Imp\": RFC_arc5.feature_importances_\n",
        "})"
      ]
    },
    {
      "cell_type": "code",
      "execution_count": null,
      "metadata": {
        "id": "5FVzw1t0Uro5"
      },
      "outputs": [],
      "source": [
        "#Vendo a Importância das Features para RF:\n",
        "imp_df.sort_values(by=\"Imp\", ascending=False)[0:50]"
      ]
    },
    {
      "cell_type": "code",
      "execution_count": null,
      "metadata": {
        "id": "2IadwrohUro8"
      },
      "outputs": [],
      "source": [
        "confmatrix_train = confusion_matrix(y_arc5_train,RFC_arc5.predict(X_arc5_train))\n",
        "confmatrix_test=confusion_matrix(y_arc5_test,RFC_arc5.predict(X_arc5_test))\n",
        "\n",
        "fig, ax = plt.subplots(figsize=(6,5))\n",
        "sns.heatmap(confmatrix_train, annot=True, fmt='g', ax=ax)\n",
        "ax.xaxis.set_ticklabels(falhas,rotation=90)\n",
        "ax.yaxis.set_ticklabels(falhas,rotation=0)\n",
        "ax.set_title('Train set Confusion Matrix',y=1)\n",
        "plt.show()\n",
        "\n",
        "fig, ax = plt.subplots(figsize=(6,5))\n",
        "sns.heatmap(confmatrix_test, annot=True, fmt='g', ax=ax)\n",
        "ax.xaxis.set_ticklabels(falhas,rotation=90)\n",
        "ax.yaxis.set_ticklabels(falhas,rotation=0)\n",
        "ax.set_title('Test set Confusion Matrix',y=1)\n",
        "plt.show()"
      ]
    },
    {
      "cell_type": "markdown",
      "metadata": {
        "id": "bcQhAvNNUro9"
      },
      "source": [
        "### GridSearchCV:"
      ]
    },
    {
      "cell_type": "code",
      "execution_count": null,
      "metadata": {
        "id": "fpuvRN6sUro-"
      },
      "outputs": [],
      "source": [
        "#https://www.kdnuggets.com/2022/10/hyperparameter-tuning-grid-search-random-search-python.html\n",
        "params_arc5 = {\n",
        "'n_estimators': [10,25,50,100,200],\n",
        "'max_depth' : [5,10,25,50,100],\n",
        "'criterion' :['gini', 'entropy'],\n",
        "}"
      ]
    },
    {
      "cell_type": "code",
      "execution_count": null,
      "metadata": {
        "id": "esM4sN9ZUro-"
      },
      "outputs": [],
      "source": [
        "print(\"Otimização Dados Arquitetura 5:\")\n",
        "\n",
        "grid_arc5 = GridSearchCV(RFC_arc5 ,params_arc5, scoring='accuracy',cv=5)\n",
        "grid_arc5.fit(X_arc5_train,y_arc5_train)\n",
        "\n",
        "print(grid_arc5.best_params_, grid_arc5.best_score_)\n",
        "rf_best_arc5 = grid_arc5.best_estimator_\n",
        "\n",
        "y_arc5_pred = rf_best_arc5.predict(X_arc5_test)\n",
        "\n",
        "accuracy_score(y_arc5_test, y_arc5_pred)\n",
        "print('accuracy_score %:',accuracy_score(y_arc5_test, y_arc5_pred)*100)\n",
        "\n",
        "print(rf_best_arc5.feature_importances_)\n",
        "\n",
        "imp_df = pd.DataFrame({\n",
        "    \"Varname\": X_arc5_train.columns,\n",
        "    \"Imp\": rf_best_arc5.feature_importances_\n",
        "})"
      ]
    },
    {
      "cell_type": "code",
      "execution_count": null,
      "metadata": {
        "id": "HLeNrQJsUro_"
      },
      "outputs": [],
      "source": [
        "#Vendo a Importância das Features para RF Grid:\n",
        "imp_df.sort_values(by=\"Imp\", ascending=False)[0:50]"
      ]
    },
    {
      "cell_type": "markdown",
      "metadata": {
        "id": "2Cg8BgQNV1l-"
      },
      "source": [
        "## SVC (SEM TEMPO)"
      ]
    },
    {
      "cell_type": "code",
      "source": [
        "X_arc5"
      ],
      "metadata": {
        "id": "kxydJdooV1l_"
      },
      "execution_count": null,
      "outputs": []
    },
    {
      "cell_type": "code",
      "execution_count": null,
      "metadata": {
        "id": "DcjLkro2V1mA"
      },
      "outputs": [],
      "source": [
        "Y_arc5 = LabelEncoder().fit_transform(Y_arc5)\n",
        "\n",
        "Y_arc5"
      ]
    },
    {
      "cell_type": "code",
      "execution_count": null,
      "metadata": {
        "id": "4dXON_y_V1mB"
      },
      "outputs": [],
      "source": [
        "X_arc5_train, X_arc5_test, y_arc5_train, y_arc5_test = train_test_split(X_arc5, Y_arc5, test_size = 0.3, random_state = 0)"
      ]
    },
    {
      "cell_type": "markdown",
      "metadata": {
        "id": "b1agHn2_V1mC"
      },
      "source": [
        "### Linear"
      ]
    },
    {
      "cell_type": "code",
      "execution_count": null,
      "metadata": {
        "id": "mP9CN7NKV1mD"
      },
      "outputs": [],
      "source": [
        "SVC_arc5 = SVC(kernel = 'linear', random_state = 0)\n",
        "SVC_arc5.fit(X_arc5_train, y_arc5_train)"
      ]
    },
    {
      "cell_type": "code",
      "execution_count": null,
      "metadata": {
        "id": "_iauSoi2V1mD"
      },
      "outputs": [],
      "source": [
        "y_arc5_pred = SVC_arc5.predict(X_arc5_test)"
      ]
    },
    {
      "cell_type": "code",
      "execution_count": null,
      "metadata": {
        "id": "kEqydWRJV1mE"
      },
      "outputs": [],
      "source": [
        "train_score_svc=SVC_arc5.score(X_arc5_train,y_arc5_train)\n",
        "print(train_score_svc)"
      ]
    },
    {
      "cell_type": "code",
      "execution_count": null,
      "metadata": {
        "id": "08XL77A7V1mF"
      },
      "outputs": [],
      "source": [
        "test_score_svc=SVC_arc5.score(X_arc5_test,y_arc5_test)\n",
        "print(test_score_svc)"
      ]
    },
    {
      "cell_type": "code",
      "execution_count": null,
      "metadata": {
        "id": "eaM5FRf7V1mG"
      },
      "outputs": [],
      "source": [
        "accuracy_score(y_arc5_test, y_arc5_pred)\n",
        "print('accuracy_score %:',accuracy_score(y_arc5_test, y_arc5_pred)*100)"
      ]
    },
    {
      "cell_type": "code",
      "execution_count": null,
      "metadata": {
        "id": "ZB6qngz5V1mH"
      },
      "outputs": [],
      "source": [
        "confmatrix_train = confusion_matrix(y_arc5_train,SVC_arc5.predict(X_arc5_train))\n",
        "confmatrix_test=confusion_matrix(y_arc5_test,SVC_arc5.predict(X_arc5_test))\n",
        "\n",
        "fig, ax = plt.subplots(figsize=(6,5))\n",
        "sns.heatmap(confmatrix_train, annot=True, fmt='g', ax=ax)\n",
        "ax.xaxis.set_ticklabels(falhas,rotation=90)\n",
        "ax.yaxis.set_ticklabels(falhas,rotation=0)\n",
        "ax.set_title('Train set Confusion Matrix',y=1)\n",
        "plt.show()\n",
        "\n",
        "fig, ax = plt.subplots(figsize=(6,5))\n",
        "sns.heatmap(confmatrix_test, annot=True, fmt='g', ax=ax)\n",
        "ax.xaxis.set_ticklabels(falhas,rotation=90)\n",
        "ax.yaxis.set_ticklabels(falhas,rotation=0)\n",
        "ax.set_title('Test set Confusion Matrix',y=1)\n",
        "plt.show()"
      ]
    },
    {
      "cell_type": "markdown",
      "metadata": {
        "id": "Ccf0PNeEV1mJ"
      },
      "source": [
        "### Polinomial:"
      ]
    },
    {
      "cell_type": "code",
      "execution_count": null,
      "metadata": {
        "id": "9Fmwsg7zV1mJ"
      },
      "outputs": [],
      "source": [
        "SVC_arc5 = SVC(kernel = 'poly',degree = 10, random_state = 0)\n",
        "SVC_arc5.fit(X_arc5_train, y_arc5_train)"
      ]
    },
    {
      "cell_type": "code",
      "execution_count": null,
      "metadata": {
        "id": "ytskXj5UV1mK"
      },
      "outputs": [],
      "source": [
        "y_arc5_pred = SVC_arc5.predict(X_arc5_test)"
      ]
    },
    {
      "cell_type": "code",
      "execution_count": null,
      "metadata": {
        "id": "EXEfTt_oV1mL"
      },
      "outputs": [],
      "source": [
        "train_score_svc=SVC_arc5.score(X_arc5_train,y_arc5_train)\n",
        "print(train_score_svc)"
      ]
    },
    {
      "cell_type": "code",
      "execution_count": null,
      "metadata": {
        "id": "Prsd8rMPV1mM"
      },
      "outputs": [],
      "source": [
        "test_score_svc=SVC_arc5.score(X_arc5_test,y_arc5_test)\n",
        "print(test_score_svc)"
      ]
    },
    {
      "cell_type": "code",
      "execution_count": null,
      "metadata": {
        "id": "coL20SPqV1mO"
      },
      "outputs": [],
      "source": [
        "accuracy_score(y_arc5_test, y_arc5_pred)\n",
        "print('accuracy_score %:',accuracy_score(y_arc5_test, y_arc5_pred)*100)"
      ]
    },
    {
      "cell_type": "code",
      "execution_count": null,
      "metadata": {
        "id": "H4aPAW-tV1mP"
      },
      "outputs": [],
      "source": [
        "confmatrix_train = confusion_matrix(y_arc5_train,SVC_arc5.predict(X_arc5_train))\n",
        "confmatrix_test=confusion_matrix(y_arc5_test,SVC_arc5.predict(X_arc5_test))\n",
        "\n",
        "fig, ax = plt.subplots(figsize=(6,5))\n",
        "sns.heatmap(confmatrix_train, annot=True, fmt='g', ax=ax)\n",
        "ax.xaxis.set_ticklabels(falhas,rotation=90)\n",
        "ax.yaxis.set_ticklabels(falhas,rotation=0)\n",
        "ax.set_title('Train set Confusion Matrix',y=1)\n",
        "plt.show()\n",
        "\n",
        "fig, ax = plt.subplots(figsize=(6,5))\n",
        "sns.heatmap(confmatrix_test, annot=True, fmt='g', ax=ax)\n",
        "ax.xaxis.set_ticklabels(falhas,rotation=90)\n",
        "ax.yaxis.set_ticklabels(falhas,rotation=0)\n",
        "ax.set_title('Test set Confusion Matrix',y=1)\n",
        "plt.show()"
      ]
    },
    {
      "cell_type": "markdown",
      "metadata": {
        "id": "-rfWpOSIV1mR"
      },
      "source": [
        "### RBF:"
      ]
    },
    {
      "cell_type": "code",
      "execution_count": null,
      "metadata": {
        "id": "EJfF6iABV1mS"
      },
      "outputs": [],
      "source": [
        "SVC_arc5 = SVC(kernel = 'rbf', random_state = 0)\n",
        "SVC_arc5.fit(X_arc5_train, y_arc5_train)"
      ]
    },
    {
      "cell_type": "code",
      "execution_count": null,
      "metadata": {
        "id": "WEWhgC1BV1mT"
      },
      "outputs": [],
      "source": [
        "y_arc5_pred = SVC_arc5.predict(X_arc5_test)"
      ]
    },
    {
      "cell_type": "code",
      "execution_count": null,
      "metadata": {
        "id": "6l7-vjfwV1mU"
      },
      "outputs": [],
      "source": [
        "train_score_svc=SVC_arc5.score(X_arc5_train,y_arc5_train)\n",
        "print(train_score_svc)"
      ]
    },
    {
      "cell_type": "code",
      "execution_count": null,
      "metadata": {
        "id": "RtoLbWr3V1mV"
      },
      "outputs": [],
      "source": [
        "test_score_svc=SVC_arc5.score(X_arc5_test,y_arc5_test)\n",
        "print(test_score_svc)"
      ]
    },
    {
      "cell_type": "code",
      "execution_count": null,
      "metadata": {
        "id": "_eAaHVuXV1mX"
      },
      "outputs": [],
      "source": [
        "accuracy_score(y_arc5_test, y_arc5_pred)\n",
        "print('accuracy_score %:',accuracy_score(y_arc5_test, y_arc5_pred)*100)"
      ]
    },
    {
      "cell_type": "code",
      "execution_count": null,
      "metadata": {
        "id": "L84cNPGEV1mY"
      },
      "outputs": [],
      "source": [
        "confmatrix_train = confusion_matrix(y_arc5_train,SVC_arc5.predict(X_arc5_train))\n",
        "confmatrix_test=confusion_matrix(y_arc5_test,SVC_arc5.predict(X_arc5_test))\n",
        "\n",
        "fig, ax = plt.subplots(figsize=(6,5))\n",
        "sns.heatmap(confmatrix_train, annot=True, fmt='g', ax=ax)\n",
        "ax.xaxis.set_ticklabels(falhas,rotation=90)\n",
        "ax.yaxis.set_ticklabels(falhas,rotation=0)\n",
        "ax.set_title('Train set Confusion Matrix',y=1)\n",
        "plt.show()\n",
        "\n",
        "fig, ax = plt.subplots(figsize=(6,5))\n",
        "sns.heatmap(confmatrix_test, annot=True, fmt='g', ax=ax)\n",
        "ax.xaxis.set_ticklabels(falhas,rotation=90)\n",
        "ax.yaxis.set_ticklabels(falhas,rotation=0)\n",
        "ax.set_title('Test set Confusion Matrix',y=1)\n",
        "plt.show()"
      ]
    },
    {
      "cell_type": "markdown",
      "metadata": {
        "id": "-qAuKAL8V1ma"
      },
      "source": [
        "### Sigmoid:"
      ]
    },
    {
      "cell_type": "code",
      "execution_count": null,
      "metadata": {
        "id": "46OV-q4rV1ma"
      },
      "outputs": [],
      "source": [
        "SVC_arc5 = SVC(kernel = 'sigmoid', random_state = 0)\n",
        "SVC_arc5.fit(X_arc5_train, y_arc5_train)"
      ]
    },
    {
      "cell_type": "code",
      "execution_count": null,
      "metadata": {
        "id": "pNIv_81tV1mb"
      },
      "outputs": [],
      "source": [
        "y_arc5_pred = SVC_arc5.predict(X_arc5_test)"
      ]
    },
    {
      "cell_type": "code",
      "execution_count": null,
      "metadata": {
        "id": "w1I0jJ5yV1mc"
      },
      "outputs": [],
      "source": [
        "train_score_svc=SVC_arc5.score(X_arc5_train,y_arc5_train)\n",
        "print(train_score_svc)"
      ]
    },
    {
      "cell_type": "code",
      "execution_count": null,
      "metadata": {
        "id": "6Ri54GUXV1md"
      },
      "outputs": [],
      "source": [
        "test_score_svc=SVC_arc5.score(X_arc5_test,y_arc5_test)\n",
        "print(test_score_svc)"
      ]
    },
    {
      "cell_type": "code",
      "execution_count": null,
      "metadata": {
        "id": "n2aL5qOvV1me"
      },
      "outputs": [],
      "source": [
        "accuracy_score(y_arc5_test, y_arc5_pred)\n",
        "print('accuracy_score %:',accuracy_score(y_arc5_test, y_arc5_pred)*100)"
      ]
    },
    {
      "cell_type": "code",
      "execution_count": null,
      "metadata": {
        "id": "JcD92iM1V1me"
      },
      "outputs": [],
      "source": [
        "confmatrix_train = confusion_matrix(y_arc5_train,SVC_arc5.predict(X_arc5_train))\n",
        "confmatrix_test=confusion_matrix(y_arc5_test,SVC_arc5.predict(X_arc5_test))\n",
        "\n",
        "fig, ax = plt.subplots(figsize=(6,5))\n",
        "sns.heatmap(confmatrix_train, annot=True, fmt='g', ax=ax)\n",
        "ax.xaxis.set_ticklabels(falhas,rotation=90)\n",
        "ax.yaxis.set_ticklabels(falhas,rotation=0)\n",
        "ax.set_title('Train set Confusion Matrix',y=1)\n",
        "plt.show()\n",
        "\n",
        "fig, ax = plt.subplots(figsize=(6,5))\n",
        "sns.heatmap(confmatrix_test, annot=True, fmt='g', ax=ax)\n",
        "ax.xaxis.set_ticklabels(falhas,rotation=90)\n",
        "ax.yaxis.set_ticklabels(falhas,rotation=0)\n",
        "ax.set_title('Test set Confusion Matrix',y=1)\n",
        "plt.show()"
      ]
    },
    {
      "cell_type": "markdown",
      "metadata": {
        "id": "yMf6NYQLV1mf"
      },
      "source": [
        "### GridSearchCV"
      ]
    },
    {
      "cell_type": "markdown",
      "metadata": {
        "id": "nN3_kSFzV1mg"
      },
      "source": [
        "Abandonamos o Kernel polinomial, pois não importa o grau do polinomio, sempre fica ruim"
      ]
    },
    {
      "cell_type": "code",
      "execution_count": null,
      "metadata": {
        "id": "7WuAprvaV1mh"
      },
      "outputs": [],
      "source": [
        "params_arc5_SVC_Linear = {\n",
        "'kernel':['linear'],\n",
        "'C':[0.001,0.01,0.1,1,10,100,1000],\n",
        "}\n",
        "\n",
        "params_arc5_SVC_RS = {\n",
        "'kernel':['rbf','sigmoid'],\n",
        "'gamma':['scale', 'auto'],\n",
        "'C':[0.001,0.01,0.1,1,10,100,1000],\n",
        "}"
      ]
    },
    {
      "cell_type": "code",
      "execution_count": null,
      "metadata": {
        "id": "MA2X6C-wV1mh"
      },
      "outputs": [],
      "source": [
        "for params in [params_arc5_SVC_Linear,params_arc5_SVC_RS]:\n",
        "  print(\"Otimização Dados Arquitetura 5:\")\n",
        "  grid_arc5_SVC = GridSearchCV(SVC_arc5 ,params, scoring='accuracy')\n",
        "  grid_arc5_SVC.fit(X_arc5_train,y_arc5_train)\n",
        "  print(grid_arc5_SVC.best_params_, grid_arc5_SVC.best_score_)\n",
        "  rf_best_arc5_SVC = grid_arc5_SVC.best_estimator_\n",
        "\n",
        "  y_arc5_pred_SVC = rf_best_arc5_SVC.predict(X_arc5_test)\n",
        "\n",
        "  accuracy_score(y_arc5_test, y_arc5_pred_SVC)\n",
        "  print('accuracy_score %:',accuracy_score(y_arc5_test, y_arc5_pred_SVC)*100)\n",
        "  print()"
      ]
    },
    {
      "cell_type": "markdown",
      "source": [
        "# Arquitetura 6\n",
        "\n",
        "PCA(0.30)"
      ],
      "metadata": {
        "id": "U1orWr6NMN63"
      }
    },
    {
      "cell_type": "markdown",
      "metadata": {
        "id": "UgY5cIkPa3Q4"
      },
      "source": [
        "## Montando Nova Tabela"
      ]
    },
    {
      "cell_type": "markdown",
      "metadata": {
        "id": "OHMv7XSIa3Q5"
      },
      "source": [
        "* Zeramos as tranformações, voltamos ao início"
      ]
    },
    {
      "cell_type": "code",
      "execution_count": null,
      "metadata": {
        "id": "fXhm396Ua3Q5"
      },
      "outputs": [],
      "source": [
        "#Definindo as Features (X's):\n",
        "features=coln[1:]\n",
        "X=df_ML[features]\n",
        "\n",
        "#Definindo os Targets (Y's):\n",
        "\n",
        "targets=coln[0] #Definindo lista de targets\n",
        "Y=df_ML[targets]"
      ]
    },
    {
      "cell_type": "code",
      "execution_count": null,
      "metadata": {
        "id": "uqaB9ctRa3Q5"
      },
      "outputs": [],
      "source": [
        "#Dividindo dados no Tempo\n",
        "X_tempo = X[c_T]\n",
        "c_X_tempo=list(X_tempo)\n",
        "print(c_X_tempo)\n",
        "\n",
        "#Dividindo as FFT's por Segmentos / Sensores / Eixos (SUBDATASETS):\n",
        "X_fft_a1_x=X[c_F_a1_x]\n",
        "X_fft_a1_y=X[c_F_a1_y]\n",
        "X_fft_a1_z=X[c_F_a1_z]\n",
        "\n",
        "X_fft_a2_x=X[c_F_a2_x]\n",
        "X_fft_a2_y=X[c_F_a2_y]\n",
        "X_fft_a2_z=X[c_F_a2_z]\n",
        "\n",
        "X_fft_a3_x=X[c_F_a3_x]\n",
        "X_fft_a3_y=X[c_F_a3_y]\n",
        "X_fft_a3_z=X[c_F_a3_z]\n",
        "\n",
        "X_fft_g1_x=X[c_F_g1_x]\n",
        "X_fft_g1_y=X[c_F_g1_y]\n",
        "X_fft_g1_z=X[c_F_g1_z]\n",
        "\n",
        "X_fft_g2_x=X[c_F_g2_x]\n",
        "X_fft_g2_y=X[c_F_g2_y]\n",
        "X_fft_g2_z=X[c_F_g2_z]\n",
        "\n",
        "X_fft_g3_x=X[c_F_g3_x]\n",
        "X_fft_g3_y=X[c_F_g3_y]\n",
        "X_fft_g3_z=X[c_F_g3_z]"
      ]
    },
    {
      "cell_type": "code",
      "execution_count": null,
      "metadata": {
        "id": "q3IRX-Hza3Q6"
      },
      "outputs": [],
      "source": [
        "sc = StandardScaler()\n",
        "\n",
        "#Aplicando a cada X_fft e Tempo:\n",
        "\n",
        "X_tempo = sc.fit_transform(X_tempo)\n",
        "\n",
        "X_fft_a1_x = sc.fit_transform(X_fft_a1_x)\n",
        "X_fft_a1_y = sc.fit_transform(X_fft_a1_y)\n",
        "X_fft_a1_z = sc.fit_transform(X_fft_a1_z)\n",
        "\n",
        "X_fft_a2_x = sc.fit_transform(X_fft_a2_x)\n",
        "X_fft_a2_y = sc.fit_transform(X_fft_a2_y)\n",
        "X_fft_a2_z = sc.fit_transform(X_fft_a2_z)\n",
        "\n",
        "X_fft_a3_x = sc.fit_transform(X_fft_a3_x)\n",
        "X_fft_a3_y = sc.fit_transform(X_fft_a3_y)\n",
        "X_fft_a3_z = sc.fit_transform(X_fft_a3_z)\n",
        "\n",
        "X_fft_g1_x = sc.fit_transform(X_fft_g1_x)\n",
        "X_fft_g1_y = sc.fit_transform(X_fft_g1_y)\n",
        "X_fft_g1_z = sc.fit_transform(X_fft_g1_z)\n",
        "\n",
        "X_fft_g2_x = sc.fit_transform(X_fft_g2_x)\n",
        "X_fft_g2_y = sc.fit_transform(X_fft_g2_y)\n",
        "X_fft_g2_z = sc.fit_transform(X_fft_g2_z)\n",
        "\n",
        "X_fft_g3_x = sc.fit_transform(X_fft_g3_x)\n",
        "X_fft_g3_y = sc.fit_transform(X_fft_g3_y)\n",
        "X_fft_g3_z = sc.fit_transform(X_fft_g3_z)"
      ]
    },
    {
      "cell_type": "code",
      "execution_count": null,
      "metadata": {
        "id": "YkoPxxtpa3Q6"
      },
      "outputs": [],
      "source": [
        "df_Y=pd.DataFrame(Y, columns = ['Classificação'])\n",
        "df_Y"
      ]
    },
    {
      "cell_type": "code",
      "execution_count": null,
      "metadata": {
        "id": "McQ7UV86a3Q7"
      },
      "outputs": [],
      "source": [
        "df_X_tempo=pd.DataFrame(X_tempo, columns = c_X_tempo)\n",
        "\n",
        "df_X_tempo"
      ]
    },
    {
      "cell_type": "code",
      "execution_count": null,
      "metadata": {
        "id": "QxRDS6KSa3Q7"
      },
      "outputs": [],
      "source": [
        "pca = PCA(0.30) # 30% de Variância Explicada"
      ]
    },
    {
      "cell_type": "code",
      "execution_count": null,
      "metadata": {
        "id": "5alL_g0_a3Q7"
      },
      "outputs": [],
      "source": [
        "#Aplicando o PCA para cada FFT:\n",
        "\n",
        "PCA_X_fft_a1_x = pca.fit_transform(X_fft_a1_x)\n",
        "PCA_X_fft_a1_y = pca.fit_transform(X_fft_a1_y)\n",
        "PCA_X_fft_a1_z = pca.fit_transform(X_fft_a1_z)\n",
        "\n",
        "PCA_X_fft_a2_x = pca.fit_transform(X_fft_a2_x)\n",
        "PCA_X_fft_a2_y = pca.fit_transform(X_fft_a2_y)\n",
        "PCA_X_fft_a2_z = pca.fit_transform(X_fft_a2_z)\n",
        "\n",
        "PCA_X_fft_a3_x = pca.fit_transform(X_fft_a3_x)\n",
        "PCA_X_fft_a3_y = pca.fit_transform(X_fft_a3_y)\n",
        "PCA_X_fft_a3_z = pca.fit_transform(X_fft_a3_z)\n",
        "\n",
        "PCA_X_fft_g1_x = pca.fit_transform(X_fft_g1_x)\n",
        "PCA_X_fft_g1_y = pca.fit_transform(X_fft_g1_y)\n",
        "PCA_X_fft_g1_z = pca.fit_transform(X_fft_g1_z)\n",
        "\n",
        "PCA_X_fft_g2_x = pca.fit_transform(X_fft_g2_x)\n",
        "PCA_X_fft_g2_y = pca.fit_transform(X_fft_g2_y)\n",
        "PCA_X_fft_g2_z = pca.fit_transform(X_fft_g2_z)\n",
        "\n",
        "PCA_X_fft_g3_x = pca.fit_transform(X_fft_g3_x)\n",
        "PCA_X_fft_g3_y = pca.fit_transform(X_fft_g3_y)\n",
        "PCA_X_fft_g3_z = pca.fit_transform(X_fft_g3_z)"
      ]
    },
    {
      "cell_type": "code",
      "execution_count": null,
      "metadata": {
        "id": "DmZ7ULUca3Q7"
      },
      "outputs": [],
      "source": [
        "#Sub DataFrames:\n",
        "df_PCA_FFT_a1_X = pd.DataFrame(PCA_X_fft_a1_x, columns = ['PCA_FFT_a1_X_'+str(i) for i in range(len(PCA_X_fft_a1_x[0]))])\n",
        "df_PCA_FFT_a1_Y = pd.DataFrame(PCA_X_fft_a1_y, columns = ['PCA_FFT_a1_Y_'+str(i) for i in range(len(PCA_X_fft_a1_y[0]))])\n",
        "df_PCA_FFT_a1_Z = pd.DataFrame(PCA_X_fft_a1_z, columns = ['PCA_FFT_a1_Z_'+str(i) for i in range(len(PCA_X_fft_a1_z[0]))])\n",
        "\n",
        "df_PCA_FFT_a2_X = pd.DataFrame(PCA_X_fft_a2_x, columns = ['PCA_FFT_a2_X_'+str(i) for i in range(len(PCA_X_fft_a2_x[0]))])\n",
        "df_PCA_FFT_a2_Y = pd.DataFrame(PCA_X_fft_a2_y, columns = ['PCA_FFT_a2_Y_'+str(i) for i in range(len(PCA_X_fft_a2_y[0]))])\n",
        "df_PCA_FFT_a2_Z = pd.DataFrame(PCA_X_fft_a2_z, columns = ['PCA_FFT_a2_Z_'+str(i) for i in range(len(PCA_X_fft_a2_z[0]))])\n",
        "\n",
        "df_PCA_FFT_a3_X = pd.DataFrame(PCA_X_fft_a3_x, columns = ['PCA_FFT_a3_X_'+str(i) for i in range(len(PCA_X_fft_a3_x[0]))])\n",
        "df_PCA_FFT_a3_Y = pd.DataFrame(PCA_X_fft_a3_y, columns = ['PCA_FFT_a3_Y_'+str(i) for i in range(len(PCA_X_fft_a3_y[0]))])\n",
        "df_PCA_FFT_a3_Z = pd.DataFrame(PCA_X_fft_a3_z, columns = ['PCA_FFT_a3_Z_'+str(i) for i in range(len(PCA_X_fft_a3_z[0]))])\n",
        "\n",
        "df_PCA_FFT_g1_X = pd.DataFrame(PCA_X_fft_g1_x, columns = ['PCA_FFT_g1_X_'+str(i) for i in range(len(PCA_X_fft_g1_x[0]))])\n",
        "df_PCA_FFT_g1_Y = pd.DataFrame(PCA_X_fft_g1_y, columns = ['PCA_FFT_g1_Y_'+str(i) for i in range(len(PCA_X_fft_g1_y[0]))])\n",
        "df_PCA_FFT_g1_Z = pd.DataFrame(PCA_X_fft_g1_z, columns = ['PCA_FFT_g1_Z_'+str(i) for i in range(len(PCA_X_fft_g1_z[0]))])\n",
        "\n",
        "df_PCA_FFT_g2_X = pd.DataFrame(PCA_X_fft_g2_x, columns = ['PCA_FFT_g2_X_'+str(i) for i in range(len(PCA_X_fft_g2_x[0]))])\n",
        "df_PCA_FFT_g2_Y = pd.DataFrame(PCA_X_fft_g2_y, columns = ['PCA_FFT_g2_Y_'+str(i) for i in range(len(PCA_X_fft_g2_y[0]))])\n",
        "df_PCA_FFT_g2_Z = pd.DataFrame(PCA_X_fft_g2_z, columns = ['PCA_FFT_g2_Z_'+str(i) for i in range(len(PCA_X_fft_g2_z[0]))])\n",
        "\n",
        "df_PCA_FFT_g3_X = pd.DataFrame(PCA_X_fft_g3_x, columns = ['PCA_FFT_g3_X_'+str(i) for i in range(len(PCA_X_fft_g3_x[0]))])\n",
        "df_PCA_FFT_g3_Y = pd.DataFrame(PCA_X_fft_g3_y, columns = ['PCA_FFT_g3_Y_'+str(i) for i in range(len(PCA_X_fft_g3_y[0]))])\n",
        "df_PCA_FFT_g3_Z = pd.DataFrame(PCA_X_fft_g3_z, columns = ['PCA_FFT_g3_Z_'+str(i) for i in range(len(PCA_X_fft_g3_z[0]))])"
      ]
    },
    {
      "cell_type": "code",
      "execution_count": null,
      "metadata": {
        "id": "XcRwpRBla3Q7"
      },
      "outputs": [],
      "source": [
        "#Teste:\n",
        "df_PCA_FFT_a3_Z"
      ]
    },
    {
      "cell_type": "code",
      "execution_count": null,
      "metadata": {
        "id": "EYUJ98KDa3Q8"
      },
      "outputs": [],
      "source": [
        "#Agrupando Tudo e Montar Tabela para Arquitetura 1:\n",
        "frames=[df_Y,df_X_tempo,df_PCA_FFT_a1_X,df_PCA_FFT_a1_Y,df_PCA_FFT_a1_Z,df_PCA_FFT_a2_X,df_PCA_FFT_a2_Y,df_PCA_FFT_a2_Z,df_PCA_FFT_a3_X,df_PCA_FFT_a3_Y,df_PCA_FFT_a3_Z,df_PCA_FFT_g1_X,df_PCA_FFT_g1_Y,df_PCA_FFT_g1_Z,df_PCA_FFT_g2_X,df_PCA_FFT_g2_Y,df_PCA_FFT_g2_Z,df_PCA_FFT_g3_X,df_PCA_FFT_g3_Y,df_PCA_FFT_g3_Z]\n",
        "df_arc6=pd.concat(frames,axis=1)"
      ]
    },
    {
      "cell_type": "code",
      "execution_count": null,
      "metadata": {
        "id": "m6kbL_W6a3Q8"
      },
      "outputs": [],
      "source": [
        "df_arc6"
      ]
    },
    {
      "cell_type": "code",
      "execution_count": null,
      "metadata": {
        "id": "AcchYpLea3Q8"
      },
      "outputs": [],
      "source": [
        "df_arc6.isnull().sum()"
      ]
    },
    {
      "cell_type": "code",
      "execution_count": null,
      "metadata": {
        "id": "rRyukAhCa3Q8"
      },
      "outputs": [],
      "source": [
        "#Conferindo NANs:\n",
        "for x in df_arc6.isnull().sum():\n",
        "  if x != 0:\n",
        "    print('TEM ALGUM NAN')\n",
        "print(\"Pode Seguir !!! Sem NANs\")"
      ]
    },
    {
      "cell_type": "code",
      "source": [
        "df_arc6.to_csv('DataframeML_ARC6_TempoFFT.csv')"
      ],
      "metadata": {
        "id": "phvTwU2ca3Q9"
      },
      "execution_count": null,
      "outputs": []
    },
    {
      "cell_type": "code",
      "execution_count": null,
      "metadata": {
        "id": "vXM2G5vqa3Q9"
      },
      "outputs": [],
      "source": [
        "# Nome das Colunas:\n",
        "#Lista com Nome de cada Coluna:\n",
        "coln_arc6=list(df_arc6)\n",
        "print(coln_arc6, \"\\n\")\n",
        "\n",
        "print(len(coln_arc6))\n",
        "#Definindo as Features (X's):\n",
        "features=coln_arc6[1:]\n",
        "X_arc6=df_arc6[features]\n",
        "\n",
        "print(coln_arc6[1:])\n",
        "#Definindo os Targets (Y's):\n",
        "\n",
        "targets=coln_arc6[0] #Definindo lista de targets\n",
        "Y_arc6=df_arc6[targets]"
      ]
    },
    {
      "cell_type": "code",
      "execution_count": null,
      "metadata": {
        "id": "2hrXhkcfa3Q9"
      },
      "outputs": [],
      "source": [
        "X_arc6"
      ]
    },
    {
      "cell_type": "code",
      "execution_count": null,
      "metadata": {
        "id": "aSWWtDH-a3Q9"
      },
      "outputs": [],
      "source": [
        "Y_arc6"
      ]
    },
    {
      "cell_type": "markdown",
      "metadata": {
        "id": "osmEmTDha3Q-"
      },
      "source": [
        "## Random Forest (COM TEMPO)"
      ]
    },
    {
      "cell_type": "code",
      "source": [
        "X_arc6"
      ],
      "metadata": {
        "id": "3nwaa3r9a3Q-"
      },
      "execution_count": null,
      "outputs": []
    },
    {
      "cell_type": "code",
      "execution_count": null,
      "metadata": {
        "id": "o6iBalWCa3Q-"
      },
      "outputs": [],
      "source": [
        "Y_arc6 = LabelEncoder().fit_transform(Y_arc6)\n",
        "\n",
        "Y_arc6"
      ]
    },
    {
      "cell_type": "code",
      "execution_count": null,
      "metadata": {
        "id": "P-wIiFUHa3Q_"
      },
      "outputs": [],
      "source": [
        "X_arc6_train, X_arc6_test, y_arc6_train, y_arc6_test = train_test_split(X_arc6, Y_arc6, test_size = 0.3, random_state = 0)\n",
        "\n",
        "RFC_arc6 = RandomForestClassifier(max_depth= 25, n_estimators = 50, random_state = 0)\n",
        "RFC_arc6.fit(X_arc6_train, y_arc6_train)"
      ]
    },
    {
      "cell_type": "code",
      "execution_count": null,
      "metadata": {
        "id": "PahnZuC7a3Q_"
      },
      "outputs": [],
      "source": [
        "y_arc6_pred = RFC_arc6.predict(X_arc6_test)"
      ]
    },
    {
      "cell_type": "code",
      "execution_count": null,
      "metadata": {
        "id": "NVMAVfgha3Q_"
      },
      "outputs": [],
      "source": [
        "train_score_rf=RFC_arc6.score(X_arc6_train,y_arc6_train)\n",
        "print(train_score_rf)"
      ]
    },
    {
      "cell_type": "code",
      "execution_count": null,
      "metadata": {
        "id": "i9dowtyDa3RA"
      },
      "outputs": [],
      "source": [
        "test_score_rf=RFC_arc6.score(X_arc6_test,y_arc6_test)\n",
        "print(test_score_rf)"
      ]
    },
    {
      "cell_type": "code",
      "execution_count": null,
      "metadata": {
        "id": "l_Qpa7EUa3RA"
      },
      "outputs": [],
      "source": [
        "accuracy_score(y_arc6_test, y_arc6_pred)\n",
        "print('accuracy_score %:',accuracy_score(y_arc6_test, y_arc6_pred)*100)"
      ]
    },
    {
      "cell_type": "code",
      "execution_count": null,
      "metadata": {
        "id": "_6cdLXsra3RA"
      },
      "outputs": [],
      "source": [
        "RFC_arc6.feature_importances_"
      ]
    },
    {
      "cell_type": "code",
      "execution_count": null,
      "metadata": {
        "id": "I7yr_X7Ka3RB"
      },
      "outputs": [],
      "source": [
        "np.max(RFC_arc6.feature_importances_)"
      ]
    },
    {
      "cell_type": "code",
      "execution_count": null,
      "metadata": {
        "id": "PtGb_QyVa3Rb"
      },
      "outputs": [],
      "source": [
        "imp_df = pd.DataFrame({\n",
        "    \"Varname\": X_arc6_train.columns,\n",
        "    \"Imp\": RFC_arc6.feature_importances_\n",
        "})"
      ]
    },
    {
      "cell_type": "code",
      "execution_count": null,
      "metadata": {
        "id": "ZSQ1wfqra3Rc"
      },
      "outputs": [],
      "source": [
        "#Vendo a Importância das Features para RF:\n",
        "imp_df.sort_values(by=\"Imp\", ascending=False)[0:50]"
      ]
    },
    {
      "cell_type": "code",
      "execution_count": null,
      "metadata": {
        "id": "SkCo-R76a3Rc"
      },
      "outputs": [],
      "source": [
        "confmatrix_train = confusion_matrix(y_arc6_train,RFC_arc6.predict(X_arc6_train))\n",
        "confmatrix_test=confusion_matrix(y_arc6_test,RFC_arc6.predict(X_arc6_test))\n",
        "\n",
        "fig, ax = plt.subplots(figsize=(6,5))\n",
        "sns.heatmap(confmatrix_train, annot=True, fmt='g', ax=ax)\n",
        "ax.xaxis.set_ticklabels(falhas,rotation=90)\n",
        "ax.yaxis.set_ticklabels(falhas,rotation=0)\n",
        "ax.set_title('Train set Confusion Matrix',y=1)\n",
        "plt.show()\n",
        "\n",
        "fig, ax = plt.subplots(figsize=(6,5))\n",
        "sns.heatmap(confmatrix_test, annot=True, fmt='g', ax=ax)\n",
        "ax.xaxis.set_ticklabels(falhas,rotation=90)\n",
        "ax.yaxis.set_ticklabels(falhas,rotation=0)\n",
        "ax.set_title('Test set Confusion Matrix',y=1)\n",
        "plt.show()"
      ]
    },
    {
      "cell_type": "markdown",
      "metadata": {
        "id": "EC0FajSca3Rd"
      },
      "source": [
        "### GridSearchCV:"
      ]
    },
    {
      "cell_type": "code",
      "execution_count": null,
      "metadata": {
        "id": "zGvpgzeNa3Rd"
      },
      "outputs": [],
      "source": [
        "#https://www.kdnuggets.com/2022/10/hyperparameter-tuning-grid-search-random-search-python.html\n",
        "params_arc6 = {\n",
        "'n_estimators': [10,25,50,100,200],\n",
        "'max_depth' : [5,10,25,50,100],\n",
        "'criterion' :['gini', 'entropy'],\n",
        "}"
      ]
    },
    {
      "cell_type": "code",
      "execution_count": null,
      "metadata": {
        "id": "sgDAyHHma3Rd"
      },
      "outputs": [],
      "source": [
        "print(\"Otimização Dados Arquitetura 6:\")\n",
        "\n",
        "grid_arc6 = GridSearchCV(RFC_arc6 ,params_arc6, scoring='accuracy',cv=5)\n",
        "grid_arc6.fit(X_arc6_train,y_arc6_train)\n",
        "\n",
        "print(grid_arc6.best_params_, grid_arc6.best_score_)\n",
        "rf_best_arc6 = grid_arc6.best_estimator_\n",
        "\n",
        "y_arc6_pred = rf_best_arc6.predict(X_arc6_test)\n",
        "\n",
        "accuracy_score(y_arc6_test, y_arc6_pred)\n",
        "print('accuracy_score %:',accuracy_score(y_arc6_test, y_arc6_pred)*100)\n",
        "\n",
        "print(rf_best_arc6.feature_importances_)\n",
        "\n",
        "imp_df = pd.DataFrame({\n",
        "    \"Varname\": X_arc6_train.columns,\n",
        "    \"Imp\": rf_best_arc6.feature_importances_\n",
        "})"
      ]
    },
    {
      "cell_type": "code",
      "execution_count": null,
      "metadata": {
        "id": "nIKcS7Xja3Re"
      },
      "outputs": [],
      "source": [
        "#Vendo a Importância das Features para RF Grid:\n",
        "imp_df.sort_values(by=\"Imp\", ascending=False)[0:50]"
      ]
    },
    {
      "cell_type": "markdown",
      "metadata": {
        "id": "kDCYAovza3Re"
      },
      "source": [
        "## SVC (COM TEMPO)"
      ]
    },
    {
      "cell_type": "code",
      "source": [
        "X_arc6"
      ],
      "metadata": {
        "id": "-XyDzfVma3Rf"
      },
      "execution_count": null,
      "outputs": []
    },
    {
      "cell_type": "code",
      "execution_count": null,
      "metadata": {
        "id": "4zWYOkWYa3Rf"
      },
      "outputs": [],
      "source": [
        "Y_arc6 = LabelEncoder().fit_transform(Y_arc6)\n",
        "\n",
        "Y_arc6"
      ]
    },
    {
      "cell_type": "code",
      "execution_count": null,
      "metadata": {
        "id": "7VAYEVpBa3Rf"
      },
      "outputs": [],
      "source": [
        "X_arc6_train, X_arc6_test, y_arc6_train, y_arc6_test = train_test_split(X_arc6, Y_arc6, test_size = 0.3, random_state = 0)"
      ]
    },
    {
      "cell_type": "markdown",
      "metadata": {
        "id": "iTK9snD_a3Rg"
      },
      "source": [
        "### Linear"
      ]
    },
    {
      "cell_type": "code",
      "execution_count": null,
      "metadata": {
        "id": "mDPhK-Tta3Rg"
      },
      "outputs": [],
      "source": [
        "SVC_arc6 = SVC(kernel = 'linear', random_state = 0)\n",
        "SVC_arc6.fit(X_arc6_train, y_arc6_train)"
      ]
    },
    {
      "cell_type": "code",
      "execution_count": null,
      "metadata": {
        "id": "Kcy1nz3na3Rg"
      },
      "outputs": [],
      "source": [
        "y_arc6_pred = SVC_arc6.predict(X_arc6_test)"
      ]
    },
    {
      "cell_type": "code",
      "execution_count": null,
      "metadata": {
        "id": "jC7vWX2La3Rh"
      },
      "outputs": [],
      "source": [
        "train_score_svc=SVC_arc6.score(X_arc6_train,y_arc6_train)\n",
        "print(train_score_svc)"
      ]
    },
    {
      "cell_type": "code",
      "execution_count": null,
      "metadata": {
        "id": "ycr8RzYQa3Rh"
      },
      "outputs": [],
      "source": [
        "test_score_svc=SVC_arc6.score(X_arc6_test,y_arc6_test)\n",
        "print(test_score_svc)"
      ]
    },
    {
      "cell_type": "code",
      "execution_count": null,
      "metadata": {
        "id": "qp0-e87ma3Rh"
      },
      "outputs": [],
      "source": [
        "accuracy_score(y_arc6_test, y_arc6_pred)\n",
        "print('accuracy_score %:',accuracy_score(y_arc6_test, y_arc6_pred)*100)"
      ]
    },
    {
      "cell_type": "code",
      "execution_count": null,
      "metadata": {
        "id": "HlP9AeAZa3Rh"
      },
      "outputs": [],
      "source": [
        "confmatrix_train = confusion_matrix(y_arc6_train,SVC_arc6.predict(X_arc6_train))\n",
        "confmatrix_test=confusion_matrix(y_arc6_test,SVC_arc6.predict(X_arc6_test))\n",
        "\n",
        "fig, ax = plt.subplots(figsize=(6,5))\n",
        "sns.heatmap(confmatrix_train, annot=True, fmt='g', ax=ax)\n",
        "ax.xaxis.set_ticklabels(falhas,rotation=90)\n",
        "ax.yaxis.set_ticklabels(falhas,rotation=0)\n",
        "ax.set_title('Train set Confusion Matrix',y=1)\n",
        "plt.show()\n",
        "\n",
        "fig, ax = plt.subplots(figsize=(6,5))\n",
        "sns.heatmap(confmatrix_test, annot=True, fmt='g', ax=ax)\n",
        "ax.xaxis.set_ticklabels(falhas,rotation=90)\n",
        "ax.yaxis.set_ticklabels(falhas,rotation=0)\n",
        "ax.set_title('Test set Confusion Matrix',y=1)\n",
        "plt.show()"
      ]
    },
    {
      "cell_type": "markdown",
      "metadata": {
        "id": "RrB5Zp46a3Ri"
      },
      "source": [
        "### Polinomial:"
      ]
    },
    {
      "cell_type": "code",
      "execution_count": null,
      "metadata": {
        "id": "4eo6pz73a3Ri"
      },
      "outputs": [],
      "source": [
        "SVC_arc6 = SVC(kernel = 'poly',degree = 10, random_state = 0)\n",
        "SVC_arc6.fit(X_arc6_train, y_arc6_train)"
      ]
    },
    {
      "cell_type": "code",
      "execution_count": null,
      "metadata": {
        "id": "qGIP3tuOa3Ri"
      },
      "outputs": [],
      "source": [
        "y_arc6_pred = SVC_arc6.predict(X_arc6_test)"
      ]
    },
    {
      "cell_type": "code",
      "execution_count": null,
      "metadata": {
        "id": "HYsUDNLVa3Rj"
      },
      "outputs": [],
      "source": [
        "train_score_svc=SVC_arc6.score(X_arc6_train,y_arc6_train)\n",
        "print(train_score_svc)"
      ]
    },
    {
      "cell_type": "code",
      "execution_count": null,
      "metadata": {
        "id": "xDWkuXRLa3Rj"
      },
      "outputs": [],
      "source": [
        "test_score_svc=SVC_arc6.score(X_arc6_test,y_arc6_test)\n",
        "print(test_score_svc)"
      ]
    },
    {
      "cell_type": "code",
      "execution_count": null,
      "metadata": {
        "id": "hOIJJGZLa3Rj"
      },
      "outputs": [],
      "source": [
        "accuracy_score(y_arc6_test, y_arc6_pred)\n",
        "print('accuracy_score %:',accuracy_score(y_arc6_test, y_arc6_pred)*100)"
      ]
    },
    {
      "cell_type": "code",
      "execution_count": null,
      "metadata": {
        "id": "pCqMUhG4a3Rj"
      },
      "outputs": [],
      "source": [
        "confmatrix_train = confusion_matrix(y_arc6_train,SVC_arc6.predict(X_arc6_train))\n",
        "confmatrix_test=confusion_matrix(y_arc6_test,SVC_arc6.predict(X_arc6_test))\n",
        "\n",
        "fig, ax = plt.subplots(figsize=(6,5))\n",
        "sns.heatmap(confmatrix_train, annot=True, fmt='g', ax=ax)\n",
        "ax.xaxis.set_ticklabels(falhas,rotation=90)\n",
        "ax.yaxis.set_ticklabels(falhas,rotation=0)\n",
        "ax.set_title('Train set Confusion Matrix',y=1)\n",
        "plt.show()\n",
        "\n",
        "fig, ax = plt.subplots(figsize=(6,5))\n",
        "sns.heatmap(confmatrix_test, annot=True, fmt='g', ax=ax)\n",
        "ax.xaxis.set_ticklabels(falhas,rotation=90)\n",
        "ax.yaxis.set_ticklabels(falhas,rotation=0)\n",
        "ax.set_title('Test set Confusion Matrix',y=1)\n",
        "plt.show()"
      ]
    },
    {
      "cell_type": "markdown",
      "metadata": {
        "id": "5zGIk4Xka3Rk"
      },
      "source": [
        "### RBF:"
      ]
    },
    {
      "cell_type": "code",
      "execution_count": null,
      "metadata": {
        "id": "NgbzbiMia3Rk"
      },
      "outputs": [],
      "source": [
        "SVC_arc6 = SVC(kernel = 'rbf', random_state = 0)\n",
        "SVC_arc6.fit(X_arc6_train, y_arc6_train)"
      ]
    },
    {
      "cell_type": "code",
      "execution_count": null,
      "metadata": {
        "id": "dYo9wqpya3Rk"
      },
      "outputs": [],
      "source": [
        "y_arc6_pred = SVC_arc6.predict(X_arc6_test)"
      ]
    },
    {
      "cell_type": "code",
      "execution_count": null,
      "metadata": {
        "id": "JYD1war_a3Rl"
      },
      "outputs": [],
      "source": [
        "train_score_svc=SVC_arc6.score(X_arc6_train,y_arc6_train)\n",
        "print(train_score_svc)"
      ]
    },
    {
      "cell_type": "code",
      "execution_count": null,
      "metadata": {
        "id": "uasDL2d5a3Rl"
      },
      "outputs": [],
      "source": [
        "test_score_svc=SVC_arc6.score(X_arc6_test,y_arc6_test)\n",
        "print(test_score_svc)"
      ]
    },
    {
      "cell_type": "code",
      "execution_count": null,
      "metadata": {
        "id": "oEFZJhhNa3Rl"
      },
      "outputs": [],
      "source": [
        "accuracy_score(y_arc6_test, y_arc6_pred)\n",
        "print('accuracy_score %:',accuracy_score(y_arc6_test, y_arc6_pred)*100)"
      ]
    },
    {
      "cell_type": "code",
      "execution_count": null,
      "metadata": {
        "id": "9jzl5puXa3Rm"
      },
      "outputs": [],
      "source": [
        "confmatrix_train = confusion_matrix(y_arc6_train,SVC_arc6.predict(X_arc6_train))\n",
        "confmatrix_test=confusion_matrix(y_arc6_test,SVC_arc6.predict(X_arc6_test))\n",
        "\n",
        "fig, ax = plt.subplots(figsize=(6,5))\n",
        "sns.heatmap(confmatrix_train, annot=True, fmt='g', ax=ax)\n",
        "ax.xaxis.set_ticklabels(falhas,rotation=90)\n",
        "ax.yaxis.set_ticklabels(falhas,rotation=0)\n",
        "ax.set_title('Train set Confusion Matrix',y=1)\n",
        "plt.show()\n",
        "\n",
        "fig, ax = plt.subplots(figsize=(6,5))\n",
        "sns.heatmap(confmatrix_test, annot=True, fmt='g', ax=ax)\n",
        "ax.xaxis.set_ticklabels(falhas,rotation=90)\n",
        "ax.yaxis.set_ticklabels(falhas,rotation=0)\n",
        "ax.set_title('Test set Confusion Matrix',y=1)\n",
        "plt.show()"
      ]
    },
    {
      "cell_type": "markdown",
      "metadata": {
        "id": "wWcTSaiWa3Rm"
      },
      "source": [
        "### Sigmoid:"
      ]
    },
    {
      "cell_type": "code",
      "execution_count": null,
      "metadata": {
        "id": "hXdf_EDza3Rm"
      },
      "outputs": [],
      "source": [
        "SVC_arc6 = SVC(kernel = 'sigmoid', random_state = 0)\n",
        "SVC_arc6.fit(X_arc6_train, y_arc6_train)"
      ]
    },
    {
      "cell_type": "code",
      "execution_count": null,
      "metadata": {
        "id": "J0_LDmsca3Rm"
      },
      "outputs": [],
      "source": [
        "y_arc6_pred = SVC_arc6.predict(X_arc6_test)"
      ]
    },
    {
      "cell_type": "code",
      "execution_count": null,
      "metadata": {
        "id": "9UTwhNBWa3Rn"
      },
      "outputs": [],
      "source": [
        "train_score_svc=SVC_arc6.score(X_arc6_train,y_arc6_train)\n",
        "print(train_score_svc)"
      ]
    },
    {
      "cell_type": "code",
      "execution_count": null,
      "metadata": {
        "id": "XsMrHP2Oa3Rn"
      },
      "outputs": [],
      "source": [
        "test_score_svc=SVC_arc6.score(X_arc6_test,y_arc6_test)\n",
        "print(test_score_svc)"
      ]
    },
    {
      "cell_type": "code",
      "execution_count": null,
      "metadata": {
        "id": "V8ifv5ewa3Rn"
      },
      "outputs": [],
      "source": [
        "accuracy_score(y_arc6_test, y_arc6_pred)\n",
        "print('accuracy_score %:',accuracy_score(y_arc6_test, y_arc6_pred)*100)"
      ]
    },
    {
      "cell_type": "code",
      "execution_count": null,
      "metadata": {
        "id": "XpZgR23ba3Ro"
      },
      "outputs": [],
      "source": [
        "confmatrix_train = confusion_matrix(y_arc6_train,SVC_arc6.predict(X_arc6_train))\n",
        "confmatrix_test=confusion_matrix(y_arc6_test,SVC_arc6.predict(X_arc6_test))\n",
        "\n",
        "fig, ax = plt.subplots(figsize=(6,5))\n",
        "sns.heatmap(confmatrix_train, annot=True, fmt='g', ax=ax)\n",
        "ax.xaxis.set_ticklabels(falhas,rotation=90)\n",
        "ax.yaxis.set_ticklabels(falhas,rotation=0)\n",
        "ax.set_title('Train set Confusion Matrix',y=1)\n",
        "plt.show()\n",
        "\n",
        "fig, ax = plt.subplots(figsize=(6,5))\n",
        "sns.heatmap(confmatrix_test, annot=True, fmt='g', ax=ax)\n",
        "ax.xaxis.set_ticklabels(falhas,rotation=90)\n",
        "ax.yaxis.set_ticklabels(falhas,rotation=0)\n",
        "ax.set_title('Test set Confusion Matrix',y=1)\n",
        "plt.show()"
      ]
    },
    {
      "cell_type": "markdown",
      "metadata": {
        "id": "z2bzRXuTa3Ro"
      },
      "source": [
        "### GridSearchCV"
      ]
    },
    {
      "cell_type": "markdown",
      "metadata": {
        "id": "c_EAMHCka3Ro"
      },
      "source": [
        "Abandonamos o Kernel polinomial, pois não importa o grau do polinomio, sempre fica ruim"
      ]
    },
    {
      "cell_type": "code",
      "execution_count": null,
      "metadata": {
        "id": "etX2rFH5a3Ro"
      },
      "outputs": [],
      "source": [
        "params_arc6_SVC_Linear = {\n",
        "'kernel':['linear'],\n",
        "'C':[0.001,0.01,0.1,1,10,100,1000],\n",
        "}\n",
        "\n",
        "params_arc6_SVC_RS = {\n",
        "'kernel':['rbf','sigmoid'],\n",
        "'gamma':['scale', 'auto'],\n",
        "'C':[0.001,0.01,0.1,1,10,100,1000],\n",
        "}"
      ]
    },
    {
      "cell_type": "code",
      "execution_count": null,
      "metadata": {
        "id": "KPvbMoGBa3Rp"
      },
      "outputs": [],
      "source": [
        "for params in [params_arc6_SVC_Linear,params_arc6_SVC_RS]:\n",
        "  print(\"Otimização Dados Arquitetura 6:\")\n",
        "  grid_arc6_SVC = GridSearchCV(SVC_arc6 ,params, scoring='accuracy')\n",
        "  grid_arc6_SVC.fit(X_arc6_train,y_arc6_train)\n",
        "  print(grid_arc6_SVC.best_params_, grid_arc6_SVC.best_score_)\n",
        "  rf_best_arc6_SVC = grid_arc6_SVC.best_estimator_\n",
        "\n",
        "  y_arc6_pred_SVC = rf_best_arc6_SVC.predict(X_arc6_test)\n",
        "\n",
        "  accuracy_score(y_arc6_test, y_arc6_pred_SVC)\n",
        "  print('accuracy_score %:',accuracy_score(y_arc6_test, y_arc6_pred_SVC)*100)\n",
        "  print()"
      ]
    },
    {
      "cell_type": "markdown",
      "metadata": {
        "id": "ZY98Vcs9a3Rp"
      },
      "source": [
        "## Tabela sem Tempo"
      ]
    },
    {
      "cell_type": "code",
      "execution_count": null,
      "metadata": {
        "id": "06ifqe-Ja3Rp"
      },
      "outputs": [],
      "source": [
        "df_arc6"
      ]
    },
    {
      "cell_type": "code",
      "execution_count": null,
      "metadata": {
        "id": "4i5_XMiga3Rq"
      },
      "outputs": [],
      "source": [
        "df_arc6.drop(c_X_tempo[1:],axis=1,inplace=True)"
      ]
    },
    {
      "cell_type": "code",
      "execution_count": null,
      "metadata": {
        "id": "OsFfQxZ_a3Rq"
      },
      "outputs": [],
      "source": [
        "df_arc6"
      ]
    },
    {
      "cell_type": "code",
      "source": [
        "df_arc6.to_csv('DataframeML_ARC6_FFT.csv')"
      ],
      "metadata": {
        "id": "aLap5S-ta3Rq"
      },
      "execution_count": null,
      "outputs": []
    },
    {
      "cell_type": "code",
      "execution_count": null,
      "metadata": {
        "id": "SZY4z3CPa3Rq"
      },
      "outputs": [],
      "source": [
        "# Nome das Colunas:\n",
        "#Lista com Nome de cada Coluna:\n",
        "coln_arc6=list(df_arc6)\n",
        "print(coln_arc6, \"\\n\")\n",
        "\n",
        "print(len(coln_arc6))\n",
        "#Definindo as Features (X's):\n",
        "features=coln_arc6[1:]\n",
        "X_arc6=df_arc6[features]\n",
        "\n",
        "print(coln_arc6[1:])\n",
        "#Definindo os Targets (Y's):\n",
        "\n",
        "targets=coln_arc6[0] #Definindo lista de targets\n",
        "Y_arc6=df_arc6[targets]"
      ]
    },
    {
      "cell_type": "code",
      "execution_count": null,
      "metadata": {
        "id": "fJUO8Y1fa3Rr"
      },
      "outputs": [],
      "source": [
        "Y_arc6"
      ]
    },
    {
      "cell_type": "code",
      "execution_count": null,
      "metadata": {
        "id": "gmvV6J67a3Rr"
      },
      "outputs": [],
      "source": [
        "X_arc6"
      ]
    },
    {
      "cell_type": "markdown",
      "metadata": {
        "id": "aZQbgT30a3Rr"
      },
      "source": [
        "## Random Forest (SEM TEMPO)"
      ]
    },
    {
      "cell_type": "code",
      "source": [
        "X_arc6"
      ],
      "metadata": {
        "id": "bCbV2_Ewa3Rr"
      },
      "execution_count": null,
      "outputs": []
    },
    {
      "cell_type": "code",
      "execution_count": null,
      "metadata": {
        "id": "AmI1kRg9a3Rs"
      },
      "outputs": [],
      "source": [
        "Y_arc6 = LabelEncoder().fit_transform(Y_arc6)\n",
        "\n",
        "Y_arc6"
      ]
    },
    {
      "cell_type": "code",
      "execution_count": null,
      "metadata": {
        "id": "WHUCtj2Va3Rs"
      },
      "outputs": [],
      "source": [
        "X_arc6_train, X_arc6_test, y_arc6_train, y_arc6_test = train_test_split(X_arc6, Y_arc6, test_size = 0.3, random_state = 0)\n",
        "\n",
        "RFC_arc6 = RandomForestClassifier(max_depth= 10, n_estimators = 25, random_state = 0)\n",
        "RFC_arc6.fit(X_arc6_train, y_arc6_train)"
      ]
    },
    {
      "cell_type": "code",
      "execution_count": null,
      "metadata": {
        "id": "9i3E_arla3Rs"
      },
      "outputs": [],
      "source": [
        "y_arc6_pred = RFC_arc6.predict(X_arc6_test)"
      ]
    },
    {
      "cell_type": "code",
      "execution_count": null,
      "metadata": {
        "id": "AqMI3dEta3Rs"
      },
      "outputs": [],
      "source": [
        "train_score_rf=RFC_arc6.score(X_arc6_train,y_arc6_train)\n",
        "print(train_score_rf)"
      ]
    },
    {
      "cell_type": "code",
      "execution_count": null,
      "metadata": {
        "id": "1MOKUV7Qa3Rt"
      },
      "outputs": [],
      "source": [
        "test_score_rf=RFC_arc6.score(X_arc6_test,y_arc6_test)\n",
        "print(test_score_rf)"
      ]
    },
    {
      "cell_type": "code",
      "execution_count": null,
      "metadata": {
        "id": "YSi99Tzja3Rt"
      },
      "outputs": [],
      "source": [
        "accuracy_score(y_arc6_test, y_arc6_pred)\n",
        "print('accuracy_score %:',accuracy_score(y_arc6_test, y_arc6_pred)*100)"
      ]
    },
    {
      "cell_type": "code",
      "execution_count": null,
      "metadata": {
        "id": "39hLF8nka3Rt"
      },
      "outputs": [],
      "source": [
        "RFC_arc6.feature_importances_"
      ]
    },
    {
      "cell_type": "code",
      "execution_count": null,
      "metadata": {
        "id": "sFLitSKsa3Rt"
      },
      "outputs": [],
      "source": [
        "np.max(RFC_arc6.feature_importances_)"
      ]
    },
    {
      "cell_type": "code",
      "execution_count": null,
      "metadata": {
        "id": "lcfMmkC2a3Ru"
      },
      "outputs": [],
      "source": [
        "imp_df = pd.DataFrame({\n",
        "    \"Varname\": X_arc6_train.columns,\n",
        "    \"Imp\": RFC_arc6.feature_importances_\n",
        "})"
      ]
    },
    {
      "cell_type": "code",
      "execution_count": null,
      "metadata": {
        "id": "McazShM4a3Ru"
      },
      "outputs": [],
      "source": [
        "#Vendo a Importância das Features para RF:\n",
        "imp_df.sort_values(by=\"Imp\", ascending=False)[0:50]"
      ]
    },
    {
      "cell_type": "code",
      "execution_count": null,
      "metadata": {
        "id": "QvnZ4agDa3Ru"
      },
      "outputs": [],
      "source": [
        "confmatrix_train = confusion_matrix(y_arc6_train,RFC_arc6.predict(X_arc6_train))\n",
        "confmatrix_test=confusion_matrix(y_arc6_test,RFC_arc6.predict(X_arc6_test))\n",
        "\n",
        "fig, ax = plt.subplots(figsize=(6,5))\n",
        "sns.heatmap(confmatrix_train, annot=True, fmt='g', ax=ax)\n",
        "ax.xaxis.set_ticklabels(falhas,rotation=90)\n",
        "ax.yaxis.set_ticklabels(falhas,rotation=0)\n",
        "ax.set_title('Train set Confusion Matrix',y=1)\n",
        "plt.show()\n",
        "\n",
        "fig, ax = plt.subplots(figsize=(6,5))\n",
        "sns.heatmap(confmatrix_test, annot=True, fmt='g', ax=ax)\n",
        "ax.xaxis.set_ticklabels(falhas,rotation=90)\n",
        "ax.yaxis.set_ticklabels(falhas,rotation=0)\n",
        "ax.set_title('Test set Confusion Matrix',y=1)\n",
        "plt.show()"
      ]
    },
    {
      "cell_type": "markdown",
      "metadata": {
        "id": "YS-Hf5Gqa3Ru"
      },
      "source": [
        "### GridSearchCV:"
      ]
    },
    {
      "cell_type": "code",
      "execution_count": null,
      "metadata": {
        "id": "v1wXERcWa3Rv"
      },
      "outputs": [],
      "source": [
        "#https://www.kdnuggets.com/2022/10/hyperparameter-tuning-grid-search-random-search-python.html\n",
        "params_arc6 = {\n",
        "'n_estimators': [10,25,50,100,200],\n",
        "'max_depth' : [5,10,25,50,100],\n",
        "'criterion' :['gini', 'entropy'],\n",
        "}"
      ]
    },
    {
      "cell_type": "code",
      "execution_count": null,
      "metadata": {
        "id": "wLKOIgYOa3Rv"
      },
      "outputs": [],
      "source": [
        "print(\"Otimização Dados Arquitetura 6:\")\n",
        "\n",
        "grid_arc6 = GridSearchCV(RFC_arc6 ,params_arc6, scoring='accuracy',cv=5) #43 min\n",
        "grid_arc6.fit(X_arc6_train,y_arc6_train)\n",
        "\n",
        "print(grid_arc6.best_params_, grid_arc6.best_score_)\n",
        "rf_best_arc6 = grid_arc6.best_estimator_\n",
        "\n",
        "y_arc6_pred = rf_best_arc6.predict(X_arc6_test)\n",
        "\n",
        "accuracy_score(y_arc6_test, y_arc6_pred)\n",
        "print('accuracy_score %:',accuracy_score(y_arc6_test, y_arc6_pred)*100)\n",
        "\n",
        "print(rf_best_arc6.feature_importances_)\n",
        "\n",
        "imp_df = pd.DataFrame({\n",
        "    \"Varname\": X_arc6_train.columns,\n",
        "    \"Imp\": rf_best_arc6.feature_importances_\n",
        "})"
      ]
    },
    {
      "cell_type": "code",
      "execution_count": null,
      "metadata": {
        "id": "qR5lQBg8a3Rv"
      },
      "outputs": [],
      "source": [
        "#Vendo a Importância das Features para RF Grid:\n",
        "imp_df.sort_values(by=\"Imp\", ascending=False)[0:50]"
      ]
    },
    {
      "cell_type": "markdown",
      "metadata": {
        "id": "XYLCt3gpa3Rv"
      },
      "source": [
        "## SVC (SEM TEMPO)"
      ]
    },
    {
      "cell_type": "code",
      "source": [
        "X_arc6"
      ],
      "metadata": {
        "id": "WNpo4a7za3Rw"
      },
      "execution_count": null,
      "outputs": []
    },
    {
      "cell_type": "code",
      "execution_count": null,
      "metadata": {
        "id": "JSXdkXlha3Rw"
      },
      "outputs": [],
      "source": [
        "Y_arc6 = LabelEncoder().fit_transform(Y_arc6)\n",
        "\n",
        "Y_arc6"
      ]
    },
    {
      "cell_type": "code",
      "execution_count": null,
      "metadata": {
        "id": "eKZoN3s9a3Rw"
      },
      "outputs": [],
      "source": [
        "X_arc6_train, X_arc6_test, y_arc6_train, y_arc6_test = train_test_split(X_arc6, Y_arc6, test_size = 0.3, random_state = 0)"
      ]
    },
    {
      "cell_type": "markdown",
      "metadata": {
        "id": "fHf3-nMla3Rw"
      },
      "source": [
        "### Linear"
      ]
    },
    {
      "cell_type": "code",
      "execution_count": null,
      "metadata": {
        "id": "vXKIoo7Ga3Rw"
      },
      "outputs": [],
      "source": [
        "SVC_arc6 = SVC(kernel = 'linear', random_state = 0)\n",
        "SVC_arc6.fit(X_arc6_train, y_arc6_train)"
      ]
    },
    {
      "cell_type": "code",
      "execution_count": null,
      "metadata": {
        "id": "JAv2K-fVa3Rx"
      },
      "outputs": [],
      "source": [
        "y_arc6_pred = SVC_arc6.predict(X_arc6_test)"
      ]
    },
    {
      "cell_type": "code",
      "execution_count": null,
      "metadata": {
        "id": "ZB9C4E3Da3Rx"
      },
      "outputs": [],
      "source": [
        "train_score_svc=SVC_arc6.score(X_arc6_train,y_arc6_train)\n",
        "print(train_score_svc)"
      ]
    },
    {
      "cell_type": "code",
      "execution_count": null,
      "metadata": {
        "id": "o3t6fiasa3Rx"
      },
      "outputs": [],
      "source": [
        "test_score_svc=SVC_arc6.score(X_arc6_test,y_arc6_test)\n",
        "print(test_score_svc)"
      ]
    },
    {
      "cell_type": "code",
      "execution_count": null,
      "metadata": {
        "id": "YwKAGdMla3Rx"
      },
      "outputs": [],
      "source": [
        "accuracy_score(y_arc6_test, y_arc6_pred)\n",
        "print('accuracy_score %:',accuracy_score(y_arc6_test, y_arc6_pred)*100)"
      ]
    },
    {
      "cell_type": "code",
      "execution_count": null,
      "metadata": {
        "id": "ruUGC9nXa3Ry"
      },
      "outputs": [],
      "source": [
        "confmatrix_train = confusion_matrix(y_arc6_train,SVC_arc6.predict(X_arc6_train))\n",
        "confmatrix_test=confusion_matrix(y_arc6_test,SVC_arc6.predict(X_arc6_test))\n",
        "\n",
        "fig, ax = plt.subplots(figsize=(6,5))\n",
        "sns.heatmap(confmatrix_train, annot=True, fmt='g', ax=ax)\n",
        "ax.xaxis.set_ticklabels(falhas,rotation=90)\n",
        "ax.yaxis.set_ticklabels(falhas,rotation=0)\n",
        "ax.set_title('Train set Confusion Matrix',y=1)\n",
        "plt.show()\n",
        "\n",
        "fig, ax = plt.subplots(figsize=(6,5))\n",
        "sns.heatmap(confmatrix_test, annot=True, fmt='g', ax=ax)\n",
        "ax.xaxis.set_ticklabels(falhas,rotation=90)\n",
        "ax.yaxis.set_ticklabels(falhas,rotation=0)\n",
        "ax.set_title('Test set Confusion Matrix',y=1)\n",
        "plt.show()"
      ]
    },
    {
      "cell_type": "markdown",
      "metadata": {
        "id": "3tXAcXs9a3Ry"
      },
      "source": [
        "### Polinomial:"
      ]
    },
    {
      "cell_type": "code",
      "execution_count": null,
      "metadata": {
        "id": "IycUCSOwa3Ry"
      },
      "outputs": [],
      "source": [
        "SVC_arc6 = SVC(kernel = 'poly',degree = 10, random_state = 0)\n",
        "SVC_arc6.fit(X_arc6_train, y_arc6_train)"
      ]
    },
    {
      "cell_type": "code",
      "execution_count": null,
      "metadata": {
        "id": "3fhf-_z0a3Ry"
      },
      "outputs": [],
      "source": [
        "y_arc6_pred = SVC_arc6.predict(X_arc6_test)"
      ]
    },
    {
      "cell_type": "code",
      "execution_count": null,
      "metadata": {
        "id": "otPRpKPka3Rz"
      },
      "outputs": [],
      "source": [
        "train_score_svc=SVC_arc6.score(X_arc6_train,y_arc6_train)\n",
        "print(train_score_svc)"
      ]
    },
    {
      "cell_type": "code",
      "execution_count": null,
      "metadata": {
        "id": "btWxaD9Ta3Rz"
      },
      "outputs": [],
      "source": [
        "test_score_svc=SVC_arc6.score(X_arc6_test,y_arc6_test)\n",
        "print(test_score_svc)"
      ]
    },
    {
      "cell_type": "code",
      "execution_count": null,
      "metadata": {
        "id": "H2IUlHHJa3Rz"
      },
      "outputs": [],
      "source": [
        "accuracy_score(y_arc6_test, y_arc6_pred)\n",
        "print('accuracy_score %:',accuracy_score(y_arc6_test, y_arc6_pred)*100)"
      ]
    },
    {
      "cell_type": "code",
      "execution_count": null,
      "metadata": {
        "id": "XHJWS0Qca3Rz"
      },
      "outputs": [],
      "source": [
        "confmatrix_train = confusion_matrix(y_arc6_train,SVC_arc6.predict(X_arc6_train))\n",
        "confmatrix_test=confusion_matrix(y_arc6_test,SVC_arc6.predict(X_arc6_test))\n",
        "\n",
        "fig, ax = plt.subplots(figsize=(6,5))\n",
        "sns.heatmap(confmatrix_train, annot=True, fmt='g', ax=ax)\n",
        "ax.xaxis.set_ticklabels(falhas,rotation=90)\n",
        "ax.yaxis.set_ticklabels(falhas,rotation=0)\n",
        "ax.set_title('Train set Confusion Matrix',y=1)\n",
        "plt.show()\n",
        "\n",
        "fig, ax = plt.subplots(figsize=(6,5))\n",
        "sns.heatmap(confmatrix_test, annot=True, fmt='g', ax=ax)\n",
        "ax.xaxis.set_ticklabels(falhas,rotation=90)\n",
        "ax.yaxis.set_ticklabels(falhas,rotation=0)\n",
        "ax.set_title('Test set Confusion Matrix',y=1)\n",
        "plt.show()"
      ]
    },
    {
      "cell_type": "markdown",
      "metadata": {
        "id": "Ljs79wC_a3R0"
      },
      "source": [
        "### RBF:"
      ]
    },
    {
      "cell_type": "code",
      "execution_count": null,
      "metadata": {
        "id": "SAeMOyB8a3R0"
      },
      "outputs": [],
      "source": [
        "SVC_arc6 = SVC(kernel = 'rbf', random_state = 0)\n",
        "SVC_arc6.fit(X_arc6_train, y_arc6_train)"
      ]
    },
    {
      "cell_type": "code",
      "execution_count": null,
      "metadata": {
        "id": "WgDu2mTHa3R0"
      },
      "outputs": [],
      "source": [
        "y_arc6_pred = SVC_arc6.predict(X_arc6_test)"
      ]
    },
    {
      "cell_type": "code",
      "execution_count": null,
      "metadata": {
        "id": "JsD5lfE3a3R0"
      },
      "outputs": [],
      "source": [
        "train_score_svc=SVC_arc6.score(X_arc6_train,y_arc6_train)\n",
        "print(train_score_svc)"
      ]
    },
    {
      "cell_type": "code",
      "execution_count": null,
      "metadata": {
        "id": "LYgNEe3Ca3R1"
      },
      "outputs": [],
      "source": [
        "test_score_svc=SVC_arc6.score(X_arc6_test,y_arc6_test)\n",
        "print(test_score_svc)"
      ]
    },
    {
      "cell_type": "code",
      "execution_count": null,
      "metadata": {
        "id": "uL8T4ovda3R1"
      },
      "outputs": [],
      "source": [
        "accuracy_score(y_arc6_test, y_arc6_pred)\n",
        "print('accuracy_score %:',accuracy_score(y_arc6_test, y_arc6_pred)*100)"
      ]
    },
    {
      "cell_type": "code",
      "execution_count": null,
      "metadata": {
        "id": "n92N5lC8a3R1"
      },
      "outputs": [],
      "source": [
        "confmatrix_train = confusion_matrix(y_arc6_train,SVC_arc6.predict(X_arc6_train))\n",
        "confmatrix_test=confusion_matrix(y_arc6_test,SVC_arc6.predict(X_arc6_test))\n",
        "\n",
        "fig, ax = plt.subplots(figsize=(6,5))\n",
        "sns.heatmap(confmatrix_train, annot=True, fmt='g', ax=ax)\n",
        "ax.xaxis.set_ticklabels(falhas,rotation=90)\n",
        "ax.yaxis.set_ticklabels(falhas,rotation=0)\n",
        "ax.set_title('Train set Confusion Matrix',y=1)\n",
        "plt.show()\n",
        "\n",
        "fig, ax = plt.subplots(figsize=(6,5))\n",
        "sns.heatmap(confmatrix_test, annot=True, fmt='g', ax=ax)\n",
        "ax.xaxis.set_ticklabels(falhas,rotation=90)\n",
        "ax.yaxis.set_ticklabels(falhas,rotation=0)\n",
        "ax.set_title('Test set Confusion Matrix',y=1)\n",
        "plt.show()"
      ]
    },
    {
      "cell_type": "markdown",
      "metadata": {
        "id": "f0cCONYua3R1"
      },
      "source": [
        "### Sigmoid:"
      ]
    },
    {
      "cell_type": "code",
      "execution_count": null,
      "metadata": {
        "id": "ZtwS0IS0a3R2"
      },
      "outputs": [],
      "source": [
        "SVC_arc6 = SVC(kernel = 'sigmoid', random_state = 0)\n",
        "SVC_arc6.fit(X_arc6_train, y_arc6_train)"
      ]
    },
    {
      "cell_type": "code",
      "execution_count": null,
      "metadata": {
        "id": "fpPW7nK5a3R2"
      },
      "outputs": [],
      "source": [
        "y_arc6_pred = SVC_arc6.predict(X_arc6_test)"
      ]
    },
    {
      "cell_type": "code",
      "execution_count": null,
      "metadata": {
        "id": "h-fm1zaTa3R2"
      },
      "outputs": [],
      "source": [
        "train_score_svc=SVC_arc6.score(X_arc6_train,y_arc6_train)\n",
        "print(train_score_svc)"
      ]
    },
    {
      "cell_type": "code",
      "execution_count": null,
      "metadata": {
        "id": "VlS8L-sea3R3"
      },
      "outputs": [],
      "source": [
        "test_score_svc=SVC_arc6.score(X_arc6_test,y_arc6_test)\n",
        "print(test_score_svc)"
      ]
    },
    {
      "cell_type": "code",
      "execution_count": null,
      "metadata": {
        "id": "IYkSic7-a3R3"
      },
      "outputs": [],
      "source": [
        "accuracy_score(y_arc6_test, y_arc6_pred)\n",
        "print('accuracy_score %:',accuracy_score(y_arc6_test, y_arc6_pred)*100)"
      ]
    },
    {
      "cell_type": "code",
      "execution_count": null,
      "metadata": {
        "id": "izwMmqZZa3R3"
      },
      "outputs": [],
      "source": [
        "confmatrix_train = confusion_matrix(y_arc6_train,SVC_arc6.predict(X_arc6_train))\n",
        "confmatrix_test=confusion_matrix(y_arc6_test,SVC_arc6.predict(X_arc6_test))\n",
        "\n",
        "fig, ax = plt.subplots(figsize=(6,5))\n",
        "sns.heatmap(confmatrix_train, annot=True, fmt='g', ax=ax)\n",
        "ax.xaxis.set_ticklabels(falhas,rotation=90)\n",
        "ax.yaxis.set_ticklabels(falhas,rotation=0)\n",
        "ax.set_title('Train set Confusion Matrix',y=1)\n",
        "plt.show()\n",
        "\n",
        "fig, ax = plt.subplots(figsize=(6,5))\n",
        "sns.heatmap(confmatrix_test, annot=True, fmt='g', ax=ax)\n",
        "ax.xaxis.set_ticklabels(falhas,rotation=90)\n",
        "ax.yaxis.set_ticklabels(falhas,rotation=0)\n",
        "ax.set_title('Test set Confusion Matrix',y=1)\n",
        "plt.show()"
      ]
    },
    {
      "cell_type": "markdown",
      "metadata": {
        "id": "h_UAnC0Ba3R4"
      },
      "source": [
        "### GridSearchCV"
      ]
    },
    {
      "cell_type": "markdown",
      "metadata": {
        "id": "tRZPoHEla3R4"
      },
      "source": [
        "Abandonamos o Kernel polinomial, pois não importa o grau do polinomio, sempre fica ruim"
      ]
    },
    {
      "cell_type": "code",
      "execution_count": null,
      "metadata": {
        "id": "2A70k7dDa3R4"
      },
      "outputs": [],
      "source": [
        "params_arc6_SVC_Linear = {\n",
        "'kernel':['linear'],\n",
        "'C':[0.001,0.01,0.1,1,10,100,1000],\n",
        "}\n",
        "\n",
        "params_arc6_SVC_RS = {\n",
        "'kernel':['rbf','sigmoid'],\n",
        "'gamma':['scale', 'auto'],\n",
        "'C':[0.001,0.01,0.1,1,10,100,1000],\n",
        "}"
      ]
    },
    {
      "cell_type": "code",
      "execution_count": null,
      "metadata": {
        "id": "_dmVM3G3a3R4"
      },
      "outputs": [],
      "source": [
        "for params in [params_arc6_SVC_Linear,params_arc6_SVC_RS]:\n",
        "  print(\"Otimização Dados Arquitetura 6:\")\n",
        "  grid_arc6_SVC = GridSearchCV(SVC_arc6 ,params, scoring='accuracy')\n",
        "  grid_arc6_SVC.fit(X_arc6_train,y_arc6_train)\n",
        "  print(grid_arc6_SVC.best_params_, grid_arc6_SVC.best_score_)\n",
        "  rf_best_arc6_SVC = grid_arc6_SVC.best_estimator_\n",
        "\n",
        "  y_arc6_pred_SVC = rf_best_arc6_SVC.predict(X_arc6_test)\n",
        "\n",
        "  accuracy_score(y_arc6_test, y_arc6_pred_SVC)\n",
        "  print('accuracy_score %:',accuracy_score(y_arc6_test, y_arc6_pred_SVC)*100)\n",
        "  print()"
      ]
    },
    {
      "cell_type": "markdown",
      "source": [
        "# Arquitetura 7\n",
        "\n",
        "PCA(0.20)"
      ],
      "metadata": {
        "id": "pA1v27B4dc8s"
      }
    },
    {
      "cell_type": "markdown",
      "metadata": {
        "id": "0l6nRdTId65k"
      },
      "source": [
        "## Montando Nova Tabela"
      ]
    },
    {
      "cell_type": "markdown",
      "metadata": {
        "id": "cm9zgkQNd65v"
      },
      "source": [
        "* Zeramos as tranformações, voltamos ao início"
      ]
    },
    {
      "cell_type": "code",
      "execution_count": null,
      "metadata": {
        "id": "nnPJOjTSd65v"
      },
      "outputs": [],
      "source": [
        "#Definindo as Features (X's):\n",
        "features=coln[1:]\n",
        "X=df_ML[features]\n",
        "\n",
        "#Definindo os Targets (Y's):\n",
        "\n",
        "targets=coln[0] #Definindo lista de targets\n",
        "Y=df_ML[targets]"
      ]
    },
    {
      "cell_type": "code",
      "execution_count": null,
      "metadata": {
        "id": "l3VCozu4d65v"
      },
      "outputs": [],
      "source": [
        "#Dividindo dados no Tempo\n",
        "X_tempo = X[c_T]\n",
        "c_X_tempo=list(X_tempo)\n",
        "print(c_X_tempo)\n",
        "\n",
        "#Dividindo as FFT's por Segmentos / Sensores / Eixos (SUBDATASETS):\n",
        "X_fft_a1_x=X[c_F_a1_x]\n",
        "X_fft_a1_y=X[c_F_a1_y]\n",
        "X_fft_a1_z=X[c_F_a1_z]\n",
        "\n",
        "X_fft_a2_x=X[c_F_a2_x]\n",
        "X_fft_a2_y=X[c_F_a2_y]\n",
        "X_fft_a2_z=X[c_F_a2_z]\n",
        "\n",
        "X_fft_a3_x=X[c_F_a3_x]\n",
        "X_fft_a3_y=X[c_F_a3_y]\n",
        "X_fft_a3_z=X[c_F_a3_z]\n",
        "\n",
        "X_fft_g1_x=X[c_F_g1_x]\n",
        "X_fft_g1_y=X[c_F_g1_y]\n",
        "X_fft_g1_z=X[c_F_g1_z]\n",
        "\n",
        "X_fft_g2_x=X[c_F_g2_x]\n",
        "X_fft_g2_y=X[c_F_g2_y]\n",
        "X_fft_g2_z=X[c_F_g2_z]\n",
        "\n",
        "X_fft_g3_x=X[c_F_g3_x]\n",
        "X_fft_g3_y=X[c_F_g3_y]\n",
        "X_fft_g3_z=X[c_F_g3_z]"
      ]
    },
    {
      "cell_type": "code",
      "execution_count": null,
      "metadata": {
        "id": "dAn17pked65w"
      },
      "outputs": [],
      "source": [
        "sc = StandardScaler()\n",
        "\n",
        "#Aplicando a cada X_fft e Tempo:\n",
        "\n",
        "X_tempo = sc.fit_transform(X_tempo)\n",
        "\n",
        "X_fft_a1_x = sc.fit_transform(X_fft_a1_x)\n",
        "X_fft_a1_y = sc.fit_transform(X_fft_a1_y)\n",
        "X_fft_a1_z = sc.fit_transform(X_fft_a1_z)\n",
        "\n",
        "X_fft_a2_x = sc.fit_transform(X_fft_a2_x)\n",
        "X_fft_a2_y = sc.fit_transform(X_fft_a2_y)\n",
        "X_fft_a2_z = sc.fit_transform(X_fft_a2_z)\n",
        "\n",
        "X_fft_a3_x = sc.fit_transform(X_fft_a3_x)\n",
        "X_fft_a3_y = sc.fit_transform(X_fft_a3_y)\n",
        "X_fft_a3_z = sc.fit_transform(X_fft_a3_z)\n",
        "\n",
        "X_fft_g1_x = sc.fit_transform(X_fft_g1_x)\n",
        "X_fft_g1_y = sc.fit_transform(X_fft_g1_y)\n",
        "X_fft_g1_z = sc.fit_transform(X_fft_g1_z)\n",
        "\n",
        "X_fft_g2_x = sc.fit_transform(X_fft_g2_x)\n",
        "X_fft_g2_y = sc.fit_transform(X_fft_g2_y)\n",
        "X_fft_g2_z = sc.fit_transform(X_fft_g2_z)\n",
        "\n",
        "X_fft_g3_x = sc.fit_transform(X_fft_g3_x)\n",
        "X_fft_g3_y = sc.fit_transform(X_fft_g3_y)\n",
        "X_fft_g3_z = sc.fit_transform(X_fft_g3_z)"
      ]
    },
    {
      "cell_type": "code",
      "execution_count": null,
      "metadata": {
        "id": "V-magxbsd65w"
      },
      "outputs": [],
      "source": [
        "df_Y=pd.DataFrame(Y, columns = ['Classificação'])\n",
        "df_Y"
      ]
    },
    {
      "cell_type": "code",
      "execution_count": null,
      "metadata": {
        "id": "ovseavR3d65x"
      },
      "outputs": [],
      "source": [
        "df_X_tempo=pd.DataFrame(X_tempo, columns = c_X_tempo)\n",
        "\n",
        "df_X_tempo"
      ]
    },
    {
      "cell_type": "code",
      "execution_count": null,
      "metadata": {
        "id": "Z03dNThYd65x"
      },
      "outputs": [],
      "source": [
        "pca = PCA(0.20) # 20% de Variância Explicada"
      ]
    },
    {
      "cell_type": "code",
      "execution_count": null,
      "metadata": {
        "id": "AUCZphkCd65x"
      },
      "outputs": [],
      "source": [
        "#Aplicando o PCA para cada FFT:\n",
        "\n",
        "PCA_X_fft_a1_x = pca.fit_transform(X_fft_a1_x)\n",
        "PCA_X_fft_a1_y = pca.fit_transform(X_fft_a1_y)\n",
        "PCA_X_fft_a1_z = pca.fit_transform(X_fft_a1_z)\n",
        "\n",
        "PCA_X_fft_a2_x = pca.fit_transform(X_fft_a2_x)\n",
        "PCA_X_fft_a2_y = pca.fit_transform(X_fft_a2_y)\n",
        "PCA_X_fft_a2_z = pca.fit_transform(X_fft_a2_z)\n",
        "\n",
        "PCA_X_fft_a3_x = pca.fit_transform(X_fft_a3_x)\n",
        "PCA_X_fft_a3_y = pca.fit_transform(X_fft_a3_y)\n",
        "PCA_X_fft_a3_z = pca.fit_transform(X_fft_a3_z)\n",
        "\n",
        "PCA_X_fft_g1_x = pca.fit_transform(X_fft_g1_x)\n",
        "PCA_X_fft_g1_y = pca.fit_transform(X_fft_g1_y)\n",
        "PCA_X_fft_g1_z = pca.fit_transform(X_fft_g1_z)\n",
        "\n",
        "PCA_X_fft_g2_x = pca.fit_transform(X_fft_g2_x)\n",
        "PCA_X_fft_g2_y = pca.fit_transform(X_fft_g2_y)\n",
        "PCA_X_fft_g2_z = pca.fit_transform(X_fft_g2_z)\n",
        "\n",
        "PCA_X_fft_g3_x = pca.fit_transform(X_fft_g3_x)\n",
        "PCA_X_fft_g3_y = pca.fit_transform(X_fft_g3_y)\n",
        "PCA_X_fft_g3_z = pca.fit_transform(X_fft_g3_z)"
      ]
    },
    {
      "cell_type": "code",
      "execution_count": null,
      "metadata": {
        "id": "agRWMXjZd65y"
      },
      "outputs": [],
      "source": [
        "#Sub DataFrames:\n",
        "df_PCA_FFT_a1_X = pd.DataFrame(PCA_X_fft_a1_x, columns = ['PCA_FFT_a1_X_'+str(i) for i in range(len(PCA_X_fft_a1_x[0]))])\n",
        "df_PCA_FFT_a1_Y = pd.DataFrame(PCA_X_fft_a1_y, columns = ['PCA_FFT_a1_Y_'+str(i) for i in range(len(PCA_X_fft_a1_y[0]))])\n",
        "df_PCA_FFT_a1_Z = pd.DataFrame(PCA_X_fft_a1_z, columns = ['PCA_FFT_a1_Z_'+str(i) for i in range(len(PCA_X_fft_a1_z[0]))])\n",
        "\n",
        "df_PCA_FFT_a2_X = pd.DataFrame(PCA_X_fft_a2_x, columns = ['PCA_FFT_a2_X_'+str(i) for i in range(len(PCA_X_fft_a2_x[0]))])\n",
        "df_PCA_FFT_a2_Y = pd.DataFrame(PCA_X_fft_a2_y, columns = ['PCA_FFT_a2_Y_'+str(i) for i in range(len(PCA_X_fft_a2_y[0]))])\n",
        "df_PCA_FFT_a2_Z = pd.DataFrame(PCA_X_fft_a2_z, columns = ['PCA_FFT_a2_Z_'+str(i) for i in range(len(PCA_X_fft_a2_z[0]))])\n",
        "\n",
        "df_PCA_FFT_a3_X = pd.DataFrame(PCA_X_fft_a3_x, columns = ['PCA_FFT_a3_X_'+str(i) for i in range(len(PCA_X_fft_a3_x[0]))])\n",
        "df_PCA_FFT_a3_Y = pd.DataFrame(PCA_X_fft_a3_y, columns = ['PCA_FFT_a3_Y_'+str(i) for i in range(len(PCA_X_fft_a3_y[0]))])\n",
        "df_PCA_FFT_a3_Z = pd.DataFrame(PCA_X_fft_a3_z, columns = ['PCA_FFT_a3_Z_'+str(i) for i in range(len(PCA_X_fft_a3_z[0]))])\n",
        "\n",
        "df_PCA_FFT_g1_X = pd.DataFrame(PCA_X_fft_g1_x, columns = ['PCA_FFT_g1_X_'+str(i) for i in range(len(PCA_X_fft_g1_x[0]))])\n",
        "df_PCA_FFT_g1_Y = pd.DataFrame(PCA_X_fft_g1_y, columns = ['PCA_FFT_g1_Y_'+str(i) for i in range(len(PCA_X_fft_g1_y[0]))])\n",
        "df_PCA_FFT_g1_Z = pd.DataFrame(PCA_X_fft_g1_z, columns = ['PCA_FFT_g1_Z_'+str(i) for i in range(len(PCA_X_fft_g1_z[0]))])\n",
        "\n",
        "df_PCA_FFT_g2_X = pd.DataFrame(PCA_X_fft_g2_x, columns = ['PCA_FFT_g2_X_'+str(i) for i in range(len(PCA_X_fft_g2_x[0]))])\n",
        "df_PCA_FFT_g2_Y = pd.DataFrame(PCA_X_fft_g2_y, columns = ['PCA_FFT_g2_Y_'+str(i) for i in range(len(PCA_X_fft_g2_y[0]))])\n",
        "df_PCA_FFT_g2_Z = pd.DataFrame(PCA_X_fft_g2_z, columns = ['PCA_FFT_g2_Z_'+str(i) for i in range(len(PCA_X_fft_g2_z[0]))])\n",
        "\n",
        "df_PCA_FFT_g3_X = pd.DataFrame(PCA_X_fft_g3_x, columns = ['PCA_FFT_g3_X_'+str(i) for i in range(len(PCA_X_fft_g3_x[0]))])\n",
        "df_PCA_FFT_g3_Y = pd.DataFrame(PCA_X_fft_g3_y, columns = ['PCA_FFT_g3_Y_'+str(i) for i in range(len(PCA_X_fft_g3_y[0]))])\n",
        "df_PCA_FFT_g3_Z = pd.DataFrame(PCA_X_fft_g3_z, columns = ['PCA_FFT_g3_Z_'+str(i) for i in range(len(PCA_X_fft_g3_z[0]))])"
      ]
    },
    {
      "cell_type": "code",
      "execution_count": null,
      "metadata": {
        "id": "sCllbtO0d65y"
      },
      "outputs": [],
      "source": [
        "#Teste:\n",
        "df_PCA_FFT_a3_Z"
      ]
    },
    {
      "cell_type": "code",
      "execution_count": null,
      "metadata": {
        "id": "_ThqPhind65y"
      },
      "outputs": [],
      "source": [
        "#Agrupando Tudo e Montar Tabela para Arquitetura 1:\n",
        "frames=[df_Y,df_X_tempo,df_PCA_FFT_a1_X,df_PCA_FFT_a1_Y,df_PCA_FFT_a1_Z,df_PCA_FFT_a2_X,df_PCA_FFT_a2_Y,df_PCA_FFT_a2_Z,df_PCA_FFT_a3_X,df_PCA_FFT_a3_Y,df_PCA_FFT_a3_Z,df_PCA_FFT_g1_X,df_PCA_FFT_g1_Y,df_PCA_FFT_g1_Z,df_PCA_FFT_g2_X,df_PCA_FFT_g2_Y,df_PCA_FFT_g2_Z,df_PCA_FFT_g3_X,df_PCA_FFT_g3_Y,df_PCA_FFT_g3_Z]\n",
        "df_arc7=pd.concat(frames,axis=1)"
      ]
    },
    {
      "cell_type": "code",
      "execution_count": null,
      "metadata": {
        "id": "hkH6k8oBd65y"
      },
      "outputs": [],
      "source": [
        "df_arc7"
      ]
    },
    {
      "cell_type": "code",
      "execution_count": null,
      "metadata": {
        "id": "ia2qXVB5d651"
      },
      "outputs": [],
      "source": [
        "df_arc7.isnull().sum()"
      ]
    },
    {
      "cell_type": "code",
      "execution_count": null,
      "metadata": {
        "id": "1KfU-cjpd652"
      },
      "outputs": [],
      "source": [
        "#Conferindo NANs:\n",
        "for x in df_arc7.isnull().sum():\n",
        "  if x != 0:\n",
        "    print('TEM ALGUM NAN')\n",
        "print(\"Pode Seguir !!! Sem NANs\")"
      ]
    },
    {
      "cell_type": "code",
      "source": [
        "df_arc7.to_csv('DataframeML_ARC7_TempoFFT.csv')"
      ],
      "metadata": {
        "id": "mqf6eRdhd652"
      },
      "execution_count": null,
      "outputs": []
    },
    {
      "cell_type": "code",
      "execution_count": null,
      "metadata": {
        "id": "BWm3hPEWd652"
      },
      "outputs": [],
      "source": [
        "# Nome das Colunas:\n",
        "#Lista com Nome de cada Coluna:\n",
        "coln_arc7=list(df_arc7)\n",
        "print(coln_arc7, \"\\n\")\n",
        "\n",
        "print(len(coln_arc7))\n",
        "#Definindo as Features (X's):\n",
        "features=coln_arc7[1:]\n",
        "X_arc7=df_arc7[features]\n",
        "\n",
        "print(coln_arc7[1:])\n",
        "#Definindo os Targets (Y's):\n",
        "\n",
        "targets=coln_arc7[0] #Definindo lista de targets\n",
        "Y_arc7=df_arc7[targets]"
      ]
    },
    {
      "cell_type": "code",
      "execution_count": null,
      "metadata": {
        "id": "G1zQkPMqd653"
      },
      "outputs": [],
      "source": [
        "X_arc7"
      ]
    },
    {
      "cell_type": "code",
      "execution_count": null,
      "metadata": {
        "id": "x831cuHWd653"
      },
      "outputs": [],
      "source": [
        "Y_arc7"
      ]
    },
    {
      "cell_type": "markdown",
      "metadata": {
        "id": "1vJnG5tsd653"
      },
      "source": [
        "## Random Forest (COM TEMPO)"
      ]
    },
    {
      "cell_type": "code",
      "source": [
        "X_arc7"
      ],
      "metadata": {
        "id": "LK19Vayyd653"
      },
      "execution_count": null,
      "outputs": []
    },
    {
      "cell_type": "code",
      "execution_count": null,
      "metadata": {
        "id": "ONh_RGjWd654"
      },
      "outputs": [],
      "source": [
        "Y_arc7 = LabelEncoder().fit_transform(Y_arc7)\n",
        "\n",
        "Y_arc7"
      ]
    },
    {
      "cell_type": "code",
      "execution_count": null,
      "metadata": {
        "id": "B7RkzZtVd654"
      },
      "outputs": [],
      "source": [
        "X_arc7_train, X_arc7_test, y_arc7_train, y_arc7_test = train_test_split(X_arc7, Y_arc7, test_size = 0.3, random_state = 0)\n",
        "\n",
        "RFC_arc7 = RandomForestClassifier(max_depth= 25, n_estimators = 50, random_state = 0)\n",
        "RFC_arc7.fit(X_arc7_train, y_arc7_train)"
      ]
    },
    {
      "cell_type": "code",
      "execution_count": null,
      "metadata": {
        "id": "P4BQ4dUXd654"
      },
      "outputs": [],
      "source": [
        "y_arc7_pred = RFC_arc7.predict(X_arc7_test)"
      ]
    },
    {
      "cell_type": "code",
      "execution_count": null,
      "metadata": {
        "id": "Ov2MQ2Xsd655"
      },
      "outputs": [],
      "source": [
        "train_score_rf=RFC_arc7.score(X_arc7_train,y_arc7_train)\n",
        "print(train_score_rf)"
      ]
    },
    {
      "cell_type": "code",
      "execution_count": null,
      "metadata": {
        "id": "NFiDeyiNd655"
      },
      "outputs": [],
      "source": [
        "test_score_rf=RFC_arc7.score(X_arc7_test,y_arc7_test)\n",
        "print(test_score_rf)"
      ]
    },
    {
      "cell_type": "code",
      "execution_count": null,
      "metadata": {
        "id": "FSxSPp9Dd655"
      },
      "outputs": [],
      "source": [
        "accuracy_score(y_arc7_test, y_arc7_pred)\n",
        "print('accuracy_score %:',accuracy_score(y_arc7_test, y_arc7_pred)*100)"
      ]
    },
    {
      "cell_type": "code",
      "execution_count": null,
      "metadata": {
        "id": "5XTlO4j6d656"
      },
      "outputs": [],
      "source": [
        "RFC_arc7.feature_importances_"
      ]
    },
    {
      "cell_type": "code",
      "execution_count": null,
      "metadata": {
        "id": "VsLQcVmpd656"
      },
      "outputs": [],
      "source": [
        "np.max(RFC_arc7.feature_importances_)"
      ]
    },
    {
      "cell_type": "code",
      "execution_count": null,
      "metadata": {
        "id": "_e_mIhdHd656"
      },
      "outputs": [],
      "source": [
        "imp_df = pd.DataFrame({\n",
        "    \"Varname\": X_arc7_train.columns,\n",
        "    \"Imp\": RFC_arc7.feature_importances_\n",
        "})"
      ]
    },
    {
      "cell_type": "code",
      "execution_count": null,
      "metadata": {
        "id": "GggoLebmd659"
      },
      "outputs": [],
      "source": [
        "#Vendo a Importância das Features para RF:\n",
        "imp_df.sort_values(by=\"Imp\", ascending=False)[0:50]"
      ]
    },
    {
      "cell_type": "code",
      "execution_count": null,
      "metadata": {
        "id": "BauBYoWMd659"
      },
      "outputs": [],
      "source": [
        "confmatrix_train = confusion_matrix(y_arc7_train,RFC_arc7.predict(X_arc7_train))\n",
        "confmatrix_test=confusion_matrix(y_arc7_test,RFC_arc7.predict(X_arc7_test))\n",
        "\n",
        "fig, ax = plt.subplots(figsize=(6,5))\n",
        "sns.heatmap(confmatrix_train, annot=True, fmt='g', ax=ax)\n",
        "ax.xaxis.set_ticklabels(falhas,rotation=90)\n",
        "ax.yaxis.set_ticklabels(falhas,rotation=0)\n",
        "ax.set_title('Train set Confusion Matrix',y=1)\n",
        "plt.show()\n",
        "\n",
        "fig, ax = plt.subplots(figsize=(6,5))\n",
        "sns.heatmap(confmatrix_test, annot=True, fmt='g', ax=ax)\n",
        "ax.xaxis.set_ticklabels(falhas,rotation=90)\n",
        "ax.yaxis.set_ticklabels(falhas,rotation=0)\n",
        "ax.set_title('Test set Confusion Matrix',y=1)\n",
        "plt.show()"
      ]
    },
    {
      "cell_type": "markdown",
      "metadata": {
        "id": "JHr1sL8cd65-"
      },
      "source": [
        "### GridSearchCV:"
      ]
    },
    {
      "cell_type": "code",
      "execution_count": null,
      "metadata": {
        "id": "-i1MN0shd65-"
      },
      "outputs": [],
      "source": [
        "#https://www.kdnuggets.com/2022/10/hyperparameter-tuning-grid-search-random-search-python.html\n",
        "params_arc7 = {\n",
        "'n_estimators': [10,25,50,100,200],\n",
        "'max_depth' : [5,10,25,50,100],\n",
        "'criterion' :['gini', 'entropy'],\n",
        "}"
      ]
    },
    {
      "cell_type": "code",
      "execution_count": null,
      "metadata": {
        "id": "dAL244R7d65_"
      },
      "outputs": [],
      "source": [
        "print(\"Otimização Dados Arquitetura 7:\")\n",
        "\n",
        "grid_arc7 = GridSearchCV(RFC_arc7 ,params_arc7, scoring='accuracy',cv=5)\n",
        "grid_arc7.fit(X_arc7_train,y_arc7_train)\n",
        "\n",
        "print(grid_arc7.best_params_, grid_arc7.best_score_)\n",
        "rf_best_arc7 = grid_arc7.best_estimator_\n",
        "\n",
        "y_arc7_pred = rf_best_arc7.predict(X_arc7_test)\n",
        "\n",
        "accuracy_score(y_arc7_test, y_arc7_pred)\n",
        "print('accuracy_score %:',accuracy_score(y_arc7_test, y_arc7_pred)*100)\n",
        "\n",
        "print(rf_best_arc7.feature_importances_)\n",
        "\n",
        "imp_df = pd.DataFrame({\n",
        "    \"Varname\": X_arc7_train.columns,\n",
        "    \"Imp\": rf_best_arc7.feature_importances_\n",
        "})"
      ]
    },
    {
      "cell_type": "code",
      "execution_count": null,
      "metadata": {
        "id": "UPxCONnad65_"
      },
      "outputs": [],
      "source": [
        "#Vendo a Importância das Features para RF Grid:\n",
        "imp_df.sort_values(by=\"Imp\", ascending=False)[0:50]"
      ]
    },
    {
      "cell_type": "markdown",
      "metadata": {
        "id": "Aq2j4zpad66A"
      },
      "source": [
        "## SVC (COM TEMPO)"
      ]
    },
    {
      "cell_type": "code",
      "source": [
        "X_arc7"
      ],
      "metadata": {
        "id": "z-gR74nRd66A"
      },
      "execution_count": null,
      "outputs": []
    },
    {
      "cell_type": "code",
      "execution_count": null,
      "metadata": {
        "id": "W0MeJGk2d66A"
      },
      "outputs": [],
      "source": [
        "Y_arc7 = LabelEncoder().fit_transform(Y_arc7)\n",
        "\n",
        "Y_arc7"
      ]
    },
    {
      "cell_type": "code",
      "execution_count": null,
      "metadata": {
        "id": "UmSalQ-2d66B"
      },
      "outputs": [],
      "source": [
        "X_arc7_train, X_arc7_test, y_arc7_train, y_arc7_test = train_test_split(X_arc7, Y_arc7, test_size = 0.3, random_state = 0)"
      ]
    },
    {
      "cell_type": "markdown",
      "metadata": {
        "id": "6q0GQ_rdd66B"
      },
      "source": [
        "### Linear"
      ]
    },
    {
      "cell_type": "code",
      "execution_count": null,
      "metadata": {
        "id": "97qDJ6tud66B"
      },
      "outputs": [],
      "source": [
        "SVC_arc7 = SVC(kernel = 'linear', random_state = 0)\n",
        "SVC_arc7.fit(X_arc7_train, y_arc7_train)"
      ]
    },
    {
      "cell_type": "code",
      "execution_count": null,
      "metadata": {
        "id": "wTkeg-7vd66C"
      },
      "outputs": [],
      "source": [
        "y_arc7_pred = SVC_arc7.predict(X_arc7_test)"
      ]
    },
    {
      "cell_type": "code",
      "execution_count": null,
      "metadata": {
        "id": "GxK1R__Nd66C"
      },
      "outputs": [],
      "source": [
        "train_score_svc=SVC_arc7.score(X_arc7_train,y_arc7_train)\n",
        "print(train_score_svc)"
      ]
    },
    {
      "cell_type": "code",
      "execution_count": null,
      "metadata": {
        "id": "fHX-ll3Jd66C"
      },
      "outputs": [],
      "source": [
        "test_score_svc=SVC_arc7.score(X_arc7_test,y_arc7_test)\n",
        "print(test_score_svc)"
      ]
    },
    {
      "cell_type": "code",
      "execution_count": null,
      "metadata": {
        "id": "k7nsBisEd66C"
      },
      "outputs": [],
      "source": [
        "accuracy_score(y_arc7_test, y_arc7_pred)\n",
        "print('accuracy_score %:',accuracy_score(y_arc7_test, y_arc7_pred)*100)"
      ]
    },
    {
      "cell_type": "code",
      "execution_count": null,
      "metadata": {
        "id": "dvmRrbchd66D"
      },
      "outputs": [],
      "source": [
        "confmatrix_train = confusion_matrix(y_arc7_train,SVC_arc7.predict(X_arc7_train))\n",
        "confmatrix_test=confusion_matrix(y_arc7_test,SVC_arc7.predict(X_arc7_test))\n",
        "\n",
        "fig, ax = plt.subplots(figsize=(6,5))\n",
        "sns.heatmap(confmatrix_train, annot=True, fmt='g', ax=ax)\n",
        "ax.xaxis.set_ticklabels(falhas,rotation=90)\n",
        "ax.yaxis.set_ticklabels(falhas,rotation=0)\n",
        "ax.set_title('Train set Confusion Matrix',y=1)\n",
        "plt.show()\n",
        "\n",
        "fig, ax = plt.subplots(figsize=(6,5))\n",
        "sns.heatmap(confmatrix_test, annot=True, fmt='g', ax=ax)\n",
        "ax.xaxis.set_ticklabels(falhas,rotation=90)\n",
        "ax.yaxis.set_ticklabels(falhas,rotation=0)\n",
        "ax.set_title('Test set Confusion Matrix',y=1)\n",
        "plt.show()"
      ]
    },
    {
      "cell_type": "markdown",
      "metadata": {
        "id": "s45M4JI-d66D"
      },
      "source": [
        "### Polinomial:"
      ]
    },
    {
      "cell_type": "code",
      "execution_count": null,
      "metadata": {
        "id": "mWd4lzrId66D"
      },
      "outputs": [],
      "source": [
        "SVC_arc7 = SVC(kernel = 'poly',degree = 10, random_state = 0)\n",
        "SVC_arc7.fit(X_arc7_train, y_arc7_train)"
      ]
    },
    {
      "cell_type": "code",
      "execution_count": null,
      "metadata": {
        "id": "YavJ1i50d66E"
      },
      "outputs": [],
      "source": [
        "y_arc7_pred = SVC_arc7.predict(X_arc7_test)"
      ]
    },
    {
      "cell_type": "code",
      "execution_count": null,
      "metadata": {
        "id": "87zv2Z6hd66E"
      },
      "outputs": [],
      "source": [
        "train_score_svc=SVC_arc7.score(X_arc7_train,y_arc7_train)\n",
        "print(train_score_svc)"
      ]
    },
    {
      "cell_type": "code",
      "execution_count": null,
      "metadata": {
        "id": "WxEFoJqjd66E"
      },
      "outputs": [],
      "source": [
        "test_score_svc=SVC_arc7.score(X_arc7_test,y_arc7_test)\n",
        "print(test_score_svc)"
      ]
    },
    {
      "cell_type": "code",
      "execution_count": null,
      "metadata": {
        "id": "-lQC1zBrd66E"
      },
      "outputs": [],
      "source": [
        "accuracy_score(y_arc7_test, y_arc7_pred)\n",
        "print('accuracy_score %:',accuracy_score(y_arc7_test, y_arc7_pred)*100)"
      ]
    },
    {
      "cell_type": "code",
      "execution_count": null,
      "metadata": {
        "id": "m4_kiJD4d66F"
      },
      "outputs": [],
      "source": [
        "confmatrix_train = confusion_matrix(y_arc7_train,SVC_arc7.predict(X_arc7_train))\n",
        "confmatrix_test=confusion_matrix(y_arc7_test,SVC_arc7.predict(X_arc7_test))\n",
        "\n",
        "fig, ax = plt.subplots(figsize=(6,5))\n",
        "sns.heatmap(confmatrix_train, annot=True, fmt='g', ax=ax)\n",
        "ax.xaxis.set_ticklabels(falhas,rotation=90)\n",
        "ax.yaxis.set_ticklabels(falhas,rotation=0)\n",
        "ax.set_title('Train set Confusion Matrix',y=1)\n",
        "plt.show()\n",
        "\n",
        "fig, ax = plt.subplots(figsize=(6,5))\n",
        "sns.heatmap(confmatrix_test, annot=True, fmt='g', ax=ax)\n",
        "ax.xaxis.set_ticklabels(falhas,rotation=90)\n",
        "ax.yaxis.set_ticklabels(falhas,rotation=0)\n",
        "ax.set_title('Test set Confusion Matrix',y=1)\n",
        "plt.show()"
      ]
    },
    {
      "cell_type": "markdown",
      "metadata": {
        "id": "ohD--MCBd66F"
      },
      "source": [
        "### RBF:"
      ]
    },
    {
      "cell_type": "code",
      "execution_count": null,
      "metadata": {
        "id": "zFwdkemvd66F"
      },
      "outputs": [],
      "source": [
        "SVC_arc7 = SVC(kernel = 'rbf', random_state = 0)\n",
        "SVC_arc7.fit(X_arc7_train, y_arc7_train)"
      ]
    },
    {
      "cell_type": "code",
      "execution_count": null,
      "metadata": {
        "id": "SBLRZi7Cd66F"
      },
      "outputs": [],
      "source": [
        "y_arc7_pred = SVC_arc7.predict(X_arc7_test)"
      ]
    },
    {
      "cell_type": "code",
      "execution_count": null,
      "metadata": {
        "id": "RABnNFYDd66G"
      },
      "outputs": [],
      "source": [
        "train_score_svc=SVC_arc7.score(X_arc7_train,y_arc7_train)\n",
        "print(train_score_svc)"
      ]
    },
    {
      "cell_type": "code",
      "execution_count": null,
      "metadata": {
        "id": "yHSxtcGjd66G"
      },
      "outputs": [],
      "source": [
        "test_score_svc=SVC_arc7.score(X_arc7_test,y_arc7_test)\n",
        "print(test_score_svc)"
      ]
    },
    {
      "cell_type": "code",
      "execution_count": null,
      "metadata": {
        "id": "_Coc3O2Yd66G"
      },
      "outputs": [],
      "source": [
        "accuracy_score(y_arc7_test, y_arc7_pred)\n",
        "print('accuracy_score %:',accuracy_score(y_arc7_test, y_arc7_pred)*100)"
      ]
    },
    {
      "cell_type": "code",
      "execution_count": null,
      "metadata": {
        "id": "oUYjMGfvd66H"
      },
      "outputs": [],
      "source": [
        "confmatrix_train = confusion_matrix(y_arc7_train,SVC_arc7.predict(X_arc7_train))\n",
        "confmatrix_test=confusion_matrix(y_arc7_test,SVC_arc7.predict(X_arc7_test))\n",
        "\n",
        "fig, ax = plt.subplots(figsize=(6,5))\n",
        "sns.heatmap(confmatrix_train, annot=True, fmt='g', ax=ax)\n",
        "ax.xaxis.set_ticklabels(falhas,rotation=90)\n",
        "ax.yaxis.set_ticklabels(falhas,rotation=0)\n",
        "ax.set_title('Train set Confusion Matrix',y=1)\n",
        "plt.show()\n",
        "\n",
        "fig, ax = plt.subplots(figsize=(6,5))\n",
        "sns.heatmap(confmatrix_test, annot=True, fmt='g', ax=ax)\n",
        "ax.xaxis.set_ticklabels(falhas,rotation=90)\n",
        "ax.yaxis.set_ticklabels(falhas,rotation=0)\n",
        "ax.set_title('Test set Confusion Matrix',y=1)\n",
        "plt.show()"
      ]
    },
    {
      "cell_type": "markdown",
      "metadata": {
        "id": "QYHznGDmd66H"
      },
      "source": [
        "### Sigmoid:"
      ]
    },
    {
      "cell_type": "code",
      "execution_count": null,
      "metadata": {
        "id": "Pc2LBzXGd66H"
      },
      "outputs": [],
      "source": [
        "SVC_arc7 = SVC(kernel = 'sigmoid', random_state = 0)\n",
        "SVC_arc7.fit(X_arc7_train, y_arc7_train)"
      ]
    },
    {
      "cell_type": "code",
      "execution_count": null,
      "metadata": {
        "id": "ppUasoDsd66I"
      },
      "outputs": [],
      "source": [
        "y_arc7_pred = SVC_arc7.predict(X_arc7_test)"
      ]
    },
    {
      "cell_type": "code",
      "execution_count": null,
      "metadata": {
        "id": "CSQ1X6R7d66I"
      },
      "outputs": [],
      "source": [
        "train_score_svc=SVC_arc7.score(X_arc7_train,y_arc7_train)\n",
        "print(train_score_svc)"
      ]
    },
    {
      "cell_type": "code",
      "execution_count": null,
      "metadata": {
        "id": "Q8cv4O1_d66I"
      },
      "outputs": [],
      "source": [
        "test_score_svc=SVC_arc7.score(X_arc7_test,y_arc7_test)\n",
        "print(test_score_svc)"
      ]
    },
    {
      "cell_type": "code",
      "execution_count": null,
      "metadata": {
        "id": "WAoFsVTud66J"
      },
      "outputs": [],
      "source": [
        "accuracy_score(y_arc7_test, y_arc7_pred)\n",
        "print('accuracy_score %:',accuracy_score(y_arc7_test, y_arc7_pred)*100)"
      ]
    },
    {
      "cell_type": "code",
      "execution_count": null,
      "metadata": {
        "id": "7NSztpDmd66J"
      },
      "outputs": [],
      "source": [
        "confmatrix_train = confusion_matrix(y_arc7_train,SVC_arc7.predict(X_arc7_train))\n",
        "confmatrix_test=confusion_matrix(y_arc7_test,SVC_arc7.predict(X_arc7_test))\n",
        "\n",
        "fig, ax = plt.subplots(figsize=(6,5))\n",
        "sns.heatmap(confmatrix_train, annot=True, fmt='g', ax=ax)\n",
        "ax.xaxis.set_ticklabels(falhas,rotation=90)\n",
        "ax.yaxis.set_ticklabels(falhas,rotation=0)\n",
        "ax.set_title('Train set Confusion Matrix',y=1)\n",
        "plt.show()\n",
        "\n",
        "fig, ax = plt.subplots(figsize=(6,5))\n",
        "sns.heatmap(confmatrix_test, annot=True, fmt='g', ax=ax)\n",
        "ax.xaxis.set_ticklabels(falhas,rotation=90)\n",
        "ax.yaxis.set_ticklabels(falhas,rotation=0)\n",
        "ax.set_title('Test set Confusion Matrix',y=1)\n",
        "plt.show()"
      ]
    },
    {
      "cell_type": "markdown",
      "metadata": {
        "id": "CsCE79sSd66K"
      },
      "source": [
        "### GridSearchCV"
      ]
    },
    {
      "cell_type": "markdown",
      "metadata": {
        "id": "CrpxYyoKd66K"
      },
      "source": [
        "Abandonamos o Kernel polinomial, pois não importa o grau do polinomio, sempre fica ruim"
      ]
    },
    {
      "cell_type": "code",
      "execution_count": null,
      "metadata": {
        "id": "VeBTZx-8d66L"
      },
      "outputs": [],
      "source": [
        "params_arc7_SVC_Linear = {\n",
        "'kernel':['linear'],\n",
        "'C':[0.001,0.01,0.1,1,10,100,1000],\n",
        "}\n",
        "\n",
        "params_arc7_SVC_RS = {\n",
        "'kernel':['rbf','sigmoid'],\n",
        "'gamma':['scale', 'auto'],\n",
        "'C':[0.001,0.01,0.1,1,10,100,1000],\n",
        "}"
      ]
    },
    {
      "cell_type": "code",
      "execution_count": null,
      "metadata": {
        "id": "SJ5aP7cgd66L"
      },
      "outputs": [],
      "source": [
        "for params in [params_arc7_SVC_Linear,params_arc7_SVC_RS]:\n",
        "  print(\"Otimização Dados Arquitetura 7:\")\n",
        "  grid_arc7_SVC = GridSearchCV(SVC_arc7 ,params, scoring='accuracy')\n",
        "  grid_arc7_SVC.fit(X_arc7_train,y_arc7_train)\n",
        "  print(grid_arc7_SVC.best_params_, grid_arc7_SVC.best_score_)\n",
        "  rf_best_arc7_SVC = grid_arc7_SVC.best_estimator_\n",
        "\n",
        "  y_arc7_pred_SVC = rf_best_arc7_SVC.predict(X_arc7_test)\n",
        "\n",
        "  accuracy_score(y_arc7_test, y_arc7_pred_SVC)\n",
        "  print('accuracy_score %:',accuracy_score(y_arc7_test, y_arc7_pred_SVC)*100)\n",
        "  print()"
      ]
    },
    {
      "cell_type": "markdown",
      "metadata": {
        "id": "IkwbKUlAd66L"
      },
      "source": [
        "## Tabela sem Tempo"
      ]
    },
    {
      "cell_type": "code",
      "execution_count": null,
      "metadata": {
        "id": "xXxwRrevd66M"
      },
      "outputs": [],
      "source": [
        "df_arc7"
      ]
    },
    {
      "cell_type": "code",
      "execution_count": null,
      "metadata": {
        "id": "0-1o9sspd66M"
      },
      "outputs": [],
      "source": [
        "df_arc7.drop(c_X_tempo[1:],axis=1,inplace=True)"
      ]
    },
    {
      "cell_type": "code",
      "execution_count": null,
      "metadata": {
        "id": "9AMRJq6Gd66N"
      },
      "outputs": [],
      "source": [
        "df_arc7"
      ]
    },
    {
      "cell_type": "code",
      "source": [
        "df_arc7.to_csv('DataframeML_ARC7_FFT.csv')"
      ],
      "metadata": {
        "id": "Oz0GOIfpd66N"
      },
      "execution_count": null,
      "outputs": []
    },
    {
      "cell_type": "code",
      "execution_count": null,
      "metadata": {
        "id": "jibpbzP4d66O"
      },
      "outputs": [],
      "source": [
        "# Nome das Colunas:\n",
        "#Lista com Nome de cada Coluna:\n",
        "coln_arc7=list(df_arc7)\n",
        "print(coln_arc7, \"\\n\")\n",
        "\n",
        "print(len(coln_arc7))\n",
        "#Definindo as Features (X's):\n",
        "features=coln_arc7[1:]\n",
        "X_arc7=df_arc7[features]\n",
        "\n",
        "print(coln_arc7[1:])\n",
        "#Definindo os Targets (Y's):\n",
        "\n",
        "targets=coln_arc7[0] #Definindo lista de targets\n",
        "Y_arc7=df_arc7[targets]"
      ]
    },
    {
      "cell_type": "code",
      "execution_count": null,
      "metadata": {
        "id": "fufGsXJdd66O"
      },
      "outputs": [],
      "source": [
        "Y_arc7"
      ]
    },
    {
      "cell_type": "code",
      "execution_count": null,
      "metadata": {
        "id": "u-wA_xq9d66P"
      },
      "outputs": [],
      "source": [
        "X_arc7"
      ]
    },
    {
      "cell_type": "markdown",
      "metadata": {
        "id": "3z6Q7Kyhd66P"
      },
      "source": [
        "## Random Forest (SEM TEMPO)"
      ]
    },
    {
      "cell_type": "code",
      "source": [
        "X_arc7"
      ],
      "metadata": {
        "id": "bzkNpFwqd66Q"
      },
      "execution_count": null,
      "outputs": []
    },
    {
      "cell_type": "code",
      "execution_count": null,
      "metadata": {
        "id": "fFpX65Dzd66Q"
      },
      "outputs": [],
      "source": [
        "Y_arc7 = LabelEncoder().fit_transform(Y_arc7)\n",
        "\n",
        "Y_arc7"
      ]
    },
    {
      "cell_type": "code",
      "execution_count": null,
      "metadata": {
        "id": "uEKRnvald66R"
      },
      "outputs": [],
      "source": [
        "X_arc7_train, X_arc7_test, y_arc7_train, y_arc7_test = train_test_split(X_arc7, Y_arc7, test_size = 0.3, random_state = 0)\n",
        "\n",
        "RFC_arc7 = RandomForestClassifier(max_depth= 10, n_estimators = 25, random_state = 0)\n",
        "RFC_arc7.fit(X_arc7_train, y_arc7_train)"
      ]
    },
    {
      "cell_type": "code",
      "execution_count": null,
      "metadata": {
        "id": "OODhQNhBd66R"
      },
      "outputs": [],
      "source": [
        "y_arc7_pred = RFC_arc7.predict(X_arc7_test)"
      ]
    },
    {
      "cell_type": "code",
      "execution_count": null,
      "metadata": {
        "id": "YINcWtxJd66S"
      },
      "outputs": [],
      "source": [
        "train_score_rf=RFC_arc7.score(X_arc7_train,y_arc7_train)\n",
        "print(train_score_rf)"
      ]
    },
    {
      "cell_type": "code",
      "execution_count": null,
      "metadata": {
        "id": "Ibn1OJIQd66S"
      },
      "outputs": [],
      "source": [
        "test_score_rf=RFC_arc7.score(X_arc7_test,y_arc7_test)\n",
        "print(test_score_rf)"
      ]
    },
    {
      "cell_type": "code",
      "execution_count": null,
      "metadata": {
        "id": "oD4nEFEKd66T"
      },
      "outputs": [],
      "source": [
        "accuracy_score(y_arc7_test, y_arc7_pred)\n",
        "print('accuracy_score %:',accuracy_score(y_arc7_test, y_arc7_pred)*100)"
      ]
    },
    {
      "cell_type": "code",
      "execution_count": null,
      "metadata": {
        "id": "YbqaxWjCd66T"
      },
      "outputs": [],
      "source": [
        "RFC_arc7.feature_importances_"
      ]
    },
    {
      "cell_type": "code",
      "execution_count": null,
      "metadata": {
        "id": "IT3SVaNhd66T"
      },
      "outputs": [],
      "source": [
        "np.max(RFC_arc7.feature_importances_)"
      ]
    },
    {
      "cell_type": "code",
      "execution_count": null,
      "metadata": {
        "id": "kgsdqGH3d66U"
      },
      "outputs": [],
      "source": [
        "imp_df = pd.DataFrame({\n",
        "    \"Varname\": X_arc7_train.columns,\n",
        "    \"Imp\": RFC_arc7.feature_importances_\n",
        "})"
      ]
    },
    {
      "cell_type": "code",
      "execution_count": null,
      "metadata": {
        "id": "3FDHKItwd66U"
      },
      "outputs": [],
      "source": [
        "#Vendo a Importância das Features para RF:\n",
        "imp_df.sort_values(by=\"Imp\", ascending=False)[0:50]"
      ]
    },
    {
      "cell_type": "code",
      "execution_count": null,
      "metadata": {
        "id": "YOq3m0bad66V"
      },
      "outputs": [],
      "source": [
        "confmatrix_train = confusion_matrix(y_arc7_train,RFC_arc7.predict(X_arc7_train))\n",
        "confmatrix_test=confusion_matrix(y_arc7_test,RFC_arc7.predict(X_arc7_test))\n",
        "\n",
        "fig, ax = plt.subplots(figsize=(6,5))\n",
        "sns.heatmap(confmatrix_train, annot=True, fmt='g', ax=ax)\n",
        "ax.xaxis.set_ticklabels(falhas,rotation=90)\n",
        "ax.yaxis.set_ticklabels(falhas,rotation=0)\n",
        "ax.set_title('Train set Confusion Matrix',y=1)\n",
        "plt.show()\n",
        "\n",
        "fig, ax = plt.subplots(figsize=(6,5))\n",
        "sns.heatmap(confmatrix_test, annot=True, fmt='g', ax=ax)\n",
        "ax.xaxis.set_ticklabels(falhas,rotation=90)\n",
        "ax.yaxis.set_ticklabels(falhas,rotation=0)\n",
        "ax.set_title('Test set Confusion Matrix',y=1)\n",
        "plt.show()"
      ]
    },
    {
      "cell_type": "markdown",
      "metadata": {
        "id": "EvITf4sAd66W"
      },
      "source": [
        "### GridSearchCV:"
      ]
    },
    {
      "cell_type": "code",
      "execution_count": null,
      "metadata": {
        "id": "HAyGU2vod66W"
      },
      "outputs": [],
      "source": [
        "#https://www.kdnuggets.com/2022/10/hyperparameter-tuning-grid-search-random-search-python.html\n",
        "params_arc7 = {\n",
        "'n_estimators': [10,25,50,100,200],\n",
        "'max_depth' : [5,10,25,50,100],\n",
        "'criterion' :['gini', 'entropy'],\n",
        "}"
      ]
    },
    {
      "cell_type": "code",
      "execution_count": null,
      "metadata": {
        "id": "et1Y3bbed66X"
      },
      "outputs": [],
      "source": [
        "print(\"Otimização Dados Arquitetura 7:\")\n",
        "\n",
        "grid_arc7 = GridSearchCV(RFC_arc7 ,params_arc7, scoring='accuracy',cv=5) #43 min\n",
        "grid_arc7.fit(X_arc7_train,y_arc7_train)\n",
        "\n",
        "print(grid_arc7.best_params_, grid_arc7.best_score_)\n",
        "rf_best_arc7 = grid_arc7.best_estimator_\n",
        "\n",
        "y_arc7_pred = rf_best_arc7.predict(X_arc7_test)\n",
        "\n",
        "accuracy_score(y_arc7_test, y_arc7_pred)\n",
        "print('accuracy_score %:',accuracy_score(y_arc7_test, y_arc7_pred)*100)\n",
        "\n",
        "print(rf_best_arc7.feature_importances_)\n",
        "\n",
        "imp_df = pd.DataFrame({\n",
        "    \"Varname\": X_arc7_train.columns,\n",
        "    \"Imp\": rf_best_arc7.feature_importances_\n",
        "})"
      ]
    },
    {
      "cell_type": "code",
      "execution_count": null,
      "metadata": {
        "id": "i2Wl8XvQd66X"
      },
      "outputs": [],
      "source": [
        "#Vendo a Importância das Features para RF Grid:\n",
        "imp_df.sort_values(by=\"Imp\", ascending=False)[0:50]"
      ]
    },
    {
      "cell_type": "markdown",
      "metadata": {
        "id": "krnlP988d66Y"
      },
      "source": [
        "## SVC (SEM TEMPO)"
      ]
    },
    {
      "cell_type": "code",
      "source": [
        "X_arc7"
      ],
      "metadata": {
        "id": "abWxzXZkd66Y"
      },
      "execution_count": null,
      "outputs": []
    },
    {
      "cell_type": "code",
      "execution_count": null,
      "metadata": {
        "id": "Ib4Rtt0Xd66Z"
      },
      "outputs": [],
      "source": [
        "Y_arc7 = LabelEncoder().fit_transform(Y_arc7)\n",
        "\n",
        "Y_arc7"
      ]
    },
    {
      "cell_type": "code",
      "execution_count": null,
      "metadata": {
        "id": "zQ1T5qtOd66Z"
      },
      "outputs": [],
      "source": [
        "X_arc7_train, X_arc7_test, y_arc7_train, y_arc7_test = train_test_split(X_arc7, Y_arc7, test_size = 0.3, random_state = 0)"
      ]
    },
    {
      "cell_type": "markdown",
      "metadata": {
        "id": "mUrLl-p5d66Z"
      },
      "source": [
        "### Linear"
      ]
    },
    {
      "cell_type": "code",
      "execution_count": null,
      "metadata": {
        "id": "MxyKld3Jd66Z"
      },
      "outputs": [],
      "source": [
        "SVC_arc7 = SVC(kernel = 'linear', random_state = 0)\n",
        "SVC_arc7.fit(X_arc7_train, y_arc7_train)"
      ]
    },
    {
      "cell_type": "code",
      "execution_count": null,
      "metadata": {
        "id": "qqYVfZS7d66a"
      },
      "outputs": [],
      "source": [
        "y_arc7_pred = SVC_arc7.predict(X_arc7_test)"
      ]
    },
    {
      "cell_type": "code",
      "execution_count": null,
      "metadata": {
        "id": "mFwJfBDfd66a"
      },
      "outputs": [],
      "source": [
        "train_score_svc=SVC_arc7.score(X_arc7_train,y_arc7_train)\n",
        "print(train_score_svc)"
      ]
    },
    {
      "cell_type": "code",
      "execution_count": null,
      "metadata": {
        "id": "xP59eX1fd66a"
      },
      "outputs": [],
      "source": [
        "test_score_svc=SVC_arc7.score(X_arc7_test,y_arc7_test)\n",
        "print(test_score_svc)"
      ]
    },
    {
      "cell_type": "code",
      "execution_count": null,
      "metadata": {
        "id": "k8QLt_LId66b"
      },
      "outputs": [],
      "source": [
        "accuracy_score(y_arc7_test, y_arc7_pred)\n",
        "print('accuracy_score %:',accuracy_score(y_arc7_test, y_arc7_pred)*100)"
      ]
    },
    {
      "cell_type": "code",
      "execution_count": null,
      "metadata": {
        "id": "yhC0ePXhd66b"
      },
      "outputs": [],
      "source": [
        "confmatrix_train = confusion_matrix(y_arc7_train,SVC_arc7.predict(X_arc7_train))\n",
        "confmatrix_test=confusion_matrix(y_arc7_test,SVC_arc7.predict(X_arc7_test))\n",
        "\n",
        "fig, ax = plt.subplots(figsize=(6,5))\n",
        "sns.heatmap(confmatrix_train, annot=True, fmt='g', ax=ax)\n",
        "ax.xaxis.set_ticklabels(falhas,rotation=90)\n",
        "ax.yaxis.set_ticklabels(falhas,rotation=0)\n",
        "ax.set_title('Train set Confusion Matrix',y=1)\n",
        "plt.show()\n",
        "\n",
        "fig, ax = plt.subplots(figsize=(6,5))\n",
        "sns.heatmap(confmatrix_test, annot=True, fmt='g', ax=ax)\n",
        "ax.xaxis.set_ticklabels(falhas,rotation=90)\n",
        "ax.yaxis.set_ticklabels(falhas,rotation=0)\n",
        "ax.set_title('Test set Confusion Matrix',y=1)\n",
        "plt.show()"
      ]
    },
    {
      "cell_type": "markdown",
      "metadata": {
        "id": "KXPQ3LHWd66b"
      },
      "source": [
        "### Polinomial:"
      ]
    },
    {
      "cell_type": "code",
      "execution_count": null,
      "metadata": {
        "id": "COq9hVUAd66b"
      },
      "outputs": [],
      "source": [
        "SVC_arc7 = SVC(kernel = 'poly',degree = 10, random_state = 0)\n",
        "SVC_arc7.fit(X_arc7_train, y_arc7_train)"
      ]
    },
    {
      "cell_type": "code",
      "execution_count": null,
      "metadata": {
        "id": "8hadOtkEd66c"
      },
      "outputs": [],
      "source": [
        "y_arc7_pred = SVC_arc7.predict(X_arc7_test)"
      ]
    },
    {
      "cell_type": "code",
      "execution_count": null,
      "metadata": {
        "id": "oTjxn2CVd66c"
      },
      "outputs": [],
      "source": [
        "train_score_svc=SVC_arc7.score(X_arc7_train,y_arc7_train)\n",
        "print(train_score_svc)"
      ]
    },
    {
      "cell_type": "code",
      "execution_count": null,
      "metadata": {
        "id": "m3GSKkyTd66f"
      },
      "outputs": [],
      "source": [
        "test_score_svc=SVC_arc7.score(X_arc7_test,y_arc7_test)\n",
        "print(test_score_svc)"
      ]
    },
    {
      "cell_type": "code",
      "execution_count": null,
      "metadata": {
        "id": "tnh7L9Bhd66f"
      },
      "outputs": [],
      "source": [
        "accuracy_score(y_arc7_test, y_arc7_pred)\n",
        "print('accuracy_score %:',accuracy_score(y_arc7_test, y_arc7_pred)*100)"
      ]
    },
    {
      "cell_type": "code",
      "execution_count": null,
      "metadata": {
        "id": "gEFYPjaqd66g"
      },
      "outputs": [],
      "source": [
        "confmatrix_train = confusion_matrix(y_arc7_train,SVC_arc7.predict(X_arc7_train))\n",
        "confmatrix_test=confusion_matrix(y_arc7_test,SVC_arc7.predict(X_arc7_test))\n",
        "\n",
        "fig, ax = plt.subplots(figsize=(6,5))\n",
        "sns.heatmap(confmatrix_train, annot=True, fmt='g', ax=ax)\n",
        "ax.xaxis.set_ticklabels(falhas,rotation=90)\n",
        "ax.yaxis.set_ticklabels(falhas,rotation=0)\n",
        "ax.set_title('Train set Confusion Matrix',y=1)\n",
        "plt.show()\n",
        "\n",
        "fig, ax = plt.subplots(figsize=(6,5))\n",
        "sns.heatmap(confmatrix_test, annot=True, fmt='g', ax=ax)\n",
        "ax.xaxis.set_ticklabels(falhas,rotation=90)\n",
        "ax.yaxis.set_ticklabels(falhas,rotation=0)\n",
        "ax.set_title('Test set Confusion Matrix',y=1)\n",
        "plt.show()"
      ]
    },
    {
      "cell_type": "markdown",
      "metadata": {
        "id": "j0-5MGkgd66g"
      },
      "source": [
        "### RBF:"
      ]
    },
    {
      "cell_type": "code",
      "execution_count": null,
      "metadata": {
        "id": "mdo6yvMJd66h"
      },
      "outputs": [],
      "source": [
        "SVC_arc7 = SVC(kernel = 'rbf', random_state = 0)\n",
        "SVC_arc7.fit(X_arc7_train, y_arc7_train)"
      ]
    },
    {
      "cell_type": "code",
      "execution_count": null,
      "metadata": {
        "id": "GPx7buF4d66h"
      },
      "outputs": [],
      "source": [
        "y_arc7_pred = SVC_arc7.predict(X_arc7_test)"
      ]
    },
    {
      "cell_type": "code",
      "execution_count": null,
      "metadata": {
        "id": "94gOiHuXd66h"
      },
      "outputs": [],
      "source": [
        "train_score_svc=SVC_arc7.score(X_arc7_train,y_arc7_train)\n",
        "print(train_score_svc)"
      ]
    },
    {
      "cell_type": "code",
      "execution_count": null,
      "metadata": {
        "id": "YnXYCjyPd66i"
      },
      "outputs": [],
      "source": [
        "test_score_svc=SVC_arc7.score(X_arc7_test,y_arc7_test)\n",
        "print(test_score_svc)"
      ]
    },
    {
      "cell_type": "code",
      "execution_count": null,
      "metadata": {
        "id": "wlsHG2qpd66i"
      },
      "outputs": [],
      "source": [
        "accuracy_score(y_arc7_test, y_arc7_pred)\n",
        "print('accuracy_score %:',accuracy_score(y_arc7_test, y_arc7_pred)*100)"
      ]
    },
    {
      "cell_type": "code",
      "execution_count": null,
      "metadata": {
        "id": "0e8Ymzjgd66i"
      },
      "outputs": [],
      "source": [
        "confmatrix_train = confusion_matrix(y_arc7_train,SVC_arc7.predict(X_arc7_train))\n",
        "confmatrix_test=confusion_matrix(y_arc7_test,SVC_arc7.predict(X_arc7_test))\n",
        "\n",
        "fig, ax = plt.subplots(figsize=(6,5))\n",
        "sns.heatmap(confmatrix_train, annot=True, fmt='g', ax=ax)\n",
        "ax.xaxis.set_ticklabels(falhas,rotation=90)\n",
        "ax.yaxis.set_ticklabels(falhas,rotation=0)\n",
        "ax.set_title('Train set Confusion Matrix',y=1)\n",
        "plt.show()\n",
        "\n",
        "fig, ax = plt.subplots(figsize=(6,5))\n",
        "sns.heatmap(confmatrix_test, annot=True, fmt='g', ax=ax)\n",
        "ax.xaxis.set_ticklabels(falhas,rotation=90)\n",
        "ax.yaxis.set_ticklabels(falhas,rotation=0)\n",
        "ax.set_title('Test set Confusion Matrix',y=1)\n",
        "plt.show()"
      ]
    },
    {
      "cell_type": "markdown",
      "metadata": {
        "id": "0kUU1IOod66i"
      },
      "source": [
        "### Sigmoid:"
      ]
    },
    {
      "cell_type": "code",
      "execution_count": null,
      "metadata": {
        "id": "uW6yh4Kgd66j"
      },
      "outputs": [],
      "source": [
        "SVC_arc7 = SVC(kernel = 'sigmoid', random_state = 0)\n",
        "SVC_arc7.fit(X_arc7_train, y_arc7_train)"
      ]
    },
    {
      "cell_type": "code",
      "execution_count": null,
      "metadata": {
        "id": "lQFqyVSId66j"
      },
      "outputs": [],
      "source": [
        "y_arc7_pred = SVC_arc7.predict(X_arc7_test)"
      ]
    },
    {
      "cell_type": "code",
      "execution_count": null,
      "metadata": {
        "id": "Ey6m-RKGd66j"
      },
      "outputs": [],
      "source": [
        "train_score_svc=SVC_arc7.score(X_arc7_train,y_arc7_train)\n",
        "print(train_score_svc)"
      ]
    },
    {
      "cell_type": "code",
      "execution_count": null,
      "metadata": {
        "id": "hi8mFb2hd66j"
      },
      "outputs": [],
      "source": [
        "test_score_svc=SVC_arc7.score(X_arc7_test,y_arc7_test)\n",
        "print(test_score_svc)"
      ]
    },
    {
      "cell_type": "code",
      "execution_count": null,
      "metadata": {
        "id": "6jVZfZcod66k"
      },
      "outputs": [],
      "source": [
        "accuracy_score(y_arc7_test, y_arc7_pred)\n",
        "print('accuracy_score %:',accuracy_score(y_arc7_test, y_arc7_pred)*100)"
      ]
    },
    {
      "cell_type": "code",
      "execution_count": null,
      "metadata": {
        "id": "uBDRX9Rnd66k"
      },
      "outputs": [],
      "source": [
        "confmatrix_train = confusion_matrix(y_arc7_train,SVC_arc7.predict(X_arc7_train))\n",
        "confmatrix_test=confusion_matrix(y_arc7_test,SVC_arc7.predict(X_arc7_test))\n",
        "\n",
        "fig, ax = plt.subplots(figsize=(6,5))\n",
        "sns.heatmap(confmatrix_train, annot=True, fmt='g', ax=ax)\n",
        "ax.xaxis.set_ticklabels(falhas,rotation=90)\n",
        "ax.yaxis.set_ticklabels(falhas,rotation=0)\n",
        "ax.set_title('Train set Confusion Matrix',y=1)\n",
        "plt.show()\n",
        "\n",
        "fig, ax = plt.subplots(figsize=(6,5))\n",
        "sns.heatmap(confmatrix_test, annot=True, fmt='g', ax=ax)\n",
        "ax.xaxis.set_ticklabels(falhas,rotation=90)\n",
        "ax.yaxis.set_ticklabels(falhas,rotation=0)\n",
        "ax.set_title('Test set Confusion Matrix',y=1)\n",
        "plt.show()"
      ]
    },
    {
      "cell_type": "markdown",
      "metadata": {
        "id": "xztHf77bd66k"
      },
      "source": [
        "### GridSearchCV"
      ]
    },
    {
      "cell_type": "markdown",
      "metadata": {
        "id": "a2oMbplSd66k"
      },
      "source": [
        "Abandonamos o Kernel polinomial, pois não importa o grau do polinomio, sempre fica ruim"
      ]
    },
    {
      "cell_type": "code",
      "execution_count": null,
      "metadata": {
        "id": "pIEi-8xcd66l"
      },
      "outputs": [],
      "source": [
        "params_arc7_SVC_Linear = {\n",
        "'kernel':['linear'],\n",
        "'C':[0.001,0.01,0.1,1,10,100,1000],\n",
        "}\n",
        "\n",
        "params_arc7_SVC_RS = {\n",
        "'kernel':['rbf','sigmoid'],\n",
        "'gamma':['scale', 'auto'],\n",
        "'C':[0.001,0.01,0.1,1,10,100,1000],\n",
        "}"
      ]
    },
    {
      "cell_type": "code",
      "execution_count": null,
      "metadata": {
        "id": "DfaX3lAMd66l"
      },
      "outputs": [],
      "source": [
        "for params in [params_arc7_SVC_Linear,params_arc7_SVC_RS]:\n",
        "  print(\"Otimização Dados Arquitetura 7:\")\n",
        "  grid_arc7_SVC = GridSearchCV(SVC_arc7 ,params, scoring='accuracy')\n",
        "  grid_arc7_SVC.fit(X_arc7_train,y_arc7_train)\n",
        "  print(grid_arc7_SVC.best_params_, grid_arc7_SVC.best_score_)\n",
        "  rf_best_arc7_SVC = grid_arc7_SVC.best_estimator_\n",
        "\n",
        "  y_arc7_pred_SVC = rf_best_arc7_SVC.predict(X_arc7_test)\n",
        "\n",
        "  accuracy_score(y_arc7_test, y_arc7_pred_SVC)\n",
        "  print('accuracy_score %:',accuracy_score(y_arc7_test, y_arc7_pred_SVC)*100)\n",
        "  print()"
      ]
    },
    {
      "cell_type": "markdown",
      "source": [
        "# Arquitetura 8\n",
        "\n",
        "PCA(0.10)"
      ],
      "metadata": {
        "id": "MR2MjIeWdmAL"
      }
    },
    {
      "cell_type": "markdown",
      "metadata": {
        "id": "ADLpbsDbg4nk"
      },
      "source": [
        "## Montando Nova Tabela"
      ]
    },
    {
      "cell_type": "markdown",
      "metadata": {
        "id": "lPep2IFYg4nx"
      },
      "source": [
        "* Zeramos as tranformações, voltamos ao início"
      ]
    },
    {
      "cell_type": "code",
      "execution_count": null,
      "metadata": {
        "id": "RQbEXi0mg4ny"
      },
      "outputs": [],
      "source": [
        "#Definindo as Features (X's):\n",
        "features=coln[1:]\n",
        "X=df_ML[features]\n",
        "\n",
        "#Definindo os Targets (Y's):\n",
        "\n",
        "targets=coln[0] #Definindo lista de targets\n",
        "Y=df_ML[targets]"
      ]
    },
    {
      "cell_type": "code",
      "execution_count": null,
      "metadata": {
        "id": "nXLQ8f0Ag4n4"
      },
      "outputs": [],
      "source": [
        "#Dividindo dados no Tempo\n",
        "X_tempo = X[c_T]\n",
        "c_X_tempo=list(X_tempo)\n",
        "print(c_X_tempo)\n",
        "\n",
        "#Dividindo as FFT's por Segmentos / Sensores / Eixos (SUBDATASETS):\n",
        "X_fft_a1_x=X[c_F_a1_x]\n",
        "X_fft_a1_y=X[c_F_a1_y]\n",
        "X_fft_a1_z=X[c_F_a1_z]\n",
        "\n",
        "X_fft_a2_x=X[c_F_a2_x]\n",
        "X_fft_a2_y=X[c_F_a2_y]\n",
        "X_fft_a2_z=X[c_F_a2_z]\n",
        "\n",
        "X_fft_a3_x=X[c_F_a3_x]\n",
        "X_fft_a3_y=X[c_F_a3_y]\n",
        "X_fft_a3_z=X[c_F_a3_z]\n",
        "\n",
        "X_fft_g1_x=X[c_F_g1_x]\n",
        "X_fft_g1_y=X[c_F_g1_y]\n",
        "X_fft_g1_z=X[c_F_g1_z]\n",
        "\n",
        "X_fft_g2_x=X[c_F_g2_x]\n",
        "X_fft_g2_y=X[c_F_g2_y]\n",
        "X_fft_g2_z=X[c_F_g2_z]\n",
        "\n",
        "X_fft_g3_x=X[c_F_g3_x]\n",
        "X_fft_g3_y=X[c_F_g3_y]\n",
        "X_fft_g3_z=X[c_F_g3_z]"
      ]
    },
    {
      "cell_type": "code",
      "execution_count": null,
      "metadata": {
        "id": "MzVckz-Rg4n6"
      },
      "outputs": [],
      "source": [
        "sc = StandardScaler()\n",
        "\n",
        "#Aplicando a cada X_fft e Tempo:\n",
        "\n",
        "X_tempo = sc.fit_transform(X_tempo)\n",
        "\n",
        "X_fft_a1_x = sc.fit_transform(X_fft_a1_x)\n",
        "X_fft_a1_y = sc.fit_transform(X_fft_a1_y)\n",
        "X_fft_a1_z = sc.fit_transform(X_fft_a1_z)\n",
        "\n",
        "X_fft_a2_x = sc.fit_transform(X_fft_a2_x)\n",
        "X_fft_a2_y = sc.fit_transform(X_fft_a2_y)\n",
        "X_fft_a2_z = sc.fit_transform(X_fft_a2_z)\n",
        "\n",
        "X_fft_a3_x = sc.fit_transform(X_fft_a3_x)\n",
        "X_fft_a3_y = sc.fit_transform(X_fft_a3_y)\n",
        "X_fft_a3_z = sc.fit_transform(X_fft_a3_z)\n",
        "\n",
        "X_fft_g1_x = sc.fit_transform(X_fft_g1_x)\n",
        "X_fft_g1_y = sc.fit_transform(X_fft_g1_y)\n",
        "X_fft_g1_z = sc.fit_transform(X_fft_g1_z)\n",
        "\n",
        "X_fft_g2_x = sc.fit_transform(X_fft_g2_x)\n",
        "X_fft_g2_y = sc.fit_transform(X_fft_g2_y)\n",
        "X_fft_g2_z = sc.fit_transform(X_fft_g2_z)\n",
        "\n",
        "X_fft_g3_x = sc.fit_transform(X_fft_g3_x)\n",
        "X_fft_g3_y = sc.fit_transform(X_fft_g3_y)\n",
        "X_fft_g3_z = sc.fit_transform(X_fft_g3_z)"
      ]
    },
    {
      "cell_type": "code",
      "execution_count": null,
      "metadata": {
        "id": "gQbi_U0Bg4oA"
      },
      "outputs": [],
      "source": [
        "df_Y=pd.DataFrame(Y, columns = ['Classificação'])\n",
        "df_Y"
      ]
    },
    {
      "cell_type": "code",
      "execution_count": null,
      "metadata": {
        "id": "5ANEldWkg4oB"
      },
      "outputs": [],
      "source": [
        "df_X_tempo=pd.DataFrame(X_tempo, columns = c_X_tempo)\n",
        "\n",
        "df_X_tempo"
      ]
    },
    {
      "cell_type": "code",
      "execution_count": null,
      "metadata": {
        "id": "nYW5OLbrg4oC"
      },
      "outputs": [],
      "source": [
        "pca = PCA(0.10) # 10% de Variância Explicada"
      ]
    },
    {
      "cell_type": "code",
      "execution_count": null,
      "metadata": {
        "id": "B3B0v1ZWg4oD"
      },
      "outputs": [],
      "source": [
        "#Aplicando o PCA para cada FFT:\n",
        "\n",
        "PCA_X_fft_a1_x = pca.fit_transform(X_fft_a1_x)\n",
        "PCA_X_fft_a1_y = pca.fit_transform(X_fft_a1_y)\n",
        "PCA_X_fft_a1_z = pca.fit_transform(X_fft_a1_z)\n",
        "\n",
        "PCA_X_fft_a2_x = pca.fit_transform(X_fft_a2_x)\n",
        "PCA_X_fft_a2_y = pca.fit_transform(X_fft_a2_y)\n",
        "PCA_X_fft_a2_z = pca.fit_transform(X_fft_a2_z)\n",
        "\n",
        "PCA_X_fft_a3_x = pca.fit_transform(X_fft_a3_x)\n",
        "PCA_X_fft_a3_y = pca.fit_transform(X_fft_a3_y)\n",
        "PCA_X_fft_a3_z = pca.fit_transform(X_fft_a3_z)\n",
        "\n",
        "PCA_X_fft_g1_x = pca.fit_transform(X_fft_g1_x)\n",
        "PCA_X_fft_g1_y = pca.fit_transform(X_fft_g1_y)\n",
        "PCA_X_fft_g1_z = pca.fit_transform(X_fft_g1_z)\n",
        "\n",
        "PCA_X_fft_g2_x = pca.fit_transform(X_fft_g2_x)\n",
        "PCA_X_fft_g2_y = pca.fit_transform(X_fft_g2_y)\n",
        "PCA_X_fft_g2_z = pca.fit_transform(X_fft_g2_z)\n",
        "\n",
        "PCA_X_fft_g3_x = pca.fit_transform(X_fft_g3_x)\n",
        "PCA_X_fft_g3_y = pca.fit_transform(X_fft_g3_y)\n",
        "PCA_X_fft_g3_z = pca.fit_transform(X_fft_g3_z)"
      ]
    },
    {
      "cell_type": "code",
      "execution_count": null,
      "metadata": {
        "id": "_ilXtCBjg4oE"
      },
      "outputs": [],
      "source": [
        "#Sub DataFrames:\n",
        "df_PCA_FFT_a1_X = pd.DataFrame(PCA_X_fft_a1_x, columns = ['PCA_FFT_a1_X_'+str(i) for i in range(len(PCA_X_fft_a1_x[0]))])\n",
        "df_PCA_FFT_a1_Y = pd.DataFrame(PCA_X_fft_a1_y, columns = ['PCA_FFT_a1_Y_'+str(i) for i in range(len(PCA_X_fft_a1_y[0]))])\n",
        "df_PCA_FFT_a1_Z = pd.DataFrame(PCA_X_fft_a1_z, columns = ['PCA_FFT_a1_Z_'+str(i) for i in range(len(PCA_X_fft_a1_z[0]))])\n",
        "\n",
        "df_PCA_FFT_a2_X = pd.DataFrame(PCA_X_fft_a2_x, columns = ['PCA_FFT_a2_X_'+str(i) for i in range(len(PCA_X_fft_a2_x[0]))])\n",
        "df_PCA_FFT_a2_Y = pd.DataFrame(PCA_X_fft_a2_y, columns = ['PCA_FFT_a2_Y_'+str(i) for i in range(len(PCA_X_fft_a2_y[0]))])\n",
        "df_PCA_FFT_a2_Z = pd.DataFrame(PCA_X_fft_a2_z, columns = ['PCA_FFT_a2_Z_'+str(i) for i in range(len(PCA_X_fft_a2_z[0]))])\n",
        "\n",
        "df_PCA_FFT_a3_X = pd.DataFrame(PCA_X_fft_a3_x, columns = ['PCA_FFT_a3_X_'+str(i) for i in range(len(PCA_X_fft_a3_x[0]))])\n",
        "df_PCA_FFT_a3_Y = pd.DataFrame(PCA_X_fft_a3_y, columns = ['PCA_FFT_a3_Y_'+str(i) for i in range(len(PCA_X_fft_a3_y[0]))])\n",
        "df_PCA_FFT_a3_Z = pd.DataFrame(PCA_X_fft_a3_z, columns = ['PCA_FFT_a3_Z_'+str(i) for i in range(len(PCA_X_fft_a3_z[0]))])\n",
        "\n",
        "df_PCA_FFT_g1_X = pd.DataFrame(PCA_X_fft_g1_x, columns = ['PCA_FFT_g1_X_'+str(i) for i in range(len(PCA_X_fft_g1_x[0]))])\n",
        "df_PCA_FFT_g1_Y = pd.DataFrame(PCA_X_fft_g1_y, columns = ['PCA_FFT_g1_Y_'+str(i) for i in range(len(PCA_X_fft_g1_y[0]))])\n",
        "df_PCA_FFT_g1_Z = pd.DataFrame(PCA_X_fft_g1_z, columns = ['PCA_FFT_g1_Z_'+str(i) for i in range(len(PCA_X_fft_g1_z[0]))])\n",
        "\n",
        "df_PCA_FFT_g2_X = pd.DataFrame(PCA_X_fft_g2_x, columns = ['PCA_FFT_g2_X_'+str(i) for i in range(len(PCA_X_fft_g2_x[0]))])\n",
        "df_PCA_FFT_g2_Y = pd.DataFrame(PCA_X_fft_g2_y, columns = ['PCA_FFT_g2_Y_'+str(i) for i in range(len(PCA_X_fft_g2_y[0]))])\n",
        "df_PCA_FFT_g2_Z = pd.DataFrame(PCA_X_fft_g2_z, columns = ['PCA_FFT_g2_Z_'+str(i) for i in range(len(PCA_X_fft_g2_z[0]))])\n",
        "\n",
        "df_PCA_FFT_g3_X = pd.DataFrame(PCA_X_fft_g3_x, columns = ['PCA_FFT_g3_X_'+str(i) for i in range(len(PCA_X_fft_g3_x[0]))])\n",
        "df_PCA_FFT_g3_Y = pd.DataFrame(PCA_X_fft_g3_y, columns = ['PCA_FFT_g3_Y_'+str(i) for i in range(len(PCA_X_fft_g3_y[0]))])\n",
        "df_PCA_FFT_g3_Z = pd.DataFrame(PCA_X_fft_g3_z, columns = ['PCA_FFT_g3_Z_'+str(i) for i in range(len(PCA_X_fft_g3_z[0]))])"
      ]
    },
    {
      "cell_type": "code",
      "execution_count": null,
      "metadata": {
        "id": "EkNDL0u4g4oF"
      },
      "outputs": [],
      "source": [
        "#Teste:\n",
        "df_PCA_FFT_a3_Z"
      ]
    },
    {
      "cell_type": "code",
      "execution_count": null,
      "metadata": {
        "id": "MkdqcBwog4oF"
      },
      "outputs": [],
      "source": [
        "#Agrupando Tudo e Montar Tabela para Arquitetura 1:\n",
        "frames=[df_Y,df_X_tempo,df_PCA_FFT_a1_X,df_PCA_FFT_a1_Y,df_PCA_FFT_a1_Z,df_PCA_FFT_a2_X,df_PCA_FFT_a2_Y,df_PCA_FFT_a2_Z,df_PCA_FFT_a3_X,df_PCA_FFT_a3_Y,df_PCA_FFT_a3_Z,df_PCA_FFT_g1_X,df_PCA_FFT_g1_Y,df_PCA_FFT_g1_Z,df_PCA_FFT_g2_X,df_PCA_FFT_g2_Y,df_PCA_FFT_g2_Z,df_PCA_FFT_g3_X,df_PCA_FFT_g3_Y,df_PCA_FFT_g3_Z]\n",
        "df_arc8=pd.concat(frames,axis=1)"
      ]
    },
    {
      "cell_type": "code",
      "execution_count": null,
      "metadata": {
        "id": "Jqf-uyjLg4oF"
      },
      "outputs": [],
      "source": [
        "df_arc8"
      ]
    },
    {
      "cell_type": "code",
      "execution_count": null,
      "metadata": {
        "id": "Wcl3C6jRg4oG"
      },
      "outputs": [],
      "source": [
        "df_arc8.isnull().sum()"
      ]
    },
    {
      "cell_type": "code",
      "execution_count": null,
      "metadata": {
        "id": "nrdFiwDrg4oH"
      },
      "outputs": [],
      "source": [
        "#Conferindo NANs:\n",
        "for x in df_arc8.isnull().sum():\n",
        "  if x != 0:\n",
        "    print('TEM ALGUM NAN')\n",
        "print(\"Pode Seguir !!! Sem NANs\")"
      ]
    },
    {
      "cell_type": "code",
      "source": [
        "df_arc8.to_csv('DataframeML_ARC8_TempoFFT.csv')"
      ],
      "metadata": {
        "id": "TCGor4U-g4oH"
      },
      "execution_count": null,
      "outputs": []
    },
    {
      "cell_type": "code",
      "execution_count": null,
      "metadata": {
        "id": "JoE2TGwTg4oI"
      },
      "outputs": [],
      "source": [
        "# Nome das Colunas:\n",
        "#Lista com Nome de cada Coluna:\n",
        "coln_arc8=list(df_arc8)\n",
        "print(coln_arc8, \"\\n\")\n",
        "\n",
        "print(len(coln_arc8))\n",
        "#Definindo as Features (X's):\n",
        "features=coln_arc8[1:]\n",
        "X_arc8=df_arc8[features]\n",
        "\n",
        "print(coln_arc8[1:])\n",
        "#Definindo os Targets (Y's):\n",
        "\n",
        "targets=coln_arc8[0] #Definindo lista de targets\n",
        "Y_arc8=df_arc8[targets]"
      ]
    },
    {
      "cell_type": "code",
      "execution_count": null,
      "metadata": {
        "id": "-TtHvcOFg4oJ"
      },
      "outputs": [],
      "source": [
        "X_arc8"
      ]
    },
    {
      "cell_type": "code",
      "execution_count": null,
      "metadata": {
        "id": "oa230B7Ig4oK"
      },
      "outputs": [],
      "source": [
        "Y_arc8"
      ]
    },
    {
      "cell_type": "markdown",
      "metadata": {
        "id": "mL0FzMc6g4oK"
      },
      "source": [
        "## Random Forest (COM TEMPO)"
      ]
    },
    {
      "cell_type": "code",
      "source": [
        "X_arc8"
      ],
      "metadata": {
        "id": "rZe61VgUg4oL"
      },
      "execution_count": null,
      "outputs": []
    },
    {
      "cell_type": "code",
      "execution_count": null,
      "metadata": {
        "id": "lKF7ClNig4oL"
      },
      "outputs": [],
      "source": [
        "Y_arc8 = LabelEncoder().fit_transform(Y_arc8)\n",
        "\n",
        "Y_arc8"
      ]
    },
    {
      "cell_type": "code",
      "execution_count": null,
      "metadata": {
        "id": "j0d1ehUIg4oM"
      },
      "outputs": [],
      "source": [
        "X_arc8_train, X_arc8_test, y_arc8_train, y_arc8_test = train_test_split(X_arc8, Y_arc8, test_size = 0.3, random_state = 0)\n",
        "\n",
        "RFC_arc8 = RandomForestClassifier(max_depth= 25, n_estimators = 50, random_state = 0)\n",
        "RFC_arc8.fit(X_arc8_train, y_arc8_train)"
      ]
    },
    {
      "cell_type": "code",
      "execution_count": null,
      "metadata": {
        "id": "Gxm-WOOtg4oM"
      },
      "outputs": [],
      "source": [
        "y_arc8_pred = RFC_arc8.predict(X_arc8_test)"
      ]
    },
    {
      "cell_type": "code",
      "execution_count": null,
      "metadata": {
        "id": "x9-io4cCg4oM"
      },
      "outputs": [],
      "source": [
        "train_score_rf=RFC_arc8.score(X_arc8_train,y_arc8_train)\n",
        "print(train_score_rf)"
      ]
    },
    {
      "cell_type": "code",
      "execution_count": null,
      "metadata": {
        "id": "5Kob6Khsg4oN"
      },
      "outputs": [],
      "source": [
        "test_score_rf=RFC_arc8.score(X_arc8_test,y_arc8_test)\n",
        "print(test_score_rf)"
      ]
    },
    {
      "cell_type": "code",
      "execution_count": null,
      "metadata": {
        "id": "BAt8xsrSg4oN"
      },
      "outputs": [],
      "source": [
        "accuracy_score(y_arc8_test, y_arc8_pred)\n",
        "print('accuracy_score %:',accuracy_score(y_arc8_test, y_arc8_pred)*100)"
      ]
    },
    {
      "cell_type": "code",
      "execution_count": null,
      "metadata": {
        "id": "zyT5yv-Qg4oO"
      },
      "outputs": [],
      "source": [
        "RFC_arc8.feature_importances_"
      ]
    },
    {
      "cell_type": "code",
      "execution_count": null,
      "metadata": {
        "id": "VP1IDHChg4oO"
      },
      "outputs": [],
      "source": [
        "np.max(RFC_arc8.feature_importances_)"
      ]
    },
    {
      "cell_type": "code",
      "execution_count": null,
      "metadata": {
        "id": "HE8ZDkPfg4oP"
      },
      "outputs": [],
      "source": [
        "imp_df = pd.DataFrame({\n",
        "    \"Varname\": X_arc8_train.columns,\n",
        "    \"Imp\": RFC_arc8.feature_importances_\n",
        "})"
      ]
    },
    {
      "cell_type": "code",
      "execution_count": null,
      "metadata": {
        "id": "WDia54XQg4oP"
      },
      "outputs": [],
      "source": [
        "#Vendo a Importância das Features para RF:\n",
        "imp_df.sort_values(by=\"Imp\", ascending=False)[0:50]"
      ]
    },
    {
      "cell_type": "code",
      "execution_count": null,
      "metadata": {
        "id": "-4strZgpg4oQ"
      },
      "outputs": [],
      "source": [
        "confmatrix_train = confusion_matrix(y_arc8_train,RFC_arc8.predict(X_arc8_train))\n",
        "confmatrix_test=confusion_matrix(y_arc8_test,RFC_arc8.predict(X_arc8_test))\n",
        "\n",
        "fig, ax = plt.subplots(figsize=(6,5))\n",
        "sns.heatmap(confmatrix_train, annot=True, fmt='g', ax=ax)\n",
        "ax.xaxis.set_ticklabels(falhas,rotation=90)\n",
        "ax.yaxis.set_ticklabels(falhas,rotation=0)\n",
        "ax.set_title('Train set Confusion Matrix',y=1)\n",
        "plt.show()\n",
        "\n",
        "fig, ax = plt.subplots(figsize=(6,5))\n",
        "sns.heatmap(confmatrix_test, annot=True, fmt='g', ax=ax)\n",
        "ax.xaxis.set_ticklabels(falhas,rotation=90)\n",
        "ax.yaxis.set_ticklabels(falhas,rotation=0)\n",
        "ax.set_title('Test set Confusion Matrix',y=1)\n",
        "plt.show()"
      ]
    },
    {
      "cell_type": "markdown",
      "metadata": {
        "id": "1zCdSpJHg4oR"
      },
      "source": [
        "### GridSearchCV:"
      ]
    },
    {
      "cell_type": "code",
      "execution_count": null,
      "metadata": {
        "id": "wK29FgWGg4oR"
      },
      "outputs": [],
      "source": [
        "#https://www.kdnuggets.com/2022/10/hyperparameter-tuning-grid-search-random-search-python.html\n",
        "params_arc8 = {\n",
        "'n_estimators': [10,25,50,100,200],\n",
        "'max_depth' : [5,10,25,50,100],\n",
        "'criterion' :['gini', 'entropy'],\n",
        "}"
      ]
    },
    {
      "cell_type": "code",
      "execution_count": null,
      "metadata": {
        "id": "r78SCWF0g4oS"
      },
      "outputs": [],
      "source": [
        "print(\"Otimização Dados Arquitetura 8:\")\n",
        "\n",
        "grid_arc8 = GridSearchCV(RFC_arc8 ,params_arc8, scoring='accuracy',cv=5)\n",
        "grid_arc8.fit(X_arc8_train,y_arc8_train)\n",
        "\n",
        "print(grid_arc8.best_params_, grid_arc8.best_score_)\n",
        "rf_best_arc8 = grid_arc8.best_estimator_\n",
        "\n",
        "y_arc8_pred = rf_best_arc8.predict(X_arc8_test)\n",
        "\n",
        "accuracy_score(y_arc8_test, y_arc8_pred)\n",
        "print('accuracy_score %:',accuracy_score(y_arc8_test, y_arc8_pred)*100)\n",
        "\n",
        "print(rf_best_arc8.feature_importances_)\n",
        "\n",
        "imp_df = pd.DataFrame({\n",
        "    \"Varname\": X_arc8_train.columns,\n",
        "    \"Imp\": rf_best_arc8.feature_importances_\n",
        "})"
      ]
    },
    {
      "cell_type": "code",
      "execution_count": null,
      "metadata": {
        "id": "AzUwr1Rpg4oS"
      },
      "outputs": [],
      "source": [
        "#Vendo a Importância das Features para RF Grid:\n",
        "imp_df.sort_values(by=\"Imp\", ascending=False)[0:50]"
      ]
    },
    {
      "cell_type": "markdown",
      "metadata": {
        "id": "kgxkJGwfg4oT"
      },
      "source": [
        "## SVC (COM TEMPO)"
      ]
    },
    {
      "cell_type": "code",
      "source": [
        "X_arc8"
      ],
      "metadata": {
        "id": "QscHJwvsg4oT"
      },
      "execution_count": null,
      "outputs": []
    },
    {
      "cell_type": "code",
      "execution_count": null,
      "metadata": {
        "id": "VsriDjtPg4oU"
      },
      "outputs": [],
      "source": [
        "Y_arc8 = LabelEncoder().fit_transform(Y_arc8)\n",
        "\n",
        "Y_arc8"
      ]
    },
    {
      "cell_type": "code",
      "execution_count": null,
      "metadata": {
        "id": "eZz-Fx-fg4oV"
      },
      "outputs": [],
      "source": [
        "X_arc8_train, X_arc8_test, y_arc8_train, y_arc8_test = train_test_split(X_arc8, Y_arc8, test_size = 0.3, random_state = 0)"
      ]
    },
    {
      "cell_type": "markdown",
      "metadata": {
        "id": "XOTWff8kg4oV"
      },
      "source": [
        "### Linear"
      ]
    },
    {
      "cell_type": "code",
      "execution_count": null,
      "metadata": {
        "id": "POc4La8gg4oW"
      },
      "outputs": [],
      "source": [
        "SVC_arc8 = SVC(kernel = 'linear', random_state = 0)\n",
        "SVC_arc8.fit(X_arc8_train, y_arc8_train)"
      ]
    },
    {
      "cell_type": "code",
      "execution_count": null,
      "metadata": {
        "id": "LbdodF7Rg4oX"
      },
      "outputs": [],
      "source": [
        "y_arc8_pred = SVC_arc8.predict(X_arc8_test)"
      ]
    },
    {
      "cell_type": "code",
      "execution_count": null,
      "metadata": {
        "id": "S0XwE49Ag4oX"
      },
      "outputs": [],
      "source": [
        "train_score_svc=SVC_arc8.score(X_arc8_train,y_arc8_train)\n",
        "print(train_score_svc)"
      ]
    },
    {
      "cell_type": "code",
      "execution_count": null,
      "metadata": {
        "id": "zjGfgxGig4oY"
      },
      "outputs": [],
      "source": [
        "test_score_svc=SVC_arc8.score(X_arc8_test,y_arc8_test)\n",
        "print(test_score_svc)"
      ]
    },
    {
      "cell_type": "code",
      "execution_count": null,
      "metadata": {
        "id": "Ww6JDG97g4oZ"
      },
      "outputs": [],
      "source": [
        "accuracy_score(y_arc8_test, y_arc8_pred)\n",
        "print('accuracy_score %:',accuracy_score(y_arc8_test, y_arc8_pred)*100)"
      ]
    },
    {
      "cell_type": "code",
      "execution_count": null,
      "metadata": {
        "id": "w1h3Gdkig4oa"
      },
      "outputs": [],
      "source": [
        "confmatrix_train = confusion_matrix(y_arc8_train,SVC_arc8.predict(X_arc8_train))\n",
        "confmatrix_test=confusion_matrix(y_arc8_test,SVC_arc8.predict(X_arc8_test))\n",
        "\n",
        "fig, ax = plt.subplots(figsize=(6,5))\n",
        "sns.heatmap(confmatrix_train, annot=True, fmt='g', ax=ax)\n",
        "ax.xaxis.set_ticklabels(falhas,rotation=90)\n",
        "ax.yaxis.set_ticklabels(falhas,rotation=0)\n",
        "ax.set_title('Train set Confusion Matrix',y=1)\n",
        "plt.show()\n",
        "\n",
        "fig, ax = plt.subplots(figsize=(6,5))\n",
        "sns.heatmap(confmatrix_test, annot=True, fmt='g', ax=ax)\n",
        "ax.xaxis.set_ticklabels(falhas,rotation=90)\n",
        "ax.yaxis.set_ticklabels(falhas,rotation=0)\n",
        "ax.set_title('Test set Confusion Matrix',y=1)\n",
        "plt.show()"
      ]
    },
    {
      "cell_type": "markdown",
      "metadata": {
        "id": "owJr232bg4ob"
      },
      "source": [
        "### Polinomial:"
      ]
    },
    {
      "cell_type": "code",
      "execution_count": null,
      "metadata": {
        "id": "OXs1t-pWg4oc"
      },
      "outputs": [],
      "source": [
        "SVC_arc8 = SVC(kernel = 'poly',degree = 10, random_state = 0)\n",
        "SVC_arc8.fit(X_arc8_train, y_arc8_train)"
      ]
    },
    {
      "cell_type": "code",
      "execution_count": null,
      "metadata": {
        "id": "4U-_JKpxg4oc"
      },
      "outputs": [],
      "source": [
        "y_arc8_pred = SVC_arc8.predict(X_arc8_test)"
      ]
    },
    {
      "cell_type": "code",
      "execution_count": null,
      "metadata": {
        "id": "inO5F351g4od"
      },
      "outputs": [],
      "source": [
        "train_score_svc=SVC_arc8.score(X_arc8_train,y_arc8_train)\n",
        "print(train_score_svc)"
      ]
    },
    {
      "cell_type": "code",
      "execution_count": null,
      "metadata": {
        "id": "SbDLK_Lmg4of"
      },
      "outputs": [],
      "source": [
        "test_score_svc=SVC_arc8.score(X_arc8_test,y_arc8_test)\n",
        "print(test_score_svc)"
      ]
    },
    {
      "cell_type": "code",
      "execution_count": null,
      "metadata": {
        "id": "oMQdN7WMg4og"
      },
      "outputs": [],
      "source": [
        "accuracy_score(y_arc8_test, y_arc8_pred)\n",
        "print('accuracy_score %:',accuracy_score(y_arc8_test, y_arc8_pred)*100)"
      ]
    },
    {
      "cell_type": "code",
      "execution_count": null,
      "metadata": {
        "id": "Awk0cTtng4oh"
      },
      "outputs": [],
      "source": [
        "confmatrix_train = confusion_matrix(y_arc8_train,SVC_arc8.predict(X_arc8_train))\n",
        "confmatrix_test=confusion_matrix(y_arc8_test,SVC_arc8.predict(X_arc8_test))\n",
        "\n",
        "fig, ax = plt.subplots(figsize=(6,5))\n",
        "sns.heatmap(confmatrix_train, annot=True, fmt='g', ax=ax)\n",
        "ax.xaxis.set_ticklabels(falhas,rotation=90)\n",
        "ax.yaxis.set_ticklabels(falhas,rotation=0)\n",
        "ax.set_title('Train set Confusion Matrix',y=1)\n",
        "plt.show()\n",
        "\n",
        "fig, ax = plt.subplots(figsize=(6,5))\n",
        "sns.heatmap(confmatrix_test, annot=True, fmt='g', ax=ax)\n",
        "ax.xaxis.set_ticklabels(falhas,rotation=90)\n",
        "ax.yaxis.set_ticklabels(falhas,rotation=0)\n",
        "ax.set_title('Test set Confusion Matrix',y=1)\n",
        "plt.show()"
      ]
    },
    {
      "cell_type": "markdown",
      "metadata": {
        "id": "b_EZVcuyg4oi"
      },
      "source": [
        "### RBF:"
      ]
    },
    {
      "cell_type": "code",
      "execution_count": null,
      "metadata": {
        "id": "NCvFbccjg4oj"
      },
      "outputs": [],
      "source": [
        "SVC_arc8 = SVC(kernel = 'rbf', random_state = 0)\n",
        "SVC_arc8.fit(X_arc8_train, y_arc8_train)"
      ]
    },
    {
      "cell_type": "code",
      "execution_count": null,
      "metadata": {
        "id": "T9zEdjGHg4ok"
      },
      "outputs": [],
      "source": [
        "y_arc8_pred = SVC_arc8.predict(X_arc8_test)"
      ]
    },
    {
      "cell_type": "code",
      "execution_count": null,
      "metadata": {
        "id": "AEN3rSwGg4ol"
      },
      "outputs": [],
      "source": [
        "train_score_svc=SVC_arc8.score(X_arc8_train,y_arc8_train)\n",
        "print(train_score_svc)"
      ]
    },
    {
      "cell_type": "code",
      "execution_count": null,
      "metadata": {
        "id": "NqOiQybcg4on"
      },
      "outputs": [],
      "source": [
        "test_score_svc=SVC_arc8.score(X_arc8_test,y_arc8_test)\n",
        "print(test_score_svc)"
      ]
    },
    {
      "cell_type": "code",
      "execution_count": null,
      "metadata": {
        "id": "bpsgaCcgg4oo"
      },
      "outputs": [],
      "source": [
        "accuracy_score(y_arc8_test, y_arc8_pred)\n",
        "print('accuracy_score %:',accuracy_score(y_arc8_test, y_arc8_pred)*100)"
      ]
    },
    {
      "cell_type": "code",
      "execution_count": null,
      "metadata": {
        "id": "mS_t4oMsg4oq"
      },
      "outputs": [],
      "source": [
        "confmatrix_train = confusion_matrix(y_arc8_train,SVC_arc8.predict(X_arc8_train))\n",
        "confmatrix_test=confusion_matrix(y_arc8_test,SVC_arc8.predict(X_arc8_test))\n",
        "\n",
        "fig, ax = plt.subplots(figsize=(6,5))\n",
        "sns.heatmap(confmatrix_train, annot=True, fmt='g', ax=ax)\n",
        "ax.xaxis.set_ticklabels(falhas,rotation=90)\n",
        "ax.yaxis.set_ticklabels(falhas,rotation=0)\n",
        "ax.set_title('Train set Confusion Matrix',y=1)\n",
        "plt.show()\n",
        "\n",
        "fig, ax = plt.subplots(figsize=(6,5))\n",
        "sns.heatmap(confmatrix_test, annot=True, fmt='g', ax=ax)\n",
        "ax.xaxis.set_ticklabels(falhas,rotation=90)\n",
        "ax.yaxis.set_ticklabels(falhas,rotation=0)\n",
        "ax.set_title('Test set Confusion Matrix',y=1)\n",
        "plt.show()"
      ]
    },
    {
      "cell_type": "markdown",
      "metadata": {
        "id": "DxYfrwYGg4os"
      },
      "source": [
        "### Sigmoid:"
      ]
    },
    {
      "cell_type": "code",
      "execution_count": null,
      "metadata": {
        "id": "kLx2KVD6g4ot"
      },
      "outputs": [],
      "source": [
        "SVC_arc8 = SVC(kernel = 'sigmoid', random_state = 0)\n",
        "SVC_arc8.fit(X_arc8_train, y_arc8_train)"
      ]
    },
    {
      "cell_type": "code",
      "execution_count": null,
      "metadata": {
        "id": "cq_CfMiog4ou"
      },
      "outputs": [],
      "source": [
        "y_arc8_pred = SVC_arc8.predict(X_arc8_test)"
      ]
    },
    {
      "cell_type": "code",
      "execution_count": null,
      "metadata": {
        "id": "A_Z2jxXGg4ou"
      },
      "outputs": [],
      "source": [
        "train_score_svc=SVC_arc8.score(X_arc8_train,y_arc8_train)\n",
        "print(train_score_svc)"
      ]
    },
    {
      "cell_type": "code",
      "execution_count": null,
      "metadata": {
        "id": "K-sV7aCRg4ou"
      },
      "outputs": [],
      "source": [
        "test_score_svc=SVC_arc8.score(X_arc8_test,y_arc8_test)\n",
        "print(test_score_svc)"
      ]
    },
    {
      "cell_type": "code",
      "execution_count": null,
      "metadata": {
        "id": "D__9rnnMg4ov"
      },
      "outputs": [],
      "source": [
        "accuracy_score(y_arc8_test, y_arc8_pred)\n",
        "print('accuracy_score %:',accuracy_score(y_arc8_test, y_arc8_pred)*100)"
      ]
    },
    {
      "cell_type": "code",
      "execution_count": null,
      "metadata": {
        "id": "WYO2Fx-bg4ow"
      },
      "outputs": [],
      "source": [
        "confmatrix_train = confusion_matrix(y_arc8_train,SVC_arc8.predict(X_arc8_train))\n",
        "confmatrix_test=confusion_matrix(y_arc8_test,SVC_arc8.predict(X_arc8_test))\n",
        "\n",
        "fig, ax = plt.subplots(figsize=(6,5))\n",
        "sns.heatmap(confmatrix_train, annot=True, fmt='g', ax=ax)\n",
        "ax.xaxis.set_ticklabels(falhas,rotation=90)\n",
        "ax.yaxis.set_ticklabels(falhas,rotation=0)\n",
        "ax.set_title('Train set Confusion Matrix',y=1)\n",
        "plt.show()\n",
        "\n",
        "fig, ax = plt.subplots(figsize=(6,5))\n",
        "sns.heatmap(confmatrix_test, annot=True, fmt='g', ax=ax)\n",
        "ax.xaxis.set_ticklabels(falhas,rotation=90)\n",
        "ax.yaxis.set_ticklabels(falhas,rotation=0)\n",
        "ax.set_title('Test set Confusion Matrix',y=1)\n",
        "plt.show()"
      ]
    },
    {
      "cell_type": "markdown",
      "metadata": {
        "id": "SCPnAVDYg4ox"
      },
      "source": [
        "### GridSearchCV"
      ]
    },
    {
      "cell_type": "markdown",
      "metadata": {
        "id": "UcitfaxXg4oy"
      },
      "source": [
        "Abandonamos o Kernel polinomial, pois não importa o grau do polinomio, sempre fica ruim"
      ]
    },
    {
      "cell_type": "code",
      "execution_count": null,
      "metadata": {
        "id": "xZqBsPCbg4oz"
      },
      "outputs": [],
      "source": [
        "params_arc8_SVC_Linear = {\n",
        "'kernel':['linear'],\n",
        "'C':[0.001,0.01,0.1,1,10,100,1000],\n",
        "}\n",
        "\n",
        "params_arc8_SVC_RS = {\n",
        "'kernel':['rbf','sigmoid'],\n",
        "'gamma':['scale', 'auto'],\n",
        "'C':[0.001,0.01,0.1,1,10,100,1000],\n",
        "}"
      ]
    },
    {
      "cell_type": "code",
      "execution_count": null,
      "metadata": {
        "id": "1QFKzyDVg4o0"
      },
      "outputs": [],
      "source": [
        "for params in [params_arc8_SVC_Linear,params_arc8_SVC_RS]:\n",
        "  print(\"Otimização Dados Arquitetura 8:\")\n",
        "  grid_arc8_SVC = GridSearchCV(SVC_arc8 ,params, scoring='accuracy')\n",
        "  grid_arc8_SVC.fit(X_arc8_train,y_arc8_train)\n",
        "  print(grid_arc8_SVC.best_params_, grid_arc8_SVC.best_score_)\n",
        "  rf_best_arc8_SVC = grid_arc8_SVC.best_estimator_\n",
        "\n",
        "  y_arc8_pred_SVC = rf_best_arc8_SVC.predict(X_arc8_test)\n",
        "\n",
        "  accuracy_score(y_arc8_test, y_arc8_pred_SVC)\n",
        "  print('accuracy_score %:',accuracy_score(y_arc8_test, y_arc8_pred_SVC)*100)\n",
        "  print()"
      ]
    },
    {
      "cell_type": "markdown",
      "metadata": {
        "id": "zb-XSPzOg4o0"
      },
      "source": [
        "## Tabela sem Tempo"
      ]
    },
    {
      "cell_type": "code",
      "execution_count": null,
      "metadata": {
        "id": "mriviRZng4o1"
      },
      "outputs": [],
      "source": [
        "df_arc8"
      ]
    },
    {
      "cell_type": "code",
      "execution_count": null,
      "metadata": {
        "id": "dyp5F2jZg4o1"
      },
      "outputs": [],
      "source": [
        "df_arc8.drop(c_X_tempo[1:],axis=1,inplace=True)"
      ]
    },
    {
      "cell_type": "code",
      "execution_count": null,
      "metadata": {
        "id": "dSQN4PrAg4o2"
      },
      "outputs": [],
      "source": [
        "df_arc8"
      ]
    },
    {
      "cell_type": "code",
      "source": [
        "df_arc8.to_csv('DataframeML_ARC8_FFT.csv')"
      ],
      "metadata": {
        "id": "cWQArwyAg4o2"
      },
      "execution_count": null,
      "outputs": []
    },
    {
      "cell_type": "code",
      "execution_count": null,
      "metadata": {
        "id": "zd7BDGOeg4o3"
      },
      "outputs": [],
      "source": [
        "# Nome das Colunas:\n",
        "#Lista com Nome de cada Coluna:\n",
        "coln_arc8=list(df_arc8)\n",
        "print(coln_arc8, \"\\n\")\n",
        "\n",
        "print(len(coln_arc8))\n",
        "#Definindo as Features (X's):\n",
        "features=coln_arc8[1:]\n",
        "X_arc8=df_arc8[features]\n",
        "\n",
        "print(coln_arc8[1:])\n",
        "#Definindo os Targets (Y's):\n",
        "\n",
        "targets=coln_arc8[0] #Definindo lista de targets\n",
        "Y_arc8=df_arc8[targets]"
      ]
    },
    {
      "cell_type": "code",
      "execution_count": null,
      "metadata": {
        "id": "7_IK5NMkg4o3"
      },
      "outputs": [],
      "source": [
        "Y_arc8"
      ]
    },
    {
      "cell_type": "code",
      "execution_count": null,
      "metadata": {
        "id": "oIWLtR5tg4o4"
      },
      "outputs": [],
      "source": [
        "X_arc8"
      ]
    },
    {
      "cell_type": "markdown",
      "metadata": {
        "id": "BajpWpHmg4o4"
      },
      "source": [
        "## Random Forest (SEM TEMPO)"
      ]
    },
    {
      "cell_type": "code",
      "source": [
        "X_arc8"
      ],
      "metadata": {
        "id": "myir8-_Qg4o4"
      },
      "execution_count": null,
      "outputs": []
    },
    {
      "cell_type": "code",
      "execution_count": null,
      "metadata": {
        "id": "--69J39Gg4o5"
      },
      "outputs": [],
      "source": [
        "Y_arc8 = LabelEncoder().fit_transform(Y_arc8)\n",
        "\n",
        "Y_arc8"
      ]
    },
    {
      "cell_type": "code",
      "execution_count": null,
      "metadata": {
        "id": "wPThBYGog4o5"
      },
      "outputs": [],
      "source": [
        "X_arc8_train, X_arc8_test, y_arc8_train, y_arc8_test = train_test_split(X_arc8, Y_arc8, test_size = 0.3, random_state = 0)\n",
        "\n",
        "RFC_arc8 = RandomForestClassifier(max_depth= 10, n_estimators = 25, random_state = 0)\n",
        "RFC_arc8.fit(X_arc8_train, y_arc8_train)"
      ]
    },
    {
      "cell_type": "code",
      "execution_count": null,
      "metadata": {
        "id": "JqwoRxKWg4o6"
      },
      "outputs": [],
      "source": [
        "y_arc8_pred = RFC_arc8.predict(X_arc8_test)"
      ]
    },
    {
      "cell_type": "code",
      "execution_count": null,
      "metadata": {
        "id": "mmpivNeMg4o6"
      },
      "outputs": [],
      "source": [
        "train_score_rf=RFC_arc8.score(X_arc8_train,y_arc8_train)\n",
        "print(train_score_rf)"
      ]
    },
    {
      "cell_type": "code",
      "execution_count": null,
      "metadata": {
        "id": "e1fopLoQg4o6"
      },
      "outputs": [],
      "source": [
        "test_score_rf=RFC_arc8.score(X_arc8_test,y_arc8_test)\n",
        "print(test_score_rf)"
      ]
    },
    {
      "cell_type": "code",
      "execution_count": null,
      "metadata": {
        "id": "cWl7r0e0g4o7"
      },
      "outputs": [],
      "source": [
        "accuracy_score(y_arc8_test, y_arc8_pred)\n",
        "print('accuracy_score %:',accuracy_score(y_arc8_test, y_arc8_pred)*100)"
      ]
    },
    {
      "cell_type": "code",
      "execution_count": null,
      "metadata": {
        "id": "gD8MZru2g4o7"
      },
      "outputs": [],
      "source": [
        "RFC_arc8.feature_importances_"
      ]
    },
    {
      "cell_type": "code",
      "execution_count": null,
      "metadata": {
        "id": "bYGVvRtLg4o8"
      },
      "outputs": [],
      "source": [
        "np.max(RFC_arc8.feature_importances_)"
      ]
    },
    {
      "cell_type": "code",
      "execution_count": null,
      "metadata": {
        "id": "c60-fDLYg4o8"
      },
      "outputs": [],
      "source": [
        "imp_df = pd.DataFrame({\n",
        "    \"Varname\": X_arc8_train.columns,\n",
        "    \"Imp\": RFC_arc8.feature_importances_\n",
        "})"
      ]
    },
    {
      "cell_type": "code",
      "execution_count": null,
      "metadata": {
        "id": "Uy27KNizg4o9"
      },
      "outputs": [],
      "source": [
        "#Vendo a Importância das Features para RF:\n",
        "imp_df.sort_values(by=\"Imp\", ascending=False)[0:50]"
      ]
    },
    {
      "cell_type": "code",
      "execution_count": null,
      "metadata": {
        "id": "zhf-TDHpg4o9"
      },
      "outputs": [],
      "source": [
        "confmatrix_train = confusion_matrix(y_arc8_train,RFC_arc8.predict(X_arc8_train))\n",
        "confmatrix_test=confusion_matrix(y_arc8_test,RFC_arc8.predict(X_arc8_test))\n",
        "\n",
        "fig, ax = plt.subplots(figsize=(6,5))\n",
        "sns.heatmap(confmatrix_train, annot=True, fmt='g', ax=ax)\n",
        "ax.xaxis.set_ticklabels(falhas,rotation=90)\n",
        "ax.yaxis.set_ticklabels(falhas,rotation=0)\n",
        "ax.set_title('Train set Confusion Matrix',y=1)\n",
        "plt.show()\n",
        "\n",
        "fig, ax = plt.subplots(figsize=(6,5))\n",
        "sns.heatmap(confmatrix_test, annot=True, fmt='g', ax=ax)\n",
        "ax.xaxis.set_ticklabels(falhas,rotation=90)\n",
        "ax.yaxis.set_ticklabels(falhas,rotation=0)\n",
        "ax.set_title('Test set Confusion Matrix',y=1)\n",
        "plt.show()"
      ]
    },
    {
      "cell_type": "markdown",
      "metadata": {
        "id": "FVEuU9DAg4o-"
      },
      "source": [
        "### GridSearchCV:"
      ]
    },
    {
      "cell_type": "code",
      "execution_count": null,
      "metadata": {
        "id": "7KfvnM8Qg4o-"
      },
      "outputs": [],
      "source": [
        "#https://www.kdnuggets.com/2022/10/hyperparameter-tuning-grid-search-random-search-python.html\n",
        "params_arc8 = {\n",
        "'n_estimators': [10,25,50,100,200],\n",
        "'max_depth' : [5,10,25,50,100],\n",
        "'criterion' :['gini', 'entropy'],\n",
        "}"
      ]
    },
    {
      "cell_type": "code",
      "execution_count": null,
      "metadata": {
        "id": "Zat_5yRZg4o_"
      },
      "outputs": [],
      "source": [
        "print(\"Otimização Dados Arquitetura 8:\")\n",
        "\n",
        "grid_arc8 = GridSearchCV(RFC_arc8 ,params_arc8, scoring='accuracy',cv=5)\n",
        "grid_arc8.fit(X_arc8_train,y_arc8_train)\n",
        "\n",
        "print(grid_arc8.best_params_, grid_arc8.best_score_)\n",
        "rf_best_arc8 = grid_arc8.best_estimator_\n",
        "\n",
        "y_arc8_pred = rf_best_arc8.predict(X_arc8_test)\n",
        "\n",
        "accuracy_score(y_arc8_test, y_arc8_pred)\n",
        "print('accuracy_score %:',accuracy_score(y_arc8_test, y_arc8_pred)*100)\n",
        "\n",
        "print(rf_best_arc8.feature_importances_)\n",
        "\n",
        "imp_df = pd.DataFrame({\n",
        "    \"Varname\": X_arc8_train.columns,\n",
        "    \"Imp\": rf_best_arc8.feature_importances_\n",
        "})"
      ]
    },
    {
      "cell_type": "code",
      "execution_count": null,
      "metadata": {
        "id": "-if3_05bg4pC"
      },
      "outputs": [],
      "source": [
        "#Vendo a Importância das Features para RF Grid:\n",
        "imp_df.sort_values(by=\"Imp\", ascending=False)[0:50]"
      ]
    },
    {
      "cell_type": "markdown",
      "metadata": {
        "id": "McU5D0Ylg4pD"
      },
      "source": [
        "## SVC (SEM TEMPO)"
      ]
    },
    {
      "cell_type": "code",
      "source": [
        "X_arc8"
      ],
      "metadata": {
        "id": "XHI_gEuqg4pE"
      },
      "execution_count": null,
      "outputs": []
    },
    {
      "cell_type": "code",
      "execution_count": null,
      "metadata": {
        "id": "1kZr1Lrag4pE"
      },
      "outputs": [],
      "source": [
        "Y_arc8 = LabelEncoder().fit_transform(Y_arc8)\n",
        "\n",
        "Y_arc8"
      ]
    },
    {
      "cell_type": "code",
      "execution_count": null,
      "metadata": {
        "id": "YCQMLdb-g4pF"
      },
      "outputs": [],
      "source": [
        "X_arc8_train, X_arc8_test, y_arc8_train, y_arc8_test = train_test_split(X_arc8, Y_arc8, test_size = 0.3, random_state = 0)"
      ]
    },
    {
      "cell_type": "markdown",
      "metadata": {
        "id": "2fxjclhIg4pG"
      },
      "source": [
        "### Linear"
      ]
    },
    {
      "cell_type": "code",
      "execution_count": null,
      "metadata": {
        "id": "wYY6lr5-g4pG"
      },
      "outputs": [],
      "source": [
        "SVC_arc8 = SVC(kernel = 'linear', random_state = 0)\n",
        "SVC_arc8.fit(X_arc8_train, y_arc8_train)"
      ]
    },
    {
      "cell_type": "code",
      "execution_count": null,
      "metadata": {
        "id": "RUjtbTP1g4pG"
      },
      "outputs": [],
      "source": [
        "y_arc8_pred = SVC_arc8.predict(X_arc8_test)"
      ]
    },
    {
      "cell_type": "code",
      "execution_count": null,
      "metadata": {
        "id": "R80fH4Hjg4pG"
      },
      "outputs": [],
      "source": [
        "train_score_svc=SVC_arc8.score(X_arc8_train,y_arc8_train)\n",
        "print(train_score_svc)"
      ]
    },
    {
      "cell_type": "code",
      "execution_count": null,
      "metadata": {
        "id": "2OBVd4uXg4pH"
      },
      "outputs": [],
      "source": [
        "test_score_svc=SVC_arc8.score(X_arc8_test,y_arc8_test)\n",
        "print(test_score_svc)"
      ]
    },
    {
      "cell_type": "code",
      "execution_count": null,
      "metadata": {
        "id": "IrKFsZRog4pH"
      },
      "outputs": [],
      "source": [
        "accuracy_score(y_arc8_test, y_arc8_pred)\n",
        "print('accuracy_score %:',accuracy_score(y_arc8_test, y_arc8_pred)*100)"
      ]
    },
    {
      "cell_type": "code",
      "execution_count": null,
      "metadata": {
        "id": "k955eIiYg4pH"
      },
      "outputs": [],
      "source": [
        "confmatrix_train = confusion_matrix(y_arc8_train,SVC_arc8.predict(X_arc8_train))\n",
        "confmatrix_test=confusion_matrix(y_arc8_test,SVC_arc8.predict(X_arc8_test))\n",
        "\n",
        "fig, ax = plt.subplots(figsize=(6,5))\n",
        "sns.heatmap(confmatrix_train, annot=True, fmt='g', ax=ax)\n",
        "ax.xaxis.set_ticklabels(falhas,rotation=90)\n",
        "ax.yaxis.set_ticklabels(falhas,rotation=0)\n",
        "ax.set_title('Train set Confusion Matrix',y=1)\n",
        "plt.show()\n",
        "\n",
        "fig, ax = plt.subplots(figsize=(6,5))\n",
        "sns.heatmap(confmatrix_test, annot=True, fmt='g', ax=ax)\n",
        "ax.xaxis.set_ticklabels(falhas,rotation=90)\n",
        "ax.yaxis.set_ticklabels(falhas,rotation=0)\n",
        "ax.set_title('Test set Confusion Matrix',y=1)\n",
        "plt.show()"
      ]
    },
    {
      "cell_type": "markdown",
      "metadata": {
        "id": "vcLIt6ZAg4pH"
      },
      "source": [
        "### Polinomial:"
      ]
    },
    {
      "cell_type": "code",
      "execution_count": null,
      "metadata": {
        "id": "wl7ZxtYcg4pI"
      },
      "outputs": [],
      "source": [
        "SVC_arc8 = SVC(kernel = 'poly',degree = 10, random_state = 0)\n",
        "SVC_arc8.fit(X_arc8_train, y_arc8_train)"
      ]
    },
    {
      "cell_type": "code",
      "execution_count": null,
      "metadata": {
        "id": "l9gj60QYg4pI"
      },
      "outputs": [],
      "source": [
        "y_arc8_pred = SVC_arc8.predict(X_arc8_test)"
      ]
    },
    {
      "cell_type": "code",
      "execution_count": null,
      "metadata": {
        "id": "9zbI3sKXg4pJ"
      },
      "outputs": [],
      "source": [
        "train_score_svc=SVC_arc8.score(X_arc8_train,y_arc8_train)\n",
        "print(train_score_svc)"
      ]
    },
    {
      "cell_type": "code",
      "execution_count": null,
      "metadata": {
        "id": "IUhBx1CQg4pJ"
      },
      "outputs": [],
      "source": [
        "test_score_svc=SVC_arc8.score(X_arc8_test,y_arc8_test)\n",
        "print(test_score_svc)"
      ]
    },
    {
      "cell_type": "code",
      "execution_count": null,
      "metadata": {
        "id": "yxzDaH2bg4pK"
      },
      "outputs": [],
      "source": [
        "accuracy_score(y_arc8_test, y_arc8_pred)\n",
        "print('accuracy_score %:',accuracy_score(y_arc8_test, y_arc8_pred)*100)"
      ]
    },
    {
      "cell_type": "code",
      "execution_count": null,
      "metadata": {
        "id": "JztXcQQfg4pK"
      },
      "outputs": [],
      "source": [
        "confmatrix_train = confusion_matrix(y_arc8_train,SVC_arc8.predict(X_arc8_train))\n",
        "confmatrix_test=confusion_matrix(y_arc8_test,SVC_arc8.predict(X_arc8_test))\n",
        "\n",
        "fig, ax = plt.subplots(figsize=(6,5))\n",
        "sns.heatmap(confmatrix_train, annot=True, fmt='g', ax=ax)\n",
        "ax.xaxis.set_ticklabels(falhas,rotation=90)\n",
        "ax.yaxis.set_ticklabels(falhas,rotation=0)\n",
        "ax.set_title('Train set Confusion Matrix',y=1)\n",
        "plt.show()\n",
        "\n",
        "fig, ax = plt.subplots(figsize=(6,5))\n",
        "sns.heatmap(confmatrix_test, annot=True, fmt='g', ax=ax)\n",
        "ax.xaxis.set_ticklabels(falhas,rotation=90)\n",
        "ax.yaxis.set_ticklabels(falhas,rotation=0)\n",
        "ax.set_title('Test set Confusion Matrix',y=1)\n",
        "plt.show()"
      ]
    },
    {
      "cell_type": "markdown",
      "metadata": {
        "id": "-6KytBBBg4pK"
      },
      "source": [
        "### RBF:"
      ]
    },
    {
      "cell_type": "code",
      "execution_count": null,
      "metadata": {
        "id": "l1YvAVtCg4pK"
      },
      "outputs": [],
      "source": [
        "SVC_arc8 = SVC(kernel = 'rbf', random_state = 0)\n",
        "SVC_arc8.fit(X_arc8_train, y_arc8_train)"
      ]
    },
    {
      "cell_type": "code",
      "execution_count": null,
      "metadata": {
        "id": "bXqQQpegg4pL"
      },
      "outputs": [],
      "source": [
        "y_arc8_pred = SVC_arc8.predict(X_arc8_test)"
      ]
    },
    {
      "cell_type": "code",
      "execution_count": null,
      "metadata": {
        "id": "EnuC_N_bg4pL"
      },
      "outputs": [],
      "source": [
        "train_score_svc=SVC_arc8.score(X_arc8_train,y_arc8_train)\n",
        "print(train_score_svc)"
      ]
    },
    {
      "cell_type": "code",
      "execution_count": null,
      "metadata": {
        "id": "O5V0FoWgg4pL"
      },
      "outputs": [],
      "source": [
        "test_score_svc=SVC_arc8.score(X_arc8_test,y_arc8_test)\n",
        "print(test_score_svc)"
      ]
    },
    {
      "cell_type": "code",
      "execution_count": null,
      "metadata": {
        "id": "jijrZMCrg4pL"
      },
      "outputs": [],
      "source": [
        "accuracy_score(y_arc8_test, y_arc8_pred)\n",
        "print('accuracy_score %:',accuracy_score(y_arc8_test, y_arc8_pred)*100)"
      ]
    },
    {
      "cell_type": "code",
      "execution_count": null,
      "metadata": {
        "id": "JaHTcPReg4pM"
      },
      "outputs": [],
      "source": [
        "confmatrix_train = confusion_matrix(y_arc8_train,SVC_arc8.predict(X_arc8_train))\n",
        "confmatrix_test=confusion_matrix(y_arc8_test,SVC_arc8.predict(X_arc8_test))\n",
        "\n",
        "fig, ax = plt.subplots(figsize=(6,5))\n",
        "sns.heatmap(confmatrix_train, annot=True, fmt='g', ax=ax)\n",
        "ax.xaxis.set_ticklabels(falhas,rotation=90)\n",
        "ax.yaxis.set_ticklabels(falhas,rotation=0)\n",
        "ax.set_title('Train set Confusion Matrix',y=1)\n",
        "plt.show()\n",
        "\n",
        "fig, ax = plt.subplots(figsize=(6,5))\n",
        "sns.heatmap(confmatrix_test, annot=True, fmt='g', ax=ax)\n",
        "ax.xaxis.set_ticklabels(falhas,rotation=90)\n",
        "ax.yaxis.set_ticklabels(falhas,rotation=0)\n",
        "ax.set_title('Test set Confusion Matrix',y=1)\n",
        "plt.show()"
      ]
    },
    {
      "cell_type": "markdown",
      "metadata": {
        "id": "ioBj7YBhg4pM"
      },
      "source": [
        "### Sigmoid:"
      ]
    },
    {
      "cell_type": "code",
      "execution_count": null,
      "metadata": {
        "id": "rkl9u6oGg4pN"
      },
      "outputs": [],
      "source": [
        "SVC_arc8 = SVC(kernel = 'sigmoid', random_state = 0)\n",
        "SVC_arc8.fit(X_arc8_train, y_arc8_train)"
      ]
    },
    {
      "cell_type": "code",
      "execution_count": null,
      "metadata": {
        "id": "CEYbQbvAg4pN"
      },
      "outputs": [],
      "source": [
        "y_arc8_pred = SVC_arc8.predict(X_arc8_test)"
      ]
    },
    {
      "cell_type": "code",
      "execution_count": null,
      "metadata": {
        "id": "jPaMsK9Ag4pO"
      },
      "outputs": [],
      "source": [
        "train_score_svc=SVC_arc8.score(X_arc8_train,y_arc8_train)\n",
        "print(train_score_svc)"
      ]
    },
    {
      "cell_type": "code",
      "execution_count": null,
      "metadata": {
        "id": "eKP_qTlng4pO"
      },
      "outputs": [],
      "source": [
        "test_score_svc=SVC_arc8.score(X_arc8_test,y_arc8_test)\n",
        "print(test_score_svc)"
      ]
    },
    {
      "cell_type": "code",
      "execution_count": null,
      "metadata": {
        "id": "OklskFGJg4pO"
      },
      "outputs": [],
      "source": [
        "accuracy_score(y_arc8_test, y_arc8_pred)\n",
        "print('accuracy_score %:',accuracy_score(y_arc8_test, y_arc8_pred)*100)"
      ]
    },
    {
      "cell_type": "code",
      "execution_count": null,
      "metadata": {
        "id": "1bysHk4Jg4pP"
      },
      "outputs": [],
      "source": [
        "confmatrix_train = confusion_matrix(y_arc8_train,SVC_arc8.predict(X_arc8_train))\n",
        "confmatrix_test=confusion_matrix(y_arc8_test,SVC_arc8.predict(X_arc8_test))\n",
        "\n",
        "fig, ax = plt.subplots(figsize=(6,5))\n",
        "sns.heatmap(confmatrix_train, annot=True, fmt='g', ax=ax)\n",
        "ax.xaxis.set_ticklabels(falhas,rotation=90)\n",
        "ax.yaxis.set_ticklabels(falhas,rotation=0)\n",
        "ax.set_title('Train set Confusion Matrix',y=1)\n",
        "plt.show()\n",
        "\n",
        "fig, ax = plt.subplots(figsize=(6,5))\n",
        "sns.heatmap(confmatrix_test, annot=True, fmt='g', ax=ax)\n",
        "ax.xaxis.set_ticklabels(falhas,rotation=90)\n",
        "ax.yaxis.set_ticklabels(falhas,rotation=0)\n",
        "ax.set_title('Test set Confusion Matrix',y=1)\n",
        "plt.show()"
      ]
    },
    {
      "cell_type": "markdown",
      "metadata": {
        "id": "cJfcXI-Og4pP"
      },
      "source": [
        "### GridSearchCV"
      ]
    },
    {
      "cell_type": "markdown",
      "metadata": {
        "id": "_ZqHYLrbg4pQ"
      },
      "source": [
        "Abandonamos o Kernel polinomial, pois não importa o grau do polinomio, sempre fica ruim"
      ]
    },
    {
      "cell_type": "code",
      "execution_count": null,
      "metadata": {
        "id": "BTbFh210g4pQ"
      },
      "outputs": [],
      "source": [
        "params_arc8_SVC_Linear = {\n",
        "'kernel':['linear'],\n",
        "'C':[0.001,0.01,0.1,1,10,100,1000],\n",
        "}\n",
        "\n",
        "params_arc8_SVC_RS = {\n",
        "'kernel':['rbf','sigmoid'],\n",
        "'gamma':['scale', 'auto'],\n",
        "'C':[0.001,0.01,0.1,1,10,100,1000],\n",
        "}"
      ]
    },
    {
      "cell_type": "code",
      "execution_count": null,
      "metadata": {
        "id": "AIT75Fphg4pQ"
      },
      "outputs": [],
      "source": [
        "for params in [params_arc8_SVC_Linear,params_arc8_SVC_RS]:\n",
        "  print(\"Otimização Dados Arquitetura 8:\")\n",
        "  grid_arc8_SVC = GridSearchCV(SVC_arc8 ,params, scoring='accuracy')\n",
        "  grid_arc8_SVC.fit(X_arc8_train,y_arc8_train)\n",
        "  print(grid_arc8_SVC.best_params_, grid_arc8_SVC.best_score_)\n",
        "  rf_best_arc8_SVC = grid_arc8_SVC.best_estimator_\n",
        "\n",
        "  y_arc8_pred_SVC = rf_best_arc8_SVC.predict(X_arc8_test)\n",
        "\n",
        "  accuracy_score(y_arc8_test, y_arc8_pred_SVC)\n",
        "  print('accuracy_score %:',accuracy_score(y_arc8_test, y_arc8_pred_SVC)*100)\n",
        "  print()"
      ]
    }
  ],
  "metadata": {
    "colab": {
      "collapsed_sections": [
        "NOeJLJ0Ov8AA",
        "h_uGDuYSy9GU",
        "oxmpgY8X1wzO",
        "iGqlJ03oB6yr",
        "7jARlIiyB98N",
        "WajLicsuChPu",
        "Q7dIW1uHCpPf",
        "J5SGHShmBU3X",
        "u1DXPmdVTKX3",
        "Op_UfT-qUeg0",
        "NfG_0FOZU2dx",
        "AGBpPwLcwAqg",
        "ryNu3Wh0lQyQ",
        "9qoja18Xwik-",
        "fg_LX4WOuu6y",
        "lldMoI4Huw02",
        "3zIMLUs5qELh",
        "2hbBu9z-lEoo",
        "PA9c9tbXtnxz",
        "HzYWAE8pzXGd",
        "4uCFHcFizXGe",
        "3X-fWu4XzXGm",
        "sahQyt7OzXGr",
        "13l7_gDOzXGs",
        "vK7QdNIqzXGt",
        "oDAM1WYdzXGz",
        "V3KzsT4MzXG0",
        "bZovROrpzXG1",
        "VoKBhigJzXHB",
        "dHY-KK1uzXHI",
        "_uuwf9edFSQn",
        "Vgi1zBqSFSQn",
        "QXJs7z5XFSQv",
        "UK_KzCBVFSQ1",
        "xkLtGz5dFSRH",
        "U9Rovz_AL7h7",
        "trXTGfq2L7iK",
        "z62IkrisF3nZ",
        "6LZ4MyMiF3na",
        "d0_xVB8xF3ng",
        "7EGP2MvaF3nl",
        "u-AgAeDeF3nl",
        "3cF7TUX9F3np",
        "mMYYHWz9F3nt",
        "BzAteYiEF3nw",
        "HHa-qfSDF3ny",
        "_INsbP6QF3n0",
        "N9pD1L-uR35b",
        "oB6tDDhKR35m",
        "G8N5biOQMKNx",
        "Vtoz_qfxMvVl",
        "eclj6GLfO4aq",
        "_Fe6PUz6RTAd",
        "25lX9wm3TqsO",
        "vSItPUSLUros",
        "2Cg8BgQNV1l-",
        "U1orWr6NMN63",
        "UgY5cIkPa3Q4",
        "osmEmTDha3Q-",
        "kDCYAovza3Re",
        "ZY98Vcs9a3Rp",
        "aZQbgT30a3Rr",
        "XYLCt3gpa3Rv",
        "pA1v27B4dc8s",
        "0l6nRdTId65k",
        "1vJnG5tsd653",
        "Aq2j4zpad66A",
        "IkwbKUlAd66L",
        "3z6Q7Kyhd66P",
        "krnlP988d66Y",
        "MR2MjIeWdmAL",
        "ADLpbsDbg4nk",
        "mL0FzMc6g4oK",
        "kgxkJGwfg4oT",
        "zb-XSPzOg4o0",
        "BajpWpHmg4o4",
        "McU5D0Ylg4pD"
      ],
      "provenance": []
    },
    "kernelspec": {
      "display_name": "Python 3",
      "name": "python3"
    },
    "language_info": {
      "name": "python"
    }
  },
  "nbformat": 4,
  "nbformat_minor": 0
}