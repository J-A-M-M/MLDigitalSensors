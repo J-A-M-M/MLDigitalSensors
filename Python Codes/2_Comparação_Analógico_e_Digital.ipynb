{
  "cells": [
    {
      "cell_type": "markdown",
      "metadata": {
        "id": "jWQ6bQBCbypK"
      },
      "source": [
        "# Comparação Dados Analógicos e Digitais"
      ]
    },
    {
      "cell_type": "code",
      "execution_count": null,
      "metadata": {
        "id": "A57jXa4BcL3i"
      },
      "outputs": [],
      "source": [
        "from pathlib import Path\n",
        "import pandas as pd\n",
        "import numpy as np\n",
        "import matplotlib.pyplot as plt\n",
        "import matplotlib as mpl\n",
        "from matplotlib import mlab\n",
        "from scipy import signal\n",
        "from scipy.fft import fftshift\n",
        "from tqdm import tqdm\n",
        "from scipy.signal import butter, lfilter\n",
        "import seaborn as sns\n",
        "import os\n",
        "import math as m\n",
        "import shutil\n",
        "import random\n",
        "import statistics as stc\n",
        "from statistics import variance\n",
        "import scipy.stats as stats"
      ]
    },
    {
      "cell_type": "code",
      "execution_count": null,
      "metadata": {
        "id": "ZA4qgK8QcTiY"
      },
      "outputs": [],
      "source": [
        "from google.colab import drive\n",
        "drive.mount('/content/drive')"
      ]
    },
    {
      "cell_type": "markdown",
      "metadata": {
        "id": "rBBSt31qb-UY"
      },
      "source": [
        "## Importando Dados Digitais Que Serão Comparados"
      ]
    },
    {
      "cell_type": "code",
      "execution_count": null,
      "metadata": {
        "id": "e1WSP1QFcEoQ"
      },
      "outputs": [],
      "source": [
        "path_grav = '/content/drive/My Drive/IC/ColabNotebooks/Vibracoes/DataFrames/Gravidade/'\n",
        "filename = os.listdir( path_grav ) #Reading all file names inside the folder/path\n",
        "filename #List of file names"
      ]
    },
    {
      "cell_type": "code",
      "execution_count": null,
      "metadata": {
        "id": "k_vl5muudj_m"
      },
      "outputs": [],
      "source": [
        "path_normal = '/content/drive/My Drive/IC/ColabNotebooks/Vibracoes/DataFrames/22-04-2023-Normal/'\n",
        "filenames = os.listdir( path_normal ) #Reading all file names inside the folder/path\n",
        "filenames #List of file names"
      ]
    },
    {
      "cell_type": "code",
      "execution_count": null,
      "metadata": {
        "id": "VAAt_NhxdnEj"
      },
      "outputs": [],
      "source": [
        "path_desbal1_1 = '/content/drive/My Drive/IC/ColabNotebooks/Vibracoes/DataFrames/10-05-2023-Desbalanceamento1/1_massa/'\n",
        "filenames1_1 = os.listdir( path_desbal1_1 ) #Reading all file names inside the folder/path\n",
        "filenames1_1 #List of file names"
      ]
    },
    {
      "cell_type": "code",
      "execution_count": null,
      "metadata": {
        "id": "Rm0zTJE3ds3e"
      },
      "outputs": [],
      "source": [
        "#Getting gravity:\n",
        "for names in filename:\n",
        "    Gravity=pd.read_csv(path_grav + names, index_col=0,sep='\\t')\n",
        "\n",
        "#Other dataframes:\n",
        "Digital_N={} #Dictionary of all datasets for normal conditions. The keys are the frequency and the informations are the dataframes for its corresponding frequency\n",
        "for names in filenames:\n",
        "    Digital_N[names.rstrip('.csv')]=pd.read_csv(path_normal + names, index_col=0,sep='\\t') #The strip function is only for removing \".csv\" from the key's name\n",
        "\n",
        "Digital_D1_1={} #Dictionary of all datasets for unbalance conditions - type 1, mass 1. The keys are the frequency and the informations are the dataframes for its corresponding frequency\n",
        "for names in filenames1_1:\n",
        "    Digital_D1_1[names.rstrip('.csv')]=pd.read_csv(path_desbal1_1 + names, index_col=0,sep='\\t') #The strip function is only for removing \".csv\" from the key's name\n"
      ]
    },
    {
      "cell_type": "code",
      "execution_count": null,
      "metadata": {
        "id": "V5CCABZjdvGO"
      },
      "outputs": [],
      "source": [
        "#Digital Informations:\n",
        "Dictionaries_names=['Digital_N','Digital_D1_1'] #IMPORTANT INFORMATION (MANUALLY INFORM AFTER ADDING OTHER DICTIONARY OF DATAFRAMES)\n",
        "a_X=['imu1accx','imu2accx','imu3accx'] # information of X-acceleration\n",
        "a_Y=['imu1accy','imu2accy','imu3accy'] # information of Y-acceleration\n",
        "a_Z=['imu1accz','imu2accz','imu3accz'] # information of Z-acceleration\n",
        "g_X=['imu1gyrox','imu2gyrox','imu3gyrox'] # information of X-gyroscope\n",
        "g_Y=['imu1gyroy','imu2gyroy','imu3gyroy'] # information of Y-gyroscope\n",
        "g_Z=['imu1gyroz','imu2gyroz','imu3gyroz'] # information of Z-gyroscope\n",
        "M_1_a=['imu1accx','imu1accy','imu1accz']\n",
        "M_2_a=['imu2accx','imu2accy','imu2accz']\n",
        "M_3_a=['imu3accx','imu3accy','imu3accz']\n",
        "M_1_g=['imu1gyrox','imu1gyroy','imu1gyroz']\n",
        "M_2_g=['imu2gyrox','imu2gyroy','imu2gyroz']\n",
        "M_3_g=['imu3gyrox','imu3gyroy','imu3gyroz']"
      ]
    },
    {
      "cell_type": "code",
      "execution_count": null,
      "metadata": {
        "id": "_ZiJNjGZfMIe"
      },
      "outputs": [],
      "source": [
        "#Deleting garbage information\n",
        "list_remov=['dac1','dac2','dac3','dac4','log']\n",
        "\n",
        "def delgarbage (Dict_of_df): #Give the Name of the Dictionary with Dataframes\n",
        "    for keys in Dict_of_df:\n",
        "      for col_to_remove in list_remov:\n",
        "        Dict_of_df[keys].drop(col_to_remove, axis=1, inplace=True)\n",
        "    remove=list_remov\n",
        "    informations=list(Dict_of_df[list(Dict_of_df)[0]].columns)\n",
        "    return remove, informations\n",
        "\n",
        "\n",
        "#Removing Gravity from the X-axis\n",
        "def removegravity (Dict_of_df):\n",
        "    for keys in Dict_of_df:\n",
        "        for info in a_X:\n",
        "            Dict_of_df[keys][info] -= Gravity[info].mean()\n",
        "    return"
      ]
    },
    {
      "cell_type": "code",
      "execution_count": null,
      "metadata": {
        "id": "UvwW14KafPc2"
      },
      "outputs": [],
      "source": [
        "#Loop to remove garbage information / columns\n",
        "for n in Dictionaries_names:\n",
        "    l_removed, l_informations = delgarbage(eval(n))\n",
        "print(\" List of Removed Informations: \",l_removed,\"\\n\",\"List of Useful Informations: \", l_informations)\n"
      ]
    },
    {
      "cell_type": "code",
      "execution_count": null,
      "metadata": {
        "id": "_gQJ_WOQfROm"
      },
      "outputs": [],
      "source": [
        "for n in Dictionaries_names:\n",
        "    removegravity(eval(n))"
      ]
    },
    {
      "cell_type": "markdown",
      "metadata": {
        "id": "LMA_xqsWfwnw"
      },
      "source": [
        "### Tacometro para Sensores Digitais"
      ]
    },
    {
      "cell_type": "code",
      "execution_count": null,
      "metadata": {
        "id": "KAHUQ0GLf1Am"
      },
      "outputs": [],
      "source": [
        "def Tachometer (Dict_of_df):\n",
        "\n",
        "  for keys in Dict_of_df:\n",
        "    df=Dict_of_df[keys][['time','imu1accx','imu1accy','imu1accz','imu2accx','imu2accy','imu2accz','imu3accx','imu3accy','imu3accz','adc1.3','adc2.3','adc3.3','adc4.3']]\n",
        "    df_array=df.values\n",
        "    tach=df[['adc1.3','adc2.3','adc3.3','adc4.3']].values.reshape((df.shape[0]*4))#Tranformando todas as informações do tacometro em 1 coluna só\n",
        "    #print(tach)\n",
        "    tach_size=tach.shape[0]\n",
        "    i=0\n",
        "    new_rot=0\n",
        "    for i in range(1000,tach_size//2,500):\n",
        "      it=0\n",
        "      rot=new_rot\n",
        "      interm=tach[i-500:i]\n",
        "      interm_size=interm.shape[0]\n",
        "      sig1 = (interm > 0.1).astype(int)\n",
        "      sig2 = np.diff(sig1)\n",
        "      idxpicos = np.where(sig2 > 0.5)[0]\n",
        "      # A diferença temporal entre picos indica o perído de rotação:\n",
        "      periodos = (idxpicos[1:] - idxpicos[0:-1]) * 1e-3  # Amostragem de 1 ms, por isso o 1e-3\n",
        "      # Frequencias em RPM:\n",
        "      new_rot = 1 / (np.mean(periodos)) * 60\n",
        "      if abs(new_rot-rot)<1:\n",
        "        if it<2:\n",
        "          it+=1\n",
        "        else:\n",
        "          final_rot=new_rot\n",
        "          break\n",
        "      elif new_rot<rot:\n",
        "        final_rot=rot\n",
        "        break\n",
        "      i+=1\n",
        "    t_sub=df['time'][(i-it)//4]\n",
        "    sig1 = (tach[i-500:i+9500] > 0.1).astype(int)\n",
        "    sig2 = np.diff(sig1)\n",
        "    idxpicos = np.where(sig2 > 0.5)[0]\n",
        "    periodos = (idxpicos[1:] - idxpicos[0:-1]) * 1e-3\n",
        "    rot = 1 / (np.mean(periodos)) * 60\n",
        "    print(f'Para {keys} o tempo de subida e rotação foram:')\n",
        "    print(f'O tempo de subida é {t_sub} s')\n",
        "    print('Ponto/Linha para Primeiro Corte:', t_sub/0.004)\n",
        "    print('Ponto/Linha para Segundo Corte:', (t_sub/0.004)+2500) #10s/0.004=2500\n",
        "    print(f'A velocidade máxima de rotação é {rot} rpm')\n",
        "    print()\n",
        "  return t_sub , rot"
      ]
    },
    {
      "cell_type": "code",
      "execution_count": null,
      "metadata": {
        "id": "Z8nheAcVf1nA"
      },
      "outputs": [],
      "source": [
        "def Tachometer_for_funct (Dict_of_df, keys):\n",
        "  df=Dict_of_df[keys][['time','imu1accx','imu1accy','imu1accz','imu2accx','imu2accy','imu2accz','imu3accx','imu3accy','imu3accz','adc1.3','adc2.3','adc3.3','adc4.3']]\n",
        "  df_array=df.values\n",
        "  tach=df[['adc1.3','adc2.3','adc3.3','adc4.3']].values.reshape((df.shape[0]*4))#Tranformando todas as informações do tacometro em 1 coluna só\n",
        "  #print(tach)\n",
        "  tach_size=tach.shape[0]\n",
        "  i=0\n",
        "  new_rot=0\n",
        "  for i in range(1000,tach_size//2,500):\n",
        "    it=0\n",
        "    rot=new_rot\n",
        "    interm=tach[i-500:i]\n",
        "    interm_size=interm.shape[0]\n",
        "    sig1 = (interm > 0.1).astype(int)\n",
        "    sig2 = np.diff(sig1)\n",
        "    idxpicos = np.where(sig2 > 0.5)[0]\n",
        "    # A diferença temporal entre picos indica o perído de rotação:\n",
        "    periodos = (idxpicos[1:] - idxpicos[0:-1]) * 1e-3  # Amostragem de 1 ms, por isso o 1e-3\n",
        "    # Frequencias em RPM:\n",
        "    new_rot = 1 / (np.mean(periodos)) * 60\n",
        "    if abs(new_rot-rot)<1:\n",
        "      if it<2:\n",
        "        it+=1\n",
        "      else:\n",
        "        final_rot=new_rot\n",
        "        break\n",
        "    elif new_rot<rot:\n",
        "      final_rot=rot\n",
        "      break\n",
        "    i+=1\n",
        "  t_sub=(df['time'][(i-it)//4])   #Pode-se colocar um adcional para garantir a faixa constante\n",
        "  sig1 = (tach[i-500:i+9500] > 0.1).astype(int)\n",
        "  sig2 = np.diff(sig1)\n",
        "  idxpicos = np.where(sig2 > 0.5)[0]\n",
        "  periodos = (idxpicos[1:] - idxpicos[0:-1]) * 1e-3\n",
        "  rot = 1 / (np.mean(periodos)) * 60\n",
        "  stop1=int(t_sub/0.004)\n",
        "  stop2=int((t_sub/0.004)+2500) #10s/0.004=2500\n",
        "  #print(f'Para {keys} o tempo de subida e rotação foram:')\n",
        "  #print(f'O tempo de subida é {t_sub} s')\n",
        "  #print('Ponto/Linha para Primeiro Corte:', stop1)\n",
        "  #print('Ponto/Linha para Segundo Corte:', stop2)\n",
        "  #print(f'A velocidade máxima de rotação é {rot} rpm')\n",
        "  #print()\n",
        "  return stop1 , stop2, rot"
      ]
    },
    {
      "cell_type": "markdown",
      "metadata": {
        "id": "PcTBQUQGcFAo"
      },
      "source": [
        "## Importanto Dados Analógicos que Serão Comparados"
      ]
    },
    {
      "cell_type": "code",
      "execution_count": null,
      "metadata": {
        "id": "EQAo27b1hNPm"
      },
      "outputs": [],
      "source": [
        "path_ana1 = '/content/drive/My Drive/IC/ColabNotebooks/Vibracoes/DataFrames/26-04-2023-AnalogicoNormal/Normal/'\n",
        "filename_ana1 = os.listdir( path_ana1 ) #Reading all file names inside the folder/path\n",
        "filename_ana1 #List of file names"
      ]
    },
    {
      "cell_type": "code",
      "execution_count": null,
      "metadata": {
        "id": "mHmjehobcDpE"
      },
      "outputs": [],
      "source": [
        "path_ana2 = '/content/drive/My Drive/IC/ColabNotebooks/Vibracoes/DataFrames/03-05-2023-AnalogicoDesbalanceamento1/'\n",
        "filename_ana2 = os.listdir( path_ana2 ) #Reading all file names inside the folder/path\n",
        "filename_ana2 #List of file names"
      ]
    },
    {
      "cell_type": "code",
      "execution_count": null,
      "metadata": {
        "id": "-OgzVZJ5hJUF"
      },
      "outputs": [],
      "source": [
        "# Convertion Table (Digital - Analogic):\n",
        "\n",
        "# X (analógico) = Z (digital)\n",
        "# Y (analógico) = - Y (digital)\n",
        "# Z (analógico) = X (digital)\n",
        "\n",
        "# We set all information as digital, therefore we changed the columns names for the corresponding digital name\n",
        "\n",
        "#Other dataframes:\n",
        "Analog_N={} #Dictionary of all datasets for normal conditions. The keys are the frequency and the informations are the dataframes for its corresponding frequency\n",
        "for names in filename_ana1:\n",
        "    Analog_N[names[names.find('-')+1:names.find(\"q\")]]=pd.read_csv(path_ana1 + names,skiprows=2, index_col=False,sep='\\t',decimal=',',names=['Tempo', 'Eixo_z', 'Eixo_-y', 'Eixo_x','Sinal_4'],dtype = {'Tempo': float, 'Eixo_z': float, 'Eixo_-y': float,'Eixo_x': float,'Sinal_4':float}) #The strip function is only for removing \".csv\" from the key's name\n",
        "\n",
        "Analog_D1_1={} #Dictionary of all datasets for unbalance conditions - type 1, mass 1. The keys are the frequency and the informations are the dataframes for its corresponding frequency\n",
        "for names in filename_ana2:\n",
        "    Analog_D1_1[names[names.find('-')+1:names.find(\"q\")]]=pd.read_csv(path_ana2 + names,skiprows=2, index_col=False,sep='\\t',decimal=',',names=['Tempo', 'Eixo_z', 'Eixo_-y', 'Eixo_x','Sinal_4'],dtype = {'Tempo': float, 'Eixo_z': float, 'Eixo_-y': float,'Eixo_x': float,'Sinal_4':float}) #The strip function is only for removing \".csv\" from the key's name\n"
      ]
    },
    {
      "cell_type": "code",
      "execution_count": null,
      "metadata": {
        "id": "m55O9RYQCr_S"
      },
      "outputs": [],
      "source": [
        "Dictionaries_names_A=['Analog_N','Analog_D1_1'] #IMPORTANT INFORMATION (MANUALLY INFORM AFTER ADDING OTHER DICTIONARY OF DATAFRAMES)\n",
        "A_acc= ['Eixo_z', 'Eixo_-y', 'Eixo_x']"
      ]
    },
    {
      "cell_type": "code",
      "execution_count": null,
      "metadata": {
        "id": "q1u6ndqypYXT"
      },
      "outputs": [],
      "source": [
        "for keys in Analog_N:\n",
        "  print(Analog_N[keys])\n",
        "  print(keys)"
      ]
    },
    {
      "cell_type": "code",
      "execution_count": null,
      "metadata": {
        "id": "bop9_BCNmMLP"
      },
      "outputs": [],
      "source": [
        "for keys in Analog_D1_1:\n",
        "  print(Analog_D1_1[keys])"
      ]
    },
    {
      "cell_type": "code",
      "execution_count": null,
      "metadata": {
        "id": "rnMZTfPHnZJY"
      },
      "outputs": [],
      "source": [
        "list_remov_A=['Sinal_4']\n",
        "\n",
        "def delgarbage_A (Dict_of_df): #Give the Name of the Dictionary with Dataframes\n",
        "    for keys in Dict_of_df:\n",
        "      for col_to_remove in list_remov_A:\n",
        "        Dict_of_df[keys].drop(col_to_remove, axis=1, inplace=True)\n",
        "    remove_A=list_remov_A\n",
        "    informations_A=list(Dict_of_df[list(Dict_of_df)[0]].columns)\n",
        "    return remove_A, informations_A"
      ]
    },
    {
      "cell_type": "code",
      "execution_count": null,
      "metadata": {
        "id": "QEMQgj4uCf4P"
      },
      "outputs": [],
      "source": [
        "#Loop to remove garbage information / columns\n",
        "for n in Dictionaries_names_A:\n",
        "    l_removed_A, l_informations_A = delgarbage_A(eval(n))\n",
        "print(\" List of Removed Informations: \",l_removed_A,\"\\n\",\"List of Useful Informations: \", l_informations_A)\n"
      ]
    },
    {
      "cell_type": "markdown",
      "metadata": {
        "id": "-gg8CcPDi6n4"
      },
      "source": [
        "## Espectogramas Dados Digitais"
      ]
    },
    {
      "cell_type": "code",
      "source": [
        "plt.rcParams['figure.max_open_warning'] = 100"
      ],
      "metadata": {
        "id": "syW8imJUnAF1"
      },
      "execution_count": null,
      "outputs": []
    },
    {
      "cell_type": "code",
      "source": [
        "plt.rcParams.update({'font.size': 15})"
      ],
      "metadata": {
        "id": "cIns9EsTmcaH"
      },
      "execution_count": null,
      "outputs": []
    },
    {
      "cell_type": "code",
      "execution_count": null,
      "metadata": {
        "id": "Wa4XsrJli-q8"
      },
      "outputs": [],
      "source": [
        "#Printing Spectograms (Only Magnitude):\n",
        "#THE FUNCTION fspectrum ONLY ACCEPT A data list OF 3 VALUES OR MULTIPLES OF 3\n",
        "def pSpectogram (Dict_of_df, data=a_X): #Data uses always the X axis ---> DATA ONLY ACCEPT 3 COMPONENTS\n",
        "    if len(data)!=3:\n",
        "      print(\"Data doesn't have three features\")\n",
        "\n",
        "    else:\n",
        "      print('Escalas: 1 - Linear ou 2 - dB')\n",
        "      flag=int(input(\"Qual escala você gostaria de usar ?:\"))\n",
        "\n",
        "      for keys in Dict_of_df: #Accessing the dictionary with the first keys (RPM,sample1,...)\n",
        "\n",
        "        stop1 , stop2, rot = Tachometer_for_funct (Dict_of_df, keys)\n",
        "\n",
        "        #Each key have its maximum time and number of points collected, therefore, the initial calculations for FFT are made:\n",
        "        # Now we are going to get the period of each dataframe / rotational frequency and create a list of spectral frequencies to analyze the frequency domain\n",
        "        # It's notable that we are working with uniform sampling, therefore our sampling frequency will be constant\n",
        "\n",
        "        T=Dict_of_df[keys]['time'].max()\n",
        "        N=len(Dict_of_df[keys]['time'])\n",
        "        delta_t=T/N\n",
        "        fs=1/delta_t #Sampling frequency (Hz)\n",
        "        #print(fs) #Vai dar diferente de 250Hz, pois cartamos o sinal um pouco antes ou depois de fechar o ciclo completo de captura\n",
        "\n",
        "        fig, axs = plt.subplots(1,3,figsize=(20, 10))\n",
        "        fig.suptitle(keys +'-'+ str(round(rot,2))+'RPM / '+str(round((rot/60),2))+'Hz '+ '- Spectrograms - Digital Accelerometer', fontsize=30, fontweight='bold')\n",
        "\n",
        "        f1, t1, Sxx1 = signal.spectrogram(Dict_of_df[keys][data[0]], fs=fs,window=('hann'),nperseg=250,mode='magnitude',noverlap=125)\n",
        "        f2, t2, Sxx2 = signal.spectrogram(Dict_of_df[keys][data[1]], fs=fs,window=('hann'),nperseg=250,mode='magnitude',noverlap=125)\n",
        "        f3, t3, Sxx3 = signal.spectrogram(Dict_of_df[keys][data[2]], fs=fs,window=('hann'),nperseg=250,mode='magnitude',noverlap=125)\n",
        "\n",
        "        if flag==1:\n",
        "          #print(f1)\n",
        "          #print(t1)\n",
        "          #print(Sxx1)\n",
        "          #print('max=',np.max(Sxx1[:,0:-15]),np.max(Sxx2[:,0:-15]),np.max(Sxx3[:,0:-15]))\n",
        "\n",
        "          #Printing Graphs\n",
        "          axs[0].pcolormesh(t1[0:-15], f1, Sxx1[:,0:-15], shading='gouraud',vmin=0,vmax=0.03)\n",
        "          axs[0].set_title(keys +\" --- \"+data[0]+ \" Spectrogram \",fontsize=20)\n",
        "          axs[0].set_xlabel('Time (s)',fontsize=20)\n",
        "          axs[0].set_ylabel('Frequency (Hz)',fontsize=20)\n",
        "\n",
        "          axs[1].pcolormesh(t2[0:-15], f2, Sxx2[:,0:-15], shading='gouraud',vmin=0,vmax=0.03)\n",
        "          axs[1].set_title(keys+\" --- \"+data[1]+ \" Spectrogram \",fontsize=20)\n",
        "          axs[1].set_xlabel('Time (s)',fontsize=20)\n",
        "          axs[1].set_ylabel('Frequency (Hz)',fontsize=20)\n",
        "\n",
        "          axs[2].pcolormesh(t3[0:-15], f3, Sxx3[:,0:-15], shading='gouraud',vmin=0,vmax=0.03)\n",
        "          axs[2].set_title(keys+\" --- \"+data[2]+ \" Spectrogram \",fontsize=20)\n",
        "          axs[2].set_xlabel('Time (s)',fontsize=20)\n",
        "          axs[2].set_ylabel('Frequency (Hz)',fontsize=20)\n",
        "\n",
        "          cbar=fig.colorbar(plt.pcolormesh(t3[0:-15], f3, Sxx3[:,0:-15], shading='gouraud',vmin=0,vmax=0.03),label='m/s² (Linear Scale)')\n",
        "          plt.tight_layout()\n",
        "\n",
        "        elif flag==2:\n",
        "          #print(f1)\n",
        "          #print(t1)\n",
        "          #print(Sxx1)\n",
        "          Sxx1=20*np.log10(Sxx1)\n",
        "          Sxx2=20*np.log10(Sxx2)\n",
        "          Sxx3=20*np.log10(Sxx3)\n",
        "\n",
        "          #print('max=',np.max(Sxx1[:,0:-15]),np.max(Sxx2[:,0:-15]),np.max(Sxx3[:,0:-15]))\n",
        "          #print('min=',np.min(Sxx1[:,0:-15]),np.min(Sxx2[:,0:-15]),np.min(Sxx3[:,0:-15]))\n",
        "\n",
        "          #Printing Graphs\n",
        "          axs[0].pcolormesh(t1[0:-15], f1, Sxx1[:,0:-15], shading='gouraud',vmin=-80,vmax=0)\n",
        "          axs[0].set_title(keys +\" --- \"+data[0]+ \" Spectrogram \",fontsize=20)\n",
        "          axs[0].set_xlabel('Time (s)',fontsize=20)\n",
        "          axs[0].set_ylabel('Frequency (Hz)',fontsize=20)\n",
        "\n",
        "          axs[1].pcolormesh(t2[0:-15], f2, Sxx2[:,0:-15], shading='gouraud',vmin=-80,vmax=0)\n",
        "          axs[1].set_title(keys+\" --- \"+data[1]+ \" Spectrogram \",fontsize=20)\n",
        "          axs[1].set_xlabel('Time (s)',fontsize=20)\n",
        "          axs[1].set_ylabel('Frequency (Hz)',fontsize=20)\n",
        "\n",
        "          axs[2].pcolormesh(t3[0:-15], f3, Sxx3[:,0:-15], shading='gouraud',vmin=-80,vmax=0)\n",
        "          axs[2].set_title(keys+\" --- \"+data[2]+ \" Spectrogram \",fontsize=20)\n",
        "          axs[2].set_xlabel('Time (s)',fontsize=20)\n",
        "          axs[2].set_ylabel('Frequency (Hz)',fontsize=20)\n",
        "          cbar=fig.colorbar(plt.pcolormesh(t3[0:-15], f3, Sxx3[:,0:-15], shading='gouraud',vmin=-80,vmax=0),label='m/s² (dB Scale)')\n",
        "          plt.tight_layout()\n",
        "\n",
        "    return\n",
        "\n",
        "#https://www.mathworks.com/help/matlab/ref/clim.html;jsessionid=17d8c63e8b64966098b7dfa9a14b\n",
        "#https://www.mathworks.com/matlabcentral/answers/881898-how-can-i-change-the-colorbar-limits-scale-of-a-spectrogram\n",
        "#https://jakevdp.github.io/PythonDataScienceHandbook/04.07-customizing-colorbars.html\n",
        "#https://proplot.readthedocs.io/en/stable/colorbars_legends.html\n"
      ]
    },
    {
      "cell_type": "code",
      "execution_count": null,
      "metadata": {
        "id": "p0T4N6gPnrvp"
      },
      "outputs": [],
      "source": [
        "#TESTE\n",
        "fig = plt.plot(figsize=(40, 100))\n",
        "plt.title('Colormesh', fontsize=30, fontweight='bold')\n",
        "f1, t1, Sxx1 = signal.spectrogram(Digital_D1_1['sample8']['imu3accx'], fs=250,window=('hann'),nperseg=250,mode='magnitude',noverlap=125)\n",
        "print(20*np.log10(Sxx1))\n",
        "print(np.max(20*np.log10(Sxx1)))\n",
        "print(np.min(20*np.log10(Sxx1)))\n",
        "plt.pcolormesh(t1[0:-15], f1, 20*np.log10(Sxx1)[:,0:-15], shading='gouraud',vmin=-80,vmax=0)\n",
        "plt.title(\" Spectrogram \",fontsize=20)\n",
        "plt.xlabel('Time (s)',fontsize=20)\n",
        "plt.ylabel('Frequency (Hz)',fontsize=20)\n",
        "plt.colorbar()"
      ]
    },
    {
      "cell_type": "markdown",
      "metadata": {
        "id": "xQF2lUfJ7tXX"
      },
      "source": [
        "### Normal"
      ]
    },
    {
      "cell_type": "markdown",
      "metadata": {
        "id": "YsDZlIrL70K-"
      },
      "source": [
        "#### Mancal 1"
      ]
    },
    {
      "cell_type": "code",
      "execution_count": null,
      "metadata": {
        "id": "yHAHGosmDr_f"
      },
      "outputs": [],
      "source": [
        "pSpectogram(Digital_N,data=M_1_a)"
      ]
    },
    {
      "cell_type": "code",
      "execution_count": null,
      "metadata": {
        "id": "bPieIAg674uC"
      },
      "outputs": [],
      "source": [
        "pSpectogram(Digital_N,data=M_1_a)"
      ]
    },
    {
      "cell_type": "markdown",
      "metadata": {
        "id": "J00menLMFeQy"
      },
      "source": [
        "#### Mancal 2"
      ]
    },
    {
      "cell_type": "code",
      "execution_count": null,
      "metadata": {
        "id": "da83C7NPFgk-"
      },
      "outputs": [],
      "source": [
        "pSpectogram(Digital_N,data=M_2_a)"
      ]
    },
    {
      "cell_type": "code",
      "execution_count": null,
      "metadata": {
        "id": "B0JSRFvkFlJR"
      },
      "outputs": [],
      "source": [
        "pSpectogram(Digital_N,data=M_2_a)"
      ]
    },
    {
      "cell_type": "markdown",
      "metadata": {
        "id": "ILVFvIZaFs0v"
      },
      "source": [
        "#### Mancal 3"
      ]
    },
    {
      "cell_type": "code",
      "execution_count": null,
      "metadata": {
        "id": "sMQq_p4OFs0y"
      },
      "outputs": [],
      "source": [
        "pSpectogram(Digital_N,data=M_3_a)"
      ]
    },
    {
      "cell_type": "code",
      "execution_count": null,
      "metadata": {
        "colab": {
          "background_save": true
        },
        "id": "GRiQLfCNFs0y"
      },
      "outputs": [],
      "source": [
        "pSpectogram(Digital_N,data=M_3_a)"
      ]
    },
    {
      "cell_type": "markdown",
      "metadata": {
        "id": "hclOG9NI8FRz"
      },
      "source": [
        "### Desbalaceamento"
      ]
    },
    {
      "cell_type": "markdown",
      "metadata": {
        "id": "_Pu1WDWg8H8I"
      },
      "source": [
        "#### Mancal 1"
      ]
    },
    {
      "cell_type": "code",
      "execution_count": null,
      "metadata": {
        "id": "0Tqqr7ZlD4Uw"
      },
      "outputs": [],
      "source": [
        "pSpectogram(Digital_D1_1, data=M_1_a)"
      ]
    },
    {
      "cell_type": "code",
      "execution_count": null,
      "metadata": {
        "id": "6GHDWxjX-CvB"
      },
      "outputs": [],
      "source": [
        "pSpectogram(Digital_D1_1, data=M_1_a)"
      ]
    },
    {
      "cell_type": "markdown",
      "metadata": {
        "id": "WFbZUyN3F0Fr"
      },
      "source": [
        "#### Mancal 2"
      ]
    },
    {
      "cell_type": "code",
      "execution_count": null,
      "metadata": {
        "id": "dxmTaVDVF0Fr"
      },
      "outputs": [],
      "source": [
        "pSpectogram(Digital_D1_1, data=M_2_a)"
      ]
    },
    {
      "cell_type": "code",
      "execution_count": null,
      "metadata": {
        "id": "jTVWkB70F0Fs"
      },
      "outputs": [],
      "source": [
        "pSpectogram(Digital_D1_1, data=M_2_a)"
      ]
    },
    {
      "cell_type": "markdown",
      "metadata": {
        "id": "s7t4Bs-IF8xS"
      },
      "source": [
        "#### Mancal 3"
      ]
    },
    {
      "cell_type": "code",
      "execution_count": null,
      "metadata": {
        "id": "3o7FRz_-F8xT"
      },
      "outputs": [],
      "source": [
        "pSpectogram(Digital_D1_1, data=M_3_a)"
      ]
    },
    {
      "cell_type": "code",
      "execution_count": null,
      "metadata": {
        "id": "kga98VadF8xT"
      },
      "outputs": [],
      "source": [
        "pSpectogram(Digital_D1_1, data=M_3_a)"
      ]
    },
    {
      "cell_type": "markdown",
      "metadata": {
        "id": "kJ_2QmT_i_JN"
      },
      "source": [
        "## Espectograma Dados Analógicos"
      ]
    },
    {
      "cell_type": "markdown",
      "metadata": {
        "id": "hW9Vi6ZBbsb4"
      },
      "source": [
        "### Espectrogramas Completos"
      ]
    },
    {
      "cell_type": "code",
      "execution_count": null,
      "metadata": {
        "id": "CcY-3EX1jECE"
      },
      "outputs": [],
      "source": [
        "#Printing Spectograms (Only Magnitude):\n",
        "#THE FUNCTION fspectrum ONLY ACCEPT A data list OF 3 VALUES OR MULTIPLES OF 3\n",
        "def pSpectogram_A_Full (Dict_of_df, data=A_acc): #Data uses always the X axis ---> DATA ONLY ACCEPT 3 COMPONENTS\n",
        "    if len(data)!=3:\n",
        "      print(\"Data doesn't have three features\")\n",
        "\n",
        "    else:\n",
        "      print('Escalas: 1 - Linear ou 2 - dB')\n",
        "      flag=int(input(\"Qual escala você gostaria de usar ?:\"))\n",
        "      for keys in Dict_of_df: #Accessing the dictionary with the first keys (RPM,sample1,...)\n",
        "\n",
        "        #Each key have its maximum time and number of points collected, therefore, the initial calculations for FFT are made:\n",
        "        # Now we are going to get the period of each dataframe / rotational frequency and create a list of spectral frequencies to analyze the frequency domain\n",
        "        # It's notable that we are working with uniform sampling, therefore our sampling frequency will be constant\n",
        "\n",
        "        T=Dict_of_df[keys]['Tempo'].max()\n",
        "        N=len(Dict_of_df[keys]['Tempo'])\n",
        "        delta_t=T/N\n",
        "        fs=1/delta_t #Sampling frequency (Hz)\n",
        "        #print(fs) #Tem que da 1000Hz\n",
        "\n",
        "        fig, axs = plt.subplots(1,3,figsize=(20, 10))\n",
        "        fig.suptitle(keys + ' - Spectrograms - Analog Accelerometer', fontsize=30, fontweight='bold')\n",
        "\n",
        "        f1, t1, Sxx1 = signal.spectrogram(Dict_of_df[keys][data[0]], fs=fs,window=('hann'),nperseg=1000,mode='magnitude',noverlap=500)\n",
        "        f2, t2, Sxx2 = signal.spectrogram(Dict_of_df[keys][data[1]], fs=fs,window=('hann'),nperseg=1000,mode='magnitude',noverlap=500)\n",
        "        f3, t3, Sxx3 = signal.spectrogram(Dict_of_df[keys][data[2]], fs=fs,window=('hann'),nperseg=1000,mode='magnitude',noverlap=500)\n",
        "\n",
        "        if flag==1:\n",
        "          #print(f1)\n",
        "          #print(t1)\n",
        "          #print(Sxx1)\n",
        "          print('max=',np.max(Sxx1[:,:]),np.max(Sxx2[:,:]),np.max(Sxx3[:,:]))\n",
        "\n",
        "          #Printing Graphs\n",
        "          axs[0].pcolormesh(t1, f1, Sxx1, shading='gouraud',vmin=0,vmax=0.03)\n",
        "          axs[0].set_title(keys +\" --- \"+data[0]+ \" Spectrogram \",fontsize=20)\n",
        "          axs[0].set_xlabel('Time (s)',fontsize=20)\n",
        "          axs[0].set_ylabel('Frequency (Hz)',fontsize=20)\n",
        "\n",
        "          axs[1].pcolormesh(t2, f2, Sxx2, shading='gouraud',vmin=0,vmax=0.03)\n",
        "          axs[1].set_title(keys+\" --- \"+data[1]+ \" Spectrogram \",fontsize=20)\n",
        "          axs[1].set_xlabel('Time (s)',fontsize=20)\n",
        "          axs[1].set_ylabel('Frequency (Hz)',fontsize=20)\n",
        "\n",
        "          axs[2].pcolormesh(t3, f3, Sxx3, shading='gouraud',vmin=0,vmax=0.03)\n",
        "          axs[2].set_title(keys+\" --- \"+data[2]+ \" Spectrogram \",fontsize=20)\n",
        "          axs[2].set_xlabel('Time (s)',fontsize=20)\n",
        "          axs[2].set_ylabel('Frequency (Hz)',fontsize=20)\n",
        "\n",
        "          cbar=fig.colorbar(plt.pcolormesh(t3, f3, Sxx3, shading='gouraud',vmin=0,vmax=0.03),label='m/s² (Linear Scale)')\n",
        "          plt.tight_layout()\n",
        "\n",
        "        elif flag==2:\n",
        "          #print(f1)\n",
        "          #print(t1)\n",
        "          #print(Sxx1)\n",
        "          Sxx1=20*np.log10(Sxx1)\n",
        "          Sxx2=20*np.log10(Sxx2)\n",
        "          Sxx3=20*np.log10(Sxx3)\n",
        "\n",
        "          print('max=',np.max(Sxx1[:,:]),np.max(Sxx2[:,:]),np.max(Sxx3[:,:]))\n",
        "          print('min=',np.min(Sxx1[:,:]),np.min(Sxx2[:,:]),np.min(Sxx3[:,:]))\n",
        "\n",
        "          #Printing Graphs\n",
        "          axs[0].pcolormesh(t1, f1, Sxx1, shading='gouraud',vmin=-80,vmax=0)\n",
        "          axs[0].set_title(keys +\" --- \"+data[0]+ \" Spectrogram \",fontsize=20)\n",
        "          axs[0].set_xlabel('Time (s)',fontsize=20)\n",
        "          axs[0].set_ylabel('Frequency (Hz)',fontsize=20)\n",
        "\n",
        "          axs[1].pcolormesh(t2, f2, Sxx2, shading='gouraud',vmin=-80,vmax=0)\n",
        "          axs[1].set_title(keys+\" --- \"+data[1]+ \" Spectrogram \",fontsize=20)\n",
        "          axs[1].set_xlabel('Time (s)',fontsize=20)\n",
        "          axs[1].set_ylabel('Frequency (Hz)',fontsize=20)\n",
        "\n",
        "          axs[2].pcolormesh(t3, f3, Sxx3, shading='gouraud',vmin=-80,vmax=0)\n",
        "          axs[2].set_title(keys+\" --- \"+data[2]+ \" Spectrogram \",fontsize=20)\n",
        "          axs[2].set_xlabel('Time (s)',fontsize=20)\n",
        "          axs[2].set_ylabel('Frequency (Hz)',fontsize=20)\n",
        "          cbar=fig.colorbar(plt.pcolormesh(t3, f3, Sxx3, shading='gouraud',vmin=-80,vmax=0),label='m/s² (dB Scale)')\n",
        "          plt.tight_layout()\n",
        "\n",
        "    return\n",
        "\n",
        "#https://www.mathworks.com/help/matlab/ref/clim.html;jsessionid=17d8c63e8b64966098b7dfa9a14b\n",
        "#https://www.mathworks.com/matlabcentral/answers/881898-how-can-i-change-the-colorbar-limits-scale-of-a-spectrogram\n",
        "#https://jakevdp.github.io/PythonDataScienceHandbook/04.07-customizing-colorbars.html\n",
        "#https://proplot.readthedocs.io/en/stable/colorbars_legends.html\n"
      ]
    },
    {
      "cell_type": "code",
      "execution_count": null,
      "metadata": {
        "colab": {
          "background_save": true
        },
        "id": "ooT9jMZhWv79"
      },
      "outputs": [],
      "source": [
        "pSpectogram_A_Full(Analog_N)"
      ]
    },
    {
      "cell_type": "code",
      "execution_count": null,
      "metadata": {
        "id": "wLpqGKfnFWYB"
      },
      "outputs": [],
      "source": [
        "pSpectogram_A_Full(Analog_D1_1)"
      ]
    },
    {
      "cell_type": "markdown",
      "metadata": {
        "id": "Ve4k7kVTb0M1"
      },
      "source": [
        "### Espectrogramas Cortados"
      ]
    },
    {
      "cell_type": "code",
      "execution_count": null,
      "metadata": {
        "id": "I6gK91XvXjfZ"
      },
      "outputs": [],
      "source": [
        "#Printing Spectograms (Only Magnitude):\n",
        "#THE FUNCTION fspectrum ONLY ACCEPT A data list OF 3 VALUES OR MULTIPLES OF 3\n",
        "def pSpectogram_A (Dict_of_df, data=A_acc): #Data uses always the X axis ---> DATA ONLY ACCEPT 3 COMPONENTS\n",
        "    if len(data)!=3:\n",
        "      print(\"Data doesn't have three features\")\n",
        "\n",
        "    else:\n",
        "      print('Escalas: 1 - Linear ou 2 - dB')\n",
        "      flag=int(input(\"Qual escala você gostaria de usar ?:\"))\n",
        "\n",
        "      for keys in Dict_of_df: #Accessing the dictionary with the first keys (RPM,sample1,...)\n",
        "\n",
        "        #Each key have its maximum time and number of points collected, therefore, the initial calculations for FFT are made:\n",
        "        # Now we are going to get the period of each dataframe / rotational frequency and create a list of spectral frequencies to analyze the frequency domain\n",
        "        # It's notable that we are working with uniform sampling, therefore our sampling frequency will be constant\n",
        "\n",
        "        T=Dict_of_df[keys]['Tempo'].max()\n",
        "        N=len(Dict_of_df[keys]['Tempo'])\n",
        "        delta_t=T/N\n",
        "        fs=1/delta_t #Sampling frequency (Hz)\n",
        "        #print(fs) #Vai dar diferente de 250Hz, pois cartamos o sinal um pouco antes ou depois de fechar o ciclo completo de captura\n",
        "\n",
        "        fig, axs = plt.subplots(1,3,figsize=(20, 10))\n",
        "        fig.suptitle(keys + ' RPM - Spectrograms - Analog Accelerometer', fontsize=30, fontweight='bold')\n",
        "\n",
        "        f1, t1, Sxx1 = signal.spectrogram(Dict_of_df[keys][data[0]], fs=fs,window=('hann'),nperseg=1000,mode='magnitude',noverlap=500)\n",
        "        f2, t2, Sxx2 = signal.spectrogram(Dict_of_df[keys][data[1]], fs=fs,window=('hann'),nperseg=1000,mode='magnitude',noverlap=500)\n",
        "        f3, t3, Sxx3 = signal.spectrogram(Dict_of_df[keys][data[2]], fs=fs,window=('hann'),nperseg=1000,mode='magnitude',noverlap=500)\n",
        "\n",
        "        if flag==1:\n",
        "          #print(f1)\n",
        "          #print(t1)\n",
        "          #print(Sxx1)\n",
        "          #print('max=',np.max(Sxx1[:125,0:-15]),np.max(Sxx2[:125,0:-15]),np.max(Sxx3[:125,0:-15]))\n",
        "\n",
        "          #Printing Graphs\n",
        "          axs[0].pcolormesh(t3[0:-15], f3[:125], Sxx3[:125,0:-15], shading='gouraud',vmin=0,vmax=0.03)\n",
        "          axs[0].set_title(keys+\" --- \"+data[2]+ \" Spectrogram \",fontsize=20)\n",
        "          axs[0].set_xlabel('Time (s)',fontsize=20)\n",
        "          axs[0].set_ylabel('Frequency (Hz)',fontsize=20)\n",
        "\n",
        "          axs[1].pcolormesh(t2[0:-15], f2[:125], Sxx2[:125,0:-15], shading='gouraud',vmin=0,vmax=0.03)\n",
        "          axs[1].set_title(keys+\" --- \"+data[1]+ \" Spectrogram \",fontsize=20)\n",
        "          axs[1].set_xlabel('Time (s)',fontsize=20)\n",
        "          axs[1].set_ylabel('Frequency (Hz)',fontsize=20)\n",
        "\n",
        "          axs[2].pcolormesh(t1[0:-15], f1[:125], Sxx1[:125,0:-15], shading='gouraud',vmin=0,vmax=0.03)\n",
        "          axs[2].set_title(keys +\" --- \"+data[0]+ \" Spectrogram \",fontsize=20)\n",
        "          axs[2].set_xlabel('Time (s)',fontsize=20)\n",
        "          axs[2].set_ylabel('Frequency (Hz)',fontsize=20)\n",
        "\n",
        "          cbar=fig.colorbar(plt.pcolormesh(t3[0:-15], f3[:125], Sxx3[:125,0:-15], shading='gouraud',vmin=0,vmax=0.03),label='m/s² (Linear Scale)')\n",
        "          plt.tight_layout()\n",
        "\n",
        "        elif flag==2:\n",
        "          #print(f1)\n",
        "          #print(t1)\n",
        "          #print(Sxx1)\n",
        "          Sxx1=20*np.log10(Sxx1)\n",
        "          Sxx2=20*np.log10(Sxx2)\n",
        "          Sxx3=20*np.log10(Sxx3)\n",
        "\n",
        "          #print('max=',np.max(Sxx1[:125,0:-15]),np.max(Sxx2[:125,0:-15]),np.max(Sxx3[:125,0:-15]))\n",
        "          #print('min=',np.min(Sxx1[:125,0:-15]),np.min(Sxx2[:125,0:-15]),np.min(Sxx3[:125,0:-15]))\n",
        "\n",
        "          #Printing Graphs\n",
        "          axs[0].pcolormesh(t3[0:-15], f3[:125], Sxx3[:125,0:-15], shading='gouraud',vmin=-80,vmax=0)\n",
        "          axs[0].set_title(keys+\" --- \"+data[2]+ \" Spectrogram \",fontsize=20)\n",
        "          axs[0].set_xlabel('Time (s)',fontsize=20)\n",
        "          axs[0].set_ylabel('Frequency (Hz)',fontsize=20)\n",
        "\n",
        "          axs[1].pcolormesh(t2[0:-15], f2[:125], Sxx2[:125,0:-15], shading='gouraud',vmin=-80,vmax=0)\n",
        "          axs[1].set_title(keys+\" --- \"+data[1]+ \" Spectrogram \",fontsize=20)\n",
        "          axs[1].set_xlabel('Time (s)',fontsize=20)\n",
        "          axs[1].set_ylabel('Frequency (Hz)',fontsize=20)\n",
        "\n",
        "          axs[2].pcolormesh(t1[0:-15], f1[:125], Sxx1[:125,0:-15], shading='gouraud',vmin=-80,vmax=0)\n",
        "          axs[2].set_title(keys +\" --- \"+data[0]+ \" Spectrogram \",fontsize=20)\n",
        "          axs[2].set_xlabel('Time (s)',fontsize=20)\n",
        "          axs[2].set_ylabel('Frequency (Hz)',fontsize=20)\n",
        "\n",
        "          cbar=fig.colorbar(plt.pcolormesh(t3[0:-15], f3[:125], Sxx3[:125,0:-15], shading='gouraud',vmin=-80,vmax=0),label='m/s² (dB Scale)')\n",
        "          plt.tight_layout()\n",
        "\n",
        "    return\n",
        "\n",
        "#https://www.mathworks.com/help/matlab/ref/clim.html;jsessionid=17d8c63e8b64966098b7dfa9a14b\n",
        "#https://www.mathworks.com/matlabcentral/answers/881898-how-can-i-change-the-colorbar-limits-scale-of-a-spectrogram\n",
        "#https://jakevdp.github.io/PythonDataScienceHandbook/04.07-customizing-colorbars.html\n",
        "#https://proplot.readthedocs.io/en/stable/colorbars_legends.html\n"
      ]
    },
    {
      "cell_type": "markdown",
      "metadata": {
        "id": "2YpJ-mqQIE9d"
      },
      "source": [
        "#### Normal"
      ]
    },
    {
      "cell_type": "code",
      "execution_count": null,
      "metadata": {
        "id": "KJdQ5i0fYgsH"
      },
      "outputs": [],
      "source": [
        "pSpectogram_A(Analog_N)"
      ]
    },
    {
      "cell_type": "code",
      "execution_count": null,
      "metadata": {
        "id": "JxFpV-wnID8f"
      },
      "outputs": [],
      "source": [
        "pSpectogram_A(Analog_N)"
      ]
    },
    {
      "cell_type": "markdown",
      "metadata": {
        "id": "B336oIpmIUIe"
      },
      "source": [
        "#### Desbalanceado"
      ]
    },
    {
      "cell_type": "code",
      "execution_count": null,
      "metadata": {
        "id": "XRF_p0zSYgaA"
      },
      "outputs": [],
      "source": [
        "pSpectogram_A(Analog_D1_1)"
      ]
    },
    {
      "cell_type": "code",
      "execution_count": null,
      "metadata": {
        "id": "vWMP32vFIWvv"
      },
      "outputs": [],
      "source": [
        "pSpectogram_A(Analog_D1_1)"
      ]
    }
  ],
  "metadata": {
    "colab": {
      "collapsed_sections": [
        "jWQ6bQBCbypK",
        "rBBSt31qb-UY",
        "LMA_xqsWfwnw",
        "PcTBQUQGcFAo",
        "xQF2lUfJ7tXX",
        "YsDZlIrL70K-",
        "J00menLMFeQy",
        "ILVFvIZaFs0v",
        "WFbZUyN3F0Fr",
        "s7t4Bs-IF8xS",
        "kJ_2QmT_i_JN",
        "hW9Vi6ZBbsb4",
        "Ve4k7kVTb0M1",
        "2YpJ-mqQIE9d",
        "B336oIpmIUIe"
      ],
      "provenance": []
    },
    "kernelspec": {
      "display_name": "Python 3",
      "name": "python3"
    },
    "language_info": {
      "name": "python"
    }
  },
  "nbformat": 4,
  "nbformat_minor": 0
}